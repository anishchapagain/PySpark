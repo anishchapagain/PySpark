{
 "cells": [
  {
   "cell_type": "code",
   "execution_count": 1,
   "id": "07390314-fc55-458c-b9cb-fb7c510fe741",
   "metadata": {},
   "outputs": [
    {
     "name": "stderr",
     "output_type": "stream",
     "text": [
      "22/03/12 12:30:53 WARN Utils: Your hostname, Anishs-MacBook-Pro.local resolves to a loopback address: 127.0.0.1; using 192.168.0.3 instead (on interface en0)\n",
      "22/03/12 12:30:53 WARN Utils: Set SPARK_LOCAL_IP if you need to bind to another address\n",
      "WARNING: An illegal reflective access operation has occurred\n",
      "WARNING: Illegal reflective access by org.apache.spark.unsafe.Platform (file:/Users/anishchapagain/Library/Python/3.9/lib/python/site-packages/pyspark/jars/spark-unsafe_2.12-3.2.0.jar) to constructor java.nio.DirectByteBuffer(long,int)\n",
      "WARNING: Please consider reporting this to the maintainers of org.apache.spark.unsafe.Platform\n",
      "WARNING: Use --illegal-access=warn to enable warnings of further illegal reflective access operations\n",
      "WARNING: All illegal access operations will be denied in a future release\n",
      "Using Spark's default log4j profile: org/apache/spark/log4j-defaults.properties\n",
      "Setting default log level to \"WARN\".\n",
      "To adjust logging level use sc.setLogLevel(newLevel). For SparkR, use setLogLevel(newLevel).\n",
      "22/03/12 12:30:54 WARN NativeCodeLoader: Unable to load native-hadoop library for your platform... using builtin-java classes where applicable\n"
     ]
    },
    {
     "name": "stdout",
     "output_type": "stream",
     "text": [
      "CheckFirst\n"
     ]
    }
   ],
   "source": [
    "from pyspark.sql import SparkSession\n",
    "spark = SparkSession.builder.appName(\"CheckFirst\").getOrCreate()\n",
    "print(spark.sparkContext.appName)\n",
    "#http://localhost:4040/jobs/"
   ]
  },
  {
   "cell_type": "code",
   "execution_count": null,
   "id": "da250a52-729a-48b2-b042-b5d9ef1cb02d",
   "metadata": {},
   "outputs": [],
   "source": [
    "# npi bhako case ma network and npi bata check garne....\n",
    "# npi na bhayeko case ma tyo data lai siteuid bata check garne"
   ]
  },
  {
   "cell_type": "code",
   "execution_count": 2,
   "id": "34955903-fa61-4045-bbf2-3d6586630dfe",
   "metadata": {},
   "outputs": [],
   "source": [
    "from pyspark.sql.functions import *\n",
    "from pyspark.sql.types import *"
   ]
  },
  {
   "cell_type": "code",
   "execution_count": 3,
   "id": "4582e35f-8c09-4107-a989-56e1d198598c",
   "metadata": {},
   "outputs": [],
   "source": [
    "file1=\"/Users/anishchapagain/PyAnalysis/sparkcode/bcbs/bcbs_10.json\""
   ]
  },
  {
   "cell_type": "code",
   "execution_count": 4,
   "id": "76d8c11a-4c4f-49c4-a3db-e80ee311ea5b",
   "metadata": {},
   "outputs": [
    {
     "name": "stderr",
     "output_type": "stream",
     "text": [
      "                                                                                \r"
     ]
    },
    {
     "data": {
      "text/plain": [
       "pyspark.sql.dataframe.DataFrame"
      ]
     },
     "execution_count": 4,
     "metadata": {},
     "output_type": "execute_result"
    }
   ],
   "source": [
    "df = spark.read.json(path=file1)\n",
    "type(df)"
   ]
  },
  {
   "cell_type": "code",
   "execution_count": 5,
   "id": "cf651ee7-d58e-463c-852d-b37fa2998bcb",
   "metadata": {},
   "outputs": [
    {
     "name": "stderr",
     "output_type": "stream",
     "text": [
      "                                                                                \r"
     ]
    }
   ],
   "source": [
    "total = df.count()\n",
    "unique = df.distinct().count()"
   ]
  },
  {
   "cell_type": "code",
   "execution_count": 6,
   "id": "f5da2461-578a-497e-b7aa-e186503c221e",
   "metadata": {},
   "outputs": [
    {
     "name": "stdout",
     "output_type": "stream",
     "text": [
      "604762\n",
      "604762\n"
     ]
    }
   ],
   "source": [
    "print(total)\n",
    "print(unique)"
   ]
  },
  {
   "cell_type": "code",
   "execution_count": 12,
   "id": "8c1b6a83-82f4-4788-9612-1729775beb05",
   "metadata": {},
   "outputs": [
    {
     "name": "stderr",
     "output_type": "stream",
     "text": [
      "                                                                                \r"
     ]
    },
    {
     "data": {
      "text/plain": [
       "604762"
      ]
     },
     "execution_count": 12,
     "metadata": {},
     "output_type": "execute_result"
    }
   ],
   "source": [
    "df.select('provider.site_uid').distinct().count()"
   ]
  },
  {
   "cell_type": "code",
   "execution_count": 13,
   "id": "17ab8bfc-c817-4b95-a918-543574fcfa60",
   "metadata": {},
   "outputs": [
    {
     "name": "stderr",
     "output_type": "stream",
     "text": [
      "                                                                                \r"
     ]
    },
    {
     "data": {
      "text/plain": [
       "428758"
      ]
     },
     "execution_count": 13,
     "metadata": {},
     "output_type": "execute_result"
    }
   ],
   "source": [
    "df.select('provider.npi').distinct().count()"
   ]
  },
  {
   "cell_type": "code",
   "execution_count": 14,
   "id": "34486d43-f119-4090-a982-461d1534d01d",
   "metadata": {},
   "outputs": [
    {
     "name": "stderr",
     "output_type": "stream",
     "text": [
      "[Stage 28:>                                                         (0 + 8) / 8]\r"
     ]
    },
    {
     "name": "stdout",
     "output_type": "stream",
     "text": [
      "+--------+\n",
      "|Null NPI|\n",
      "+--------+\n",
      "|    2819|\n",
      "+--------+\n",
      "\n"
     ]
    },
    {
     "name": "stderr",
     "output_type": "stream",
     "text": [
      "                                                                                \r"
     ]
    }
   ],
   "source": [
    "df.select([count(when(col('provider.npi').isNull(),True)).alias('Null NPI')]).show()"
   ]
  },
  {
   "cell_type": "code",
   "execution_count": 15,
   "id": "6b1cd741-09f6-44ea-ae8d-89ef34b9a36e",
   "metadata": {},
   "outputs": [],
   "source": [
    "providerDF = df.select(['provider.first_name','provider.last_name','provider.middle_name','provider.gender','provider.npi']) #provider.* : all"
   ]
  },
  {
   "cell_type": "code",
   "execution_count": 16,
   "id": "20ec1870-c20d-4984-a4a9-59160ffc17bc",
   "metadata": {},
   "outputs": [
    {
     "name": "stderr",
     "output_type": "stream",
     "text": [
      "[Stage 31:>                                                         (0 + 8) / 8]\r"
     ]
    },
    {
     "name": "stdout",
     "output_type": "stream",
     "text": [
      "+-----------------+----------------+------------------+-------------+----------+\n",
      "|count(first_name)|count(last_name)|count(middle_name)|count(gender)|count(npi)|\n",
      "+-----------------+----------------+------------------+-------------+----------+\n",
      "|           498867|          498867|            498867|       498867|    601943|\n",
      "+-----------------+----------------+------------------+-------------+----------+\n",
      "\n"
     ]
    },
    {
     "name": "stderr",
     "output_type": "stream",
     "text": [
      "                                                                                \r"
     ]
    }
   ],
   "source": [
    "providerDF.select([count(clm) for clm in providerDF]).show()"
   ]
  },
  {
   "cell_type": "code",
   "execution_count": 17,
   "id": "c151d7cc-fabc-49ea-88ff-ac239ecfff4a",
   "metadata": {},
   "outputs": [
    {
     "name": "stderr",
     "output_type": "stream",
     "text": [
      "[Stage 34:>                                                         (0 + 8) / 8]\r"
     ]
    },
    {
     "name": "stdout",
     "output_type": "stream",
     "text": [
      "+----------+-----+\n",
      "|npi       |count|\n",
      "+----------+-----+\n",
      "|null      |2819 |\n",
      "|1689612954|76   |\n",
      "|1295763217|70   |\n",
      "|1033749940|62   |\n",
      "|1275988321|60   |\n",
      "|1326336058|59   |\n",
      "|1023041159|59   |\n",
      "|1285975797|46   |\n",
      "|1922077643|43   |\n",
      "|1376709535|40   |\n",
      "+----------+-----+\n",
      "only showing top 10 rows\n",
      "\n"
     ]
    },
    {
     "name": "stderr",
     "output_type": "stream",
     "text": [
      "                                                                                \r"
     ]
    }
   ],
   "source": [
    "npis = df.groupBy(\"provider.npi\").count().orderBy(col('count').desc())\n",
    "npis.show(10,truncate=False)"
   ]
  },
  {
   "cell_type": "code",
   "execution_count": 18,
   "id": "1f3dcc8a-193b-4332-ad7f-c5fef5ea3943",
   "metadata": {},
   "outputs": [],
   "source": [
    "fileTest=\"/Users/anishchapagain/PyAnalysis/sparkcode/bcbs/part-00000-12895c9c-1b78-4d49-a923-8bfc058269d6-c000.json\""
   ]
  },
  {
   "cell_type": "code",
   "execution_count": 19,
   "id": "4a421cd4-cccb-4743-b7f9-2983dfe686e4",
   "metadata": {},
   "outputs": [
    {
     "data": {
      "text/plain": [
       "pyspark.sql.dataframe.DataFrame"
      ]
     },
     "execution_count": 19,
     "metadata": {},
     "output_type": "execute_result"
    }
   ],
   "source": [
    "test = spark.read.json(path=fileTest)\n",
    "type(test)"
   ]
  },
  {
   "cell_type": "code",
   "execution_count": 26,
   "id": "9d171fa9-2881-4a76-a401-4e8029e87853",
   "metadata": {},
   "outputs": [
    {
     "name": "stdout",
     "output_type": "stream",
     "text": [
      "root\n",
      " |-- addresses: array (nullable = true)\n",
      " |    |-- element: struct (containsNull = true)\n",
      " |    |    |-- address_string: string (nullable = true)\n",
      " |    |    |-- city: string (nullable = true)\n",
      " |    |    |-- languages: array (nullable = true)\n",
      " |    |    |    |-- element: struct (containsNull = true)\n",
      " |    |    |    |    |-- name: string (nullable = true)\n",
      " |    |    |    |    |-- type: string (nullable = true)\n",
      " |    |    |-- office_name: string (nullable = true)\n",
      " |    |    |-- phones: array (nullable = true)\n",
      " |    |    |    |-- element: struct (containsNull = true)\n",
      " |    |    |    |    |-- type: string (nullable = true)\n",
      " |    |    |    |    |-- value: string (nullable = true)\n",
      " |    |    |-- state: string (nullable = true)\n",
      " |    |    |-- street_line_1: string (nullable = true)\n",
      " |    |    |-- street_line_2: string (nullable = true)\n",
      " |    |    |-- zip: string (nullable = true)\n",
      "\n"
     ]
    }
   ],
   "source": [
    "test.select('addresses').printSchema()"
   ]
  },
  {
   "cell_type": "code",
   "execution_count": 29,
   "id": "4c34b30d-7bac-448a-b8d5-029da57c530c",
   "metadata": {},
   "outputs": [
    {
     "data": {
      "text/plain": [
       "57573"
      ]
     },
     "execution_count": 29,
     "metadata": {},
     "output_type": "execute_result"
    }
   ],
   "source": [
    "test.select('provider.npi').distinct().count()"
   ]
  },
  {
   "cell_type": "code",
   "execution_count": 21,
   "id": "dacc5199-8d1e-4e79-81b9-58ff19424296",
   "metadata": {},
   "outputs": [
    {
     "name": "stdout",
     "output_type": "stream",
     "text": [
      "+----------+-----+\n",
      "|npi       |count|\n",
      "+----------+-----+\n",
      "|null      |265  |\n",
      "|1689612954|6    |\n",
      "|1295763217|6    |\n",
      "|1396822839|6    |\n",
      "|1285975797|6    |\n",
      "|1023041159|6    |\n",
      "|1275988321|6    |\n",
      "|1033749940|5    |\n",
      "|1366499048|5    |\n",
      "|1326093873|5    |\n",
      "+----------+-----+\n",
      "only showing top 10 rows\n",
      "\n"
     ]
    }
   ],
   "source": [
    "testnpis = test.groupBy(\"provider.npi\").count().orderBy(col('count').desc())\n",
    "testnpis.show(10,truncate=False)"
   ]
  },
  {
   "cell_type": "code",
   "execution_count": 25,
   "id": "00c60112-f1d5-4421-b843-5d0605bc4b36",
   "metadata": {},
   "outputs": [
    {
     "name": "stdout",
     "output_type": "stream",
     "text": [
      "+------------------------------------------------------------------------------------+\n",
      "|name                                                                                |\n",
      "+------------------------------------------------------------------------------------+\n",
      "|[BlueCard PPO Basic, BlueCard PPO/EPO, BlueCard Traditional, Medicare Advantage PPO]|\n",
      "|[BlueCard PPO Basic, BlueCard PPO/EPO, BlueCard Traditional, Medicare Advantage PPO]|\n",
      "|[BlueCard PPO Basic, BlueCard PPO/EPO, BlueCard Traditional, Medicare Advantage PPO]|\n",
      "|[BlueCard PPO Basic, BlueCard PPO/EPO, BlueCard Traditional]                        |\n",
      "|[BlueCard PPO Basic, BlueCard PPO/EPO, BlueCard Traditional]                        |\n",
      "|[BlueCard PPO Basic, BlueCard PPO/EPO, BlueCard Traditional, Medicare Advantage PPO]|\n",
      "+------------------------------------------------------------------------------------+\n",
      "\n"
     ]
    }
   ],
   "source": [
    "test.filter(test.provider.npi==1689612954).select(\"networks.name\").show(6,truncate=False)"
   ]
  },
  {
   "cell_type": "code",
   "execution_count": 28,
   "id": "66bf9f03-5e04-4177-8220-7850423c6bee",
   "metadata": {},
   "outputs": [
    {
     "name": "stdout",
     "output_type": "stream",
     "text": [
      "+-----------------------------------------------------------------------------------------------------------------------------------+\n",
      "|street_line_1                                                                                                                      |\n",
      "+-----------------------------------------------------------------------------------------------------------------------------------+\n",
      "|[916 N 10th Pl]                                                                                                                    |\n",
      "|[600 Broadway]                                                                                                                     |\n",
      "|[18100 NE Union Hill Rd, 3 Cascade, 550 17th Ave, A Floor, 751 NE Blakely Dr, 1801 NW Market St, 7320 216th St SW, 900 Pacific Ave]|\n",
      "|[751 NE Blakely Dr, 1101 Madison St]                                                                                               |\n",
      "|[751 NE Blakely Dr, 18100 NE Union Hill Rd]                                                                                        |\n",
      "|[21605 76th Ave W, 1221 Madison St, 600 Broadway]                                                                                  |\n",
      "+-----------------------------------------------------------------------------------------------------------------------------------+\n",
      "\n"
     ]
    }
   ],
   "source": [
    "test.filter(test.provider.npi==1689612954).select(\"addresses.street_line_1\").show(6,truncate=False)"
   ]
  },
  {
   "cell_type": "code",
   "execution_count": 30,
   "id": "b36db0fe-a08c-41f9-bec6-1c50d031a11e",
   "metadata": {},
   "outputs": [
    {
     "name": "stdout",
     "output_type": "stream",
     "text": [
      "+------------------------------------------------------------+\n",
      "|name                                                        |\n",
      "+------------------------------------------------------------+\n",
      "|[BlueCard PPO Basic, BlueCard PPO/EPO, BlueCard Traditional]|\n",
      "|[BlueCard PPO Basic, BlueCard PPO/EPO, BlueCard Traditional]|\n",
      "|[BlueCard PPO Basic, BlueCard PPO/EPO, BlueCard Traditional]|\n",
      "|[BlueCard PPO Basic, BlueCard PPO/EPO, BlueCard Traditional]|\n",
      "|[BlueCard PPO Basic, BlueCard PPO/EPO, BlueCard Traditional]|\n",
      "+------------------------------------------------------------+\n",
      "\n"
     ]
    }
   ],
   "source": [
    "test.filter(test.provider.npi==1033749940).select(\"networks.name\").show(truncate=False)"
   ]
  },
  {
   "cell_type": "code",
   "execution_count": 43,
   "id": "bd5eeb9e-3a05-41c7-8759-d1c47aa96a21",
   "metadata": {},
   "outputs": [],
   "source": [
    "#test.filter(test.provider.npi==1033749940).select(\"addresses.street_line_1\",size(\"addresses.street_line_1\")).show(truncate=False)"
   ]
  },
  {
   "cell_type": "code",
   "execution_count": 38,
   "id": "86c5e5e1-f966-47f3-9e45-7e9df91b9621",
   "metadata": {},
   "outputs": [
    {
     "name": "stdout",
     "output_type": "stream",
     "text": [
      "+-------+-------+--------+-----+---------------------------------+----------------+\n",
      "|street1|network|hospital|group|unparsed_name                    |site_uid        |\n",
      "+-------+-------+--------+-----+---------------------------------+----------------+\n",
      "|100    |3      |0       |0    |Quest Diagnostics                |7405237674506612|\n",
      "|1      |3      |0       |0    |Quest Diagnostics Bolingbrook PSC|8260482521596443|\n",
      "|1      |3      |0       |0    |Quest Diagnostics Flossmoor PSC  |3779613306263631|\n",
      "|1      |3      |0       |0    |Quest Diagnostics Halsted PSC    |6089694029043649|\n",
      "|1      |3      |0       |0    |Quest Diagnostics Woodridge PSC  |3082571325435363|\n",
      "+-------+-------+--------+-----+---------------------------------+----------------+\n",
      "\n"
     ]
    }
   ],
   "source": [
    "# test.filter(test.provider.npi==1033749940).select(\"addresses.street_line_1\",size(\"addresses.street_line_1\")).show(truncate=False)\n",
    "test.filter(test.provider.npi==1033749940).select(size(\"addresses.street_line_1\").alias('street1'),\n",
    "                                                  size(\"networks.name\").alias('network'),\n",
    "                                                  size(\"hospital_affiliations.name\").alias('hospital'),\n",
    "                                                  size(\"group_affiliations.name\").alias('group'),\n",
    "                                                  'provider.unparsed_name','provider.site_uid'\n",
    "                                                 ).show(truncate=False)"
   ]
  },
  {
   "cell_type": "code",
   "execution_count": 41,
   "id": "4595cf7a-e20f-497f-905c-596f6dd5c122",
   "metadata": {},
   "outputs": [
    {
     "name": "stdout",
     "output_type": "stream",
     "text": [
      "+-------+-------+--------+-----+--------------------------------------+----------------+----------+\n",
      "|street1|network|hospital|group|unparsed_name                         |site_uid        |npi       |\n",
      "+-------+-------+--------+-----+--------------------------------------+----------------+----------+\n",
      "|1      |4      |0       |0    |Swedish Renton Rehabilitation Services|867282227216975 |1689612954|\n",
      "|1      |4      |0       |0    |Swedish Hip and Pelvis Center         |8591822720140133|1689612954|\n",
      "|8      |4      |0       |0    |Swedish Sleep Medicine                |8543672687080976|1689612954|\n",
      "|2      |3      |0       |0    |Swedish Ci Thoracic Surgery           |8751426381702035|1689612954|\n",
      "|2      |3      |0       |0    |Swedish Issaquah Otolaryngology       |2066783791014282|1689612954|\n",
      "|3      |4      |0       |0    |Swedish Head and Neck Surgery         |6311014164257842|1689612954|\n",
      "+-------+-------+--------+-----+--------------------------------------+----------------+----------+\n",
      "\n"
     ]
    }
   ],
   "source": [
    "test.filter(test.provider.npi==1689612954).select(size(\"addresses.street_line_1\").alias('street1'),\n",
    "                                                  size(\"networks.name\").alias('network'),\n",
    "                                                  size(\"hospital_affiliations.name\").alias('hospital'),\n",
    "                                                  size(\"group_affiliations.name\").alias('group'),\n",
    "                                                  'provider.unparsed_name','provider.site_uid','provider.npi'\n",
    "                                                 ).show(truncate=False)"
   ]
  },
  {
   "cell_type": "raw",
   "id": "0d61b6b1-08a3-4af1-a49c-a4740e2635e2",
   "metadata": {
    "jupyter": {
     "outputs_hidden": true
    },
    "tags": []
   },
   "source": [
    "test2.filter(test2.provider.npi==1689612954).select(array_sort('addresses.address_string'),\n",
    "                                                    size(\"addresses.address_string\").alias('street1'),\n",
    "                                                  size(\"networks.name\").alias('network'),\n",
    "                                                  size(\"hospital_affiliations.name\").alias('hospital'),\n",
    "                                                  size(\"group_affiliations.name\").alias('group'),\n",
    "                                                  'provider.unparsed_name'#,'provider.site_uid'\n",
    "                                                   ).show(70,truncate=False)\n",
    "#                                                  ).distinct().count()"
   ]
  },
  {
   "cell_type": "raw",
   "id": "404b63c7-5d26-483b-84dc-145c857ffa1f",
   "metadata": {},
   "source": [
    "abc = test2.select(['provider',array_sort('addresses').alias('addresses'),\n",
    "                    array_sort('networks').alias('networks'),\n",
    "                    array_sort('hospital_affiliations').alias('hospital_affiliations'),\n",
    "                    array_sort('group_affiliations').alias('group_affiliations'),\n",
    "                    array_sort('specialties').alias('specialties')\n",
    "                   ])\n",
    "type(abc)"
   ]
  },
  {
   "cell_type": "raw",
   "id": "7358eb83-3a1b-427c-af09-2e4bc595b4ad",
   "metadata": {
    "jupyter": {
     "outputs_hidden": true
    },
    "tags": []
   },
   "source": [
    "test2.filter(test2.provider.npi==1275988321).select(size(\"addresses.street_line_1\").alias('street1'),\n",
    "                                                  size(\"networks.name\").alias('network'),\n",
    "                                                  size(\"hospital_affiliations.name\").alias('hospital'),\n",
    "                                                  size(\"group_affiliations.name\").alias('group'),\n",
    "                                                  'provider.unparsed_name','provider.site_uid',\n",
    "                                                 ).show(55,truncate=False)"
   ]
  },
  {
   "cell_type": "raw",
   "id": "4a4bbd38-bf04-4bbc-b6e4-b9033bf6b452",
   "metadata": {},
   "source": [
    "print(totalabc)\n",
    "print(uniqueabc)"
   ]
  },
  {
   "cell_type": "raw",
   "id": "c433612c-16b6-4944-aa8d-cd15bdd620c8",
   "metadata": {},
   "source": [
    "totalabc = abc.count()\n",
    "uniqueabc = abc.distinct().count()"
   ]
  },
  {
   "cell_type": "raw",
   "id": "a1829750-2583-4c2b-9ddf-dafc1362851c",
   "metadata": {},
   "source": [
    "abc.filter(abc.provider.npi==1689612954).filter(\n",
    "    abc.provider.unparsed_name==\"Swedish Vascular Surgery\").select(\n",
    "#     \"addresses.street_line_1\",\"networks.name\",\n",
    "#     \"hospital_affiliations.name\",\"group_affiliations.name\",\n",
    "#     \"specialties.name\"\n",
    "    'provider.*'\n",
    ").show(truncate=False)"
   ]
  },
  {
   "cell_type": "markdown",
   "id": "3407c98b-6895-4894-9766-22a2be83c1ef",
   "metadata": {},
   "source": [
    "# Load CHUNK: npi, sort, del-site-uid"
   ]
  },
  {
   "cell_type": "code",
   "execution_count": 243,
   "id": "1d19c370-ed6b-48db-be40-58ce231862a0",
   "metadata": {},
   "outputs": [],
   "source": [
    "fileTest2=\"/Users/anishchapagain/PyAnalysis/sparkcode/bcbs/bcbs_20.json\"\n",
    "# fileTest2=\"/Users/anishchapagain/PyAnalysis/sparkcode/bcbs/bcbs_10.json\""
   ]
  },
  {
   "cell_type": "code",
   "execution_count": 244,
   "id": "b2b2e4bc-05c4-4242-bde7-9a4790215f51",
   "metadata": {},
   "outputs": [
    {
     "name": "stderr",
     "output_type": "stream",
     "text": [
      "                                                                                \r"
     ]
    },
    {
     "data": {
      "text/plain": [
       "pyspark.sql.dataframe.DataFrame"
      ]
     },
     "execution_count": 244,
     "metadata": {},
     "output_type": "execute_result"
    }
   ],
   "source": [
    "test2 = spark.read.json(path=fileTest2)\n",
    "type(test2)"
   ]
  },
  {
   "cell_type": "code",
   "execution_count": 245,
   "id": "1430e21d-0982-4b94-8638-c7062f971b95",
   "metadata": {},
   "outputs": [
    {
     "name": "stderr",
     "output_type": "stream",
     "text": [
      "                                                                                \r"
     ]
    }
   ],
   "source": [
    "total2 = test2.count()\n",
    "unique2 = test2.distinct().count()"
   ]
  },
  {
   "cell_type": "code",
   "execution_count": 246,
   "id": "4313489a-b611-4d14-a678-aca2b601fe9f",
   "metadata": {},
   "outputs": [
    {
     "name": "stdout",
     "output_type": "stream",
     "text": [
      "604762\n",
      "604762\n"
     ]
    }
   ],
   "source": [
    "print(total2)\n",
    "print(unique2)"
   ]
  },
  {
   "cell_type": "code",
   "execution_count": 247,
   "id": "766284eb-f7a8-47e4-9f29-00c65487588e",
   "metadata": {},
   "outputs": [
    {
     "name": "stderr",
     "output_type": "stream",
     "text": [
      "                                                                                \r"
     ]
    },
    {
     "data": {
      "text/plain": [
       "428758"
      ]
     },
     "execution_count": 247,
     "metadata": {},
     "output_type": "execute_result"
    }
   ],
   "source": [
    "test2.select('provider.npi').distinct().count()"
   ]
  },
  {
   "cell_type": "code",
   "execution_count": 250,
   "id": "024bb67b-fbcc-4166-a131-d7710322c944",
   "metadata": {},
   "outputs": [
    {
     "name": "stderr",
     "output_type": "stream",
     "text": [
      "[Stage 407:>                                                        (0 + 8) / 8]\r"
     ]
    },
    {
     "name": "stdout",
     "output_type": "stream",
     "text": [
      "+----------+-----+\n",
      "|npi       |count|\n",
      "+----------+-----+\n",
      "|null      |2819 |\n",
      "|1689612954|76   |\n",
      "|1295763217|70   |\n",
      "|1033749940|62   |\n",
      "|1275988321|60   |\n",
      "|1326336058|59   |\n",
      "|1023041159|59   |\n",
      "|1285975797|46   |\n",
      "|1922077643|43   |\n",
      "|1376709535|40   |\n",
      "+----------+-----+\n",
      "only showing top 10 rows\n",
      "\n"
     ]
    },
    {
     "name": "stderr",
     "output_type": "stream",
     "text": [
      "                                                                                \r"
     ]
    }
   ],
   "source": [
    "testnpis2 = test2.groupBy(\"provider.npi\").count().orderBy(col('count').desc())\n",
    "testnpis2.show(10,truncate=False)"
   ]
  },
  {
   "cell_type": "markdown",
   "id": "1b122c3b-221c-434e-9659-8d5630785c9d",
   "metadata": {},
   "source": [
    "### NEW Schema and Fields: dropping Site_UID"
   ]
  },
  {
   "cell_type": "code",
   "execution_count": 255,
   "id": "f517522a-c0f2-4fcb-9147-b9f2ca30f9a8",
   "metadata": {},
   "outputs": [
    {
     "data": {
      "text/plain": [
       "pyspark.sql.dataframe.DataFrame"
      ]
     },
     "execution_count": 255,
     "metadata": {},
     "output_type": "execute_result"
    }
   ],
   "source": [
    "abcd = test2.select(['provider.*',\n",
    "#     'provider.facility_name','provider.first_name','provider.gender','provider.last_name','provider.suffix',\n",
    "#                     'provider.license_number','provider.middle_name','provider.npi','provider.provider_type','provider.title','provider.unparsed_name',\n",
    "                    array_sort('addresses').alias('addresses'),\n",
    "                    array_sort('networks').alias('networks'),\n",
    "                    array_sort('hospital_affiliations').alias('hospital_affiliations'),\n",
    "                    array_sort('group_affiliations').alias('group_affiliations'),\n",
    "                    array_sort('specialties').alias('specialties')\n",
    "                   ])\n",
    "type(abcd)"
   ]
  },
  {
   "cell_type": "code",
   "execution_count": 256,
   "id": "bfff40a4-ec78-4d94-947c-8fab2850cde1",
   "metadata": {},
   "outputs": [],
   "source": [
    "abcd = abcd.drop('site_uid')"
   ]
  },
  {
   "cell_type": "code",
   "execution_count": 257,
   "id": "a50dd91c-26d1-4f4e-a757-a109c13a2d9a",
   "metadata": {},
   "outputs": [
    {
     "name": "stderr",
     "output_type": "stream",
     "text": [
      "                                                                                \r"
     ]
    }
   ],
   "source": [
    "totalabcd = abcd.count()\n",
    "uniqueabcd = abcd.distinct().count()"
   ]
  },
  {
   "cell_type": "code",
   "execution_count": 258,
   "id": "3bce34d4-8c0b-4877-930b-c2070bafca25",
   "metadata": {},
   "outputs": [
    {
     "name": "stdout",
     "output_type": "stream",
     "text": [
      "604762\n",
      "517615\n"
     ]
    }
   ],
   "source": [
    "print(totalabcd)\n",
    "print(uniqueabcd)"
   ]
  },
  {
   "cell_type": "code",
   "execution_count": 259,
   "id": "0c8bdb3d-a303-4c5d-b20e-16bef52efc11",
   "metadata": {},
   "outputs": [],
   "source": [
    "demoabcd = abcd.distinct()"
   ]
  },
  {
   "cell_type": "code",
   "execution_count": 260,
   "id": "235d1c2a-eba0-440e-8ef7-7ce2cf13ad86",
   "metadata": {},
   "outputs": [],
   "source": [
    "demoabcd = demoabcd.withColumn(\"score\",lit(None))\n",
    "demoabcd = demoabcd.withColumn(\"scale\",lit(None))\n",
    "demoabcd = demoabcd.withColumn(\"site_uid\",lit(None))"
   ]
  },
  {
   "cell_type": "code",
   "execution_count": 262,
   "id": "3471c93f-ea78-4d4c-8454-6c51a648c1fe",
   "metadata": {},
   "outputs": [],
   "source": [
    "demoabcd1 = demoabcd.select(struct('facility_name', 'first_name','gender','last_name',\n",
    "                                   'license_number','middle_name','npi','pcp','provider_type','suffix','title','unparsed_name',\n",
    "                                   struct('scale','score').alias('rating')\n",
    "                                  ).alias('provider'),'networks','specialties','group_affiliations','hospital_affiliations','addresses')"
   ]
  },
  {
   "cell_type": "code",
   "execution_count": 263,
   "id": "6b498950-16fc-41e9-b290-d4af79fcceb3",
   "metadata": {},
   "outputs": [
    {
     "name": "stdout",
     "output_type": "stream",
     "text": [
      "root\n",
      " |-- provider: struct (nullable = false)\n",
      " |    |-- facility_name: string (nullable = true)\n",
      " |    |-- first_name: string (nullable = true)\n",
      " |    |-- gender: string (nullable = true)\n",
      " |    |-- last_name: string (nullable = true)\n",
      " |    |-- site_uid: void (nullable = true)\n",
      " |    |-- license_number: string (nullable = true)\n",
      " |    |-- middle_name: string (nullable = true)\n",
      " |    |-- npi: string (nullable = true)\n",
      " |    |-- pcp: boolean (nullable = true)\n",
      " |    |-- provider_type: string (nullable = true)\n",
      " |    |-- suffix: string (nullable = true)\n",
      " |    |-- title: string (nullable = true)\n",
      " |    |-- unparsed_name: string (nullable = true)\n",
      " |    |-- rating: struct (nullable = false)\n",
      " |    |    |-- scale: void (nullable = true)\n",
      " |    |    |-- score: void (nullable = true)\n",
      " |-- networks: array (nullable = true)\n",
      " |    |-- element: struct (containsNull = true)\n",
      " |    |    |-- name: string (nullable = true)\n",
      " |    |    |-- tier: string (nullable = true)\n",
      " |-- specialties: array (nullable = true)\n",
      " |    |-- element: struct (containsNull = true)\n",
      " |    |    |-- name: string (nullable = true)\n",
      " |-- group_affiliations: array (nullable = true)\n",
      " |    |-- element: struct (containsNull = true)\n",
      " |    |    |-- name: string (nullable = true)\n",
      " |-- hospital_affiliations: array (nullable = true)\n",
      " |    |-- element: struct (containsNull = true)\n",
      " |    |    |-- name: string (nullable = true)\n",
      " |-- addresses: array (nullable = true)\n",
      " |    |-- element: struct (containsNull = true)\n",
      " |    |    |-- address_string: string (nullable = true)\n",
      " |    |    |-- city: string (nullable = true)\n",
      " |    |    |-- languages: array (nullable = true)\n",
      " |    |    |    |-- element: struct (containsNull = true)\n",
      " |    |    |    |    |-- name: string (nullable = true)\n",
      " |    |    |    |    |-- type: string (nullable = true)\n",
      " |    |    |-- office_name: string (nullable = true)\n",
      " |    |    |-- phones: array (nullable = true)\n",
      " |    |    |    |-- element: struct (containsNull = true)\n",
      " |    |    |    |    |-- type: string (nullable = true)\n",
      " |    |    |    |    |-- value: string (nullable = true)\n",
      " |    |    |-- state: string (nullable = true)\n",
      " |    |    |-- street_line_1: string (nullable = true)\n",
      " |    |    |-- street_line_2: string (nullable = true)\n",
      " |    |    |-- zip: string (nullable = true)\n",
      "\n"
     ]
    }
   ],
   "source": [
    "demoabcd1.printSchema()"
   ]
  },
  {
   "cell_type": "code",
   "execution_count": 264,
   "id": "fad344bf-f923-4c69-b872-56bde1945f86",
   "metadata": {},
   "outputs": [
    {
     "name": "stderr",
     "output_type": "stream",
     "text": [
      "                                                                                \r"
     ]
    },
    {
     "data": {
      "text/plain": [
       "517615"
      ]
     },
     "execution_count": 264,
     "metadata": {},
     "output_type": "execute_result"
    }
   ],
   "source": [
    "demoabcd1.count()"
   ]
  },
  {
   "cell_type": "code",
   "execution_count": 265,
   "id": "ab11618f-3230-4041-a69f-34b117aac608",
   "metadata": {},
   "outputs": [
    {
     "name": "stderr",
     "output_type": "stream",
     "text": [
      "[Stage 437:==============>                                          (2 + 6) / 8]\r"
     ]
    },
    {
     "name": "stdout",
     "output_type": "stream",
     "text": [
      "+--------------------------+----------+------+---------+--------+--------------+-----------+----------+----+-------------+------+-----+--------------------------+------------+\n",
      "|facility_name             |first_name|gender|last_name|site_uid|license_number|middle_name|npi       |pcp |provider_type|suffix|title|unparsed_name             |rating      |\n",
      "+--------------------------+----------+------+---------+--------+--------------+-----------+----------+----+-------------+------+-----+--------------------------+------------+\n",
      "|null                      |Cady      |F     |Elredy   |null    |              |           |1497219349|null|individual   |LAC   |null |Cady Elredy               |{null, null}|\n",
      "|null                      |Zubin     |M     |Dah      |null    |              |M          |1205194651|null|individual   |LAC   |null |Zubin M Dah               |{null, null}|\n",
      "|Pandit Rheumatology       |null      |null  |null     |null    |              |null       |1285186049|null|facility     |null  |null |Pandit Rheumatology       |{null, null}|\n",
      "|null                      |Charles   |M     |Burns    |null    |              |N          |1225022858|null|individual   |MD    |null |Charles N Burns           |{null, null}|\n",
      "|Focus Behavioral Hlth Svcs|null      |null  |null     |null    |              |null       |1578832549|null|facility     |null  |null |Focus Behavioral Hlth Svcs|{null, null}|\n",
      "+--------------------------+----------+------+---------+--------+--------------+-----------+----------+----+-------------+------+-----+--------------------------+------------+\n",
      "only showing top 5 rows\n",
      "\n"
     ]
    },
    {
     "name": "stderr",
     "output_type": "stream",
     "text": [
      "                                                                                \r"
     ]
    }
   ],
   "source": [
    "demoabcd1.select('provider.*').show(5,truncate=False)"
   ]
  },
  {
   "cell_type": "code",
   "execution_count": 266,
   "id": "3d5817e5-8a45-40f3-b3ec-96b3195ea913",
   "metadata": {},
   "outputs": [
    {
     "name": "stderr",
     "output_type": "stream",
     "text": [
      "22/03/12 17:19:07 WARN RowBasedKeyValueBatch: Calling spill() on RowBasedKeyValueBatch. Will not spill but return 0.\n",
      "22/03/12 17:19:07 WARN RowBasedKeyValueBatch: Calling spill() on RowBasedKeyValueBatch. Will not spill but return 0.\n",
      "22/03/12 17:19:07 WARN RowBasedKeyValueBatch: Calling spill() on RowBasedKeyValueBatch. Will not spill but return 0.\n",
      "22/03/12 17:19:07 WARN RowBasedKeyValueBatch: Calling spill() on RowBasedKeyValueBatch. Will not spill but return 0.\n",
      "22/03/12 17:19:07 WARN RowBasedKeyValueBatch: Calling spill() on RowBasedKeyValueBatch. Will not spill but return 0.\n",
      "22/03/12 17:19:07 WARN RowBasedKeyValueBatch: Calling spill() on RowBasedKeyValueBatch. Will not spill but return 0.\n",
      "22/03/12 17:19:07 WARN RowBasedKeyValueBatch: Calling spill() on RowBasedKeyValueBatch. Will not spill but return 0.\n",
      "22/03/12 17:19:07 WARN RowBasedKeyValueBatch: Calling spill() on RowBasedKeyValueBatch. Will not spill but return 0.\n",
      "22/03/12 17:19:07 WARN RowBasedKeyValueBatch: Calling spill() on RowBasedKeyValueBatch. Will not spill but return 0.\n",
      "22/03/12 17:19:07 WARN RowBasedKeyValueBatch: Calling spill() on RowBasedKeyValueBatch. Will not spill but return 0.\n",
      "22/03/12 17:19:07 WARN RowBasedKeyValueBatch: Calling spill() on RowBasedKeyValueBatch. Will not spill but return 0.\n",
      "22/03/12 17:19:07 WARN RowBasedKeyValueBatch: Calling spill() on RowBasedKeyValueBatch. Will not spill but return 0.\n",
      "22/03/12 17:19:07 WARN RowBasedKeyValueBatch: Calling spill() on RowBasedKeyValueBatch. Will not spill but return 0.\n",
      "22/03/12 17:19:07 WARN RowBasedKeyValueBatch: Calling spill() on RowBasedKeyValueBatch. Will not spill but return 0.\n",
      "22/03/12 17:19:07 WARN RowBasedKeyValueBatch: Calling spill() on RowBasedKeyValueBatch. Will not spill but return 0.\n",
      "22/03/12 17:19:07 WARN RowBasedKeyValueBatch: Calling spill() on RowBasedKeyValueBatch. Will not spill but return 0.\n",
      "22/03/12 17:19:07 WARN RowBasedKeyValueBatch: Calling spill() on RowBasedKeyValueBatch. Will not spill but return 0.\n",
      "22/03/12 17:19:07 WARN RowBasedKeyValueBatch: Calling spill() on RowBasedKeyValueBatch. Will not spill but return 0.\n",
      "22/03/12 17:19:07 WARN RowBasedKeyValueBatch: Calling spill() on RowBasedKeyValueBatch. Will not spill but return 0.\n",
      "22/03/12 17:19:07 WARN RowBasedKeyValueBatch: Calling spill() on RowBasedKeyValueBatch. Will not spill but return 0.\n",
      "22/03/12 17:19:07 WARN RowBasedKeyValueBatch: Calling spill() on RowBasedKeyValueBatch. Will not spill but return 0.\n",
      "22/03/12 17:19:07 WARN RowBasedKeyValueBatch: Calling spill() on RowBasedKeyValueBatch. Will not spill but return 0.\n",
      "22/03/12 17:19:07 WARN RowBasedKeyValueBatch: Calling spill() on RowBasedKeyValueBatch. Will not spill but return 0.\n",
      "22/03/12 17:19:07 WARN RowBasedKeyValueBatch: Calling spill() on RowBasedKeyValueBatch. Will not spill but return 0.\n",
      "22/03/12 17:19:07 WARN RowBasedKeyValueBatch: Calling spill() on RowBasedKeyValueBatch. Will not spill but return 0.\n",
      "22/03/12 17:19:07 WARN RowBasedKeyValueBatch: Calling spill() on RowBasedKeyValueBatch. Will not spill but return 0.\n",
      "22/03/12 17:19:07 WARN RowBasedKeyValueBatch: Calling spill() on RowBasedKeyValueBatch. Will not spill but return 0.\n",
      "22/03/12 17:19:07 WARN RowBasedKeyValueBatch: Calling spill() on RowBasedKeyValueBatch. Will not spill but return 0.\n",
      "22/03/12 17:19:07 WARN RowBasedKeyValueBatch: Calling spill() on RowBasedKeyValueBatch. Will not spill but return 0.\n",
      "22/03/12 17:19:07 WARN RowBasedKeyValueBatch: Calling spill() on RowBasedKeyValueBatch. Will not spill but return 0.\n",
      "22/03/12 17:19:07 WARN RowBasedKeyValueBatch: Calling spill() on RowBasedKeyValueBatch. Will not spill but return 0.\n",
      "22/03/12 17:19:07 WARN RowBasedKeyValueBatch: Calling spill() on RowBasedKeyValueBatch. Will not spill but return 0.\n",
      "22/03/12 17:19:07 WARN RowBasedKeyValueBatch: Calling spill() on RowBasedKeyValueBatch. Will not spill but return 0.\n",
      "22/03/12 17:19:07 WARN RowBasedKeyValueBatch: Calling spill() on RowBasedKeyValueBatch. Will not spill but return 0.\n",
      "[Stage 442:======>                                                  (1 + 8) / 9]\r"
     ]
    },
    {
     "name": "stdout",
     "output_type": "stream",
     "text": [
      "+----------+-----+\n",
      "|npi       |count|\n",
      "+----------+-----+\n",
      "|null      |2397 |\n",
      "|1689612954|64   |\n",
      "|1295763217|63   |\n",
      "|1275988321|56   |\n",
      "|1326336058|50   |\n",
      "|1023041159|49   |\n",
      "|1033749940|39   |\n",
      "|1376709535|36   |\n",
      "|1922077643|36   |\n",
      "|1619209574|33   |\n",
      "+----------+-----+\n",
      "only showing top 10 rows\n",
      "\n"
     ]
    },
    {
     "name": "stderr",
     "output_type": "stream",
     "text": [
      "                                                                                \r"
     ]
    }
   ],
   "source": [
    "testnpis3 = demoabcd1.groupBy(\"provider.npi\").count().orderBy(col('count').desc())\n",
    "testnpis3.show(10,truncate=False)"
   ]
  },
  {
   "cell_type": "markdown",
   "id": "ccbb3991-cab4-48a9-9bef-59cd1bc5f4b5",
   "metadata": {},
   "source": [
    "#### <hr />Original NPI's before SiteUID"
   ]
  },
  {
   "cell_type": "markdown",
   "id": "3da798b5-acc5-4648-a293-711047e8beed",
   "metadata": {},
   "source": [
    "## <hr /><hr />"
   ]
  },
  {
   "cell_type": "code",
   "execution_count": 267,
   "id": "88a17ca3-d43b-4775-81a5-d92b44b67460",
   "metadata": {},
   "outputs": [
    {
     "name": "stderr",
     "output_type": "stream",
     "text": [
      "[Stage 446:>                                                        (0 + 8) / 8]\r"
     ]
    },
    {
     "name": "stdout",
     "output_type": "stream",
     "text": [
      "+-----------------------------------------------------------------------------------------------------------------------------------+-------+-------+--------+-----+-------------------------------+--------+\n",
      "|street_line_1                                                                                                                      |street1|network|hospital|group|unparsed_name                  |site_uid|\n",
      "+-----------------------------------------------------------------------------------------------------------------------------------+-------+-------+--------+-----+-------------------------------+--------+\n",
      "|[1801 NW Market St, 18100 NE Union Hill Rd, 3 Cascade, 550 17th Ave, 7320 216th St SW, 751 NE Blakely Dr, 900 Pacific Ave, A Floor]|8      |4      |0       |0    |Swedish Sleep Medicine         |null    |\n",
      "|[18100 NE Union Hill Rd, 751 NE Blakely Dr]                                                                                        |2      |3      |0       |0    |Swedish Issaquah Otolaryngology|null    |\n",
      "|[600 Broadway]                                                                                                                     |1      |4      |0       |0    |Swedish Hip and Pelvis Center  |null    |\n",
      "|[1101 Madison St, 751 NE Blakely Dr]                                                                                               |2      |3      |0       |0    |Swedish Ci Thoracic Surgery    |null    |\n",
      "|[1221 Madison St, 21605 76th Ave W, 600 Broadway]                                                                                  |3      |4      |0       |0    |Swedish Head and Neck Surgery  |null    |\n",
      "+-----------------------------------------------------------------------------------------------------------------------------------+-------+-------+--------+-----+-------------------------------+--------+\n",
      "only showing top 5 rows\n",
      "\n"
     ]
    },
    {
     "name": "stderr",
     "output_type": "stream",
     "text": [
      "                                                                                \r"
     ]
    }
   ],
   "source": [
    "demoabcd1.filter(demoabcd1.provider.npi==1689612954).select('addresses.street_line_1',\n",
    "                                                    size(\"addresses.address_string\").alias('street1'),\n",
    "                                                  size(\"networks.name\").alias('network'),\n",
    "                                                  size(\"hospital_affiliations.name\").alias('hospital'),\n",
    "                                                  size(\"group_affiliations.name\").alias('group'),\n",
    "                                                  'provider.unparsed_name','provider.site_uid'\n",
    "                                                   ).show(5,truncate=False)"
   ]
  },
  {
   "cell_type": "code",
   "execution_count": 242,
   "id": "8316395d-6158-497a-831d-4ca10b321912",
   "metadata": {},
   "outputs": [],
   "source": [
    "#demoabcd1.filter(demoabcd1.provider.npi==1689612954).select('networks','specialties').show(truncate=False)"
   ]
  },
  {
   "cell_type": "code",
   "execution_count": 268,
   "id": "bac6c57d-9ddc-4923-b973-c3d89ad18e57",
   "metadata": {},
   "outputs": [],
   "source": [
    "def writeToFile(df,fName,opDir,mode):\n",
    "    import os\n",
    "    if not os.path.exists(opDir):\n",
    "        os.makedirs(opDir)\n",
    "        print(\"Directory Created\")       \n",
    "    \n",
    "    if mode=='csv':\n",
    "        df.write.mode('Overwrite').csv(opDir)    \n",
    "    else:\n",
    "        print(\"@@\")\n",
    "        df.write.mode('Overwrite').json(opDir)\n",
    "        \n",
    "    fs = spark._jvm.org.apache.hadoop.fs.FileSystem.get(spark._jsc.hadoopConfiguration())\n",
    "    list_status = fs.listStatus(spark._jvm.org.apache.hadoop.fs.Path(opDir))\n",
    "    print(list_status)\n",
    "    file_name = [file.getPath().getName() for file in list_status if file.getPath().getName().startswith('part-')][0]\n",
    "    print(file_name)\n",
    "#     print(\"Renaming \"+file_name+\" .... \"+fName)\n",
    "    fs.rename(spark._jvm.org.apache.hadoop.fs.Path(opDir+'/'+file_name),spark._jvm.org.apache.hadoop.fs.Path(opDir+'/'+fName))\n",
    "    for file_name in os.listdir(opDir): #remove part- files if they exist!\n",
    "        if file_name.startswith('part-'):\n",
    "            print(file_name)"
   ]
  },
  {
   "cell_type": "code",
   "execution_count": 269,
   "id": "6d3b5998-b6b7-4b36-a7f4-8548804914de",
   "metadata": {},
   "outputs": [
    {
     "name": "stdout",
     "output_type": "stream",
     "text": [
      "@@\n"
     ]
    },
    {
     "name": "stderr",
     "output_type": "stream",
     "text": [
      "[Stage 451:>                                                        (0 + 8) / 9]\r"
     ]
    },
    {
     "name": "stdout",
     "output_type": "stream",
     "text": [
      "[Lorg.apache.hadoop.fs.FileStatus;@71533ad6\n",
      "part-00004-d942ec5b-ef11-4ee5-bb88-d4be5b314cf0-c000.json\n",
      "part-00001-d942ec5b-ef11-4ee5-bb88-d4be5b314cf0-c000.json\n",
      "part-00003-d942ec5b-ef11-4ee5-bb88-d4be5b314cf0-c000.json\n",
      "part-00006-d942ec5b-ef11-4ee5-bb88-d4be5b314cf0-c000.json\n",
      "part-00007-d942ec5b-ef11-4ee5-bb88-d4be5b314cf0-c000.json\n",
      "part-00002-d942ec5b-ef11-4ee5-bb88-d4be5b314cf0-c000.json\n",
      "part-00000-d942ec5b-ef11-4ee5-bb88-d4be5b314cf0-c000.json\n",
      "part-00008-d942ec5b-ef11-4ee5-bb88-d4be5b314cf0-c000.json\n",
      "part-00005-d942ec5b-ef11-4ee5-bb88-d4be5b314cf0-c000.json\n"
     ]
    },
    {
     "name": "stderr",
     "output_type": "stream",
     "text": [
      "                                                                                \r"
     ]
    }
   ],
   "source": [
    "writeToFile(demoabcd1,'vericred_bcbs_20.json','bcbsOutput','json')"
   ]
  },
  {
   "cell_type": "code",
   "execution_count": null,
   "id": "46842712-8b75-4c27-a007-2d68c35808d9",
   "metadata": {},
   "outputs": [],
   "source": [
    "#cat bcbs/part-0000*.json > bcbs/bcbs_10.json "
   ]
  },
  {
   "cell_type": "code",
   "execution_count": null,
   "id": "840cddbf-bc8b-4726-a31a-d63b49532f87",
   "metadata": {},
   "outputs": [],
   "source": [
    "#{\"provider\":{\"first_name\":\"Jaime\",\"gender\":\"M\",\"last_name\":\"Landman\",\"license_number\":\"\",\"middle_name\":\"\",\"npi\":\"1437268505\",\"provider_type\":\"individual\",\"suffix\":\"MD\",\"unparsed_name\":\"Jaime Landman\",\"rating\":{}},\"networks\":[{\"name\":\"BlueCard PPO Basic\",\"tier\":\"\"},{\"name\":\"BlueCard PPO/EPO\",\"tier\":\"\"},{\"name\":\"BlueCard Traditional\",\"tier\":\"\"}],\"specialties\":[{\"name\":\"Urology\"}],\"group_affiliations\":[{\"name\":\"Prohealth Partners A Medical Group Inc\"},{\"name\":\"UCI Department of Urology\"},{\"name\":\"UCI Medical Group\"},{\"name\":\"Wu Dept of General Surgery\"}],\"hospital_affiliations\":[{\"name\":\"Long Beach Memorial Medical Center\"},{\"name\":\"UC Irvine Medical Center\"}],\"addresses\":[{\"address_string\":\"20350 SW Birch St, Newport Beach, CA 92660\",\"city\":\"Newport Beach\",\"languages\":[{\"name\":\"English\",\"type\":\"primary\"},{\"name\":\"Spanish\",\"type\":\"secondary\"}],\"office_name\":\"\",\"phones\":[{\"type\":\"phone\",\"value\":\"7144567005\"}],\"state\":\"CA\",\"street_line_1\":\"20350 SW Birch St\",\"street_line_2\":\"\",\"zip\":\"92660\"},{\"address_string\":\"2801 Atlantic Ave, Long Beach, CA 90806\",\"city\":\"Long Beach\",\"languages\":[{\"name\":\"English\",\"type\":\"primary\"},{\"name\":\"Spanish\",\"type\":\"secondary\"}],\"office_name\":\"\",\"phones\":[{\"type\":\"phone\",\"value\":\"5629331877\"}],\"state\":\"CA\",\"street_line_1\":\"2801 Atlantic Ave\",\"street_line_2\":\"\",\"zip\":\"90806\"},{\"address_string\":\"2810 Long Beach Blvd, Long Beach, CA 90806\",\"city\":\"Long Beach\",\"languages\":[{\"name\":\"English\",\"type\":\"primary\"},{\"name\":\"Spanish\",\"type\":\"secondary\"}],\"office_name\":\"\",\"phones\":[{\"type\":\"phone\",\"value\":\"5629331877\"}],\"state\":\"CA\",\"street_line_1\":\"2810 Long Beach Blvd\",\"street_line_2\":\"\",\"zip\":\"90806\"},{\"address_string\":\"4921 Parkview Pl, St Louis, MO 63110\",\"city\":\"St Louis\",\"languages\":[{\"name\":\"English\",\"type\":\"primary\"},{\"name\":\"Spanish\",\"type\":\"secondary\"}],\"office_name\":\"\",\"phones\":[{\"type\":\"phone\",\"value\":\"3143628200\"}],\"state\":\"MO\",\"street_line_1\":\"4921 Parkview Pl\",\"street_line_2\":\"\",\"zip\":\"63110\"}]}\n",
    "#{\"provider\":{\"first_name\":\"Jaime\",\"gender\":\"M\",\"last_name\":\"Landman\",\"license_number\":\"\",\"middle_name\":\"\",\"npi\":\"1437268505\",\"provider_type\":\"individual\",\"suffix\":\"MD\",\"unparsed_name\":\"Jaime Landman\",\"rating\":{}},\"networks\":[{\"name\":\"BlueCard PPO Basic\",\"tier\":\"\"},{\"name\":\"BlueCard PPO/EPO\",\"tier\":\"\"},{\"name\":\"BlueCard Traditional\",\"tier\":\"\"}],\"specialties\":[{\"name\":\"Urology\"}],\"group_affiliations\":[{\"name\":\"Prohealth Partners A Medical Group Inc\"},{\"name\":\"UCI Department of Urology\"},{\"name\":\"UCI Medical Group\"},{\"name\":\"Wu Dept of General Surgery\"}],\"hospital_affiliations\":[{\"name\":\"Long Beach Memorial Medical Center\"},{\"name\":\"UC Irvine Medical Center\"}],\"addresses\":[{\"address_string\":\"20350 SW Birch St, Newport Beach, CA 92660\",\"city\":\"Newport Beach\",\"languages\":[{\"name\":\"English\",\"type\":\"primary\"},{\"name\":\"Spanish\",\"type\":\"secondary\"}],\"office_name\":\"\",\"phones\":[{\"type\":\"phone\",\"value\":\"7145092230\"}],\"state\":\"CA\",\"street_line_1\":\"20350 SW Birch St\",\"street_line_2\":\"\",\"zip\":\"92660\"},{\"address_string\":\"2801 Atlantic Ave, Long Beach, CA 90806\",\"city\":\"Long Beach\",\"languages\":[{\"name\":\"English\",\"type\":\"primary\"},{\"name\":\"Spanish\",\"type\":\"secondary\"}],\"office_name\":\"\",\"phones\":[{\"type\":\"phone\",\"value\":\"5629331877\"}],\"state\":\"CA\",\"street_line_1\":\"2801 Atlantic Ave\",\"street_line_2\":\"\",\"zip\":\"90806\"},{\"address_string\":\"2810 Long Beach Blvd, Long Beach, CA 90806\",\"city\":\"Long Beach\",\"languages\":[{\"name\":\"English\",\"type\":\"primary\"},{\"name\":\"Spanish\",\"type\":\"secondary\"}],\"office_name\":\"\",\"phones\":[{\"type\":\"phone\",\"value\":\"5629331877\"}],\"state\":\"CA\",\"street_line_1\":\"2810 Long Beach Blvd\",\"street_line_2\":\"\",\"zip\":\"90806\"},{\"address_string\":\"4921 Parkview Pl, St Louis, MO 63110\",\"city\":\"St Louis\",\"languages\":[{\"name\":\"English\",\"type\":\"primary\"},{\"name\":\"Spanish\",\"type\":\"secondary\"}],\"office_name\":\"\",\"phones\":[{\"type\":\"phone\",\"value\":\"3143628200\"}],\"state\":\"MO\",\"street_line_1\":\"4921 Parkview Pl\",\"street_line_2\":\"\",\"zip\":\"63110\"}]}\n"
   ]
  },
  {
   "cell_type": "code",
   "execution_count": null,
   "id": "731b1a43-dcfb-477b-b7a8-58a1b869e996",
   "metadata": {},
   "outputs": [],
   "source": []
  },
  {
   "cell_type": "code",
   "execution_count": 270,
   "id": "c08362b2-2b91-4e45-9e43-18217cf0a5c4",
   "metadata": {},
   "outputs": [],
   "source": [
    "del abcd\n",
    "del demoabcd\n",
    "del demoabcd1"
   ]
  },
  {
   "cell_type": "code",
   "execution_count": 271,
   "id": "fdd55a7b-c8f6-46e8-957d-8c6a875690d0",
   "metadata": {},
   "outputs": [],
   "source": [
    "spark.stop()"
   ]
  },
  {
   "cell_type": "code",
   "execution_count": null,
   "id": "dfdddb6a-cdae-4a72-b881-87112c08bf83",
   "metadata": {},
   "outputs": [],
   "source": []
  }
 ],
 "metadata": {
  "kernelspec": {
   "display_name": "Python 3 (ipykernel)",
   "language": "python",
   "name": "python3"
  },
  "language_info": {
   "codemirror_mode": {
    "name": "ipython",
    "version": 3
   },
   "file_extension": ".py",
   "mimetype": "text/x-python",
   "name": "python",
   "nbconvert_exporter": "python",
   "pygments_lexer": "ipython3",
   "version": "3.9.4"
  }
 },
 "nbformat": 4,
 "nbformat_minor": 5
}
