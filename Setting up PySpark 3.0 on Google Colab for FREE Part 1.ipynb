{
 "cells": [
  {
   "cell_type": "code",
   "execution_count": 1,
   "metadata": {
    "colab": {},
    "colab_type": "code",
    "executionInfo": {
     "elapsed": 1142,
     "status": "ok",
     "timestamp": 1599294079148,
     "user": {
      "displayName": "DataMaking University",
      "photoUrl": "",
      "userId": "05770557288719135702"
     },
     "user_tz": -330
    },
    "id": "3owQBGJiWX2V"
   },
   "outputs": [],
   "source": [
    "import os\n",
    "os.environ['PYSPARK_SUBMIT_ARGS'] = 'pyspark-shell'\n",
    "os.environ[\"SPARK_HOME\"] = \"/Users/anishchapagain/Spark/\"\n",
    "\n",
    "import findspark\n",
    "findspark.init()"
   ]
  },
  {
   "cell_type": "code",
   "execution_count": null,
   "metadata": {
    "colab": {
     "base_uri": "https://localhost:8080/",
     "height": 36
    },
    "colab_type": "code",
    "executionInfo": {
     "elapsed": 1018,
     "status": "ok",
     "timestamp": 1599294284841,
     "user": {
      "displayName": "DataMaking University",
      "photoUrl": "",
      "userId": "05770557288719135702"
     },
     "user_tz": -330
    },
    "id": "F1HYv-jhWNcn",
    "outputId": "6fda7e1c-008c-443d-eed5-60dea15d8627"
   },
   "outputs": [],
   "source": [
    "from pyspark.sql import SparkSession\n",
    "\n",
    "spark = SparkSession.builder.appName(\"DATA Analysis\").getOrCreate()\n",
    "print(spark.sparkContext.appName)"
   ]
  },
  {
   "cell_type": "code",
   "execution_count": 3,
   "metadata": {
    "colab": {
     "base_uri": "https://localhost:8080/",
     "height": 187
    },
    "colab_type": "code",
    "executionInfo": {
     "elapsed": 7537,
     "status": "ok",
     "timestamp": 1599294642932,
     "user": {
      "displayName": "DataMaking University",
      "photoUrl": "",
      "userId": "05770557288719135702"
     },
     "user_tz": -330
    },
    "id": "lPE1U-l_YhQa",
    "outputId": "cf3704f0-14ab-4988-ef20-2ae28da966d9"
   },
   "outputs": [
    {
     "name": "stdout",
     "output_type": "stream",
     "text": [
      "+------------------+--------------------+--------------------+--------------------+--------------------+--------------+--------------------+--------------------+\n",
      "|               _c0|                 _c1|                 _c2|                 _c3|                 _c4|           _c5|                 _c6|                 _c7|\n",
      "+------------------+--------------------+--------------------+--------------------+--------------------+--------------+--------------------+--------------------+\n",
      "|transaction_amount|transaction_card_...|transaction_ecomm...|transaction_count...|transaction_datetime|transaction_id|transaction_city_...|transaction_produ...|\n",
      "|             50.85|          MasterCard|        www.ebay.com|               India| 2019-05-14 15:24:12|             1|              Mumbai|              Laptop|\n",
      "+------------------+--------------------+--------------------+--------------------+--------------------+--------------+--------------------+--------------------+\n",
      "only showing top 2 rows\n",
      "\n"
     ]
    }
   ],
   "source": [
    "df = spark.read.csv(\"transaction_detail.csv\")\n",
    "\n",
    "df.show(2)"
   ]
  },
  {
   "cell_type": "code",
   "execution_count": 4,
   "metadata": {
    "colab": {
     "base_uri": "https://localhost:8080/",
     "height": 187
    },
    "colab_type": "code",
    "executionInfo": {
     "elapsed": 2381,
     "status": "ok",
     "timestamp": 1599294834634,
     "user": {
      "displayName": "DataMaking University",
      "photoUrl": "",
      "userId": "05770557288719135702"
     },
     "user_tz": -330
    },
    "id": "qXebzCjoZYlT",
    "outputId": "00bfc6b6-67a6-491d-87e6-916029125b7d"
   },
   "outputs": [
    {
     "name": "stdout",
     "output_type": "stream",
     "text": [
      "+------------------+---------------------+----------------------------------+------------------------+--------------------+--------------+---------------------+------------------------+\n",
      "|transaction_amount|transaction_card_type|transaction_ecommerce_website_name|transaction_country_name|transaction_datetime|transaction_id|transaction_city_name|transaction_product_name|\n",
      "+------------------+---------------------+----------------------------------+------------------------+--------------------+--------------+---------------------+------------------------+\n",
      "|             50.85|           MasterCard|                      www.ebay.com|                   India| 2019-05-14 15:24:12|             1|               Mumbai|                  Laptop|\n",
      "|            259.12|           MasterCard|                    www.amazon.com|                   India| 2019-05-14 15:24:13|             2|                 Pune|              Wrist Band|\n",
      "+------------------+---------------------+----------------------------------+------------------------+--------------------+--------------+---------------------+------------------------+\n",
      "only showing top 2 rows\n",
      "\n"
     ]
    }
   ],
   "source": [
    "df = spark.read.csv(header=True, inferSchema=True, path=\"transaction_detail.csv\")\n",
    "\n",
    "df.show(2)"
   ]
  },
  {
   "cell_type": "code",
   "execution_count": 5,
   "metadata": {
    "colab": {
     "base_uri": "https://localhost:8080/",
     "height": 36
    },
    "colab_type": "code",
    "executionInfo": {
     "elapsed": 1126,
     "status": "ok",
     "timestamp": 1599294905330,
     "user": {
      "displayName": "DataMaking University",
      "photoUrl": "",
      "userId": "05770557288719135702"
     },
     "user_tz": -330
    },
    "id": "VL0FoL3GZsW5",
    "outputId": "5ada7800-0898-4643-d58c-a33ef4c89bd3"
   },
   "outputs": [
    {
     "name": "stdout",
     "output_type": "stream",
     "text": [
      "records_count is 1000\n"
     ]
    }
   ],
   "source": [
    "records_count = df.count()\n",
    "print(\"records_count is %d\" % records_count)"
   ]
  },
  {
   "cell_type": "code",
   "execution_count": 6,
   "metadata": {},
   "outputs": [
    {
     "data": {
      "text/plain": [
       "3"
      ]
     },
     "execution_count": 6,
     "metadata": {},
     "output_type": "execute_result"
    }
   ],
   "source": [
    "df.select('transaction_card_type').distinct().count()"
   ]
  },
  {
   "cell_type": "code",
   "execution_count": 20,
   "metadata": {},
   "outputs": [
    {
     "name": "stdout",
     "output_type": "stream",
     "text": [
      "+---------------------+\n",
      "|transaction_card_type|\n",
      "+---------------------+\n",
      "|              Maestro|\n",
      "|                 Visa|\n",
      "|           MasterCard|\n",
      "+---------------------+\n",
      "\n",
      "+------------------------+\n",
      "|transaction_country_name|\n",
      "+------------------------+\n",
      "|               Singapore|\n",
      "|                  France|\n",
      "|                   India|\n",
      "|           United States|\n",
      "|                   Italy|\n",
      "|                Thailand|\n",
      "|                  Israel|\n",
      "|                   Inida|\n",
      "|          United Kingdom|\n",
      "+------------------------+\n",
      "\n"
     ]
    }
   ],
   "source": [
    "df.select('transaction_card_type').distinct().show()\n",
    "df.select('transaction_country_name').distinct().show()"
   ]
  },
  {
   "cell_type": "code",
   "execution_count": 10,
   "metadata": {},
   "outputs": [
    {
     "name": "stdout",
     "output_type": "stream",
     "text": [
      "+-------+------------------+--------------------+\n",
      "|summary|transaction_amount|transaction_datetime|\n",
      "+-------+------------------+--------------------+\n",
      "|  count|              1000|                1000|\n",
      "|   mean| 279.9002600000002|                null|\n",
      "| stddev| 158.9149152660833|                null|\n",
      "|    min|              6.02| 2019-05-14 15:24:12|\n",
      "|    max|            555.07| 2019-05-14 15:40:53|\n",
      "+-------+------------------+--------------------+\n",
      "\n"
     ]
    }
   ],
   "source": [
    "df.select(\"transaction_amount\",\"transaction_datetime\").describe().show()"
   ]
  },
  {
   "cell_type": "code",
   "execution_count": 16,
   "metadata": {},
   "outputs": [
    {
     "data": {
      "text/plain": [
       "DataFrame[transaction_amount: double]"
      ]
     },
     "execution_count": 16,
     "metadata": {},
     "output_type": "execute_result"
    }
   ],
   "source": [
    "df.select(\"transaction_amount\")"
   ]
  },
  {
   "cell_type": "code",
   "execution_count": 17,
   "metadata": {},
   "outputs": [
    {
     "data": {
      "text/plain": [
       "246"
      ]
     },
     "execution_count": 17,
     "metadata": {},
     "output_type": "execute_result"
    }
   ],
   "source": [
    "df.filter(df.transaction_ecommerce_website_name=='www.ebay.com').count()"
   ]
  },
  {
   "cell_type": "code",
   "execution_count": 19,
   "metadata": {},
   "outputs": [
    {
     "name": "stdout",
     "output_type": "stream",
     "text": [
      "+----------------------------------+-----+\n",
      "|transaction_ecommerce_website_name|count|\n",
      "+----------------------------------+-----+\n",
      "|                  www.snapdeal.com|  273|\n",
      "|                  www.flipkart.com|  249|\n",
      "|                    www.amazon.com|  232|\n",
      "|                      www.ebay.com|  246|\n",
      "+----------------------------------+-----+\n",
      "\n"
     ]
    }
   ],
   "source": [
    "df.groupby(df.transaction_ecommerce_website_name).count().show()"
   ]
  },
  {
   "cell_type": "code",
   "execution_count": null,
   "metadata": {},
   "outputs": [],
   "source": []
  }
 ],
 "metadata": {
  "colab": {
   "authorship_tag": "ABX9TyM58iV9B0FI51HkMV7QoE2K",
   "collapsed_sections": [],
   "name": "Setting up PySpark 3.0 on Google Colab for FREE | Part 1.ipynb",
   "provenance": []
  },
  "kernelspec": {
   "display_name": "Python 3 (ipykernel)",
   "language": "python",
   "name": "python3"
  },
  "language_info": {
   "codemirror_mode": {
    "name": "ipython",
    "version": 3
   },
   "file_extension": ".py",
   "mimetype": "text/x-python",
   "name": "python",
   "nbconvert_exporter": "python",
   "pygments_lexer": "ipython3",
   "version": "3.9.4"
  }
 },
 "nbformat": 4,
 "nbformat_minor": 4
}
