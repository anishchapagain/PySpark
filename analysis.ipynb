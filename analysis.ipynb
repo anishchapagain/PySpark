{
 "cells": [
  {
   "cell_type": "markdown",
   "id": "2c10d8f1-36b5-46fc-92ff-27372cf60fd8",
   "metadata": {},
   "source": [
    "## Using pySpark for understanding and analysing basic things from 'vericred' projects.  "
   ]
  },
  {
   "cell_type": "code",
   "execution_count": 1,
   "id": "8d3f8dad-c7a7-4d93-8be6-df9cc2b507bc",
   "metadata": {},
   "outputs": [
    {
     "name": "stderr",
     "output_type": "stream",
     "text": [
      "22/03/10 10:39:36 WARN Utils: Your hostname, Anishs-MacBook-Pro.local resolves to a loopback address: 127.0.0.1; using 192.168.90.85 instead (on interface en0)\n",
      "22/03/10 10:39:36 WARN Utils: Set SPARK_LOCAL_IP if you need to bind to another address\n",
      "WARNING: An illegal reflective access operation has occurred\n",
      "WARNING: Illegal reflective access by org.apache.spark.unsafe.Platform (file:/Users/anishchapagain/Library/Python/3.9/lib/python/site-packages/pyspark/jars/spark-unsafe_2.12-3.2.0.jar) to constructor java.nio.DirectByteBuffer(long,int)\n",
      "WARNING: Please consider reporting this to the maintainers of org.apache.spark.unsafe.Platform\n",
      "WARNING: Use --illegal-access=warn to enable warnings of further illegal reflective access operations\n",
      "WARNING: All illegal access operations will be denied in a future release\n",
      "Using Spark's default log4j profile: org/apache/spark/log4j-defaults.properties\n",
      "Setting default log level to \"WARN\".\n",
      "To adjust logging level use sc.setLogLevel(newLevel). For SparkR, use setLogLevel(newLevel).\n",
      "22/03/10 10:39:37 WARN NativeCodeLoader: Unable to load native-hadoop library for your platform... using builtin-java classes where applicable\n"
     ]
    },
    {
     "name": "stdout",
     "output_type": "stream",
     "text": [
      "Analysis\n"
     ]
    }
   ],
   "source": [
    "from pyspark.sql import SparkSession\n",
    "spark = SparkSession.builder.appName(\"Analysis\").getOrCreate()\n",
    "print(spark.sparkContext.appName)\n",
    "#http://localhost:4040/jobs/"
   ]
  },
  {
   "cell_type": "code",
   "execution_count": 21,
   "id": "ac6b8ed8-4947-420a-8395-e0ea36dfdaf2",
   "metadata": {},
   "outputs": [],
   "source": [
    "import pandas as pd\n",
    "import klib #Customized data preprocessing functions for frequent tasks\n",
    "from pyspark.sql.functions import *\n",
    "from pyspark.sql.types import *"
   ]
  },
  {
   "cell_type": "code",
   "execution_count": 3,
   "id": "deb4c131-0afc-4947-8192-c4f6e0664d82",
   "metadata": {},
   "outputs": [],
   "source": [
    "file1 = \"/Users/anishchapagain/Downloads/vericred_az_mercy_care_20211207.json\""
   ]
  },
  {
   "cell_type": "markdown",
   "id": "92192672-30d0-4607-92fc-22d28d3702e6",
   "metadata": {},
   "source": [
    "### <hr /> Reading JSON file. "
   ]
  },
  {
   "cell_type": "code",
   "execution_count": 4,
   "id": "3b3d6829-d7bf-4d0a-9d1b-8b6bcc6f3422",
   "metadata": {},
   "outputs": [
    {
     "name": "stderr",
     "output_type": "stream",
     "text": [
      "                                                                                \r"
     ]
    },
    {
     "data": {
      "text/plain": [
       "pyspark.sql.dataframe.DataFrame"
      ]
     },
     "execution_count": 4,
     "metadata": {},
     "output_type": "execute_result"
    }
   ],
   "source": [
    "df = spark.read.json(path=file1)\n",
    "type(df)"
   ]
  },
  {
   "cell_type": "markdown",
   "id": "33d8b2d3-b3b8-4a5a-bba8-99fd08c8df42",
   "metadata": {},
   "source": [
    "#### Shows total records plus distinct records count"
   ]
  },
  {
   "cell_type": "code",
   "execution_count": 5,
   "id": "a4599388-dfec-481e-84fd-134bd9ba4333",
   "metadata": {},
   "outputs": [
    {
     "name": "stdout",
     "output_type": "stream",
     "text": [
      "Count  113429\n"
     ]
    },
    {
     "name": "stderr",
     "output_type": "stream",
     "text": [
      "[Stage 4:>                                                          (0 + 8) / 8]\r"
     ]
    },
    {
     "name": "stdout",
     "output_type": "stream",
     "text": [
      "Distinct Count  113429\n"
     ]
    },
    {
     "name": "stderr",
     "output_type": "stream",
     "text": [
      "                                                                                \r"
     ]
    }
   ],
   "source": [
    "totalRow = df.count()\n",
    "print(\"Count \",totalRow)\n",
    "print(\"Distinct Count \",df.distinct().count())"
   ]
  },
  {
   "cell_type": "markdown",
   "id": "abaeb6ae-24c7-40b3-9097-4420c1201d77",
   "metadata": {},
   "source": [
    "### <hr /> Schema"
   ]
  },
  {
   "cell_type": "markdown",
   "id": "cbb81190-510b-4475-8d29-9287c5e7881f",
   "metadata": {},
   "source": [
    "### Describes the structure of your data. Using <b>StructType</b> class which is a collection of <b>StructField</b> that define the column name(String), column type (DataType), nullable column (Boolean) and metadata (MetaData)"
   ]
  },
  {
   "cell_type": "code",
   "execution_count": 6,
   "id": "b3a4c22a-c154-4830-b15d-9cef4e8e43e3",
   "metadata": {},
   "outputs": [
    {
     "data": {
      "text/plain": [
       "StructType(List(StructField(addresses,ArrayType(StructType(List(StructField(address_string,StringType,true),StructField(city,StringType,true),StructField(languages,ArrayType(StructType(List(StructField(name,StringType,true),StructField(type,StringType,true))),true),true),StructField(office_name,StringType,true),StructField(phones,ArrayType(StructType(List(StructField(type,StringType,true),StructField(value,StringType,true))),true),true),StructField(state,StringType,true),StructField(street_line_1,StringType,true),StructField(street_line_2,StringType,true),StructField(zip,StringType,true))),true),true),StructField(group_affiliations,ArrayType(StructType(List(StructField(name,StringType,true))),true),true),StructField(hospital_affiliations,ArrayType(StringType,true),true),StructField(networks,ArrayType(StructType(List(StructField(name,StringType,true),StructField(tier,StringType,true))),true),true),StructField(provider,StructType(List(StructField(accepting_new_patients,BooleanType,true),StructField(facility_name,StringType,true),StructField(facility_type,StringType,true),StructField(first_name,StringType,true),StructField(gender,StringType,true),StructField(last_name,StringType,true),StructField(license_number,StringType,true),StructField(middle_name,StringType,true),StructField(npi,StringType,true),StructField(pcp,BooleanType,true),StructField(pcp_id,StringType,true),StructField(provider_type,StringType,true),StructField(rating,StructType(List(StructField(scale,StringType,true),StructField(score,StringType,true))),true),StructField(site_uid,StringType,true),StructField(suffix,StringType,true),StructField(title,StringType,true),StructField(unparsed_name,StringType,true))),true),StructField(specialties,ArrayType(StructType(List(StructField(name,StringType,true))),true),true)))"
      ]
     },
     "execution_count": 6,
     "metadata": {},
     "output_type": "execute_result"
    }
   ],
   "source": [
    "df.schema"
   ]
  },
  {
   "cell_type": "markdown",
   "id": "e0dc3f29-8d66-4e08-a4eb-f4ef90187b97",
   "metadata": {},
   "source": [
    "### printSchema() : displays schema in tree format "
   ]
  },
  {
   "cell_type": "code",
   "execution_count": 7,
   "id": "8045d55e-2685-4dcc-9b65-76b3383b0bd2",
   "metadata": {},
   "outputs": [
    {
     "name": "stdout",
     "output_type": "stream",
     "text": [
      "root\n",
      " |-- addresses: array (nullable = true)\n",
      " |    |-- element: struct (containsNull = true)\n",
      " |    |    |-- address_string: string (nullable = true)\n",
      " |    |    |-- city: string (nullable = true)\n",
      " |    |    |-- languages: array (nullable = true)\n",
      " |    |    |    |-- element: struct (containsNull = true)\n",
      " |    |    |    |    |-- name: string (nullable = true)\n",
      " |    |    |    |    |-- type: string (nullable = true)\n",
      " |    |    |-- office_name: string (nullable = true)\n",
      " |    |    |-- phones: array (nullable = true)\n",
      " |    |    |    |-- element: struct (containsNull = true)\n",
      " |    |    |    |    |-- type: string (nullable = true)\n",
      " |    |    |    |    |-- value: string (nullable = true)\n",
      " |    |    |-- state: string (nullable = true)\n",
      " |    |    |-- street_line_1: string (nullable = true)\n",
      " |    |    |-- street_line_2: string (nullable = true)\n",
      " |    |    |-- zip: string (nullable = true)\n",
      " |-- group_affiliations: array (nullable = true)\n",
      " |    |-- element: struct (containsNull = true)\n",
      " |    |    |-- name: string (nullable = true)\n",
      " |-- hospital_affiliations: array (nullable = true)\n",
      " |    |-- element: string (containsNull = true)\n",
      " |-- networks: array (nullable = true)\n",
      " |    |-- element: struct (containsNull = true)\n",
      " |    |    |-- name: string (nullable = true)\n",
      " |    |    |-- tier: string (nullable = true)\n",
      " |-- provider: struct (nullable = true)\n",
      " |    |-- accepting_new_patients: boolean (nullable = true)\n",
      " |    |-- facility_name: string (nullable = true)\n",
      " |    |-- facility_type: string (nullable = true)\n",
      " |    |-- first_name: string (nullable = true)\n",
      " |    |-- gender: string (nullable = true)\n",
      " |    |-- last_name: string (nullable = true)\n",
      " |    |-- license_number: string (nullable = true)\n",
      " |    |-- middle_name: string (nullable = true)\n",
      " |    |-- npi: string (nullable = true)\n",
      " |    |-- pcp: boolean (nullable = true)\n",
      " |    |-- pcp_id: string (nullable = true)\n",
      " |    |-- provider_type: string (nullable = true)\n",
      " |    |-- rating: struct (nullable = true)\n",
      " |    |    |-- scale: string (nullable = true)\n",
      " |    |    |-- score: string (nullable = true)\n",
      " |    |-- site_uid: string (nullable = true)\n",
      " |    |-- suffix: string (nullable = true)\n",
      " |    |-- title: string (nullable = true)\n",
      " |    |-- unparsed_name: string (nullable = true)\n",
      " |-- specialties: array (nullable = true)\n",
      " |    |-- element: struct (containsNull = true)\n",
      " |    |    |-- name: string (nullable = true)\n",
      "\n"
     ]
    }
   ],
   "source": [
    "df.printSchema()"
   ]
  },
  {
   "cell_type": "markdown",
   "id": "633d2391-d394-4f1f-b1a8-5fd1310abfd8",
   "metadata": {},
   "source": [
    "### Collecting major StructTypes in the DataFrame."
   ]
  },
  {
   "cell_type": "code",
   "execution_count": 8,
   "id": "d98e43cc-2b8a-44fe-b0cf-fcb63ef40fc2",
   "metadata": {},
   "outputs": [
    {
     "data": {
      "text/plain": [
       "['addresses',\n",
       " 'group_affiliations',\n",
       " 'hospital_affiliations',\n",
       " 'networks',\n",
       " 'provider',\n",
       " 'specialties']"
      ]
     },
     "execution_count": 8,
     "metadata": {},
     "output_type": "execute_result"
    }
   ],
   "source": [
    "df.schema.names #column names"
   ]
  },
  {
   "cell_type": "code",
   "execution_count": 9,
   "id": "6b0dcced-9c82-4c38-8326-10aef720f9b0",
   "metadata": {},
   "outputs": [
    {
     "data": {
      "text/plain": [
       "['addresses',\n",
       " 'group_affiliations',\n",
       " 'hospital_affiliations',\n",
       " 'networks',\n",
       " 'provider',\n",
       " 'specialties']"
      ]
     },
     "execution_count": 9,
     "metadata": {},
     "output_type": "execute_result"
    }
   ],
   "source": [
    "df.columns #columns"
   ]
  },
  {
   "cell_type": "markdown",
   "id": "f701d64a-a75a-4a41-8d88-4954a8d99c1f",
   "metadata": {},
   "source": [
    "### <hr /> Check empty Columns/Schema"
   ]
  },
  {
   "cell_type": "code",
   "execution_count": 10,
   "id": "23c8b767-ec02-4427-b53b-f0a2f308be74",
   "metadata": {},
   "outputs": [
    {
     "name": "stdout",
     "output_type": "stream",
     "text": [
      "Node:  addresses Type:  array\n"
     ]
    },
    {
     "name": "stderr",
     "output_type": "stream",
     "text": [
      "                                                                                \r"
     ]
    },
    {
     "name": "stdout",
     "output_type": "stream",
     "text": [
      "Node:  group_affiliations Type:  array\n",
      "Node:  hospital_affiliations Type:  array\n",
      "Node:  networks Type:  array\n",
      "Node:  provider Type:  struct\n",
      "Node:  specialties Type:  array\n"
     ]
    }
   ],
   "source": [
    "emptyCols={}\n",
    "for col in df.schema:\n",
    "    print('Node: ',col.name, 'Type: ',col.dataType.typeName())\n",
    "    if(col.dataType.typeName()=='array'):\n",
    "        if df.select(explode(col.name)).count()==0:\n",
    "            emptyCols[col.name]='empty'"
   ]
  },
  {
   "cell_type": "code",
   "execution_count": 11,
   "id": "4e7b60c7-2074-4e1c-bcea-5e7ecb7dd405",
   "metadata": {},
   "outputs": [
    {
     "data": {
      "text/plain": [
       "{'hospital_affiliations': 'empty'}"
      ]
     },
     "execution_count": 11,
     "metadata": {},
     "output_type": "execute_result"
    }
   ],
   "source": [
    "emptyCols"
   ]
  },
  {
   "cell_type": "code",
   "execution_count": 12,
   "id": "c0f8f08d-d6f1-4dc6-b3bf-b1515295b02a",
   "metadata": {},
   "outputs": [
    {
     "name": "stdout",
     "output_type": "stream",
     "text": [
      "root\n",
      " |-- hospital_affiliations: array (nullable = true)\n",
      " |    |-- element: string (containsNull = true)\n",
      "\n"
     ]
    }
   ],
   "source": [
    "df.select('hospital_affiliations').printSchema() #verifying"
   ]
  },
  {
   "cell_type": "code",
   "execution_count": 13,
   "id": "920a18cd-8c9b-424c-a20e-aad2c65a0393",
   "metadata": {},
   "outputs": [
    {
     "data": {
      "text/plain": [
       "[StructField(provider,StructType(List(StructField(accepting_new_patients,BooleanType,true),StructField(facility_name,StringType,true),StructField(facility_type,StringType,true),StructField(first_name,StringType,true),StructField(gender,StringType,true),StructField(last_name,StringType,true),StructField(license_number,StringType,true),StructField(middle_name,StringType,true),StructField(npi,StringType,true),StructField(pcp,BooleanType,true),StructField(pcp_id,StringType,true),StructField(provider_type,StringType,true),StructField(rating,StructType(List(StructField(scale,StringType,true),StructField(score,StringType,true))),true),StructField(site_uid,StringType,true),StructField(suffix,StringType,true),StructField(title,StringType,true),StructField(unparsed_name,StringType,true))),true)]"
      ]
     },
     "execution_count": 13,
     "metadata": {},
     "output_type": "execute_result"
    }
   ],
   "source": [
    "df.select('provider').schema.fields"
   ]
  },
  {
   "cell_type": "markdown",
   "id": "43622799-ee9e-47fc-b7ea-f05a63d62dd0",
   "metadata": {},
   "source": [
    "### <hr /> Printing 'addresses' and 'provider' nodes schema from main schema"
   ]
  },
  {
   "cell_type": "code",
   "execution_count": 14,
   "id": "8ac7cfa1-ab7e-4a65-9a63-038eab44009f",
   "metadata": {},
   "outputs": [
    {
     "name": "stdout",
     "output_type": "stream",
     "text": [
      "root\n",
      " |-- addresses: array (nullable = true)\n",
      " |    |-- element: struct (containsNull = true)\n",
      " |    |    |-- address_string: string (nullable = true)\n",
      " |    |    |-- city: string (nullable = true)\n",
      " |    |    |-- languages: array (nullable = true)\n",
      " |    |    |    |-- element: struct (containsNull = true)\n",
      " |    |    |    |    |-- name: string (nullable = true)\n",
      " |    |    |    |    |-- type: string (nullable = true)\n",
      " |    |    |-- office_name: string (nullable = true)\n",
      " |    |    |-- phones: array (nullable = true)\n",
      " |    |    |    |-- element: struct (containsNull = true)\n",
      " |    |    |    |    |-- type: string (nullable = true)\n",
      " |    |    |    |    |-- value: string (nullable = true)\n",
      " |    |    |-- state: string (nullable = true)\n",
      " |    |    |-- street_line_1: string (nullable = true)\n",
      " |    |    |-- street_line_2: string (nullable = true)\n",
      " |    |    |-- zip: string (nullable = true)\n",
      "\n"
     ]
    }
   ],
   "source": [
    "df.select('addresses').printSchema()  # select(): to select single or multiple columns"
   ]
  },
  {
   "cell_type": "code",
   "execution_count": 15,
   "id": "fe0c721b-cd5c-4f46-9948-33645a80c99c",
   "metadata": {},
   "outputs": [
    {
     "name": "stdout",
     "output_type": "stream",
     "text": [
      "root\n",
      " |-- npi: string (nullable = true)\n",
      "\n"
     ]
    }
   ],
   "source": [
    "df.select('provider.npi').printSchema()"
   ]
  },
  {
   "cell_type": "markdown",
   "id": "e70b3802-e79d-4c47-a12f-51dbac99bcfb",
   "metadata": {},
   "source": [
    "### Records from DataFrame (show, select)"
   ]
  },
  {
   "cell_type": "code",
   "execution_count": 16,
   "id": "4d9a0f21-6737-438c-8c11-537aa4eec5b7",
   "metadata": {},
   "outputs": [
    {
     "name": "stdout",
     "output_type": "stream",
     "text": [
      "+--------------------+--------------------+---------------------+--------------------+--------------------+--------------------+\n",
      "|           addresses|  group_affiliations|hospital_affiliations|            networks|            provider|         specialties|\n",
      "+--------------------+--------------------+---------------------+--------------------+--------------------+--------------------+\n",
      "|[{3033 S Arizona ...|[{Buena Vista Rec...|                   []|[{Mercy Care Comp...|{null, null, null...|[{Addiction Medic...|\n",
      "|[{675 S Avenue B,...|                  []|                   []|[{Mercy Care Comp...|{null, null, null...|[{Addiction Medic...|\n",
      "|[{811 N Tegner St...|                  []|                   []|[{Mercy Care Comp...|{null, null, null...| [{Family Practice}]|\n",
      "|[{6879 N Oracle R...|[{Wellbeing Insti...|                   []|[{Mercy Care Comp...|{null, null, null...|[{Addiction Medic...|\n",
      "|[{4475 S I19 Fron...|[{Continental Fam...|                   []|[{Mercy Care Comp...|{null, null, null...| [{Family Practice}]|\n",
      "|[{275 N Grande Co...|[{Pinal Hispanic ...|                   []|[{Mercy Care Comp...|{null, null, null...|[{Lic Indep Subst...|\n",
      "|[{1134 W US Hwy 6...|[{Cobre Valley Co...|                   []|[{Mercy Care Comp...|{null, null, null...| [{Family Practice}]|\n",
      "|[{8 E COTTONWOOD ...|[{Spectrum Health...|                   []|[{Mercy Care Comp...|{null, null, null...|[{Lic Indep Subst...|\n",
      "|[{51 Brian Mickel...|[{Yavapai County ...|                   []|[{Mercy Care Comp...|{null, null, null...| [{Family Practice}]|\n",
      "|[{2580 Hwy 95 Ste...|                  []|                   []|[{Mercy Care Comp...|{null, null, null...|[{Lic Indep Subst...|\n",
      "|[{3636 Stockton H...|[{Aims Outpatient...|                   []|[{Mercy Care Comp...|{null, Aims Outpa...|[{Ambulatory Surg...|\n",
      "|[{20 S Colvin St,...|[{Creek Valley He...|                   []|[{Mercy Care Comp...|{null, null, null...| [{Family Practice}]|\n",
      "|[{2445 E Wilcox D...|[{Cochise Eye And...|                   []|[{Mercy Care Comp...|{null, Cochise Ey...|[{Ambulatory Surg...|\n",
      "|[{335 S Ocotillo ...|[{Benson Family H...|                   []|[{Mercy Care Comp...|{null, null, null...|[{Lic Indep Subst...|\n",
      "|[{1030 N San Fran...|[{American Vision...|                   []|[{Mercy Care Comp...|{null, American V...|[{Ambulatory Surg...|\n",
      "|[{6152 Hardscrabb...|                  []|                   []|[{Mercy Care Comp...|{null, Banner Pri...|[{Clinic}, {Multi...|\n",
      "|[{467 Vista Ave, ...|[{Canyonlands Com...|                   []|[{Mercy Care Comp...|{null, null, null...|[{Family Practice...|\n",
      "|[{1610 S White Mo...|[{American Vision...|                   []|[{Mercy Care Comp...|{null, American V...|[{Ambulatory Surg...|\n",
      "|[{620 Lee St, Win...|[{North Country H...|                   []|[{Mercy Care Comp...|{null, null, null...| [{Family Practice}]|\n",
      "|[{Us Highway 191,...| [{Chinle Dialysis}]|                   []|[{Mercy Care Comp...|{null, Chinle Dia...|        [{Dialysis}]|\n",
      "+--------------------+--------------------+---------------------+--------------------+--------------------+--------------------+\n",
      "only showing top 20 rows\n",
      "\n"
     ]
    }
   ],
   "source": [
    "df.show() "
   ]
  },
  {
   "cell_type": "code",
   "execution_count": 17,
   "id": "20e4d168-d4c1-4b98-8b00-6fba6b847bd3",
   "metadata": {},
   "outputs": [
    {
     "name": "stdout",
     "output_type": "stream",
     "text": [
      "+--------------------+--------------------+---------------------+--------------------+--------------------+--------------------+\n",
      "|           addresses|  group_affiliations|hospital_affiliations|            networks|            provider|         specialties|\n",
      "+--------------------+--------------------+---------------------+--------------------+--------------------+--------------------+\n",
      "|[{3033 S Arizona ...|[{Buena Vista Rec...|                   []|[{Mercy Care Comp...|{null, null, null...|[{Addiction Medic...|\n",
      "|[{675 S Avenue B,...|                  []|                   []|[{Mercy Care Comp...|{null, null, null...|[{Addiction Medic...|\n",
      "|[{811 N Tegner St...|                  []|                   []|[{Mercy Care Comp...|{null, null, null...| [{Family Practice}]|\n",
      "|[{6879 N Oracle R...|[{Wellbeing Insti...|                   []|[{Mercy Care Comp...|{null, null, null...|[{Addiction Medic...|\n",
      "|[{4475 S I19 Fron...|[{Continental Fam...|                   []|[{Mercy Care Comp...|{null, null, null...| [{Family Practice}]|\n",
      "|[{275 N Grande Co...|[{Pinal Hispanic ...|                   []|[{Mercy Care Comp...|{null, null, null...|[{Lic Indep Subst...|\n",
      "|[{1134 W US Hwy 6...|[{Cobre Valley Co...|                   []|[{Mercy Care Comp...|{null, null, null...| [{Family Practice}]|\n",
      "|[{8 E COTTONWOOD ...|[{Spectrum Health...|                   []|[{Mercy Care Comp...|{null, null, null...|[{Lic Indep Subst...|\n",
      "|[{51 Brian Mickel...|[{Yavapai County ...|                   []|[{Mercy Care Comp...|{null, null, null...| [{Family Practice}]|\n",
      "|[{2580 Hwy 95 Ste...|                  []|                   []|[{Mercy Care Comp...|{null, null, null...|[{Lic Indep Subst...|\n",
      "+--------------------+--------------------+---------------------+--------------------+--------------------+--------------------+\n",
      "only showing top 10 rows\n",
      "\n"
     ]
    }
   ],
   "source": [
    "df.show(10)"
   ]
  },
  {
   "cell_type": "code",
   "execution_count": 18,
   "id": "16f5bf9a-c50f-45a8-8cbe-3f78d9b90ec1",
   "metadata": {},
   "outputs": [
    {
     "name": "stdout",
     "output_type": "stream",
     "text": [
      "+------------------------------+---------------------------------------------------------+\n",
      "|networks                      |specialties                                              |\n",
      "+------------------------------+---------------------------------------------------------+\n",
      "|[{Mercy Care Complete Care, }]|[{Addiction Medicine}, {Internal Medicine}]              |\n",
      "|[{Mercy Care Complete Care, }]|[{Addiction Medicine}, {Family Practice}]                |\n",
      "|[{Mercy Care Complete Care, }]|[{Family Practice}]                                      |\n",
      "|[{Mercy Care Complete Care, }]|[{Addiction Medicine}, {Surgery-Hand}, {Surgery-Plastic}]|\n",
      "|[{Mercy Care Complete Care, }]|[{Family Practice}]                                      |\n",
      "+------------------------------+---------------------------------------------------------+\n",
      "only showing top 5 rows\n",
      "\n"
     ]
    }
   ],
   "source": [
    "df.select('networks','specialties').show(5,truncate=False) #show(truncate=False)"
   ]
  },
  {
   "cell_type": "markdown",
   "id": "4b530f0d-7f72-4af1-918f-5f4c67df2d56",
   "metadata": {},
   "source": [
    "### <hr />Count: 'provider->provider_type', toPandas()"
   ]
  },
  {
   "cell_type": "code",
   "execution_count": 22,
   "id": "ef2782a9-78fd-47ed-bd18-4a1101904719",
   "metadata": {},
   "outputs": [],
   "source": [
    "providerType = df.groupby(\"provider.provider_type\").count().orderBy(col('count').desc())  #Counts various 'provider_type' values from 'provider'"
   ]
  },
  {
   "cell_type": "code",
   "execution_count": 23,
   "id": "3cb3b338-9b17-410a-993f-5b7ccad2dd2a",
   "metadata": {},
   "outputs": [
    {
     "name": "stderr",
     "output_type": "stream",
     "text": [
      "[Stage 28:>                                                         (0 + 8) / 8]\r"
     ]
    },
    {
     "name": "stdout",
     "output_type": "stream",
     "text": [
      "+-------------+-----+\n",
      "|provider_type|count|\n",
      "+-------------+-----+\n",
      "|   individual|76525|\n",
      "|     facility|36904|\n",
      "+-------------+-----+\n",
      "\n"
     ]
    },
    {
     "name": "stderr",
     "output_type": "stream",
     "text": [
      "                                                                                \r"
     ]
    }
   ],
   "source": [
    "providerType.show() # show(): displays records of DataFrame"
   ]
  },
  {
   "cell_type": "code",
   "execution_count": 24,
   "id": "84027dfa-e4bb-4eac-a21e-faf0ca2e91d2",
   "metadata": {},
   "outputs": [
    {
     "name": "stdout",
     "output_type": "stream",
     "text": [
      "+-------+----------------+\n",
      "|summary|           count|\n",
      "+-------+----------------+\n",
      "|  count|               2|\n",
      "|   mean|         56714.5|\n",
      "| stddev|28016.2777773922|\n",
      "|    min|           36904|\n",
      "|    max|           76525|\n",
      "+-------+----------------+\n",
      "\n"
     ]
    }
   ],
   "source": [
    "providerType.select('count').describe().show()"
   ]
  },
  {
   "cell_type": "code",
   "execution_count": 25,
   "id": "f7e8a118-85fe-46f9-b7f5-c53dfd33304c",
   "metadata": {},
   "outputs": [
    {
     "data": {
      "text/html": [
       "<div>\n",
       "<style scoped>\n",
       "    .dataframe tbody tr th:only-of-type {\n",
       "        vertical-align: middle;\n",
       "    }\n",
       "\n",
       "    .dataframe tbody tr th {\n",
       "        vertical-align: top;\n",
       "    }\n",
       "\n",
       "    .dataframe thead th {\n",
       "        text-align: right;\n",
       "    }\n",
       "</style>\n",
       "<table border=\"1\" class=\"dataframe\">\n",
       "  <thead>\n",
       "    <tr style=\"text-align: right;\">\n",
       "      <th></th>\n",
       "      <th>provider_type</th>\n",
       "      <th>count</th>\n",
       "    </tr>\n",
       "  </thead>\n",
       "  <tbody>\n",
       "    <tr>\n",
       "      <th>0</th>\n",
       "      <td>individual</td>\n",
       "      <td>76525</td>\n",
       "    </tr>\n",
       "    <tr>\n",
       "      <th>1</th>\n",
       "      <td>facility</td>\n",
       "      <td>36904</td>\n",
       "    </tr>\n",
       "  </tbody>\n",
       "</table>\n",
       "</div>"
      ],
      "text/plain": [
       "  provider_type  count\n",
       "0    individual  76525\n",
       "1      facility  36904"
      ]
     },
     "execution_count": 25,
     "metadata": {},
     "output_type": "execute_result"
    }
   ],
   "source": [
    "providerType.toPandas() #back to a pandas DataFrame to leverage pandas API "
   ]
  },
  {
   "cell_type": "code",
   "execution_count": 26,
   "id": "f124704e-4b50-4bf1-b9d9-12924b51307b",
   "metadata": {},
   "outputs": [
    {
     "data": {
      "text/plain": [
       "<AxesSubplot:xlabel='provider_type'>"
      ]
     },
     "execution_count": 26,
     "metadata": {},
     "output_type": "execute_result"
    },
    {
     "data": {
      "image/png": "[encoded data removed]",
      "text/plain": [
       "<Figure size 576x432 with 1 Axes>"
      ]
     },
     "metadata": {
      "needs_background": "light"
     },
     "output_type": "display_data"
    }
   ],
   "source": [
    "providerType.toPandas().set_index('provider_type').plot(kind='bar',figsize=(8,6))"
   ]
  },
  {
   "cell_type": "code",
   "execution_count": 27,
   "id": "eeeabb34-b847-481d-a50d-67488f5b1ce9",
   "metadata": {},
   "outputs": [
    {
     "name": "stdout",
     "output_type": "stream",
     "text": [
      "-RECORD 0-------------------\n",
      " provider_type | individual \n",
      " count         | 76525      \n",
      "-RECORD 1-------------------\n",
      " provider_type | facility   \n",
      " count         | 36904      \n",
      "\n"
     ]
    }
   ],
   "source": [
    "providerType.show(vertical=True)"
   ]
  },
  {
   "cell_type": "markdown",
   "id": "92ab7dc6-a281-4c4b-b604-ed2de392d54f",
   "metadata": {},
   "source": [
    "### <b>filter, where</b>: applying conditions"
   ]
  },
  {
   "cell_type": "code",
   "execution_count": 28,
   "id": "f71d1001-1e19-46f5-8b3e-08b3ff01693f",
   "metadata": {},
   "outputs": [],
   "source": [
    "individualDF=providerType.filter(providerType.provider_type==\"individual\").select('count') #new DataFrame with column 'count'"
   ]
  },
  {
   "cell_type": "code",
   "execution_count": 29,
   "id": "549eb809-7ae2-4382-981a-17c3bf1edf66",
   "metadata": {},
   "outputs": [
    {
     "name": "stdout",
     "output_type": "stream",
     "text": [
      "+-----+\n",
      "|count|\n",
      "+-----+\n",
      "|76525|\n",
      "+-----+\n",
      "\n"
     ]
    }
   ],
   "source": [
    "individualDF.show()"
   ]
  },
  {
   "cell_type": "code",
   "execution_count": 30,
   "id": "cee385bc-9861-4900-b9da-a9ce4963daf8",
   "metadata": {},
   "outputs": [
    {
     "data": {
      "text/plain": [
       "StructType(List(StructField(count,LongType,false)))"
      ]
     },
     "execution_count": 30,
     "metadata": {},
     "output_type": "execute_result"
    }
   ],
   "source": [
    "individualDF.schema # schema"
   ]
  },
  {
   "cell_type": "code",
   "execution_count": 31,
   "id": "b292151d-2f9c-4803-a859-820d8cb684bf",
   "metadata": {},
   "outputs": [
    {
     "data": {
      "text/plain": [
       "231"
      ]
     },
     "execution_count": 31,
     "metadata": {},
     "output_type": "execute_result"
    }
   ],
   "source": [
    "df.filter(df.provider.last_name == \"Williams\").count() "
   ]
  },
  {
   "cell_type": "code",
   "execution_count": 32,
   "id": "243c171b-b74b-4bbf-927a-7d8d59f89e62",
   "metadata": {},
   "outputs": [
    {
     "data": {
      "text/plain": [
       "265"
      ]
     },
     "execution_count": 32,
     "metadata": {},
     "output_type": "execute_result"
    }
   ],
   "source": [
    "df.filter(df.provider.last_name.like(\"%Williams%\")).count() # like"
   ]
  },
  {
   "cell_type": "code",
   "execution_count": 33,
   "id": "32eae79c-a1c0-4fca-a512-0c8da0b655c5",
   "metadata": {},
   "outputs": [
    {
     "data": {
      "text/plain": [
       "236"
      ]
     },
     "execution_count": 33,
     "metadata": {},
     "output_type": "execute_result"
    }
   ],
   "source": [
    "df.filter(df.provider.last_name.rlike(\"Williams$\")).count() #rlike : regex"
   ]
  },
  {
   "cell_type": "code",
   "execution_count": 37,
   "id": "344ca0ee-704c-4292-b5cd-8ff81f99bce3",
   "metadata": {},
   "outputs": [
    {
     "name": "stdout",
     "output_type": "stream",
     "text": [
      "+----------+-----------------+----------------------------------------------------------------------+\n",
      "|npi       |unparsed_name    |specialties                                                           |\n",
      "+----------+-----------------+----------------------------------------------------------------------+\n",
      "|1487033452|Benjamin Williams|[{Family Practice}]                                                   |\n",
      "|1487033452|Benjamin Williams|[{Family Practice}]                                                   |\n",
      "|1487033452|Benjamin Williams|[{Family Practice}]                                                   |\n",
      "|1487033452|Benjamin Williams|[{Family Medicine}, {Family Practice}]                                |\n",
      "|1487033452|Benjamin Williams|[{Family Medicine}, {Family Practice}]                                |\n",
      "|1073578159|Brian Williams   |[{Family Practice}]                                                   |\n",
      "|1073578159|Brian Williams   |[{Family Practice}]                                                   |\n",
      "|1073578159|Brian Williams   |[{Family Practice}]                                                   |\n",
      "|1073578159|Brian Williams   |[{Family Medicine}, {Family Practice}]                                |\n",
      "|1073578159|Brian Williams   |[{Family Medicine}, {Family Practice}]                                |\n",
      "|1043699622|Barbara Williams |[{Primary Care - Nurse Practitioners}, {Rn Family Nurse Practitioner}]|\n",
      "|1043699622|Barbara Williams |[{Rn Family Nurse Practitioner}]                                      |\n",
      "+----------+-----------------+----------------------------------------------------------------------+\n",
      "\n"
     ]
    }
   ],
   "source": [
    "df.filter(df.provider.unparsed_name.rlike(\"^B.*Williams$\")).select(['provider.npi','provider.unparsed_name','specialties']).show(truncate=False)"
   ]
  },
  {
   "cell_type": "code",
   "execution_count": 38,
   "id": "bfa63b88-9285-4700-84c5-97ea71957930",
   "metadata": {},
   "outputs": [
    {
     "name": "stdout",
     "output_type": "stream",
     "text": [
      "+----------------------+-------------+-------------+----------+------+---------+--------------+-----------+----------+----+------+-------------+------------+--------------+------+-----+-----------------+\n",
      "|accepting_new_patients|facility_name|facility_type|first_name|gender|last_name|license_number|middle_name|npi       |pcp |pcp_id|provider_type|rating      |site_uid      |suffix|title|unparsed_name    |\n",
      "+----------------------+-------------+-------------+----------+------+---------+--------------+-----------+----------+----+------+-------------+------------+--------------+------+-----+-----------------+\n",
      "|null                  |null         |null         |Benjamin  |M     |Williams |007706        |           |1487033452|null|null  |individual   |{null, null}|cbf42943bd243d|DO    |null |Benjamin Williams|\n",
      "|null                  |null         |null         |Benjamin  |M     |Williams |007706        |           |1487033452|null|null  |individual   |{null, null}|1197de039bceef|DO    |null |Benjamin Williams|\n",
      "|null                  |null         |null         |Benjamin  |M     |Williams |007706        |           |1487033452|null|null  |individual   |{null, null}|73362b403640eb|DO    |null |Benjamin Williams|\n",
      "|null                  |null         |null         |Benjamin  |M     |Williams |007706        |           |1487033452|null|null  |individual   |{null, null}|a3d36e7701f566|DO    |null |Benjamin Williams|\n",
      "|null                  |null         |null         |Benjamin  |M     |Williams |007706        |           |1487033452|null|null  |individual   |{null, null}|bbd7a1dbbd475b|DO    |null |Benjamin Williams|\n",
      "+----------------------+-------------+-------------+----------+------+---------+--------------+-----------+----------+----+------+-------------+------------+--------------+------+-----+-----------------+\n",
      "\n"
     ]
    }
   ],
   "source": [
    "df.where(df.provider.npi == 1487033452).select(['provider.*']).show(truncate=False)"
   ]
  },
  {
   "cell_type": "markdown",
   "id": "6b7690b5-ab10-47e0-b074-2517d02df2ec",
   "metadata": {},
   "source": [
    "### <hr />Analysing 'Networks'"
   ]
  },
  {
   "cell_type": "code",
   "execution_count": 39,
   "id": "8b711ad2-442e-4ca7-ad19-365075ce3c1a",
   "metadata": {},
   "outputs": [
    {
     "name": "stdout",
     "output_type": "stream",
     "text": [
      "root\n",
      " |-- networks: array (nullable = true)\n",
      " |    |-- element: struct (containsNull = true)\n",
      " |    |    |-- name: string (nullable = true)\n",
      " |    |    |-- tier: string (nullable = true)\n",
      "\n"
     ]
    }
   ],
   "source": [
    "df.select('networks').printSchema()  # Schema - array field"
   ]
  },
  {
   "cell_type": "code",
   "execution_count": 40,
   "id": "d82a8ad2-d4b8-470a-a4a6-f0aaea048d12",
   "metadata": {},
   "outputs": [
    {
     "name": "stdout",
     "output_type": "stream",
     "text": [
      "+------------------------------+\n",
      "|networks                      |\n",
      "+------------------------------+\n",
      "|[{Mercy Care Complete Care, }]|\n",
      "|[{Mercy Care Complete Care, }]|\n",
      "|[{Mercy Care Complete Care, }]|\n",
      "|[{Mercy Care Complete Care, }]|\n",
      "|[{Mercy Care Complete Care, }]|\n",
      "+------------------------------+\n",
      "only showing top 5 rows\n",
      "\n"
     ]
    }
   ],
   "source": [
    "df.select('networks').show(5,truncate=False)  #preview"
   ]
  },
  {
   "cell_type": "code",
   "execution_count": 41,
   "id": "9d1a6dc5-7632-43da-a88d-8852806279bf",
   "metadata": {},
   "outputs": [],
   "source": [
    "networkDF = df.select(explode(df.networks)) # explode(): nested array into rows"
   ]
  },
  {
   "cell_type": "code",
   "execution_count": 42,
   "id": "fc3c1b42-7522-4731-a62c-2d465742992b",
   "metadata": {},
   "outputs": [
    {
     "name": "stdout",
     "output_type": "stream",
     "text": [
      "root\n",
      " |-- col: struct (nullable = true)\n",
      " |    |-- name: string (nullable = true)\n",
      " |    |-- tier: string (nullable = true)\n",
      "\n"
     ]
    }
   ],
   "source": [
    "networkDF.printSchema()"
   ]
  },
  {
   "cell_type": "code",
   "execution_count": 43,
   "id": "65d07ea5-8ed4-4169-b09e-6dc251ac3d78",
   "metadata": {},
   "outputs": [
    {
     "name": "stdout",
     "output_type": "stream",
     "text": [
      "root\n",
      " |-- name: string (nullable = true)\n",
      " |-- tier: string (nullable = true)\n",
      "\n"
     ]
    }
   ],
   "source": [
    "networks = networkDF.select('col.name','col.tier')\n",
    "networks.printSchema()"
   ]
  },
  {
   "cell_type": "code",
   "execution_count": 44,
   "id": "e8494573-79eb-4661-a1b4-b273a4dcc6ef",
   "metadata": {},
   "outputs": [
    {
     "name": "stdout",
     "output_type": "stream",
     "text": [
      "+-----------------------------------+-----+\n",
      "|name                               |count|\n",
      "+-----------------------------------+-----+\n",
      "|Mercy Care Advantage               |20457|\n",
      "|Mercy Care Long Term Care          |19895|\n",
      "|Mercy Care Complete Care           |19798|\n",
      "|Mercy Care Developmentally Disabled|19608|\n",
      "|Mercy Care DCS CHP                 |14808|\n",
      "|Mercy Care RBHA                    |12002|\n",
      "|Behavioral Health Only             |6861 |\n",
      "+-----------------------------------+-----+\n",
      "\n"
     ]
    }
   ],
   "source": [
    "networkCount = networks.groupBy(\"name\").count().orderBy(col('count').desc())\n",
    "networkCount.show(10,truncate=False)"
   ]
  },
  {
   "cell_type": "markdown",
   "id": "a66b32f9-eef0-45c2-b6b2-646761b32f9c",
   "metadata": {},
   "source": [
    "### Temp View for SQL"
   ]
  },
  {
   "cell_type": "code",
   "execution_count": 45,
   "id": "eda48f59-7d1a-4b23-8209-72f16573f7db",
   "metadata": {},
   "outputs": [],
   "source": [
    "networkCount.createOrReplaceTempView(\"NET\")   #spark.catalog.dropTempView(\"NET\")"
   ]
  },
  {
   "cell_type": "code",
   "execution_count": 46,
   "id": "d0adfa5d-73e8-42ed-883f-630f224c1e43",
   "metadata": {},
   "outputs": [
    {
     "name": "stdout",
     "output_type": "stream",
     "text": [
      "+-----------------------------------+\n",
      "|name                               |\n",
      "+-----------------------------------+\n",
      "|Mercy Care Advantage               |\n",
      "|Mercy Care Long Term Care          |\n",
      "|Mercy Care Complete Care           |\n",
      "|Mercy Care Developmentally Disabled|\n",
      "+-----------------------------------+\n",
      "\n"
     ]
    }
   ],
   "source": [
    "spark.sql(\"select name from NET where count > 15000 order by count desc\").show(truncate=False)"
   ]
  },
  {
   "cell_type": "markdown",
   "id": "c6b93fdc-b19e-4246-96eb-d39dee18187c",
   "metadata": {},
   "source": [
    "#### using Pandas: network values"
   ]
  },
  {
   "cell_type": "code",
   "execution_count": 47,
   "id": "2773b5a0-5371-402c-a752-cc93310e9e67",
   "metadata": {},
   "outputs": [
    {
     "data": {
      "text/html": [
       "<div>\n",
       "<style scoped>\n",
       "    .dataframe tbody tr th:only-of-type {\n",
       "        vertical-align: middle;\n",
       "    }\n",
       "\n",
       "    .dataframe tbody tr th {\n",
       "        vertical-align: top;\n",
       "    }\n",
       "\n",
       "    .dataframe thead th {\n",
       "        text-align: right;\n",
       "    }\n",
       "</style>\n",
       "<table border=\"1\" class=\"dataframe\">\n",
       "  <thead>\n",
       "    <tr style=\"text-align: right;\">\n",
       "      <th></th>\n",
       "      <th>count</th>\n",
       "    </tr>\n",
       "  </thead>\n",
       "  <tbody>\n",
       "    <tr>\n",
       "      <th>count</th>\n",
       "      <td>7.000000</td>\n",
       "    </tr>\n",
       "    <tr>\n",
       "      <th>mean</th>\n",
       "      <td>16204.142857</td>\n",
       "    </tr>\n",
       "    <tr>\n",
       "      <th>std</th>\n",
       "      <td>5213.968592</td>\n",
       "    </tr>\n",
       "    <tr>\n",
       "      <th>min</th>\n",
       "      <td>6861.000000</td>\n",
       "    </tr>\n",
       "    <tr>\n",
       "      <th>25%</th>\n",
       "      <td>13405.000000</td>\n",
       "    </tr>\n",
       "    <tr>\n",
       "      <th>50%</th>\n",
       "      <td>19608.000000</td>\n",
       "    </tr>\n",
       "    <tr>\n",
       "      <th>75%</th>\n",
       "      <td>19846.500000</td>\n",
       "    </tr>\n",
       "    <tr>\n",
       "      <th>max</th>\n",
       "      <td>20457.000000</td>\n",
       "    </tr>\n",
       "  </tbody>\n",
       "</table>\n",
       "</div>"
      ],
      "text/plain": [
       "              count\n",
       "count      7.000000\n",
       "mean   16204.142857\n",
       "std     5213.968592\n",
       "min     6861.000000\n",
       "25%    13405.000000\n",
       "50%    19608.000000\n",
       "75%    19846.500000\n",
       "max    20457.000000"
      ]
     },
     "execution_count": 47,
     "metadata": {},
     "output_type": "execute_result"
    }
   ],
   "source": [
    "networkCount.toPandas().describe()"
   ]
  },
  {
   "cell_type": "code",
   "execution_count": 48,
   "id": "565b4b64-c533-4594-8a2a-cb5c98a1f5bf",
   "metadata": {},
   "outputs": [
    {
     "data": {
      "text/plain": [
       "<AxesSubplot:xlabel='name'>"
      ]
     },
     "execution_count": 48,
     "metadata": {},
     "output_type": "execute_result"
    },
    {
     "data": {
      "image/png": "[encoded data removed]",
      "text/plain": [
       "<Figure size 576x432 with 1 Axes>"
      ]
     },
     "metadata": {
      "needs_background": "light"
     },
     "output_type": "display_data"
    }
   ],
   "source": [
    "networkCount.toPandas().set_index('name').plot(kind='bar',figsize=(8,6))"
   ]
  },
  {
   "cell_type": "markdown",
   "id": "72bca5b9-ae39-4296-a8ea-236ec6c95931",
   "metadata": {},
   "source": [
    "### <hr /> Exploring ... Specialties"
   ]
  },
  {
   "cell_type": "code",
   "execution_count": 49,
   "id": "367433cb-df40-4825-82ee-f4bef5692acc",
   "metadata": {},
   "outputs": [
    {
     "name": "stdout",
     "output_type": "stream",
     "text": [
      "Total Specialties: {} 337 , Distinct: {} 337\n"
     ]
    }
   ],
   "source": [
    "specs = df.select(explode(df.specialties)).select('col.name').groupBy(col(\"name\")).count().orderBy(col('count').desc())\n",
    "print('Total Specialties: {}',specs.count(),', Distinct: {}',specs.distinct().count())"
   ]
  },
  {
   "cell_type": "code",
   "execution_count": 50,
   "id": "e2e01d14-f619-4ade-bf48-09b8ac8ea511",
   "metadata": {},
   "outputs": [
    {
     "data": {
      "text/plain": [
       "[Row(name='Dentist - Pediatric Dentist', count=4),\n",
       " Row(name='Physician Assistant - Psychiatry', count=4),\n",
       " Row(name='Surgical Services (Outpatient or ASC)', count=3),\n",
       " Row(name='Licensed Professional Counselor (LPC)', count=3),\n",
       " Row(name='Dental Hygienist', count=3),\n",
       " Row(name='Roentgenology (Diagnostic)', count=3),\n",
       " Row(name='Homeopathic', count=2),\n",
       " Row(name='Resid Trtm Ctr-Non-Secure (17Plusbeds)(Imd)', count=2),\n",
       " Row(name='Community or Rural Health Center', count=1),\n",
       " Row(name='THERAPIST-PHYSICAL', count=1),\n",
       " Row(name='Mhs Social Worker', count=1),\n",
       " Row(name='RN Midwife', count=1),\n",
       " Row(name='Dentist - Periodontist', count=1),\n",
       " Row(name='Dentist - Prosthodontist', count=1),\n",
       " Row(name='RN Adult Nurse Practitioner', count=1),\n",
       " Row(name='Dentist - Orthodontist', count=1),\n",
       " Row(name='RN Pediatric Nurse Practitioner', count=1),\n",
       " Row(name='Assisted Living Home (Formerly ACH)', count=1),\n",
       " Row(name='Pediatric - Neonatal/Perinatal Medicine', count=1),\n",
       " Row(name='BH Outpatient Clinic', count=1)]"
      ]
     },
     "execution_count": 50,
     "metadata": {},
     "output_type": "execute_result"
    }
   ],
   "source": [
    "specs.tail(20)"
   ]
  },
  {
   "cell_type": "markdown",
   "id": "bcb011df-d5e8-418b-8c1b-fa0477a1bb63",
   "metadata": {},
   "source": [
    "### Group Affiliations"
   ]
  },
  {
   "cell_type": "code",
   "execution_count": 51,
   "id": "3fedacb5-9330-4939-bac5-89541a206657",
   "metadata": {},
   "outputs": [
    {
     "name": "stdout",
     "output_type": "stream",
     "text": [
      "Total: {} 4730 , Distinct: {} 4730\n"
     ]
    }
   ],
   "source": [
    "groups = df.select(explode(df.group_affiliations)).select('col.name').groupBy(col(\"name\")).count().orderBy(col('count').desc())\n",
    "print('Total: {}',groups.count(),', Distinct: {}',groups.distinct().count())"
   ]
  },
  {
   "cell_type": "markdown",
   "id": "141a33c9-4886-455e-b7ba-993585bd989a",
   "metadata": {},
   "source": [
    "### <hr />TESTING"
   ]
  },
  {
   "cell_type": "code",
   "execution_count": 52,
   "id": "3fff6482-9d6a-4d1b-b9ee-33cf26573525",
   "metadata": {},
   "outputs": [
    {
     "name": "stdout",
     "output_type": "stream",
     "text": [
      "root\n",
      " |-- addresses: array (nullable = true)\n",
      " |    |-- element: struct (containsNull = true)\n",
      " |    |    |-- address_string: string (nullable = true)\n",
      " |    |    |-- city: string (nullable = true)\n",
      " |    |    |-- languages: array (nullable = true)\n",
      " |    |    |    |-- element: struct (containsNull = true)\n",
      " |    |    |    |    |-- name: string (nullable = true)\n",
      " |    |    |    |    |-- type: string (nullable = true)\n",
      " |    |    |-- office_name: string (nullable = true)\n",
      " |    |    |-- phones: array (nullable = true)\n",
      " |    |    |    |-- element: struct (containsNull = true)\n",
      " |    |    |    |    |-- type: string (nullable = true)\n",
      " |    |    |    |    |-- value: string (nullable = true)\n",
      " |    |    |-- state: string (nullable = true)\n",
      " |    |    |-- street_line_1: string (nullable = true)\n",
      " |    |    |-- street_line_2: string (nullable = true)\n",
      " |    |    |-- zip: string (nullable = true)\n",
      " |-- group_affiliations: array (nullable = true)\n",
      " |    |-- element: struct (containsNull = true)\n",
      " |    |    |-- name: string (nullable = true)\n",
      " |-- hospital_affiliations: array (nullable = true)\n",
      " |    |-- element: string (containsNull = true)\n",
      " |-- networks: array (nullable = true)\n",
      " |    |-- element: struct (containsNull = true)\n",
      " |    |    |-- name: string (nullable = true)\n",
      " |    |    |-- tier: string (nullable = true)\n",
      " |-- provider: struct (nullable = true)\n",
      " |    |-- accepting_new_patients: boolean (nullable = true)\n",
      " |    |-- facility_name: string (nullable = true)\n",
      " |    |-- facility_type: string (nullable = true)\n",
      " |    |-- first_name: string (nullable = true)\n",
      " |    |-- gender: string (nullable = true)\n",
      " |    |-- last_name: string (nullable = true)\n",
      " |    |-- license_number: string (nullable = true)\n",
      " |    |-- middle_name: string (nullable = true)\n",
      " |    |-- npi: string (nullable = true)\n",
      " |    |-- pcp: boolean (nullable = true)\n",
      " |    |-- pcp_id: string (nullable = true)\n",
      " |    |-- provider_type: string (nullable = true)\n",
      " |    |-- rating: struct (nullable = true)\n",
      " |    |    |-- scale: string (nullable = true)\n",
      " |    |    |-- score: string (nullable = true)\n",
      " |    |-- site_uid: string (nullable = true)\n",
      " |    |-- suffix: string (nullable = true)\n",
      " |    |-- title: string (nullable = true)\n",
      " |    |-- unparsed_name: string (nullable = true)\n",
      " |-- specialties: array (nullable = true)\n",
      " |    |-- element: struct (containsNull = true)\n",
      " |    |    |-- name: string (nullable = true)\n",
      "\n"
     ]
    }
   ],
   "source": [
    "df.printSchema()"
   ]
  },
  {
   "cell_type": "code",
   "execution_count": 53,
   "id": "225d4017-a00b-4249-b3f2-3699df89362d",
   "metadata": {},
   "outputs": [
    {
     "data": {
      "text/plain": [
       "['accepting_new_patients',\n",
       " 'facility_name',\n",
       " 'facility_type',\n",
       " 'first_name',\n",
       " 'gender',\n",
       " 'last_name',\n",
       " 'license_number',\n",
       " 'middle_name',\n",
       " 'npi',\n",
       " 'pcp',\n",
       " 'pcp_id',\n",
       " 'provider_type',\n",
       " 'rating',\n",
       " 'site_uid',\n",
       " 'suffix',\n",
       " 'title',\n",
       " 'unparsed_name']"
      ]
     },
     "execution_count": 53,
     "metadata": {},
     "output_type": "execute_result"
    }
   ],
   "source": [
    "df.select('provider.*').schema.names"
   ]
  },
  {
   "cell_type": "code",
   "execution_count": 62,
   "id": "11216e28-5e50-40f8-90e1-83db0157b03d",
   "metadata": {},
   "outputs": [
    {
     "name": "stdout",
     "output_type": "stream",
     "text": [
      "+--------+\n",
      "|Null NPI|\n",
      "+--------+\n",
      "|   18614|\n",
      "+--------+\n",
      "\n"
     ]
    }
   ],
   "source": [
    "df.select([count(when(col('provider.npi').isNull(),True)).alias('Null NPI')]).show()"
   ]
  },
  {
   "cell_type": "code",
   "execution_count": 63,
   "id": "6a974f3d-02c4-4142-90f8-4d08e54e93b2",
   "metadata": {},
   "outputs": [
    {
     "data": {
      "text/plain": [
       "pyspark.sql.dataframe.DataFrame"
      ]
     },
     "execution_count": 63,
     "metadata": {},
     "output_type": "execute_result"
    }
   ],
   "source": [
    "type(df.select('provider.*'))"
   ]
  },
  {
   "cell_type": "code",
   "execution_count": 64,
   "id": "9f03909e-da04-4477-8d47-2d7e00b47a7d",
   "metadata": {},
   "outputs": [],
   "source": [
    "providerDF = df.select(['provider.first_name','provider.last_name','provider.middle_name','provider.gender','provider.npi']) #provider.* : all"
   ]
  },
  {
   "cell_type": "code",
   "execution_count": 65,
   "id": "aa691ac2-c82c-46bd-bd4a-0d5bd40a1694",
   "metadata": {},
   "outputs": [
    {
     "name": "stdout",
     "output_type": "stream",
     "text": [
      "+----------+---------+-----------+------+----------+\n",
      "|first_name|last_name|middle_name|gender|       npi|\n",
      "+----------+---------+-----------+------+----------+\n",
      "|     Reyes|   Topete|           |     M|1487611158|\n",
      "|    Robert|    Allen|           |     M|1821049800|\n",
      "+----------+---------+-----------+------+----------+\n",
      "only showing top 2 rows\n",
      "\n"
     ]
    }
   ],
   "source": [
    "providerDF.show(2)"
   ]
  },
  {
   "cell_type": "code",
   "execution_count": 66,
   "id": "1cdae8c5-6fd5-4e02-b84a-d3fbc6a83b08",
   "metadata": {},
   "outputs": [
    {
     "name": "stdout",
     "output_type": "stream",
     "text": [
      "Column<'first_name'>\n",
      "+----------+\n",
      "|first_name|\n",
      "+----------+\n",
      "|     Reyes|\n",
      "|    Robert|\n",
      "|    Robert|\n",
      "+----------+\n",
      "only showing top 3 rows\n",
      "\n",
      "None\n"
     ]
    }
   ],
   "source": [
    "for c in providerDF:\n",
    "    print(c)\n",
    "    print(providerDF.select(c).show(3))\n",
    "    break"
   ]
  },
  {
   "cell_type": "code",
   "execution_count": 67,
   "id": "a9a4f5a3-c431-4867-9666-4251b02ea524",
   "metadata": {},
   "outputs": [
    {
     "name": "stdout",
     "output_type": "stream",
     "text": [
      "+----------------+\n",
      "|Empty MiddleName|\n",
      "+----------------+\n",
      "|           36904|\n",
      "+----------------+\n",
      "\n"
     ]
    }
   ],
   "source": [
    "df.select([count(when(col('provider.middle_name').isNull(),True)).alias('Empty MiddleName')]).show()"
   ]
  },
  {
   "cell_type": "code",
   "execution_count": 68,
   "id": "62daaf9e-0f4d-4bca-a144-d780906de732",
   "metadata": {},
   "outputs": [
    {
     "name": "stdout",
     "output_type": "stream",
     "text": [
      "+-----------------+----------------+------------------+-------------+----------+\n",
      "|count(first_name)|count(last_name)|count(middle_name)|count(gender)|count(npi)|\n",
      "+-----------------+----------------+------------------+-------------+----------+\n",
      "|            76525|           76525|             76525|        76511|     94815|\n",
      "+-----------------+----------------+------------------+-------------+----------+\n",
      "\n"
     ]
    }
   ],
   "source": [
    "providerDF.select([count(clm) for clm in providerDF]).show()"
   ]
  },
  {
   "cell_type": "code",
   "execution_count": 69,
   "id": "9c174a7a-0df1-4712-930d-34d33acef429",
   "metadata": {},
   "outputs": [
    {
     "name": "stdout",
     "output_type": "stream",
     "text": [
      "+---------------+--------------+----------------+------------+\n",
      "|Empty FirstName|Empty LastName|Empty MiddleName|Empty Gender|\n",
      "+---------------+--------------+----------------+------------+\n",
      "|          36904|         36904|           36904|       36918|\n",
      "+---------------+--------------+----------------+------------+\n",
      "\n"
     ]
    }
   ],
   "source": [
    "providerDF.select([count(when(col('first_name').isNull(),True)).alias('Empty FirstName'),\n",
    "                   count(when(col('last_name').isNull(),True)).alias('Empty LastName'),\n",
    "                   count(when(col('middle_name').isNull(),True)).alias('Empty MiddleName'),\n",
    "                   count(when(col('gender').isNull(),True)).alias('Empty Gender')\n",
    "                  ]).show()"
   ]
  },
  {
   "cell_type": "code",
   "execution_count": 70,
   "id": "a7b29e2c-e7c7-4e96-8ca9-dccc33c3a702",
   "metadata": {},
   "outputs": [
    {
     "name": "stdout",
     "output_type": "stream",
     "text": [
      "+-------------+-----+\n",
      "|provider_type|count|\n",
      "+-------------+-----+\n",
      "|   individual|76525|\n",
      "|     facility|36904|\n",
      "+-------------+-----+\n",
      "\n"
     ]
    }
   ],
   "source": [
    "providerType.show()"
   ]
  },
  {
   "cell_type": "markdown",
   "id": "f043456a-7274-47dd-bf9d-9d0851900fae",
   "metadata": {},
   "source": [
    "### <hr />Cleaning resources"
   ]
  },
  {
   "cell_type": "code",
   "execution_count": null,
   "id": "fa363928-1adb-4d47-b2db-528217e98648",
   "metadata": {},
   "outputs": [],
   "source": [
    "spark.catalog.dropTempView(\"NET\")"
   ]
  },
  {
   "cell_type": "code",
   "execution_count": 12,
   "id": "fcb88d6a-80e2-4d09-abec-509b4f039597",
   "metadata": {},
   "outputs": [],
   "source": [
    "spark.stop()"
   ]
  }
 ],
 "metadata": {
  "kernelspec": {
   "display_name": "Python 3 (ipykernel)",
   "language": "python",
   "name": "python3"
  },
  "language_info": {
   "codemirror_mode": {
    "name": "ipython",
    "version": 3
   },
   "file_extension": ".py",
   "mimetype": "text/x-python",
   "name": "python",
   "nbconvert_exporter": "python",
   "pygments_lexer": "ipython3",
   "version": "3.9.4"
  }
 },
 "nbformat": 4,
 "nbformat_minor": 5
}
