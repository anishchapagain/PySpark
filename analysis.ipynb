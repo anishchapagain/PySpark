{
 "cells": [
  {
   "cell_type": "code",
   "execution_count": 1,
   "id": "8d3f8dad-c7a7-4d93-8be6-df9cc2b507bc",
   "metadata": {},
   "outputs": [
    {
     "name": "stderr",
     "output_type": "stream",
     "text": [
      "22/01/11 16:03:23 WARN Utils: Your hostname, Anishs-MacBook-Pro.local resolves to a loopback address: 127.0.0.1; using 192.168.90.85 instead (on interface en0)\n",
      "22/01/11 16:03:23 WARN Utils: Set SPARK_LOCAL_IP if you need to bind to another address\n",
      "WARNING: An illegal reflective access operation has occurred\n",
      "WARNING: Illegal reflective access by org.apache.spark.unsafe.Platform (file:/Users/anishchapagain/Library/Python/3.9/lib/python/site-packages/pyspark/jars/spark-unsafe_2.12-3.2.0.jar) to constructor java.nio.DirectByteBuffer(long,int)\n",
      "WARNING: Please consider reporting this to the maintainers of org.apache.spark.unsafe.Platform\n",
      "WARNING: Use --illegal-access=warn to enable warnings of further illegal reflective access operations\n",
      "WARNING: All illegal access operations will be denied in a future release\n",
      "Using Spark's default log4j profile: org/apache/spark/log4j-defaults.properties\n",
      "Setting default log level to \"WARN\".\n",
      "To adjust logging level use sc.setLogLevel(newLevel). For SparkR, use setLogLevel(newLevel).\n",
      "22/01/11 16:03:24 WARN NativeCodeLoader: Unable to load native-hadoop library for your platform... using builtin-java classes where applicable\n"
     ]
    },
    {
     "name": "stdout",
     "output_type": "stream",
     "text": [
      "Analysis\n"
     ]
    }
   ],
   "source": [
    "from pyspark.sql import SparkSession\n",
    "spark = SparkSession.builder.appName(\"Analysis\").getOrCreate()\n",
    "print(spark.sparkContext.appName)"
   ]
  },
  {
   "cell_type": "code",
   "execution_count": 2,
   "id": "ac6b8ed8-4947-420a-8395-e0ea36dfdaf2",
   "metadata": {},
   "outputs": [],
   "source": [
    "import pandas as pd\n",
    "import klib\n",
    "from pyspark.sql.functions import *\n",
    "from pyspark.sql.types import *"
   ]
  },
  {
   "cell_type": "code",
   "execution_count": 3,
   "id": "deb4c131-0afc-4947-8192-c4f6e0664d82",
   "metadata": {},
   "outputs": [],
   "source": [
    "file1 = \"/Users/anishchapagain/Downloads/vericred_az_mercy_care_20211207.json\""
   ]
  },
  {
   "cell_type": "code",
   "execution_count": 4,
   "id": "3b3d6829-d7bf-4d0a-9d1b-8b6bcc6f3422",
   "metadata": {},
   "outputs": [
    {
     "name": "stderr",
     "output_type": "stream",
     "text": [
      "                                                                                \r"
     ]
    },
    {
     "name": "stdout",
     "output_type": "stream",
     "text": [
      "Count  113429\n"
     ]
    },
    {
     "name": "stderr",
     "output_type": "stream",
     "text": [
      "[Stage 4:====================================>                      (5 + 3) / 8]\r"
     ]
    },
    {
     "name": "stdout",
     "output_type": "stream",
     "text": [
      "Distinct Count  113429\n"
     ]
    },
    {
     "name": "stderr",
     "output_type": "stream",
     "text": [
      "                                                                                \r"
     ]
    }
   ],
   "source": [
    "df = spark.read.json(path=file1)\n",
    "print(\"Count \",df.count())\n",
    "print(\"Distinct Count \",df.distinct().count())"
   ]
  },
  {
   "cell_type": "code",
   "execution_count": 5,
   "id": "d98e43cc-2b8a-44fe-b0cf-fcb63ef40fc2",
   "metadata": {},
   "outputs": [
    {
     "data": {
      "text/plain": [
       "['addresses',\n",
       " 'group_affiliations',\n",
       " 'hospital_affiliations',\n",
       " 'networks',\n",
       " 'provider',\n",
       " 'specialties']"
      ]
     },
     "execution_count": 5,
     "metadata": {},
     "output_type": "execute_result"
    }
   ],
   "source": [
    "df.schema.names"
   ]
  },
  {
   "cell_type": "code",
   "execution_count": 6,
   "id": "b3a4c22a-c154-4830-b15d-9cef4e8e43e3",
   "metadata": {},
   "outputs": [
    {
     "data": {
      "text/plain": [
       "StructType(List(StructField(addresses,ArrayType(StructType(List(StructField(address_string,StringType,true),StructField(city,StringType,true),StructField(languages,ArrayType(StructType(List(StructField(name,StringType,true),StructField(type,StringType,true))),true),true),StructField(office_name,StringType,true),StructField(phones,ArrayType(StructType(List(StructField(type,StringType,true),StructField(value,StringType,true))),true),true),StructField(state,StringType,true),StructField(street_line_1,StringType,true),StructField(street_line_2,StringType,true),StructField(zip,StringType,true))),true),true),StructField(group_affiliations,ArrayType(StructType(List(StructField(name,StringType,true))),true),true),StructField(hospital_affiliations,ArrayType(StringType,true),true),StructField(networks,ArrayType(StructType(List(StructField(name,StringType,true),StructField(tier,StringType,true))),true),true),StructField(provider,StructType(List(StructField(accepting_new_patients,BooleanType,true),StructField(facility_name,StringType,true),StructField(facility_type,StringType,true),StructField(first_name,StringType,true),StructField(gender,StringType,true),StructField(last_name,StringType,true),StructField(license_number,StringType,true),StructField(middle_name,StringType,true),StructField(npi,StringType,true),StructField(pcp,BooleanType,true),StructField(pcp_id,StringType,true),StructField(provider_type,StringType,true),StructField(rating,StructType(List(StructField(scale,StringType,true),StructField(score,StringType,true))),true),StructField(site_uid,StringType,true),StructField(suffix,StringType,true),StructField(title,StringType,true),StructField(unparsed_name,StringType,true))),true),StructField(specialties,ArrayType(StructType(List(StructField(name,StringType,true))),true),true)))"
      ]
     },
     "execution_count": 6,
     "metadata": {},
     "output_type": "execute_result"
    }
   ],
   "source": [
    "df.schema"
   ]
  },
  {
   "cell_type": "code",
   "execution_count": 7,
   "id": "40b0de5b-047d-4e85-ab5e-0336333c8481",
   "metadata": {},
   "outputs": [
    {
     "data": {
      "text/plain": [
       "[('addresses',\n",
       "  'array<struct<address_string:string,city:string,languages:array<struct<name:string,type:string>>,office_name:string,phones:array<struct<type:string,value:string>>,state:string,street_line_1:string,street_line_2:string,zip:string>>')]"
      ]
     },
     "execution_count": 7,
     "metadata": {},
     "output_type": "execute_result"
    }
   ],
   "source": [
    "df.select('addresses').dtypes"
   ]
  },
  {
   "cell_type": "code",
   "execution_count": 8,
   "id": "b0a0b0dc-300e-427f-9740-e92dab900b8c",
   "metadata": {},
   "outputs": [
    {
     "data": {
      "text/plain": [
       "ArrayType(StructType(List(StructField(address_string,StringType,true),StructField(city,StringType,true),StructField(languages,ArrayType(StructType(List(StructField(name,StringType,true),StructField(type,StringType,true))),true),true),StructField(office_name,StringType,true),StructField(phones,ArrayType(StructType(List(StructField(type,StringType,true),StructField(value,StringType,true))),true),true),StructField(state,StringType,true),StructField(street_line_1,StringType,true),StructField(street_line_2,StringType,true),StructField(zip,StringType,true))),true)"
      ]
     },
     "execution_count": 8,
     "metadata": {},
     "output_type": "execute_result"
    }
   ],
   "source": [
    "df.schema['addresses'].dataType"
   ]
  },
  {
   "cell_type": "code",
   "execution_count": 9,
   "id": "8ac7cfa1-ab7e-4a65-9a63-038eab44009f",
   "metadata": {},
   "outputs": [
    {
     "name": "stdout",
     "output_type": "stream",
     "text": [
      "root\n",
      " |-- addresses: array (nullable = true)\n",
      " |    |-- element: struct (containsNull = true)\n",
      " |    |    |-- address_string: string (nullable = true)\n",
      " |    |    |-- city: string (nullable = true)\n",
      " |    |    |-- languages: array (nullable = true)\n",
      " |    |    |    |-- element: struct (containsNull = true)\n",
      " |    |    |    |    |-- name: string (nullable = true)\n",
      " |    |    |    |    |-- type: string (nullable = true)\n",
      " |    |    |-- office_name: string (nullable = true)\n",
      " |    |    |-- phones: array (nullable = true)\n",
      " |    |    |    |-- element: struct (containsNull = true)\n",
      " |    |    |    |    |-- type: string (nullable = true)\n",
      " |    |    |    |    |-- value: string (nullable = true)\n",
      " |    |    |-- state: string (nullable = true)\n",
      " |    |    |-- street_line_1: string (nullable = true)\n",
      " |    |    |-- street_line_2: string (nullable = true)\n",
      " |    |    |-- zip: string (nullable = true)\n",
      "\n"
     ]
    }
   ],
   "source": [
    "df.select('addresses').printSchema()"
   ]
  },
  {
   "cell_type": "code",
   "execution_count": 10,
   "id": "fe0c721b-cd5c-4f46-9948-33645a80c99c",
   "metadata": {},
   "outputs": [
    {
     "name": "stdout",
     "output_type": "stream",
     "text": [
      "root\n",
      " |-- provider: struct (nullable = true)\n",
      " |    |-- accepting_new_patients: boolean (nullable = true)\n",
      " |    |-- facility_name: string (nullable = true)\n",
      " |    |-- facility_type: string (nullable = true)\n",
      " |    |-- first_name: string (nullable = true)\n",
      " |    |-- gender: string (nullable = true)\n",
      " |    |-- last_name: string (nullable = true)\n",
      " |    |-- license_number: string (nullable = true)\n",
      " |    |-- middle_name: string (nullable = true)\n",
      " |    |-- npi: string (nullable = true)\n",
      " |    |-- pcp: boolean (nullable = true)\n",
      " |    |-- pcp_id: string (nullable = true)\n",
      " |    |-- provider_type: string (nullable = true)\n",
      " |    |-- rating: struct (nullable = true)\n",
      " |    |    |-- scale: string (nullable = true)\n",
      " |    |    |-- score: string (nullable = true)\n",
      " |    |-- site_uid: string (nullable = true)\n",
      " |    |-- suffix: string (nullable = true)\n",
      " |    |-- title: string (nullable = true)\n",
      " |    |-- unparsed_name: string (nullable = true)\n",
      "\n"
     ]
    }
   ],
   "source": [
    "df.select('provider').printSchema()"
   ]
  },
  {
   "cell_type": "code",
   "execution_count": 11,
   "id": "b3f90765-75d7-4eb7-a6f6-1bc1f9838ca0",
   "metadata": {},
   "outputs": [
    {
     "data": {
      "text/plain": [
       "StructType(List(StructField(provider,StructType(List(StructField(accepting_new_patients,BooleanType,true),StructField(facility_name,StringType,true),StructField(facility_type,StringType,true),StructField(first_name,StringType,true),StructField(gender,StringType,true),StructField(last_name,StringType,true),StructField(license_number,StringType,true),StructField(middle_name,StringType,true),StructField(npi,StringType,true),StructField(pcp,BooleanType,true),StructField(pcp_id,StringType,true),StructField(provider_type,StringType,true),StructField(rating,StructType(List(StructField(scale,StringType,true),StructField(score,StringType,true))),true),StructField(site_uid,StringType,true),StructField(suffix,StringType,true),StructField(title,StringType,true),StructField(unparsed_name,StringType,true))),true)))"
      ]
     },
     "execution_count": 11,
     "metadata": {},
     "output_type": "execute_result"
    }
   ],
   "source": [
    "df.select('provider').schema"
   ]
  },
  {
   "cell_type": "code",
   "execution_count": null,
   "id": "bf1f308e-5c7b-4e3e-a2f5-e07c9e0fb5f3",
   "metadata": {},
   "outputs": [],
   "source": []
  },
  {
   "cell_type": "code",
   "execution_count": 119,
   "id": "07eacab0-e326-4e3d-b09e-00b9ce84e06b",
   "metadata": {},
   "outputs": [
    {
     "ename": "TypeError",
     "evalue": "can only concatenate str (not \"StructField\") to str",
     "output_type": "error",
     "traceback": [
      "\u001b[0;31m---------------------------------------------------------------------------\u001b[0m",
      "\u001b[0;31mTypeError\u001b[0m                                 Traceback (most recent call last)",
      "\u001b[0;32m/var/folders/f8/r806jdln2jx77m9z0k_rbmqw0000gn/T/ipykernel_27599/488735760.py\u001b[0m in \u001b[0;36m<module>\u001b[0;34m\u001b[0m\n\u001b[1;32m      1\u001b[0m \u001b[0;32mfor\u001b[0m \u001b[0mcolf\u001b[0m \u001b[0;32min\u001b[0m \u001b[0mdf\u001b[0m\u001b[0;34m.\u001b[0m\u001b[0mselect\u001b[0m\u001b[0;34m(\u001b[0m\u001b[0;34m'provider.*'\u001b[0m\u001b[0;34m)\u001b[0m\u001b[0;34m.\u001b[0m\u001b[0mschema\u001b[0m\u001b[0;34m:\u001b[0m\u001b[0;34m\u001b[0m\u001b[0;34m\u001b[0m\u001b[0m\n\u001b[0;32m----> 2\u001b[0;31m     \u001b[0mdf\u001b[0m\u001b[0;34m.\u001b[0m\u001b[0mfilter\u001b[0m\u001b[0;34m(\u001b[0m\u001b[0mcol\u001b[0m\u001b[0;34m(\u001b[0m\u001b[0;34m'provider'\u001b[0m\u001b[0;34m+\u001b[0m\u001b[0mcolf\u001b[0m\u001b[0;34m)\u001b[0m\u001b[0;34m==\u001b[0m\u001b[0;34m''\u001b[0m\u001b[0;34m)\u001b[0m\u001b[0;34m.\u001b[0m\u001b[0mselect\u001b[0m\u001b[0;34m(\u001b[0m\u001b[0;34m)\u001b[0m\u001b[0;34m\u001b[0m\u001b[0;34m\u001b[0m\u001b[0m\n\u001b[0m\u001b[1;32m      3\u001b[0m     \u001b[0;32mbreak\u001b[0m\u001b[0;34m\u001b[0m\u001b[0;34m\u001b[0m\u001b[0m\n",
      "\u001b[0;31mTypeError\u001b[0m: can only concatenate str (not \"StructField\") to str"
     ]
    }
   ],
   "source": [
    "for colf in df.select('provider.*').schema:\n",
    "    df.filter(col('provider'+colf)=='').select()\n",
    "    break"
   ]
  },
  {
   "cell_type": "code",
   "execution_count": 23,
   "id": "81df692c-cd40-4bcd-8ced-41b28812ed33",
   "metadata": {},
   "outputs": [
    {
     "name": "stderr",
     "output_type": "stream",
     "text": [
      "[Stage 10:=======>                                                  (1 + 7) / 8]\r"
     ]
    },
    {
     "name": "stdout",
     "output_type": "stream",
     "text": [
      "+-------------+-----+\n",
      "|facility_type|count|\n",
      "+-------------+-----+\n",
      "|         null|76525|\n",
      "|             |36904|\n",
      "+-------------+-----+\n",
      "\n"
     ]
    },
    {
     "name": "stderr",
     "output_type": "stream",
     "text": [
      "                                                                                \r"
     ]
    }
   ],
   "source": [
    "facility=df.groupby(\"provider.facility_type\").count().orderBy(col('count').desc())\n",
    "facility.show()"
   ]
  },
  {
   "cell_type": "code",
   "execution_count": 24,
   "id": "ef2782a9-78fd-47ed-bd18-4a1101904719",
   "metadata": {},
   "outputs": [
    {
     "name": "stdout",
     "output_type": "stream",
     "text": [
      "+-------------+-----+\n",
      "|provider_type|count|\n",
      "+-------------+-----+\n",
      "|   individual|76525|\n",
      "|     facility|36904|\n",
      "+-------------+-----+\n",
      "\n"
     ]
    }
   ],
   "source": [
    "providerType = df.groupby(\"provider.provider_type\").count().orderBy(col('count').desc())\n",
    "providerType.show()"
   ]
  },
  {
   "cell_type": "code",
   "execution_count": 113,
   "id": "ff6fdcd3-d694-4248-b824-564c13994a18",
   "metadata": {},
   "outputs": [
    {
     "data": {
      "text/plain": [
       "pyspark.sql.dataframe.DataFrame"
      ]
     },
     "execution_count": 113,
     "metadata": {},
     "output_type": "execute_result"
    }
   ],
   "source": [
    "type(providerType)"
   ]
  },
  {
   "cell_type": "code",
   "execution_count": 25,
   "id": "f71d1001-1e19-46f5-8b3e-08b3ff01693f",
   "metadata": {},
   "outputs": [],
   "source": [
    "individual=providerType.filter(providerType.provider_type==\"individual\").select('count')"
   ]
  },
  {
   "cell_type": "code",
   "execution_count": 26,
   "id": "549eb809-7ae2-4382-981a-17c3bf1edf66",
   "metadata": {},
   "outputs": [
    {
     "name": "stdout",
     "output_type": "stream",
     "text": [
      "+-----+\n",
      "|count|\n",
      "+-----+\n",
      "|76525|\n",
      "+-----+\n",
      "\n"
     ]
    },
    {
     "name": "stderr",
     "output_type": "stream",
     "text": [
      "                                                                                \r"
     ]
    }
   ],
   "source": [
    "individual.show()"
   ]
  },
  {
   "cell_type": "code",
   "execution_count": 28,
   "id": "cee385bc-9861-4900-b9da-a9ce4963daf8",
   "metadata": {},
   "outputs": [
    {
     "data": {
      "text/plain": [
       "DataFrame[count: bigint]"
      ]
     },
     "execution_count": 28,
     "metadata": {},
     "output_type": "execute_result"
    }
   ],
   "source": [
    "individual"
   ]
  },
  {
   "cell_type": "code",
   "execution_count": 31,
   "id": "3c80463f-87e2-42e9-8c6e-84c0cdeb3d88",
   "metadata": {},
   "outputs": [
    {
     "name": "stdout",
     "output_type": "stream",
     "text": [
      "+-----------------------------------+-----+\n",
      "|name                               |count|\n",
      "+-----------------------------------+-----+\n",
      "|Mercy Care Advantage               |20457|\n",
      "|Mercy Care Long Term Care          |19895|\n",
      "|Mercy Care Complete Care           |19798|\n",
      "|Mercy Care Developmentally Disabled|19608|\n",
      "|Mercy Care DCS CHP                 |14808|\n",
      "|Mercy Care RBHA                    |12002|\n",
      "|Behavioral Health Only             |6861 |\n",
      "+-----------------------------------+-----+\n",
      "\n"
     ]
    }
   ],
   "source": [
    "networks = df.select(explode(df.networks)).select('col.name','col.tier').groupBy(col(\"name\")).count().orderBy(col('count').desc())\n",
    "networks.show(truncate=False)"
   ]
  },
  {
   "cell_type": "code",
   "execution_count": null,
   "id": "565b4b64-c533-4594-8a2a-cb5c98a1f5bf",
   "metadata": {},
   "outputs": [],
   "source": []
  },
  {
   "cell_type": "code",
   "execution_count": null,
   "id": "367433cb-df40-4825-82ee-f4bef5692acc",
   "metadata": {},
   "outputs": [],
   "source": [
    "specs = df.select(explode(df.specialties)).select('col.name').groupBy(col(\"name\")).count().orderBy(col('count').desc())\n",
    "print('Total: {}',specs.count(),', Distinct: {}',specs.distinct().count())"
   ]
  },
  {
   "cell_type": "code",
   "execution_count": 64,
   "id": "e2e01d14-f619-4ade-bf48-09b8ac8ea511",
   "metadata": {},
   "outputs": [
    {
     "data": {
      "text/plain": [
       "[Row(name='Dentist - Pediatric Dentist', count=4),\n",
       " Row(name='Physician Assistant - Psychiatry', count=4),\n",
       " Row(name='Surgical Services (Outpatient or ASC)', count=3),\n",
       " Row(name='Licensed Professional Counselor (LPC)', count=3),\n",
       " Row(name='Dental Hygienist', count=3),\n",
       " Row(name='Roentgenology (Diagnostic)', count=3),\n",
       " Row(name='Homeopathic', count=2),\n",
       " Row(name='Resid Trtm Ctr-Non-Secure (17Plusbeds)(Imd)', count=2),\n",
       " Row(name='Community or Rural Health Center', count=1),\n",
       " Row(name='THERAPIST-PHYSICAL', count=1),\n",
       " Row(name='Mhs Social Worker', count=1),\n",
       " Row(name='RN Midwife', count=1),\n",
       " Row(name='Dentist - Periodontist', count=1),\n",
       " Row(name='Dentist - Prosthodontist', count=1),\n",
       " Row(name='RN Adult Nurse Practitioner', count=1),\n",
       " Row(name='Dentist - Orthodontist', count=1),\n",
       " Row(name='RN Pediatric Nurse Practitioner', count=1),\n",
       " Row(name='Assisted Living Home (Formerly ACH)', count=1),\n",
       " Row(name='Pediatric - Neonatal/Perinatal Medicine', count=1),\n",
       " Row(name='BH Outpatient Clinic', count=1)]"
      ]
     },
     "execution_count": 64,
     "metadata": {},
     "output_type": "execute_result"
    }
   ],
   "source": [
    "specs.tail(20)"
   ]
  },
  {
   "cell_type": "code",
   "execution_count": 35,
   "id": "3fedacb5-9330-4939-bac5-89541a206657",
   "metadata": {},
   "outputs": [
    {
     "name": "stdout",
     "output_type": "stream",
     "text": [
      "Total: {} 4730 , Distinct: {} 4730\n",
      "+----------------------------------------------+-----+\n",
      "|name                                          |count|\n",
      "+----------------------------------------------+-----+\n",
      "|Honorhealth Medical Group                     |2349 |\n",
      "|Banner Hospital Based Physicians Arizona Llc  |1577 |\n",
      "|Phoenix Childrens Medical Group               |1563 |\n",
      "|Banner Physician Specialists Arizona Llc      |1563 |\n",
      "|Sjhmc Physician Services                      |1392 |\n",
      "|Banner Cancer Center Specialists Llc          |1044 |\n",
      "|My Dr Now                                     |830  |\n",
      "|District Medical Group Inc                    |816  |\n",
      "|Obstetrix Medical Group Of Arizona Pc         |790  |\n",
      "|El Rio Santa Cruz Neighborhood Health Center  |747  |\n",
      "|Arizona Kidney Disease And Hypertension Center|618  |\n",
      "|Mountain Park Health Center                   |589  |\n",
      "|Ironwood Physicians Pc                        |511  |\n",
      "|Md24 House Call                               |510  |\n",
      "|Banner Physician Super Specialists Arizona Llc|504  |\n",
      "|Valleywise Comprehensive Care Center Phoenix  |485  |\n",
      "|Crisis Preparation And Recovery Inc Op Clinic |458  |\n",
      "|Hospitalists Of Arizona Inc                   |421  |\n",
      "|Arizona Center For Hematology And Oncology Plc|410  |\n",
      "|Childrens Clinics                             |409  |\n",
      "+----------------------------------------------+-----+\n",
      "only showing top 20 rows\n",
      "\n"
     ]
    }
   ],
   "source": [
    "\n",
    "groups = df.select(explode(df.group_affiliations)).select('col.name').groupBy(col(\"name\")).count().orderBy(col('count').desc())\n",
    "print('Total: {}',groups.count(),', Distinct: {}',groups.distinct().count())\n",
    "groups.show(truncate=False)"
   ]
  },
  {
   "cell_type": "code",
   "execution_count": 38,
   "id": "2633ee1e-1a7b-41c6-a549-553483e6bfd8",
   "metadata": {},
   "outputs": [
    {
     "name": "stdout",
     "output_type": "stream",
     "text": [
      "root\n",
      " |-- hospital_affiliations: array (nullable = true)\n",
      " |    |-- element: string (containsNull = true)\n",
      "\n"
     ]
    }
   ],
   "source": [
    "df.select('hospital_affiliations').printSchema()"
   ]
  },
  {
   "cell_type": "code",
   "execution_count": 105,
   "id": "1b967cf9-45a9-4bb7-90d8-c8d3ca03386b",
   "metadata": {},
   "outputs": [
    {
     "name": "stdout",
     "output_type": "stream",
     "text": [
      "Col:  addresses Type:  array\n",
      "\t addresses ---Null:  True  ::  True\n"
     ]
    },
    {
     "name": "stderr",
     "output_type": "stream",
     "text": [
      "                                                                                \r"
     ]
    },
    {
     "name": "stdout",
     "output_type": "stream",
     "text": [
      "Col:  group_affiliations Type:  array\n",
      "\t group_affiliations ---Null:  True  ::  True\n",
      "Col:  hospital_affiliations Type:  array\n",
      "\t hospital_affiliations ---Null:  True  ::  True\n",
      "Col:  networks Type:  array\n",
      "\t networks ---Null:  True  ::  True\n",
      "Col:  provider Type:  struct\n",
      "Col:  specialties Type:  array\n",
      "\t specialties ---Null:  True  ::  True\n"
     ]
    }
   ],
   "source": [
    "info={}\n",
    "for col in df.schema:\n",
    "    print('Col: ',col.name, 'Type: ',col.dataType.typeName())\n",
    "    if(col.dataType.typeName()=='array'):\n",
    "#         print(\"\\t\",col.name,\"---Null: \",col.dataType.containsNull,' :: ',col.nullable)\n",
    "        if df.select(explode(col.name)).count()==0:\n",
    "            info[col.name]='empty'\n",
    "    else:\n",
    "        "
   ]
  },
  {
   "cell_type": "code",
   "execution_count": 106,
   "id": "29f8d904-37ea-4670-8d4b-a6e716bef4fb",
   "metadata": {},
   "outputs": [
    {
     "data": {
      "text/plain": [
       "{'hospital_affiliations': 'empty'}"
      ]
     },
     "execution_count": 106,
     "metadata": {},
     "output_type": "execute_result"
    }
   ],
   "source": [
    "info"
   ]
  },
  {
   "cell_type": "code",
   "execution_count": 102,
   "id": "f6601fc0-a730-4886-aa98-a6ff2f27974b",
   "metadata": {},
   "outputs": [
    {
     "data": {
      "text/plain": [
       "0"
      ]
     },
     "execution_count": 102,
     "metadata": {},
     "output_type": "execute_result"
    }
   ],
   "source": [
    "df.select(explode(df.hospital_affiliations)).count()"
   ]
  },
  {
   "cell_type": "code",
   "execution_count": 90,
   "id": "380d3f90-86ca-47e6-8ab4-a563f6cd1d61",
   "metadata": {},
   "outputs": [
    {
     "data": {
      "text/plain": [
       "[Row(hospital_affiliations=[]),\n",
       " Row(hospital_affiliations=[]),\n",
       " Row(hospital_affiliations=[]),\n",
       " Row(hospital_affiliations=[]),\n",
       " Row(hospital_affiliations=[]),\n",
       " Row(hospital_affiliations=[]),\n",
       " Row(hospital_affiliations=[]),\n",
       " Row(hospital_affiliations=[]),\n",
       " Row(hospital_affiliations=[]),\n",
       " Row(hospital_affiliations=[])]"
      ]
     },
     "execution_count": 90,
     "metadata": {},
     "output_type": "execute_result"
    }
   ],
   "source": [
    "df.select('hospital_affiliations').tail(10)"
   ]
  },
  {
   "cell_type": "code",
   "execution_count": 108,
   "id": "3ad33581-959c-416d-b4c3-bec0d90d8424",
   "metadata": {},
   "outputs": [
    {
     "ename": "AnalysisException",
     "evalue": "Can't extract value from col#614: need struct type but got string",
     "output_type": "error",
     "traceback": [
      "\u001b[0;31m---------------------------------------------------------------------------\u001b[0m",
      "\u001b[0;31mAnalysisException\u001b[0m                         Traceback (most recent call last)",
      "\u001b[0;32m/var/folders/f8/r806jdln2jx77m9z0k_rbmqw0000gn/T/ipykernel_27599/3361037814.py\u001b[0m in \u001b[0;36m<module>\u001b[0;34m\u001b[0m\n\u001b[0;32m----> 1\u001b[0;31m \u001b[0mhospitals\u001b[0m \u001b[0;34m=\u001b[0m \u001b[0mdf\u001b[0m\u001b[0;34m.\u001b[0m\u001b[0mselect\u001b[0m\u001b[0;34m(\u001b[0m\u001b[0mexplode\u001b[0m\u001b[0;34m(\u001b[0m\u001b[0mdf\u001b[0m\u001b[0;34m.\u001b[0m\u001b[0mhospital_affiliations\u001b[0m\u001b[0;34m)\u001b[0m\u001b[0;34m)\u001b[0m\u001b[0;34m.\u001b[0m\u001b[0mselect\u001b[0m\u001b[0;34m(\u001b[0m\u001b[0;34m'col.name'\u001b[0m\u001b[0;34m)\u001b[0m\u001b[0;34m.\u001b[0m\u001b[0mgroupBy\u001b[0m\u001b[0;34m(\u001b[0m\u001b[0mcol\u001b[0m\u001b[0;34m(\u001b[0m\u001b[0;34m\"name\"\u001b[0m\u001b[0;34m)\u001b[0m\u001b[0;34m)\u001b[0m\u001b[0;34m.\u001b[0m\u001b[0mcount\u001b[0m\u001b[0;34m(\u001b[0m\u001b[0;34m)\u001b[0m\u001b[0;34m.\u001b[0m\u001b[0morderBy\u001b[0m\u001b[0;34m(\u001b[0m\u001b[0mcol\u001b[0m\u001b[0;34m(\u001b[0m\u001b[0;34m'count'\u001b[0m\u001b[0;34m)\u001b[0m\u001b[0;34m.\u001b[0m\u001b[0mdesc\u001b[0m\u001b[0;34m(\u001b[0m\u001b[0;34m)\u001b[0m\u001b[0;34m)\u001b[0m\u001b[0;34m\u001b[0m\u001b[0;34m\u001b[0m\u001b[0m\n\u001b[0m",
      "\u001b[0;32m~/Library/Python/3.9/lib/python/site-packages/pyspark/sql/dataframe.py\u001b[0m in \u001b[0;36mselect\u001b[0;34m(self, *cols)\u001b[0m\n\u001b[1;32m   1683\u001b[0m         \u001b[0;34m[\u001b[0m\u001b[0mRow\u001b[0m\u001b[0;34m(\u001b[0m\u001b[0mname\u001b[0m\u001b[0;34m=\u001b[0m\u001b[0;34m'Alice'\u001b[0m\u001b[0;34m,\u001b[0m \u001b[0mage\u001b[0m\u001b[0;34m=\u001b[0m\u001b[0;36m12\u001b[0m\u001b[0;34m)\u001b[0m\u001b[0;34m,\u001b[0m \u001b[0mRow\u001b[0m\u001b[0;34m(\u001b[0m\u001b[0mname\u001b[0m\u001b[0;34m=\u001b[0m\u001b[0;34m'Bob'\u001b[0m\u001b[0;34m,\u001b[0m \u001b[0mage\u001b[0m\u001b[0;34m=\u001b[0m\u001b[0;36m15\u001b[0m\u001b[0;34m)\u001b[0m\u001b[0;34m]\u001b[0m\u001b[0;34m\u001b[0m\u001b[0;34m\u001b[0m\u001b[0m\n\u001b[1;32m   1684\u001b[0m         \"\"\"\n\u001b[0;32m-> 1685\u001b[0;31m         \u001b[0mjdf\u001b[0m \u001b[0;34m=\u001b[0m \u001b[0mself\u001b[0m\u001b[0;34m.\u001b[0m\u001b[0m_jdf\u001b[0m\u001b[0;34m.\u001b[0m\u001b[0mselect\u001b[0m\u001b[0;34m(\u001b[0m\u001b[0mself\u001b[0m\u001b[0;34m.\u001b[0m\u001b[0m_jcols\u001b[0m\u001b[0;34m(\u001b[0m\u001b[0;34m*\u001b[0m\u001b[0mcols\u001b[0m\u001b[0;34m)\u001b[0m\u001b[0;34m)\u001b[0m\u001b[0;34m\u001b[0m\u001b[0;34m\u001b[0m\u001b[0m\n\u001b[0m\u001b[1;32m   1686\u001b[0m         \u001b[0;32mreturn\u001b[0m \u001b[0mDataFrame\u001b[0m\u001b[0;34m(\u001b[0m\u001b[0mjdf\u001b[0m\u001b[0;34m,\u001b[0m \u001b[0mself\u001b[0m\u001b[0;34m.\u001b[0m\u001b[0msql_ctx\u001b[0m\u001b[0;34m)\u001b[0m\u001b[0;34m\u001b[0m\u001b[0;34m\u001b[0m\u001b[0m\n\u001b[1;32m   1687\u001b[0m \u001b[0;34m\u001b[0m\u001b[0m\n",
      "\u001b[0;32m~/Library/Python/3.9/lib/python/site-packages/py4j/java_gateway.py\u001b[0m in \u001b[0;36m__call__\u001b[0;34m(self, *args)\u001b[0m\n\u001b[1;32m   1307\u001b[0m \u001b[0;34m\u001b[0m\u001b[0m\n\u001b[1;32m   1308\u001b[0m         \u001b[0manswer\u001b[0m \u001b[0;34m=\u001b[0m \u001b[0mself\u001b[0m\u001b[0;34m.\u001b[0m\u001b[0mgateway_client\u001b[0m\u001b[0;34m.\u001b[0m\u001b[0msend_command\u001b[0m\u001b[0;34m(\u001b[0m\u001b[0mcommand\u001b[0m\u001b[0;34m)\u001b[0m\u001b[0;34m\u001b[0m\u001b[0;34m\u001b[0m\u001b[0m\n\u001b[0;32m-> 1309\u001b[0;31m         return_value = get_return_value(\n\u001b[0m\u001b[1;32m   1310\u001b[0m             answer, self.gateway_client, self.target_id, self.name)\n\u001b[1;32m   1311\u001b[0m \u001b[0;34m\u001b[0m\u001b[0m\n",
      "\u001b[0;32m~/Library/Python/3.9/lib/python/site-packages/pyspark/sql/utils.py\u001b[0m in \u001b[0;36mdeco\u001b[0;34m(*a, **kw)\u001b[0m\n\u001b[1;32m    115\u001b[0m                 \u001b[0;31m# Hide where the exception came from that shows a non-Pythonic\u001b[0m\u001b[0;34m\u001b[0m\u001b[0;34m\u001b[0m\u001b[0;34m\u001b[0m\u001b[0m\n\u001b[1;32m    116\u001b[0m                 \u001b[0;31m# JVM exception message.\u001b[0m\u001b[0;34m\u001b[0m\u001b[0;34m\u001b[0m\u001b[0;34m\u001b[0m\u001b[0m\n\u001b[0;32m--> 117\u001b[0;31m                 \u001b[0;32mraise\u001b[0m \u001b[0mconverted\u001b[0m \u001b[0;32mfrom\u001b[0m \u001b[0;32mNone\u001b[0m\u001b[0;34m\u001b[0m\u001b[0;34m\u001b[0m\u001b[0m\n\u001b[0m\u001b[1;32m    118\u001b[0m             \u001b[0;32melse\u001b[0m\u001b[0;34m:\u001b[0m\u001b[0;34m\u001b[0m\u001b[0;34m\u001b[0m\u001b[0m\n\u001b[1;32m    119\u001b[0m                 \u001b[0;32mraise\u001b[0m\u001b[0;34m\u001b[0m\u001b[0;34m\u001b[0m\u001b[0m\n",
      "\u001b[0;31mAnalysisException\u001b[0m: Can't extract value from col#614: need struct type but got string"
     ]
    }
   ],
   "source": [
    "hospitals = df.select(explode(df.hospital_affiliations)).select('col.name').groupBy(col(\"name\")).count().orderBy(col('count').desc())"
   ]
  },
  {
   "cell_type": "code",
   "execution_count": null,
   "id": "50add6ee-46ab-4f65-bda5-c26d2454bccc",
   "metadata": {},
   "outputs": [],
   "source": [
    "print('Total: {}',hospitals.count(),', Distinct: {}',hospitals.distinct().count())\n",
    "hospitals.show(truncate=False)"
   ]
  },
  {
   "cell_type": "code",
   "execution_count": 30,
   "id": "705419e8-a2d6-43ab-9e2f-838fabdf3d13",
   "metadata": {},
   "outputs": [
    {
     "name": "stdout",
     "output_type": "stream",
     "text": [
      "+------------------------------------------+-----+\n",
      "|name                                      |count|\n",
      "+------------------------------------------+-----+\n",
      "|Perform                                   |10220|\n",
      "|Perform SE                                |10215|\n",
      "|CentraChoice                              |10182|\n",
      "|Open Access                               |10181|\n",
      "|2020 Distinctions II                      |10169|\n",
      "|2021 Distinctions II                      |10166|\n",
      "|2020 Distinctions III                     |10162|\n",
      "|2021 Distinctions III                     |10158|\n",
      "|Robin Oak                                 |9974 |\n",
      "|CentraChoice SE                           |8951 |\n",
      "|HealthPartners Primary Clinic             |8824 |\n",
      "|HealthPartners&reg; Freedom (Cost)        |8475 |\n",
      "|Apex                                      |7331 |\n",
      "|AchieveSM                                 |5360 |\n",
      "|AchieveSM SE                              |5080 |\n",
      "|TieredChoice                              |4364 |\n",
      "|Atlas                                     |1815 |\n",
      "|Peak                                      |1774 |\n",
      "|SmartCare                                 |1221 |\n",
      "|HealthPartners Regional Open Access Dental|258  |\n",
      "|HealthPartners Dental Open Access         |255  |\n",
      "|HealthPartners Dental Tiered PPO Network A|240  |\n",
      "|HealthPartners Dental Tiered PPO Network B|240  |\n",
      "|HealthPartners DistinctionsSM Dental      |240  |\n",
      "|HealthPartners Distinctions III Dental    |239  |\n",
      "|Individual dental open access             |199  |\n",
      "|HealthPartners Dental Select              |130  |\n",
      "|Individual HealthPartners dental group    |74   |\n",
      "+------------------------------------------+-----+\n",
      "\n"
     ]
    }
   ],
   "source": [
    "pdf = networks.show(networks.count(),truncate=False).toPandas()"
   ]
  },
  {
   "cell_type": "code",
   "execution_count": 110,
   "id": "13153ae4-5b77-4616-acc3-d5d86b2475bc",
   "metadata": {},
   "outputs": [
    {
     "ename": "AttributeError",
     "evalue": "'DataFrame' object has no attribute 'shape'",
     "output_type": "error",
     "traceback": [
      "\u001b[0;31m---------------------------------------------------------------------------\u001b[0m",
      "\u001b[0;31mAttributeError\u001b[0m                            Traceback (most recent call last)",
      "\u001b[0;32m/var/folders/f8/r806jdln2jx77m9z0k_rbmqw0000gn/T/ipykernel_27599/791120021.py\u001b[0m in \u001b[0;36m<module>\u001b[0;34m\u001b[0m\n\u001b[0;32m----> 1\u001b[0;31m \u001b[0mfacility\u001b[0m\u001b[0;34m.\u001b[0m\u001b[0mshape\u001b[0m\u001b[0;34m(\u001b[0m\u001b[0;34m)\u001b[0m\u001b[0;34m\u001b[0m\u001b[0;34m\u001b[0m\u001b[0m\n\u001b[0m",
      "\u001b[0;32m~/Library/Python/3.9/lib/python/site-packages/pyspark/sql/dataframe.py\u001b[0m in \u001b[0;36m__getattr__\u001b[0;34m(self, name)\u001b[0m\n\u001b[1;32m   1657\u001b[0m         \"\"\"\n\u001b[1;32m   1658\u001b[0m         \u001b[0;32mif\u001b[0m \u001b[0mname\u001b[0m \u001b[0;32mnot\u001b[0m \u001b[0;32min\u001b[0m \u001b[0mself\u001b[0m\u001b[0;34m.\u001b[0m\u001b[0mcolumns\u001b[0m\u001b[0;34m:\u001b[0m\u001b[0;34m\u001b[0m\u001b[0;34m\u001b[0m\u001b[0m\n\u001b[0;32m-> 1659\u001b[0;31m             raise AttributeError(\n\u001b[0m\u001b[1;32m   1660\u001b[0m                 \"'%s' object has no attribute '%s'\" % (self.__class__.__name__, name))\n\u001b[1;32m   1661\u001b[0m         \u001b[0mjc\u001b[0m \u001b[0;34m=\u001b[0m \u001b[0mself\u001b[0m\u001b[0;34m.\u001b[0m\u001b[0m_jdf\u001b[0m\u001b[0;34m.\u001b[0m\u001b[0mapply\u001b[0m\u001b[0;34m(\u001b[0m\u001b[0mname\u001b[0m\u001b[0;34m)\u001b[0m\u001b[0;34m\u001b[0m\u001b[0;34m\u001b[0m\u001b[0m\n",
      "\u001b[0;31mAttributeError\u001b[0m: 'DataFrame' object has no attribute 'shape'"
     ]
    }
   ],
   "source": [
    "facility.shape()"
   ]
  },
  {
   "cell_type": "code",
   "execution_count": 109,
   "id": "d7755051-0615-4436-8f8a-55a5588c034e",
   "metadata": {},
   "outputs": [
    {
     "ename": "AttributeError",
     "evalue": "'DataFrame' object has no attribute 'shape'",
     "output_type": "error",
     "traceback": [
      "\u001b[0;31m---------------------------------------------------------------------------\u001b[0m",
      "\u001b[0;31mAttributeError\u001b[0m                            Traceback (most recent call last)",
      "\u001b[0;32m/var/folders/f8/r806jdln2jx77m9z0k_rbmqw0000gn/T/ipykernel_27599/5811602.py\u001b[0m in \u001b[0;36m<module>\u001b[0;34m\u001b[0m\n\u001b[0;32m----> 1\u001b[0;31m \u001b[0mklib\u001b[0m\u001b[0;34m.\u001b[0m\u001b[0mcat_plot\u001b[0m\u001b[0;34m(\u001b[0m\u001b[0mfacility\u001b[0m\u001b[0;34m)\u001b[0m\u001b[0;34m\u001b[0m\u001b[0;34m\u001b[0m\u001b[0m\n\u001b[0m",
      "\u001b[0;32m/Library/Frameworks/Python.framework/Versions/3.9/lib/python3.9/site-packages/klib/describe.py\u001b[0m in \u001b[0;36mcat_plot\u001b[0;34m(data, figsize, top, bottom, bar_color_top, bar_color_bottom)\u001b[0m\n\u001b[1;32m     69\u001b[0m     \u001b[0m_validate_input_int\u001b[0m\u001b[0;34m(\u001b[0m\u001b[0mtop\u001b[0m\u001b[0;34m,\u001b[0m \u001b[0;34m\"top\"\u001b[0m\u001b[0;34m)\u001b[0m\u001b[0;34m\u001b[0m\u001b[0;34m\u001b[0m\u001b[0m\n\u001b[1;32m     70\u001b[0m     \u001b[0m_validate_input_int\u001b[0m\u001b[0;34m(\u001b[0m\u001b[0mbottom\u001b[0m\u001b[0;34m,\u001b[0m \u001b[0;34m\"bottom\"\u001b[0m\u001b[0;34m)\u001b[0m\u001b[0;34m\u001b[0m\u001b[0;34m\u001b[0m\u001b[0m\n\u001b[0;32m---> 71\u001b[0;31m     \u001b[0m_validate_input_range\u001b[0m\u001b[0;34m(\u001b[0m\u001b[0mtop\u001b[0m\u001b[0;34m,\u001b[0m \u001b[0;34m\"top\"\u001b[0m\u001b[0;34m,\u001b[0m \u001b[0;36m0\u001b[0m\u001b[0;34m,\u001b[0m \u001b[0mdata\u001b[0m\u001b[0;34m.\u001b[0m\u001b[0mshape\u001b[0m\u001b[0;34m[\u001b[0m\u001b[0;36m1\u001b[0m\u001b[0;34m]\u001b[0m\u001b[0;34m)\u001b[0m\u001b[0;34m\u001b[0m\u001b[0;34m\u001b[0m\u001b[0m\n\u001b[0m\u001b[1;32m     72\u001b[0m     \u001b[0m_validate_input_range\u001b[0m\u001b[0;34m(\u001b[0m\u001b[0mbottom\u001b[0m\u001b[0;34m,\u001b[0m \u001b[0;34m\"bottom\"\u001b[0m\u001b[0;34m,\u001b[0m \u001b[0;36m0\u001b[0m\u001b[0;34m,\u001b[0m \u001b[0mdata\u001b[0m\u001b[0;34m.\u001b[0m\u001b[0mshape\u001b[0m\u001b[0;34m[\u001b[0m\u001b[0;36m1\u001b[0m\u001b[0;34m]\u001b[0m\u001b[0;34m)\u001b[0m\u001b[0;34m\u001b[0m\u001b[0;34m\u001b[0m\u001b[0m\n\u001b[1;32m     73\u001b[0m     \u001b[0m_validate_input_sum_larger\u001b[0m\u001b[0;34m(\u001b[0m\u001b[0;36m1\u001b[0m\u001b[0;34m,\u001b[0m \u001b[0;34m\"top and bottom\"\u001b[0m\u001b[0;34m,\u001b[0m \u001b[0mtop\u001b[0m\u001b[0;34m,\u001b[0m \u001b[0mbottom\u001b[0m\u001b[0;34m)\u001b[0m\u001b[0;34m\u001b[0m\u001b[0;34m\u001b[0m\u001b[0m\n",
      "\u001b[0;32m~/Library/Python/3.9/lib/python/site-packages/pyspark/sql/dataframe.py\u001b[0m in \u001b[0;36m__getattr__\u001b[0;34m(self, name)\u001b[0m\n\u001b[1;32m   1657\u001b[0m         \"\"\"\n\u001b[1;32m   1658\u001b[0m         \u001b[0;32mif\u001b[0m \u001b[0mname\u001b[0m \u001b[0;32mnot\u001b[0m \u001b[0;32min\u001b[0m \u001b[0mself\u001b[0m\u001b[0;34m.\u001b[0m\u001b[0mcolumns\u001b[0m\u001b[0;34m:\u001b[0m\u001b[0;34m\u001b[0m\u001b[0;34m\u001b[0m\u001b[0m\n\u001b[0;32m-> 1659\u001b[0;31m             raise AttributeError(\n\u001b[0m\u001b[1;32m   1660\u001b[0m                 \"'%s' object has no attribute '%s'\" % (self.__class__.__name__, name))\n\u001b[1;32m   1661\u001b[0m         \u001b[0mjc\u001b[0m \u001b[0;34m=\u001b[0m \u001b[0mself\u001b[0m\u001b[0;34m.\u001b[0m\u001b[0m_jdf\u001b[0m\u001b[0;34m.\u001b[0m\u001b[0mapply\u001b[0m\u001b[0;34m(\u001b[0m\u001b[0mname\u001b[0m\u001b[0;34m)\u001b[0m\u001b[0;34m\u001b[0m\u001b[0;34m\u001b[0m\u001b[0m\n",
      "\u001b[0;31mAttributeError\u001b[0m: 'DataFrame' object has no attribute 'shape'"
     ]
    }
   ],
   "source": [
    "klib.cat_plot(facility)"
   ]
  },
  {
   "cell_type": "code",
   "execution_count": null,
   "id": "fa363928-1adb-4d47-b2db-528217e98648",
   "metadata": {},
   "outputs": [],
   "source": []
  },
  {
   "cell_type": "code",
   "execution_count": 12,
   "id": "fcb88d6a-80e2-4d09-abec-509b4f039597",
   "metadata": {},
   "outputs": [],
   "source": [
    "spark.stop()"
   ]
  },
  {
   "cell_type": "code",
   "execution_count": null,
   "id": "bcaf2cd9-23fe-4199-ae7d-a44783eeb037",
   "metadata": {},
   "outputs": [],
   "source": []
  }
 ],
 "metadata": {
  "kernelspec": {
   "display_name": "Python 3 (ipykernel)",
   "language": "python",
   "name": "python3"
  },
  "language_info": {
   "codemirror_mode": {
    "name": "ipython",
    "version": 3
   },
   "file_extension": ".py",
   "mimetype": "text/x-python",
   "name": "python",
   "nbconvert_exporter": "python",
   "pygments_lexer": "ipython3",
   "version": "3.9.4"
  }
 },
 "nbformat": 4,
 "nbformat_minor": 5
}
