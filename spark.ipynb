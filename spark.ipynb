{
 "cells": [
  {
   "cell_type": "code",
   "execution_count": 1,
   "id": "c630e5fd-95c7-4a61-9cce-826ed3b6f6f3",
   "metadata": {},
   "outputs": [],
   "source": [
    "import findspark\n",
    "findspark.init()"
   ]
  },
  {
   "cell_type": "code",
   "execution_count": 2,
   "id": "de1ba7e4-ef20-4d33-a8e3-697abf6ae1cb",
   "metadata": {},
   "outputs": [
    {
     "name": "stdout",
     "output_type": "stream",
     "text": [
      "Flatten_DF\n"
     ]
    }
   ],
   "source": [
    "from pyspark.sql import SparkSession\n",
    "spark = SparkSession.builder.appName(\"Flatten_DF\").getOrCreate()\n",
    "print(spark.sparkContext.appName)"
   ]
  },
  {
   "cell_type": "code",
   "execution_count": 3,
   "id": "f770f732-e060-4c63-bac0-01c10689a5ef",
   "metadata": {},
   "outputs": [],
   "source": [
    "from sparkaid import flatten as flat\n",
    "from pyspark.sql.functions import *\n",
    "from pyspark.sql.types import *"
   ]
  },
  {
   "cell_type": "code",
   "execution_count": 4,
   "id": "99770df9-8769-481e-8a5a-37caa13e3184",
   "metadata": {},
   "outputs": [],
   "source": [
    "path = \"C:/Users/PETERCHAPAGAIN/Downloads/vericred_ambetter/vericred_ambetter.json\"\n",
    "#path = \"C:/pyqt/data/imperial_health_plan.json\"\n",
    "df = spark.read.json(path=path)"
   ]
  },
  {
   "cell_type": "code",
   "execution_count": 5,
   "id": "849ae3c0-04cb-47b4-92b3-188766c46bc5",
   "metadata": {},
   "outputs": [
    {
     "name": "stdout",
     "output_type": "stream",
     "text": [
      "root\n",
      " |-- addresses: array (nullable = true)\n",
      " |    |-- element: struct (containsNull = true)\n",
      " |    |    |-- address_string: string (nullable = true)\n",
      " |    |    |-- city: string (nullable = true)\n",
      " |    |    |-- languages: array (nullable = true)\n",
      " |    |    |    |-- element: struct (containsNull = true)\n",
      " |    |    |    |    |-- name: string (nullable = true)\n",
      " |    |    |    |    |-- type: string (nullable = true)\n",
      " |    |    |-- office_name: string (nullable = true)\n",
      " |    |    |-- phones: array (nullable = true)\n",
      " |    |    |    |-- element: struct (containsNull = true)\n",
      " |    |    |    |    |-- type: string (nullable = true)\n",
      " |    |    |    |    |-- value: string (nullable = true)\n",
      " |    |    |-- state: string (nullable = true)\n",
      " |    |    |-- street_line_1: string (nullable = true)\n",
      " |    |    |-- street_line_2: string (nullable = true)\n",
      " |    |    |-- zip: string (nullable = true)\n",
      " |-- group_affiliations: array (nullable = true)\n",
      " |    |-- element: string (containsNull = true)\n",
      " |-- hospital_affiliations: array (nullable = true)\n",
      " |    |-- element: struct (containsNull = true)\n",
      " |    |    |-- name: string (nullable = true)\n",
      " |-- networks: array (nullable = true)\n",
      " |    |-- element: struct (containsNull = true)\n",
      " |    |    |-- name: string (nullable = true)\n",
      " |    |    |-- tier: string (nullable = true)\n",
      " |-- provider: struct (nullable = true)\n",
      " |    |-- accepting_new_patients: boolean (nullable = true)\n",
      " |    |-- facility_name: string (nullable = true)\n",
      " |    |-- facility_type: string (nullable = true)\n",
      " |    |-- first_name: string (nullable = true)\n",
      " |    |-- gender: string (nullable = true)\n",
      " |    |-- last_name: string (nullable = true)\n",
      " |    |-- license_number: string (nullable = true)\n",
      " |    |-- middle_name: string (nullable = true)\n",
      " |    |-- npi: string (nullable = true)\n",
      " |    |-- pcp: boolean (nullable = true)\n",
      " |    |-- pcp_id: string (nullable = true)\n",
      " |    |-- provider_type: string (nullable = true)\n",
      " |    |-- rating: struct (nullable = true)\n",
      " |    |    |-- scale: string (nullable = true)\n",
      " |    |    |-- score: string (nullable = true)\n",
      " |    |-- site_uid: string (nullable = true)\n",
      " |    |-- suffix: string (nullable = true)\n",
      " |    |-- title: string (nullable = true)\n",
      " |    |-- unparsed_name: string (nullable = true)\n",
      " |-- specialties: array (nullable = true)\n",
      " |    |-- element: struct (containsNull = true)\n",
      " |    |    |-- name: string (nullable = true)\n",
      "\n"
     ]
    },
    {
     "data": {
      "text/plain": [
       "723239"
      ]
     },
     "execution_count": 5,
     "metadata": {},
     "output_type": "execute_result"
    }
   ],
   "source": [
    "df.printSchema()\n",
    "df.count()"
   ]
  },
  {
   "cell_type": "code",
   "execution_count": 6,
   "id": "a88498b3-6b64-4359-9762-52536e041b3f",
   "metadata": {},
   "outputs": [
    {
     "name": "stdout",
     "output_type": "stream",
     "text": [
      "+--------------------+------------------+---------------------+--------------------+--------------------+--------------------+\n",
      "|           addresses|group_affiliations|hospital_affiliations|            networks|            provider|         specialties|\n",
      "+--------------------+------------------+---------------------+--------------------+--------------------+--------------------+\n",
      "|[{16870 Mary Mart...|                []|                   []|[{Allwell Dual Me...|{true, Aa Mobilit...|[{Durable Medical...|\n",
      "|[{849 57th Street...|                []|                   []|[{Allwell Dual Me...|{true, Aa Pharmac...|        [{Pharmacy}]|\n",
      "|[{2610 S Intersta...|                []|                   []|[{Allwell Dual Me...|{true, null, null...|   [{Ophthalmology}]|\n",
      "|[{313 East 12th S...|                []| [{Dell Seton Medi...|[{Allwell Dual Me...|{true, null, null...|[{Hospitalist}, {...|\n",
      "|[{1601 Trinity St...|                []|                   []|[{Allwell Dual Me...|{true, null, null...|         [{Urology}]|\n",
      "+--------------------+------------------+---------------------+--------------------+--------------------+--------------------+\n",
      "only showing top 5 rows\n",
      "\n"
     ]
    }
   ],
   "source": [
    "df.show(5)"
   ]
  },
  {
   "cell_type": "code",
   "execution_count": 7,
   "id": "b8796d0e-2919-44bb-b55b-6c8d6e31f1f9",
   "metadata": {},
   "outputs": [
    {
     "name": "stdout",
     "output_type": "stream",
     "text": [
      "+--------------+\n",
      "| unparsed_name|\n",
      "+--------------+\n",
      "|   Aa Mobility|\n",
      "|   Aa Pharmacy|\n",
      "|Aaron B Roller|\n",
      "+--------------+\n",
      "only showing top 3 rows\n",
      "\n"
     ]
    }
   ],
   "source": [
    "df.select('provider.unparsed_name').show(3)"
   ]
  },
  {
   "cell_type": "code",
   "execution_count": 8,
   "id": "a8e91822-ed3d-4502-afae-607dd8c880d0",
   "metadata": {},
   "outputs": [
    {
     "name": "stdout",
     "output_type": "stream",
     "text": [
      "+----------------------------+\n",
      "|zip                         |\n",
      "+----------------------------+\n",
      "|[75762]                     |\n",
      "|[11220]                     |\n",
      "|[78704, 78759, 78665, 78640]|\n",
      "+----------------------------+\n",
      "only showing top 3 rows\n",
      "\n"
     ]
    }
   ],
   "source": [
    "df.select('addresses.zip').show(3,truncate=False)"
   ]
  },
  {
   "cell_type": "code",
   "execution_count": 9,
   "id": "155cf2e9-b4d8-4990-9030-8d63d8def263",
   "metadata": {},
   "outputs": [
    {
     "name": "stdout",
     "output_type": "stream",
     "text": [
      "+--------------------------------------------------------------------------------------------------------------------------------------------------------------------------------------------------+\n",
      "|address_string                                                                                                                                                                                    |\n",
      "+--------------------------------------------------------------------------------------------------------------------------------------------------------------------------------------------------+\n",
      "|[16870 Mary Martin Drive, Flint, TX 75762]                                                                                                                                                        |\n",
      "|[849 57th Street Floor 1, Brooklyn, NY 11220]                                                                                                                                                     |\n",
      "|[2610 S Interstate 35, Austin, TX 78704, 3807 Spicewood Springs Road Suite 101, Austin, TX 78759, 4010 Sandy Brook Drive, Suite 105, Round Rock, TX 78665, 5401 Fm 1626 Suite 365, Kyle, TX 78640]|\n",
      "+--------------------------------------------------------------------------------------------------------------------------------------------------------------------------------------------------+\n",
      "only showing top 3 rows\n",
      "\n"
     ]
    }
   ],
   "source": [
    "df.select('addresses.address_string').show(3,truncate=False)"
   ]
  },
  {
   "cell_type": "code",
   "execution_count": 87,
   "id": "93e38e42-289e-4987-8c5b-04d7ddc46aae",
   "metadata": {},
   "outputs": [],
   "source": [
    "siteuid = df.select('provider.site_uid').distinct()"
   ]
  },
  {
   "cell_type": "code",
   "execution_count": 89,
   "id": "2ab27014-6578-4764-a9fa-075e94a67fe3",
   "metadata": {},
   "outputs": [
    {
     "data": {
      "text/plain": [
       "459889"
      ]
     },
     "execution_count": 89,
     "metadata": {},
     "output_type": "execute_result"
    }
   ],
   "source": [
    "siteuid.count()"
   ]
  },
  {
   "cell_type": "code",
   "execution_count": 90,
   "id": "1fd1c21c-4079-4e1f-b3ed-9013d29b25c7",
   "metadata": {},
   "outputs": [
    {
     "name": "stdout",
     "output_type": "stream",
     "text": [
      "+--------+\n",
      "|site_uid|\n",
      "+--------+\n",
      "|13817337|\n",
      "| 8019669|\n",
      "|15179502|\n",
      "| 6325543|\n",
      "| 4134026|\n",
      "|12890778|\n",
      "| 5181081|\n",
      "| 4494067|\n",
      "| 4495659|\n",
      "|11786351|\n",
      "|11793464|\n",
      "|11812093|\n",
      "| 5094199|\n",
      "|11029730|\n",
      "|11385253|\n",
      "+--------+\n",
      "only showing top 15 rows\n",
      "\n"
     ]
    }
   ],
   "source": [
    "siteuid.show(15)"
   ]
  },
  {
   "cell_type": "code",
   "execution_count": 92,
   "id": "40c3dea3-a294-419c-a514-3d9e275a3b9e",
   "metadata": {},
   "outputs": [
    {
     "name": "stdout",
     "output_type": "stream",
     "text": [
      "+-----------------------------------------------------------------------------------------------------------------------------------------------------------------------+---------------------------------------------+--------------------------------------------------------------------------------------------------------------------------------------------------------------------------------------------------------------------------------------------+---------------------------------+\n",
      "|addresses                                                                                                                                                              |networks                                     |provider                                                                                                                                                                                                                                    |specialties                      |\n",
      "+-----------------------------------------------------------------------------------------------------------------------------------------------------------------------+---------------------------------------------+--------------------------------------------------------------------------------------------------------------------------------------------------------------------------------------------------------------------------------------------+---------------------------------+\n",
      "|[{401 N Monroe Street, Beeville, TX 78102, Beeville, [], La Amistad Provider Services, [{phone, 361-358-1855}, {fax, 361-358-1861}], TX, 401 N Monroe Street, , 78102}]|[{Allwell Dual Medicare Harmony HMO D-SNP, }]|{true, La Amistad Provider Services and La Amistad Adult Care and A, ANCILLARY, null, null, null, , null, 1093163529, null, null, facility, {null, null}, 4134026, null, null, La Amistad Provider Services and La Amistad Adult Care and A}|[{Hospice Care, Community Based}]|\n",
      "|[{401 N Monroe Street, Beeville, TX 78102, Beeville, [], La Amistad Provider Services, [{phone, 361-358-1855}, {fax, 361-358-1861}], TX, 401 N Monroe Street, , 78102}]|[{Allwell Dual Medicare HMO SNP, }]          |{true, La Amistad Provider Services and La Amistad Adult Care and A, ANCILLARY, null, null, null, , null, 1093163529, null, null, facility, {null, null}, 4134026, null, null, La Amistad Provider Services and La Amistad Adult Care and A}|[{Hospice Care, Community Based}]|\n",
      "|[{401 N Monroe Street, Beeville, TX 78102, Beeville, [], La Amistad Provider Services, [{phone, 361-358-1855}, {fax, 361-358-1861}], TX, 401 N Monroe Street, , 78102}]|[{Allwell Medicare Nurture HMO D-SNP, }]     |{true, La Amistad Provider Services and La Amistad Adult Care and A, ANCILLARY, null, null, null, , null, 1093163529, null, null, facility, {null, null}, 4134026, null, null, La Amistad Provider Services and La Amistad Adult Care and A}|[{Hospice Care, Community Based}]|\n",
      "+-----------------------------------------------------------------------------------------------------------------------------------------------------------------------+---------------------------------------------+--------------------------------------------------------------------------------------------------------------------------------------------------------------------------------------------------------------------------------------------+---------------------------------+\n",
      "\n"
     ]
    }
   ],
   "source": [
    "df.filter(col(\"provider.site_uid\")==4134026).select(['addresses','networks','provider','specialties']).show(truncate=False)"
   ]
  },
  {
   "cell_type": "code",
   "execution_count": 10,
   "id": "11f28807-2a05-44c0-92ca-0c00c76dc715",
   "metadata": {},
   "outputs": [],
   "source": [
    "flatdf = flat(df)"
   ]
  },
  {
   "cell_type": "code",
   "execution_count": null,
   "id": "139911bf-b86c-4794-9f3d-6c4c74f93ee9",
   "metadata": {},
   "outputs": [],
   "source": []
  },
  {
   "cell_type": "code",
   "execution_count": 11,
   "id": "78271277-ff35-4ea4-96cd-bd9ff9da381b",
   "metadata": {},
   "outputs": [
    {
     "name": "stdout",
     "output_type": "stream",
     "text": [
      "root\n",
      " |-- addresses_address_string: array (nullable = true)\n",
      " |    |-- element: string (containsNull = true)\n",
      " |-- addresses_city: array (nullable = true)\n",
      " |    |-- element: string (containsNull = true)\n",
      " |-- addresses_languages_name: array (nullable = true)\n",
      " |    |-- element: array (containsNull = true)\n",
      " |    |    |-- element: string (containsNull = true)\n",
      " |-- addresses_languages_type: array (nullable = true)\n",
      " |    |-- element: array (containsNull = true)\n",
      " |    |    |-- element: string (containsNull = true)\n",
      " |-- addresses_office_name: array (nullable = true)\n",
      " |    |-- element: string (containsNull = true)\n",
      " |-- addresses_phones_type: array (nullable = true)\n",
      " |    |-- element: array (containsNull = true)\n",
      " |    |    |-- element: string (containsNull = true)\n",
      " |-- addresses_phones_value: array (nullable = true)\n",
      " |    |-- element: array (containsNull = true)\n",
      " |    |    |-- element: string (containsNull = true)\n",
      " |-- addresses_state: array (nullable = true)\n",
      " |    |-- element: string (containsNull = true)\n",
      " |-- addresses_street_line_1: array (nullable = true)\n",
      " |    |-- element: string (containsNull = true)\n",
      " |-- addresses_street_line_2: array (nullable = true)\n",
      " |    |-- element: string (containsNull = true)\n",
      " |-- addresses_zip: array (nullable = true)\n",
      " |    |-- element: string (containsNull = true)\n",
      " |-- group_affiliations: array (nullable = true)\n",
      " |    |-- element: string (containsNull = true)\n",
      " |-- hospital_affiliations_name: array (nullable = true)\n",
      " |    |-- element: string (containsNull = true)\n",
      " |-- networks_name: array (nullable = true)\n",
      " |    |-- element: string (containsNull = true)\n",
      " |-- networks_tier: array (nullable = true)\n",
      " |    |-- element: string (containsNull = true)\n",
      " |-- provider_accepting_new_patients: boolean (nullable = true)\n",
      " |-- provider_facility_name: string (nullable = true)\n",
      " |-- provider_facility_type: string (nullable = true)\n",
      " |-- provider_first_name: string (nullable = true)\n",
      " |-- provider_gender: string (nullable = true)\n",
      " |-- provider_last_name: string (nullable = true)\n",
      " |-- provider_license_number: string (nullable = true)\n",
      " |-- provider_middle_name: string (nullable = true)\n",
      " |-- provider_npi: string (nullable = true)\n",
      " |-- provider_pcp: boolean (nullable = true)\n",
      " |-- provider_pcp_id: string (nullable = true)\n",
      " |-- provider_provider_type: string (nullable = true)\n",
      " |-- provider_rating_scale: string (nullable = true)\n",
      " |-- provider_rating_score: string (nullable = true)\n",
      " |-- provider_site_uid: string (nullable = true)\n",
      " |-- provider_suffix: string (nullable = true)\n",
      " |-- provider_title: string (nullable = true)\n",
      " |-- provider_unparsed_name: string (nullable = true)\n",
      " |-- specialties_name: array (nullable = true)\n",
      " |    |-- element: string (containsNull = true)\n",
      "\n"
     ]
    }
   ],
   "source": [
    "flatdf.printSchema()"
   ]
  },
  {
   "cell_type": "code",
   "execution_count": 45,
   "id": "624a7946-9525-4d3a-9d7e-976be853bb4e",
   "metadata": {},
   "outputs": [
    {
     "name": "stdout",
     "output_type": "stream",
     "text": [
      "+------------------------+\n",
      "|addresses_address_string|\n",
      "+------------------------+\n",
      "|    [16870 Mary Marti...|\n",
      "|    [849 57th Street ...|\n",
      "|    [2610 S Interstat...|\n",
      "|    [313 East 12th St...|\n",
      "|    [1601 Trinity Str...|\n",
      "|    [3201 West Highwa...|\n",
      "|    [3801 N Lamar Bou...|\n",
      "|    [8666 Huebner Roa...|\n",
      "|    [9902 Potranco Ro...|\n",
      "|    [803 Castroville ...|\n",
      "|    [11113 Research B...|\n",
      "|    [11113 Research B...|\n",
      "|    [14058 Bee Cave P...|\n",
      "|    [12129 Ranch Road...|\n",
      "|    [109 Cypres Creek...|\n",
      "|    [143 Exchange Bou...|\n",
      "|    [7330 San Pedro A...|\n",
      "|    [1448 E Common St...|\n",
      "|    [3201 S Austin Av...|\n",
      "|    [1850 W State Hig...|\n",
      "+------------------------+\n",
      "only showing top 20 rows\n",
      "\n"
     ]
    }
   ],
   "source": [
    "flatdf.select('addresses_address_string').show(truncate=True)"
   ]
  },
  {
   "cell_type": "code",
   "execution_count": 56,
   "id": "3692a8f1-4b7e-49bc-b867-fabf85f6c960",
   "metadata": {},
   "outputs": [],
   "source": [
    "aaron = flatdf.filter(col(\"provider_unparsed_name\")==\"Aaron B Roller\")\\\n",
    ".select('addresses_address_string','addresses_street_line_1','addresses_zip','hospital_affiliations_name',\n",
    "        'group_affiliations','specialties_name','networks_name','networks_tier')\\\n",
    ".cache()\n",
    "#.show(truncate=False)\n",
    "#.distinct()"
   ]
  },
  {
   "cell_type": "code",
   "execution_count": 37,
   "id": "6e79f5c3-f424-47d0-80fc-60934c2afbc9",
   "metadata": {},
   "outputs": [
    {
     "data": {
      "text/plain": [
       "Row(addresses_street_line_1=['2610 S Interstate 35', '3807 Spicewood Springs Road Suite 101', '4010 Sandy Brook Drive', '5401 Fm 1626 Suite 365'], addresses_zip=['78704', '78759', '78665', '78640'], hospital_affiliations_name=[], group_affiliations=[], specialties_name=['Ophthalmology'], networks_name=['Allwell Dual Medicare Harmony HMO D-SNP'], networks_tier=[''])"
      ]
     },
     "execution_count": 37,
     "metadata": {},
     "output_type": "execute_result"
    }
   ],
   "source": [
    "aaron.first()"
   ]
  },
  {
   "cell_type": "code",
   "execution_count": 38,
   "id": "de8e46e8-3815-43ba-a16a-67736e0616cc",
   "metadata": {},
   "outputs": [
    {
     "data": {
      "text/plain": [
       "True"
      ]
     },
     "execution_count": 38,
     "metadata": {},
     "output_type": "execute_result"
    }
   ],
   "source": [
    "len(aaron.head(5))>0"
   ]
  },
  {
   "cell_type": "code",
   "execution_count": 16,
   "id": "1329d8b0-752e-4f9d-b79e-b604d711462a",
   "metadata": {},
   "outputs": [
    {
     "data": {
      "text/plain": [
       "15"
      ]
     },
     "execution_count": 16,
     "metadata": {},
     "output_type": "execute_result"
    }
   ],
   "source": [
    "aaron.count() #try len"
   ]
  },
  {
   "cell_type": "code",
   "execution_count": 39,
   "id": "bc44487a-08c8-4b37-8b9c-21e73be7b539",
   "metadata": {},
   "outputs": [
    {
     "name": "stdout",
     "output_type": "stream",
     "text": [
      "root\n",
      " |-- addresses_street_line_1: array (nullable = true)\n",
      " |    |-- element: string (containsNull = true)\n",
      " |-- addresses_zip: array (nullable = true)\n",
      " |    |-- element: string (containsNull = true)\n",
      " |-- hospital_affiliations_name: array (nullable = true)\n",
      " |    |-- element: string (containsNull = true)\n",
      " |-- group_affiliations: array (nullable = true)\n",
      " |    |-- element: string (containsNull = true)\n",
      " |-- specialties_name: array (nullable = true)\n",
      " |    |-- element: string (containsNull = true)\n",
      " |-- networks_name: array (nullable = true)\n",
      " |    |-- element: string (containsNull = true)\n",
      " |-- networks_tier: array (nullable = true)\n",
      " |    |-- element: string (containsNull = true)\n",
      "\n"
     ]
    }
   ],
   "source": [
    "aaron.printSchema()"
   ]
  },
  {
   "cell_type": "code",
   "execution_count": 83,
   "id": "9821d8b0-5a77-4ded-aebd-755e6e326a9b",
   "metadata": {},
   "outputs": [
    {
     "name": "stdout",
     "output_type": "stream",
     "text": [
      "+-------------------------------------+----------------+-------------------+---------------------------------------+----------------+\n",
      "|addresses_street_line_1[0]           |addresses_zip[0]|specialties_name[0]|networks_name[0]                       |networks_tier[0]|\n",
      "+-------------------------------------+----------------+-------------------+---------------------------------------+----------------+\n",
      "|2610 S Interstate 35                 |78704           |Ophthalmology      |Allwell Dual Medicare Harmony HMO D-SNP|                |\n",
      "|2610 S Interstate 35                 |78704           |Ophthalmology      |Allwell Dual Medicare HMO SNP          |                |\n",
      "|3807 Spicewood Springs Road Suite 101|78759           |Ophthalmology      |Allwell Medicare Boost HMO             |                |\n",
      "|3807 Spicewood Springs Road Suite 101|78759           |Ophthalmology      |Allwell Medicare Complement HMO        |                |\n",
      "|3807 Spicewood Springs Road Suite 101|78759           |Ophthalmology      |Allwell Medicare HMO                   |                |\n",
      "|2610 S Interstate 35                 |78704           |Ophthalmology      |Allwell Medicare Nurture HMO D-SNP     |                |\n",
      "|3807 Spicewood Springs Road Suite 101|78759           |Ophthalmology      |Allwell Medicare Simple HMO            |                |\n",
      "|2610 S Interstate 35                 |78704           |Ophthalmology      |CHIP                                   |                |\n",
      "|5401 Fm 1626 Suite 365               |78640           |Ophthalmology      |CHIP PERINATE                          |                |\n",
      "|4010 Sandy Brook Drive               |78665           |Ophthalmology      |CHIP RSA                               |                |\n",
      "|2610 S Interstate 35                 |78704           |Ophthalmology      |STAR                                   |                |\n",
      "|2610 S Interstate 35                 |78704           |Ophthalmology      |STAR Health                            |                |\n",
      "|3807 Spicewood Springs Road Suite 101|78759           |Ophthalmology      |STAR Kids                              |                |\n",
      "|2610 S Interstate 35                 |78704           |Ophthalmology      |STAR+PLUS                              |                |\n",
      "|2610 S Interstate 35                 |78704           |Ophthalmology      |STAR+PLUS MMP                          |                |\n",
      "+-------------------------------------+----------------+-------------------+---------------------------------------+----------------+\n",
      "\n"
     ]
    }
   ],
   "source": [
    "aaron.select(\n",
    "    col('addresses_street_line_1').getItem(0),\n",
    "    col('addresses_zip').getItem(0),\n",
    "    col('specialties_name').getItem(0),\n",
    "    col('networks_name').getItem(0),col('networks_tier').getItem(0)     \n",
    ").show(truncate=False)"
   ]
  },
  {
   "cell_type": "code",
   "execution_count": 26,
   "id": "26236b31-e5f4-447f-8e71-c24e2ffd3407",
   "metadata": {},
   "outputs": [
    {
     "name": "stdout",
     "output_type": "stream",
     "text": [
      "+--------------------+-------------------+\n",
      "|       networks_name|size(networks_name)|\n",
      "+--------------------+-------------------+\n",
      "|[Allwell Dual Med...|                  1|\n",
      "|[Allwell Dual Med...|                  1|\n",
      "|[Allwell Medicare...|                  1|\n",
      "|[Allwell Medicare...|                  1|\n",
      "|[Allwell Medicare...|                  1|\n",
      "|[Allwell Medicare...|                  1|\n",
      "|[Allwell Medicare...|                  1|\n",
      "|              [CHIP]|                  1|\n",
      "|     [CHIP PERINATE]|                  1|\n",
      "|          [CHIP RSA]|                  1|\n",
      "|              [STAR]|                  1|\n",
      "|       [STAR Health]|                  1|\n",
      "|         [STAR Kids]|                  1|\n",
      "|         [STAR+PLUS]|                  1|\n",
      "|     [STAR+PLUS MMP]|                  1|\n",
      "+--------------------+-------------------+\n",
      "\n"
     ]
    }
   ],
   "source": [
    "aaron.select('networks_name',size(col('networks_name'))).show()"
   ]
  },
  {
   "cell_type": "code",
   "execution_count": 44,
   "id": "231ec67e-c712-498b-87b4-9d289cb1c156",
   "metadata": {},
   "outputs": [
    {
     "name": "stdout",
     "output_type": "stream",
     "text": [
      "+-----------------------+-------------+--------------------+------------------------------------+\n",
      "|addresses_street_line_1|total_address|       networks_name|size(networks_name AS total_network)|\n",
      "+-----------------------+-------------+--------------------+------------------------------------+\n",
      "|   [2610 S Interstat...|            4|[Allwell Dual Med...|                                   1|\n",
      "|   [2610 S Interstat...|            4|[Allwell Dual Med...|                                   1|\n",
      "|   [3807 Spicewood S...|            4|[Allwell Medicare...|                                   1|\n",
      "|   [3807 Spicewood S...|            4|[Allwell Medicare...|                                   1|\n",
      "|   [3807 Spicewood S...|            4|[Allwell Medicare...|                                   1|\n",
      "|   [2610 S Interstat...|            4|[Allwell Medicare...|                                   1|\n",
      "|   [3807 Spicewood S...|            4|[Allwell Medicare...|                                   1|\n",
      "|   [2610 S Interstat...|            4|              [CHIP]|                                   1|\n",
      "|   [5401 Fm 1626 Sui...|            4|     [CHIP PERINATE]|                                   1|\n",
      "|   [4010 Sandy Brook...|            4|          [CHIP RSA]|                                   1|\n",
      "|   [2610 S Interstat...|            4|              [STAR]|                                   1|\n",
      "|   [2610 S Interstat...|            4|       [STAR Health]|                                   1|\n",
      "|   [3807 Spicewood S...|            4|         [STAR Kids]|                                   1|\n",
      "|   [2610 S Interstat...|            4|         [STAR+PLUS]|                                   1|\n",
      "|   [2610 S Interstat...|            4|     [STAR+PLUS MMP]|                                   1|\n",
      "+-----------------------+-------------+--------------------+------------------------------------+\n",
      "\n"
     ]
    }
   ],
   "source": [
    "aaron.select('addresses_street_line_1',size('addresses_street_line_1').alias('total_address'),\n",
    "             'networks_name',size(col('networks_name').alias('total_network'))).show()"
   ]
  },
  {
   "cell_type": "code",
   "execution_count": 57,
   "id": "11b6132b-28c4-4aa7-bf5b-34408e107772",
   "metadata": {},
   "outputs": [
    {
     "data": {
      "text/plain": [
       "['addresses_address_string',\n",
       " 'addresses_street_line_1',\n",
       " 'addresses_zip',\n",
       " 'hospital_affiliations_name',\n",
       " 'group_affiliations',\n",
       " 'specialties_name',\n",
       " 'networks_name',\n",
       " 'networks_tier']"
      ]
     },
     "execution_count": 57,
     "metadata": {},
     "output_type": "execute_result"
    }
   ],
   "source": [
    "aaron.columns"
   ]
  },
  {
   "cell_type": "code",
   "execution_count": 58,
   "id": "62b791ba-395d-4cdd-8a1f-8f05c4b03de3",
   "metadata": {},
   "outputs": [
    {
     "data": {
      "text/plain": [
       "15"
      ]
     },
     "execution_count": 58,
     "metadata": {},
     "output_type": "execute_result"
    }
   ],
   "source": [
    "aaron.select('addresses_address_string','hospital_affiliations_name','specialties_name','networks_name').distinct().count()"
   ]
  },
  {
   "cell_type": "code",
   "execution_count": 62,
   "id": "e009214f-c508-46d9-a417-3900e150e831",
   "metadata": {},
   "outputs": [
    {
     "name": "stdout",
     "output_type": "stream",
     "text": [
      "+--------------------------------------------------------------------------------------------------------------------------------------------------------------------------------------------------+----------------+-----------------------------------------+\n",
      "|addresses_address_string                                                                                                                                                                          |specialties_name|networks_name                            |\n",
      "+--------------------------------------------------------------------------------------------------------------------------------------------------------------------------------------------------+----------------+-----------------------------------------+\n",
      "|[2610 S Interstate 35, Austin, TX 78704, 3807 Spicewood Springs Road Suite 101, Austin, TX 78759, 4010 Sandy Brook Drive, Suite 105, Round Rock, TX 78665, 5401 Fm 1626 Suite 365, Kyle, TX 78640]|[Ophthalmology] |[Allwell Dual Medicare Harmony HMO D-SNP]|\n",
      "|[2610 S Interstate 35, Austin, TX 78704, 3807 Spicewood Springs Road Suite 101, Austin, TX 78759, 4010 Sandy Brook Drive, Suite 105, Round Rock, TX 78665, 5401 Fm 1626 Suite 365, Kyle, TX 78640]|[Ophthalmology] |[Allwell Dual Medicare HMO SNP]          |\n",
      "|[3807 Spicewood Springs Road Suite 101, Austin, TX 78759, 2610 S Interstate 35, Austin, TX 78704, 4010 Sandy Brook Drive, Suite 105, Round Rock, TX 78665, 5401 Fm 1626 Suite 365, Kyle, TX 78640]|[Ophthalmology] |[Allwell Medicare Boost HMO]             |\n",
      "|[3807 Spicewood Springs Road Suite 101, Austin, TX 78759, 2610 S Interstate 35, Austin, TX 78704, 4010 Sandy Brook Drive, Suite 105, Round Rock, TX 78665, 5401 Fm 1626 Suite 365, Kyle, TX 78640]|[Ophthalmology] |[Allwell Medicare Complement HMO]        |\n",
      "|[2610 S Interstate 35, Austin, TX 78704, 3807 Spicewood Springs Road Suite 101, Austin, TX 78759, 4010 Sandy Brook Drive, Suite 105, Round Rock, TX 78665, 5401 Fm 1626 Suite 365, Kyle, TX 78640]|[Ophthalmology] |[Allwell Medicare Nurture HMO D-SNP]     |\n",
      "|[3807 Spicewood Springs Road Suite 101, Austin, TX 78759, 2610 S Interstate 35, Austin, TX 78704, 4010 Sandy Brook Drive, Suite 105, Round Rock, TX 78665, 5401 Fm 1626 Suite 365, Kyle, TX 78640]|[Ophthalmology] |[Allwell Medicare HMO]                   |\n",
      "|[2610 S Interstate 35, Austin, TX 78704, 5401 Fm 1626 Suite 365, Kyle, TX 78640, 4010 Sandy Brook Drive, Suite 105, Round Rock, TX 78665, 3807 Spicewood Springs Road Suite 101, Austin, TX 78759]|[Ophthalmology] |[CHIP]                                   |\n",
      "|[3807 Spicewood Springs Road Suite 101, Austin, TX 78759, 2610 S Interstate 35, Austin, TX 78704, 4010 Sandy Brook Drive, Suite 105, Round Rock, TX 78665, 5401 Fm 1626 Suite 365, Kyle, TX 78640]|[Ophthalmology] |[Allwell Medicare Simple HMO]            |\n",
      "|[5401 Fm 1626 Suite 365, Kyle, TX 78640, 2610 S Interstate 35, Austin, TX 78704, 4010 Sandy Brook Drive, Suite 105, Round Rock, TX 78665, 3807 Spicewood Springs Road Suite 101, Austin, TX 78759]|[Ophthalmology] |[CHIP PERINATE]                          |\n",
      "|[4010 Sandy Brook Drive, Suite 105, Round Rock, TX 78665, 3807 Spicewood Springs Road Suite 101, Austin, TX 78759, 5401 Fm 1626 Suite 365, Kyle, TX 78640, 2610 S Interstate 35, Austin, TX 78704]|[Ophthalmology] |[CHIP RSA]                               |\n",
      "|[2610 S Interstate 35, Austin, TX 78704, 3807 Spicewood Springs Road Suite 101, Austin, TX 78759, 5401 Fm 1626 Suite 365, Kyle, TX 78640, 4010 Sandy Brook Drive, Suite 105, Round Rock, TX 78665]|[Ophthalmology] |[STAR]                                   |\n",
      "|[2610 S Interstate 35, Austin, TX 78704, 5401 Fm 1626 Suite 365, Kyle, TX 78640, 3807 Spicewood Springs Road Suite 101, Austin, TX 78759, 4010 Sandy Brook Drive, Suite 105, Round Rock, TX 78665]|[Ophthalmology] |[STAR Health]                            |\n",
      "|[3807 Spicewood Springs Road Suite 101, Austin, TX 78759, 2610 S Interstate 35, Austin, TX 78704, 4010 Sandy Brook Drive, Suite 105, Round Rock, TX 78665, 5401 Fm 1626 Suite 365, Kyle, TX 78640]|[Ophthalmology] |[STAR Kids]                              |\n",
      "|[2610 S Interstate 35, Austin, TX 78704, 3807 Spicewood Springs Road Suite 101, Austin, TX 78759, 4010 Sandy Brook Drive, Suite 105, Round Rock, TX 78665, 5401 Fm 1626 Suite 365, Kyle, TX 78640]|[Ophthalmology] |[STAR+PLUS]                              |\n",
      "|[2610 S Interstate 35, Austin, TX 78704, 3807 Spicewood Springs Road Suite 101, Austin, TX 78759, 4010 Sandy Brook Drive, Suite 105, Round Rock, TX 78665, 5401 Fm 1626 Suite 365, Kyle, TX 78640]|[Ophthalmology] |[STAR+PLUS MMP]                          |\n",
      "+--------------------------------------------------------------------------------------------------------------------------------------------------------------------------------------------------+----------------+-----------------------------------------+\n",
      "\n"
     ]
    },
    {
     "data": {
      "text/plain": [
       "15"
      ]
     },
     "execution_count": 62,
     "metadata": {},
     "output_type": "execute_result"
    }
   ],
   "source": [
    "aaron.select('addresses_address_string','specialties_name','networks_name').distinct().show(truncate=False)\n",
    "aaron.select('addresses_address_string','specialties_name','networks_name').distinct().count()"
   ]
  },
  {
   "cell_type": "code",
   "execution_count": 48,
   "id": "4d60bab2-7c4e-4176-87ea-5eab457f1cd8",
   "metadata": {},
   "outputs": [],
   "source": [
    "street1 = aaron.select('addresses_street_line_1')"
   ]
  },
  {
   "cell_type": "code",
   "execution_count": 55,
   "id": "a24f5610-7587-4b7f-8cd4-74c5f4011342",
   "metadata": {},
   "outputs": [
    {
     "name": "stdout",
     "output_type": "stream",
     "text": [
      "+-------------------------------------------------------------------------------------------------------------+\n",
      "|addresses_street_line_1                                                                                      |\n",
      "+-------------------------------------------------------------------------------------------------------------+\n",
      "|[2610 S Interstate 35, 3807 Spicewood Springs Road Suite 101, 4010 Sandy Brook Drive, 5401 Fm 1626 Suite 365]|\n",
      "|[2610 S Interstate 35, 3807 Spicewood Springs Road Suite 101, 4010 Sandy Brook Drive, 5401 Fm 1626 Suite 365]|\n",
      "|[3807 Spicewood Springs Road Suite 101, 2610 S Interstate 35, 4010 Sandy Brook Drive, 5401 Fm 1626 Suite 365]|\n",
      "|[3807 Spicewood Springs Road Suite 101, 2610 S Interstate 35, 4010 Sandy Brook Drive, 5401 Fm 1626 Suite 365]|\n",
      "|[3807 Spicewood Springs Road Suite 101, 2610 S Interstate 35, 4010 Sandy Brook Drive, 5401 Fm 1626 Suite 365]|\n",
      "|[2610 S Interstate 35, 3807 Spicewood Springs Road Suite 101, 4010 Sandy Brook Drive, 5401 Fm 1626 Suite 365]|\n",
      "|[3807 Spicewood Springs Road Suite 101, 2610 S Interstate 35, 4010 Sandy Brook Drive, 5401 Fm 1626 Suite 365]|\n",
      "|[2610 S Interstate 35, 5401 Fm 1626 Suite 365, 4010 Sandy Brook Drive, 3807 Spicewood Springs Road Suite 101]|\n",
      "|[5401 Fm 1626 Suite 365, 2610 S Interstate 35, 4010 Sandy Brook Drive, 3807 Spicewood Springs Road Suite 101]|\n",
      "|[4010 Sandy Brook Drive, 3807 Spicewood Springs Road Suite 101, 5401 Fm 1626 Suite 365, 2610 S Interstate 35]|\n",
      "|[2610 S Interstate 35, 3807 Spicewood Springs Road Suite 101, 5401 Fm 1626 Suite 365, 4010 Sandy Brook Drive]|\n",
      "|[2610 S Interstate 35, 5401 Fm 1626 Suite 365, 3807 Spicewood Springs Road Suite 101, 4010 Sandy Brook Drive]|\n",
      "|[3807 Spicewood Springs Road Suite 101, 2610 S Interstate 35, 4010 Sandy Brook Drive, 5401 Fm 1626 Suite 365]|\n",
      "|[2610 S Interstate 35, 3807 Spicewood Springs Road Suite 101, 4010 Sandy Brook Drive, 5401 Fm 1626 Suite 365]|\n",
      "|[2610 S Interstate 35, 3807 Spicewood Springs Road Suite 101, 4010 Sandy Brook Drive, 5401 Fm 1626 Suite 365]|\n",
      "+-------------------------------------------------------------------------------------------------------------+\n",
      "\n"
     ]
    }
   ],
   "source": [
    "street1.select('addresses_street_line_1').show(truncate=False)"
   ]
  },
  {
   "cell_type": "code",
   "execution_count": 54,
   "id": "306d4fd6-0595-4c4f-a7ac-d77f3e841bbf",
   "metadata": {},
   "outputs": [
    {
     "name": "stdout",
     "output_type": "stream",
     "text": [
      "+-------------------------------------------------------------------------------------------------------------+\n",
      "|addresses_street_line_1                                                                                      |\n",
      "+-------------------------------------------------------------------------------------------------------------+\n",
      "|[2610 S Interstate 35, 3807 Spicewood Springs Road Suite 101, 4010 Sandy Brook Drive, 5401 Fm 1626 Suite 365]|\n",
      "|[3807 Spicewood Springs Road Suite 101, 2610 S Interstate 35, 4010 Sandy Brook Drive, 5401 Fm 1626 Suite 365]|\n",
      "|[2610 S Interstate 35, 5401 Fm 1626 Suite 365, 4010 Sandy Brook Drive, 3807 Spicewood Springs Road Suite 101]|\n",
      "|[5401 Fm 1626 Suite 365, 2610 S Interstate 35, 4010 Sandy Brook Drive, 3807 Spicewood Springs Road Suite 101]|\n",
      "|[4010 Sandy Brook Drive, 3807 Spicewood Springs Road Suite 101, 5401 Fm 1626 Suite 365, 2610 S Interstate 35]|\n",
      "|[2610 S Interstate 35, 3807 Spicewood Springs Road Suite 101, 5401 Fm 1626 Suite 365, 4010 Sandy Brook Drive]|\n",
      "|[2610 S Interstate 35, 5401 Fm 1626 Suite 365, 3807 Spicewood Springs Road Suite 101, 4010 Sandy Brook Drive]|\n",
      "+-------------------------------------------------------------------------------------------------------------+\n",
      "\n"
     ]
    }
   ],
   "source": [
    "street1.select('addresses_street_line_1').distinct().show(truncate=False)"
   ]
  },
  {
   "cell_type": "code",
   "execution_count": 72,
   "id": "3fec46ba-def4-4fb1-8949-90ac48066bb6",
   "metadata": {},
   "outputs": [],
   "source": [
    "# streets = aaron.select(\"addresses_street_line_1\").withColumn(\"streets\",explode('addresses_street_line_1')).drop(\"addresses_street_line_1\")"
   ]
  },
  {
   "cell_type": "code",
   "execution_count": 82,
   "id": "6be79e6d-57fe-43fa-a6b7-5afedafed268",
   "metadata": {},
   "outputs": [],
   "source": [
    "streets = df.select(flatten(\"addresses.languages\").alias('language'))"
   ]
  },
  {
   "cell_type": "code",
   "execution_count": 83,
   "id": "ab74f8f0-3996-4751-bcea-b9a4b24c6235",
   "metadata": {},
   "outputs": [
    {
     "name": "stdout",
     "output_type": "stream",
     "text": [
      "root\n",
      " |-- language: array (nullable = true)\n",
      " |    |-- element: struct (containsNull = true)\n",
      " |    |    |-- name: string (nullable = true)\n",
      " |    |    |-- type: string (nullable = true)\n",
      "\n"
     ]
    }
   ],
   "source": [
    "streets.printSchema()"
   ]
  },
  {
   "cell_type": "code",
   "execution_count": 85,
   "id": "d26fa1d1-3a34-4a68-985b-af54d03d8d2f",
   "metadata": {},
   "outputs": [
    {
     "name": "stdout",
     "output_type": "stream",
     "text": [
      "+--------------------------------------------------------------------------------------------------------------------------------------------------------------------------------------------------------------------------------------------------------------------------------------------------------------------------------------------------------------------------------------------------------------------------------------------------------------------------------------------------------------------------------------------------------------------------------------------------------------------------------------------------------------------------------------------------------------------------------------------------------------------------------------------------------------------------------------------------------------------------------------------------------------------------------------------------------------------------------------------------------+\n",
      "|language                                                                                                                                                                                                                                                                                                                                                                                                                                                                                                                                                                                                                                                                                                                                                                                                                                                                                                                                                                                                |\n",
      "+--------------------------------------------------------------------------------------------------------------------------------------------------------------------------------------------------------------------------------------------------------------------------------------------------------------------------------------------------------------------------------------------------------------------------------------------------------------------------------------------------------------------------------------------------------------------------------------------------------------------------------------------------------------------------------------------------------------------------------------------------------------------------------------------------------------------------------------------------------------------------------------------------------------------------------------------------------------------------------------------------------+\n",
      "|[]                                                                                                                                                                                                                                                                                                                                                                                                                                                                                                                                                                                                                                                                                                                                                                                                                                                                                                                                                                                                      |\n",
      "|[{Chinese, primary}]                                                                                                                                                                                                                                                                                                                                                                                                                                                                                                                                                                                                                                                                                                                                                                                                                                                                                                                                                                                    |\n",
      "|[{Spanish, primary}, {English, secondary}]                                                                                                                                                                                                                                                                                                                                                                                                                                                                                                                                                                                                                                                                                                                                                                                                                                                                                                                                                              |\n",
      "|[]                                                                                                                                                                                                                                                                                                                                                                                                                                                                                                                                                                                                                                                                                                                                                                                                                                                                                                                                                                                                      |\n",
      "|[]                                                                                                                                                                                                                                                                                                                                                                                                                                                                                                                                                                                                                                                                                                                                                                                                                                                                                                                                                                                                      |\n",
      "|[]                                                                                                                                                                                                                                                                                                                                                                                                                                                                                                                                                                                                                                                                                                                                                                                                                                                                                                                                                                                                      |\n",
      "|[]                                                                                                                                                                                                                                                                                                                                                                                                                                                                                                                                                                                                                                                                                                                                                                                                                                                                                                                                                                                                      |\n",
      "|[{English, primary}]                                                                                                                                                                                                                                                                                                                                                                                                                                                                                                                                                                                                                                                                                                                                                                                                                                                                                                                                                                                    |\n",
      "|[{English, primary}, {English, primary}, {English, primary}, {English, primary}, {English, primary}, {English, primary}, {English, primary}]                                                                                                                                                                                                                                                                                                                                                                                                                                                                                                                                                                                                                                                                                                                                                                                                                                                            |\n",
      "|[{English, primary}, {Hindi, secondary}, {Punjabi, secondary}, {Spanish, secondary}, {English, primary}, {Hindi, secondary}, {Spanish, secondary}, {Punjabi, secondary}, {English, primary}, {English, primary}, {Punjabi, secondary}, {Spanish, secondary}, {Hindi, secondary}, {English, primary}, {Punjabi, secondary}, {Spanish, secondary}, {Hindi, secondary}, {English, primary}, {Spanish, secondary}, {Punjabi, secondary}, {Hindi, secondary}, {English, primary}, {Punjabi, secondary}, {Spanish, secondary}, {Hindi, secondary}, {English, primary}, {English, primary}, {English, primary}, {Hindi, secondary}, {Spanish, secondary}, {Gujarati, secondary}, {Punjabi, secondary}, {English, primary}, {Punjabi, secondary}, {Spanish, secondary}, {Hindi, secondary}, {Portuguese, secondary}, {English, primary}, {Hindi, secondary}, {Spanish, secondary}, {Punjabi, secondary}, {English, primary}, {English, primary}, {Spanish, secondary}, {Hindi, secondary}, {Punjabi, secondary}]|\n",
      "|[{Spanish, primary}]                                                                                                                                                                                                                                                                                                                                                                                                                                                                                                                                                                                                                                                                                                                                                                                                                                                                                                                                                                                    |\n",
      "|[{Spanish, primary}, {Spanish, primary}, {Spanish, primary}, {Spanish, primary}, {Spanish, primary}]                                                                                                                                                                                                                                                                                                                                                                                                                                                                                                                                                                                                                                                                                                                                                                                                                                                                                                    |\n",
      "|[{English, primary}, {Spanish, secondary}, {English, primary}, {English, primary}]                                                                                                                                                                                                                                                                                                                                                                                                                                                                                                                                                                                                                                                                                                                                                                                                                                                                                                                      |\n",
      "|[]                                                                                                                                                                                                                                                                                                                                                                                                                                                                                                                                                                                                                                                                                                                                                                                                                                                                                                                                                                                                      |\n",
      "|[]                                                                                                                                                                                                                                                                                                                                                                                                                                                                                                                                                                                                                                                                                                                                                                                                                                                                                                                                                                                                      |\n",
      "|[]                                                                                                                                                                                                                                                                                                                                                                                                                                                                                                                                                                                                                                                                                                                                                                                                                                                                                                                                                                                                      |\n",
      "|[{English, primary}, {Spanish, primary}]                                                                                                                                                                                                                                                                                                                                                                                                                                                                                                                                                                                                                                                                                                                                                                                                                                                                                                                                                                |\n",
      "|[]                                                                                                                                                                                                                                                                                                                                                                                                                                                                                                                                                                                                                                                                                                                                                                                                                                                                                                                                                                                                      |\n",
      "|[]                                                                                                                                                                                                                                                                                                                                                                                                                                                                                                                                                                                                                                                                                                                                                                                                                                                                                                                                                                                                      |\n",
      "|[]                                                                                                                                                                                                                                                                                                                                                                                                                                                                                                                                                                                                                                                                                                                                                                                                                                                                                                                                                                                                      |\n",
      "+--------------------------------------------------------------------------------------------------------------------------------------------------------------------------------------------------------------------------------------------------------------------------------------------------------------------------------------------------------------------------------------------------------------------------------------------------------------------------------------------------------------------------------------------------------------------------------------------------------------------------------------------------------------------------------------------------------------------------------------------------------------------------------------------------------------------------------------------------------------------------------------------------------------------------------------------------------------------------------------------------------+\n",
      "only showing top 20 rows\n",
      "\n"
     ]
    }
   ],
   "source": [
    "streets.select('*').show(truncate=False)"
   ]
  },
  {
   "cell_type": "code",
   "execution_count": 41,
   "id": "314b990a-3eee-4736-9b4f-2e58839c836c",
   "metadata": {},
   "outputs": [],
   "source": [
    "del flataaron"
   ]
  },
  {
   "cell_type": "code",
   "execution_count": 42,
   "id": "c1104cc0-622d-47e7-9e5d-2875171f256e",
   "metadata": {},
   "outputs": [
    {
     "ename": "NameError",
     "evalue": "name 'flataaron' is not defined",
     "output_type": "error",
     "traceback": [
      "\u001b[1;31m---------------------------------------------------------------------------\u001b[0m",
      "\u001b[1;31mNameError\u001b[0m                                 Traceback (most recent call last)",
      "\u001b[1;32mC:\\Users\\PETERC~1\\AppData\\Local\\Temp/ipykernel_5580/74634969.py\u001b[0m in \u001b[0;36m<module>\u001b[1;34m\u001b[0m\n\u001b[1;32m----> 1\u001b[1;33m \u001b[0mflataaron\u001b[0m\u001b[1;33m\u001b[0m\u001b[1;33m\u001b[0m\u001b[0m\n\u001b[0m",
      "\u001b[1;31mNameError\u001b[0m: name 'flataaron' is not defined"
     ]
    }
   ],
   "source": [
    "flataaron"
   ]
  },
  {
   "cell_type": "code",
   "execution_count": 43,
   "id": "dd60b21f-4ae7-425f-84c3-0f8100656014",
   "metadata": {},
   "outputs": [
    {
     "data": {
      "text/plain": [
       "DataFrame[addresses_street_line_1: array<string>, addresses_zip: array<string>, hospital_affiliations_name: array<string>, group_affiliations: array<string>, specialties_name: array<string>, networks_name: array<string>, networks_tier: array<string>]"
      ]
     },
     "execution_count": 43,
     "metadata": {},
     "output_type": "execute_result"
    }
   ],
   "source": [
    "aaron.unpersist()"
   ]
  },
  {
   "cell_type": "raw",
   "id": "b60828c9-ab30-44cf-a878-2ee8fc3728c9",
   "metadata": {},
   "source": [
    "spark.stop()"
   ]
  }
 ],
 "metadata": {
  "kernelspec": {
   "display_name": "Python 3 (ipykernel)",
   "language": "python",
   "name": "python3"
  },
  "language_info": {
   "codemirror_mode": {
    "name": "ipython",
    "version": 3
   },
   "file_extension": ".py",
   "mimetype": "text/x-python",
   "name": "python",
   "nbconvert_exporter": "python",
   "pygments_lexer": "ipython3",
   "version": "3.10.0"
  }
 },
 "nbformat": 4,
 "nbformat_minor": 5
}
