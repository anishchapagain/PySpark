{
 "cells": [
  {
   "cell_type": "code",
   "execution_count": 4,
   "id": "c630e5fd-95c7-4a61-9cce-826ed3b6f6f3",
   "metadata": {},
   "outputs": [],
   "source": [
    "import findspark\n",
    "findspark.init()\n",
    "import os\n",
    "os.environ[\"PYARROW_IGNORE_TIMEZONE\"] = \"1\""
   ]
  },
  {
   "cell_type": "code",
   "execution_count": 2,
   "id": "de1ba7e4-ef20-4d33-a8e3-697abf6ae1cb",
   "metadata": {},
   "outputs": [
    {
     "name": "stderr",
     "output_type": "stream",
     "text": [
      "21/12/30 15:06:56 WARN Utils: Your hostname, Anishs-MacBook-Pro.local resolves to a loopback address: 127.0.0.1; using 192.168.90.85 instead (on interface en0)\n",
      "21/12/30 15:06:56 WARN Utils: Set SPARK_LOCAL_IP if you need to bind to another address\n",
      "WARNING: An illegal reflective access operation has occurred\n",
      "WARNING: Illegal reflective access by org.apache.spark.unsafe.Platform (file:/usr/local/Cellar/apache-spark/3.2.0/libexec/jars/spark-unsafe_2.12-3.2.0.jar) to constructor java.nio.DirectByteBuffer(long,int)\n",
      "WARNING: Please consider reporting this to the maintainers of org.apache.spark.unsafe.Platform\n",
      "WARNING: Use --illegal-access=warn to enable warnings of further illegal reflective access operations\n",
      "WARNING: All illegal access operations will be denied in a future release\n",
      "Using Spark's default log4j profile: org/apache/spark/log4j-defaults.properties\n",
      "Setting default log level to \"WARN\".\n",
      "To adjust logging level use sc.setLogLevel(newLevel). For SparkR, use setLogLevel(newLevel).\n",
      "21/12/30 15:06:56 WARN NativeCodeLoader: Unable to load native-hadoop library for your platform... using builtin-java classes where applicable\n"
     ]
    },
    {
     "name": "stdout",
     "output_type": "stream",
     "text": [
      "Flatten_DF\n"
     ]
    }
   ],
   "source": [
    "from pyspark.sql import SparkSession\n",
    "spark = SparkSession.builder.appName(\"Flatten_DF\").getOrCreate()\n",
    "print(spark.sparkContext.appName)\n", 
    "print(pyspark.__version__)"
   ]
  },
  {
   "cell_type": "code",
   "execution_count": 3,
   "id": "0b4e6908-80f1-4b95-9bbb-c97acea3c50b",
   "metadata": {},
   "outputs": [],
   "source": [
    "#!pip install sparkaid"
   ]
  },
  {
   "cell_type": "code",
   "execution_count": 5,
   "id": "f770f732-e060-4c63-bac0-01c10689a5ef",
   "metadata": {},
   "outputs": [],
   "source": [
    "from sparkaid import flatten as flat\n",
    "from pyspark.sql.functions import *\n",
    "from pyspark.sql.types import *\n",
    "import pyspark.pandas as ppd\n",
    "import pandas as pd\n",
    "import matplotlib.pyplot as plt\n",
    "import numpy as np"
   ]
  },
  {
   "cell_type": "code",
   "execution_count": 4,
   "id": "b2d85201-c06c-4b60-ba4c-adccb0936afe",
   "metadata": {},
   "outputs": [],
   "source": [
    "# path = \"C:/Users/PETERCHAPAGAIN/Downloads/vericred_ambetter/vericred_ambetter.json\"\n",
    "path = \"/Users/anishchapagain/Downloads/vericred_healthpartner_WI_20211108.json\"\n",
    "#path = \"C:/pyqt/data/imperial_health_plan.json\""
   ]
  },
  {
   "cell_type": "code",
   "execution_count": 5,
   "id": "99770df9-8769-481e-8a5a-37caa13e3184",
   "metadata": {},
   "outputs": [
    {
     "name": "stderr",
     "output_type": "stream",
     "text": [
      "                                                                                \r"
     ]
    }
   ],
   "source": [
    "df = spark.read.json(path=path)"
   ]
  },
  {
   "cell_type": "code",
   "execution_count": 6,
   "id": "849ae3c0-04cb-47b4-92b3-188766c46bc5",
   "metadata": {},
   "outputs": [
    {
     "name": "stdout",
     "output_type": "stream",
     "text": [
      "root\n",
      " |-- addresses: array (nullable = true)\n",
      " |    |-- element: struct (containsNull = true)\n",
      " |    |    |-- address_string: string (nullable = true)\n",
      " |    |    |-- city: string (nullable = true)\n",
      " |    |    |-- languages: array (nullable = true)\n",
      " |    |    |    |-- element: struct (containsNull = true)\n",
      " |    |    |    |    |-- name: string (nullable = true)\n",
      " |    |    |    |    |-- type: string (nullable = true)\n",
      " |    |    |-- office_name: string (nullable = true)\n",
      " |    |    |-- phones: array (nullable = true)\n",
      " |    |    |    |-- element: struct (containsNull = true)\n",
      " |    |    |    |    |-- type: string (nullable = true)\n",
      " |    |    |    |    |-- value: string (nullable = true)\n",
      " |    |    |-- state: string (nullable = true)\n",
      " |    |    |-- street_line_1: string (nullable = true)\n",
      " |    |    |-- street_line_2: string (nullable = true)\n",
      " |    |    |-- zip: string (nullable = true)\n",
      " |-- group_affiliations: array (nullable = true)\n",
      " |    |-- element: struct (containsNull = true)\n",
      " |    |    |-- name: string (nullable = true)\n",
      " |-- hospital_affiliations: array (nullable = true)\n",
      " |    |-- element: struct (containsNull = true)\n",
      " |    |    |-- name: string (nullable = true)\n",
      " |-- networks: array (nullable = true)\n",
      " |    |-- element: struct (containsNull = true)\n",
      " |    |    |-- name: string (nullable = true)\n",
      " |    |    |-- tier: string (nullable = true)\n",
      " |-- provider: struct (nullable = true)\n",
      " |    |-- accepting_new_patients: boolean (nullable = true)\n",
      " |    |-- facility_name: string (nullable = true)\n",
      " |    |-- facility_type: string (nullable = true)\n",
      " |    |-- first_name: string (nullable = true)\n",
      " |    |-- gender: string (nullable = true)\n",
      " |    |-- last_name: string (nullable = true)\n",
      " |    |-- license_number: string (nullable = true)\n",
      " |    |-- middle_name: string (nullable = true)\n",
      " |    |-- npi: string (nullable = true)\n",
      " |    |-- pcp: string (nullable = true)\n",
      " |    |-- pcp_id: string (nullable = true)\n",
      " |    |-- provider_type: string (nullable = true)\n",
      " |    |-- rating: struct (nullable = true)\n",
      " |    |    |-- scale: string (nullable = true)\n",
      " |    |    |-- score: string (nullable = true)\n",
      " |    |-- site_uid: string (nullable = true)\n",
      " |    |-- suffix: string (nullable = true)\n",
      " |    |-- title: string (nullable = true)\n",
      " |    |-- unparsed_name: string (nullable = true)\n",
      " |-- specialties: array (nullable = true)\n",
      " |    |-- element: struct (containsNull = true)\n",
      " |    |    |-- name: string (nullable = true)\n",
      "\n"
     ]
    },
    {
     "name": "stderr",
     "output_type": "stream",
     "text": [
      "                                                                                \r"
     ]
    },
    {
     "data": {
      "text/plain": [
       "1113953"
      ]
     },
     "execution_count": 6,
     "metadata": {},
     "output_type": "execute_result"
    }
   ],
   "source": [
    "df.printSchema()\n",
    "df.count()"
   ]
  },
  {
   "cell_type": "code",
   "execution_count": 7,
   "id": "96d85ffa-a635-4a75-b28b-25448817b7c6",
   "metadata": {},
   "outputs": [
    {
     "name": "stderr",
     "output_type": "stream",
     "text": [
      "                                                                                \r"
     ]
    },
    {
     "data": {
      "text/plain": [
       "1113953"
      ]
     },
     "execution_count": 7,
     "metadata": {},
     "output_type": "execute_result"
    }
   ],
   "source": [
    "df.distinct().count()"
   ]
  },
  {
   "cell_type": "code",
   "execution_count": 8,
   "id": "a88498b3-6b64-4359-9762-52536e041b3f",
   "metadata": {},
   "outputs": [
    {
     "name": "stdout",
     "output_type": "stream",
     "text": [
      "+--------------------+------------------+---------------------+--------------------+--------------------+----------------+\n",
      "|           addresses|group_affiliations|hospital_affiliations|            networks|            provider|     specialties|\n",
      "+--------------------+------------------+---------------------+--------------------+--------------------+----------------+\n",
      "|[{149 N Main St, ...|                []|                   []|[{Medicare Advant...|{true, null, null...|[{Chiropractic}]|\n",
      "|[{407 W Knapp St,...|                []|                   []|[{Medicare Advant...|{true, null, null...|[{Chiropractic}]|\n",
      "|[{W502 Spur Ln, F...|                []|                   []|[{Medicare Advant...|{true, null, null...|[{Chiropractic}]|\n",
      "|[{107 N Bridge St...|                []|                   []|[{Medicare Advant...|{true, null, null...|[{Chiropractic}]|\n",
      "|[{124 2nd St, Par...|                []|                   []|[{Medicare Advant...|{true, null, null...|[{Chiropractic}]|\n",
      "+--------------------+------------------+---------------------+--------------------+--------------------+----------------+\n",
      "only showing top 5 rows\n",
      "\n"
     ]
    }
   ],
   "source": [
    "df.show(5)"
   ]
  },
  {
   "cell_type": "code",
   "execution_count": 9,
   "id": "b8796d0e-2919-44bb-b55b-6c8d6e31f1f9",
   "metadata": {},
   "outputs": [
    {
     "name": "stdout",
     "output_type": "stream",
     "text": [
      "+------------------+\n",
      "|     unparsed_name|\n",
      "+------------------+\n",
      "|       Jon T. Wall|\n",
      "|Steven D. Crotteau|\n",
      "|    Kyle W. Grimes|\n",
      "+------------------+\n",
      "only showing top 3 rows\n",
      "\n"
     ]
    }
   ],
   "source": [
    "df.select('provider.unparsed_name').show(3)"
   ]
  },
  {
   "cell_type": "code",
   "execution_count": 10,
   "id": "a8e91822-ed3d-4502-afae-607dd8c880d0",
   "metadata": {},
   "outputs": [
    {
     "name": "stdout",
     "output_type": "stream",
     "text": [
      "+-------+\n",
      "|zip    |\n",
      "+-------+\n",
      "|[53910]|\n",
      "|[54868]|\n",
      "|[54629]|\n",
      "+-------+\n",
      "only showing top 3 rows\n",
      "\n"
     ]
    }
   ],
   "source": [
    "df.select('addresses.zip').show(3,truncate=False)"
   ]
  },
  {
   "cell_type": "code",
   "execution_count": 11,
   "id": "155cf2e9-b4d8-4990-9030-8d63d8def263",
   "metadata": {},
   "outputs": [
    {
     "name": "stdout",
     "output_type": "stream",
     "text": [
      "+---------------------------------------+\n",
      "|address_string                         |\n",
      "+---------------------------------------+\n",
      "|[149 N Main St, Adams, WI 53910]       |\n",
      "|[407 W Knapp St, Rice Lake, WI 54868]  |\n",
      "|[W502 Spur Ln, Fountain City, WI 54629]|\n",
      "+---------------------------------------+\n",
      "only showing top 3 rows\n",
      "\n"
     ]
    }
   ],
   "source": [
    "df.select('addresses.address_string').show(3,truncate=False)"
   ]
  },
  {
   "cell_type": "code",
   "execution_count": 12,
   "id": "93e38e42-289e-4987-8c5b-04d7ddc46aae",
   "metadata": {},
   "outputs": [],
   "source": [
    "siteuid = df.select('provider.site_uid').distinct()"
   ]
  },
  {
   "cell_type": "code",
   "execution_count": 13,
   "id": "2ab27014-6578-4764-a9fa-075e94a67fe3",
   "metadata": {},
   "outputs": [
    {
     "name": "stderr",
     "output_type": "stream",
     "text": [
      "                                                                                \r"
     ]
    },
    {
     "data": {
      "text/plain": [
       "1113953"
      ]
     },
     "execution_count": 13,
     "metadata": {},
     "output_type": "execute_result"
    }
   ],
   "source": [
    "siteuid.count()"
   ]
  },
  {
   "cell_type": "code",
   "execution_count": 14,
   "id": "1fd1c21c-4079-4e1f-b3ed-9013d29b25c7",
   "metadata": {},
   "outputs": [
    {
     "name": "stderr",
     "output_type": "stream",
     "text": [
      "[Stage 20:>                                                         (0 + 8) / 8]\r"
     ]
    },
    {
     "name": "stdout",
     "output_type": "stream",
     "text": [
      "+------------+\n",
      "|    site_uid|\n",
      "+------------+\n",
      "|0a0a1372c1e8|\n",
      "|557c54bbcdde|\n",
      "|8ca6e045df55|\n",
      "|96431cf081b1|\n",
      "|a8392a72387c|\n",
      "|b83dd47411ee|\n",
      "|c44f84197cb1|\n",
      "|11244d1faf0e|\n",
      "|cea56c3182a0|\n",
      "|d0552db591ec|\n",
      "|c016d549dc5c|\n",
      "|fe86918a8ac8|\n",
      "|ab8885182fb9|\n",
      "|3e6dd9b2f577|\n",
      "|9631644b0fc7|\n",
      "+------------+\n",
      "only showing top 15 rows\n",
      "\n"
     ]
    },
    {
     "name": "stderr",
     "output_type": "stream",
     "text": [
      "                                                                                \r"
     ]
    }
   ],
   "source": [
    "siteuid.show(15)"
   ]
  },
  {
   "cell_type": "code",
   "execution_count": 15,
   "id": "40c3dea3-a294-419c-a514-3d9e275a3b9e",
   "metadata": {},
   "outputs": [
    {
     "name": "stderr",
     "output_type": "stream",
     "text": [
      "[Stage 25:>                                                         (0 + 3) / 3]\r"
     ]
    },
    {
     "name": "stdout",
     "output_type": "stream",
     "text": [
      "+---------------------------------------------------------------------------------------------------------------------------------+---------------------------------------------------------+---------------------------------------------------------------------------------------------------------------------------+-------------------------+\n",
      "|addresses                                                                                                                        |networks                                                 |provider                                                                                                                   |specialties              |\n",
      "+---------------------------------------------------------------------------------------------------------------------------------+---------------------------------------------------------+---------------------------------------------------------------------------------------------------------------------------+-------------------------+\n",
      "|[{2820 Roosevelt Rd, Marinette, WI 54143, Marinette, [], Bellin Health, [{phone, 715-735-5225}], WI, 2820 Roosevelt Rd, , 54143}]|[{Medicare Advantage: HealthPartners&reg; Robin (PPO), }]|{true, null, null, Jani, F, Cook, , L., null, null, null, individual, {null, null}, 11244d1faf0e, NP-F, null, Jani L. Cook}|[{Oncology & Hematology}]|\n",
      "+---------------------------------------------------------------------------------------------------------------------------------+---------------------------------------------------------+---------------------------------------------------------------------------------------------------------------------------+-------------------------+\n",
      "\n"
     ]
    },
    {
     "name": "stderr",
     "output_type": "stream",
     "text": [
      "                                                                                \r"
     ]
    }
   ],
   "source": [
    "df.filter(col(\"provider.site_uid\")=='11244d1faf0e').filter(col('addresses_phones'))select(['addresses','networks','provider','specialties']).show(truncate=False)"
   ]
  },
  {
   "cell_type": "code",
   "execution_count": 16,
   "id": "11f28807-2a05-44c0-92ca-0c00c76dc715",
   "metadata": {},
   "outputs": [],
   "source": [
    "flatdf = flat(df)"
   ]
  },
  {
   "cell_type": "code",
   "execution_count": 17,
   "id": "78271277-ff35-4ea4-96cd-bd9ff9da381b",
   "metadata": {},
   "outputs": [
    {
     "name": "stdout",
     "output_type": "stream",
     "text": [
      "root\n",
      " |-- addresses_address_string: array (nullable = true)\n",
      " |    |-- element: string (containsNull = true)\n",
      " |-- addresses_city: array (nullable = true)\n",
      " |    |-- element: string (containsNull = true)\n",
      " |-- addresses_languages_name: array (nullable = true)\n",
      " |    |-- element: array (containsNull = true)\n",
      " |    |    |-- element: string (containsNull = true)\n",
      " |-- addresses_languages_type: array (nullable = true)\n",
      " |    |-- element: array (containsNull = true)\n",
      " |    |    |-- element: string (containsNull = true)\n",
      " |-- addresses_office_name: array (nullable = true)\n",
      " |    |-- element: string (containsNull = true)\n",
      " |-- addresses_phones_type: array (nullable = true)\n",
      " |    |-- element: array (containsNull = true)\n",
      " |    |    |-- element: string (containsNull = true)\n",
      " |-- addresses_phones_value: array (nullable = true)\n",
      " |    |-- element: array (containsNull = true)\n",
      " |    |    |-- element: string (containsNull = true)\n",
      " |-- addresses_state: array (nullable = true)\n",
      " |    |-- element: string (containsNull = true)\n",
      " |-- addresses_street_line_1: array (nullable = true)\n",
      " |    |-- element: string (containsNull = true)\n",
      " |-- addresses_street_line_2: array (nullable = true)\n",
      " |    |-- element: string (containsNull = true)\n",
      " |-- addresses_zip: array (nullable = true)\n",
      " |    |-- element: string (containsNull = true)\n",
      " |-- group_affiliations_name: array (nullable = true)\n",
      " |    |-- element: string (containsNull = true)\n",
      " |-- hospital_affiliations_name: array (nullable = true)\n",
      " |    |-- element: string (containsNull = true)\n",
      " |-- networks_name: array (nullable = true)\n",
      " |    |-- element: string (containsNull = true)\n",
      " |-- networks_tier: array (nullable = true)\n",
      " |    |-- element: string (containsNull = true)\n",
      " |-- provider_accepting_new_patients: boolean (nullable = true)\n",
      " |-- provider_facility_name: string (nullable = true)\n",
      " |-- provider_facility_type: string (nullable = true)\n",
      " |-- provider_first_name: string (nullable = true)\n",
      " |-- provider_gender: string (nullable = true)\n",
      " |-- provider_last_name: string (nullable = true)\n",
      " |-- provider_license_number: string (nullable = true)\n",
      " |-- provider_middle_name: string (nullable = true)\n",
      " |-- provider_npi: string (nullable = true)\n",
      " |-- provider_pcp: string (nullable = true)\n",
      " |-- provider_pcp_id: string (nullable = true)\n",
      " |-- provider_provider_type: string (nullable = true)\n",
      " |-- provider_rating_scale: string (nullable = true)\n",
      " |-- provider_rating_score: string (nullable = true)\n",
      " |-- provider_site_uid: string (nullable = true)\n",
      " |-- provider_suffix: string (nullable = true)\n",
      " |-- provider_title: string (nullable = true)\n",
      " |-- provider_unparsed_name: string (nullable = true)\n",
      " |-- specialties_name: array (nullable = true)\n",
      " |    |-- element: string (containsNull = true)\n",
      "\n"
     ]
    }
   ],
   "source": [
    "flatdf.printSchema()"
   ]
  },
  {
   "cell_type": "code",
   "execution_count": 19,
   "id": "b761d95b-f7d1-4549-badf-19ec2c03eba9",
   "metadata": {},
   "outputs": [
    {
     "name": "stderr",
     "output_type": "stream",
     "text": [
      "[Stage 29:=======>                                                  (1 + 7) / 8]\r"
     ]
    },
    {
     "name": "stdout",
     "output_type": "stream",
     "text": [
      "+-----------------------------------------------------+-----+\n",
      "|networks_name                                        |count|\n",
      "+-----------------------------------------------------+-----+\n",
      "|[Open Access]                                        |84457|\n",
      "|[2021 Distinctions II]                               |84120|\n",
      "|[2020 Distinctions III]                              |84101|\n",
      "|[2021 Distinctions III]                              |83996|\n",
      "|[CentraChoice]                                       |83732|\n",
      "|[Perform]                                            |83178|\n",
      "|[2020 Distinctions II]                               |83022|\n",
      "|[Perform SE]                                         |81853|\n",
      "|[CentraChoice SE]                                    |70552|\n",
      "|[AchieveSM SE]                                       |70031|\n",
      "|[AchieveSM]                                          |68767|\n",
      "|[HealthPartners Primary Clinic]                      |42151|\n",
      "|[Robin Oak]                                          |31025|\n",
      "|[HealthPartners&reg; Freedom WI (Cost)]              |25594|\n",
      "|[Atlas]                                              |21792|\n",
      "|[Peak]                                               |19010|\n",
      "|[Medicare Advantage: HealthPartners&reg; Robin (PPO)]|17139|\n",
      "|[SmartCare]                                          |11381|\n",
      "|[Select]                                             |10260|\n",
      "|[Apex]                                               |8669 |\n",
      "+-----------------------------------------------------+-----+\n",
      "only showing top 20 rows\n",
      "\n"
     ]
    },
    {
     "name": "stderr",
     "output_type": "stream",
     "text": [
      "                                                                                \r"
     ]
    }
   ],
   "source": [
    "flatdf.groupBy(col(\"networks_name\")).count().orderBy(col('count').desc()).show(20,truncate=False) #value_count"
   ]
  },
  {
   "cell_type": "code",
   "execution_count": 21,
   "id": "c72f46f0-6701-4b83-9433-06bf4271b2f8",
   "metadata": {},
   "outputs": [
    {
     "name": "stderr",
     "output_type": "stream",
     "text": [
      "[Stage 33:>                                                         (0 + 8) / 8]\r"
     ]
    },
    {
     "name": "stdout",
     "output_type": "stream",
     "text": [
      "+--------------------+-----+\n",
      "|       networks_name|count|\n",
      "+--------------------+-----+\n",
      "|       [Open Access]|84457|\n",
      "|[2021 Distinction...|84120|\n",
      "|[2020 Distinction...|84101|\n",
      "|[2021 Distinction...|83996|\n",
      "|      [CentraChoice]|83732|\n",
      "|           [Perform]|83178|\n",
      "|[2020 Distinction...|83022|\n",
      "|        [Perform SE]|81853|\n",
      "|   [CentraChoice SE]|70552|\n",
      "|      [AchieveSM SE]|70031|\n",
      "+--------------------+-----+\n",
      "only showing top 10 rows\n",
      "\n"
     ]
    },
    {
     "name": "stderr",
     "output_type": "stream",
     "text": [
      "                                                                                \r"
     ]
    }
   ],
   "source": [
    "flatdfnetworks = flatdf.groupBy(col(\"networks_name\")).count().orderBy(col('count').desc())#.show(30,truncate=False) #value_count\n",
    "flatdfnetworks.show(10) "
   ]
  },
  {
   "cell_type": "code",
   "execution_count": 20,
   "id": "245d789a-8db3-4e73-bcd9-f51565b13b03",
   "metadata": {},
   "outputs": [
    {
     "name": "stdout",
     "output_type": "stream",
     "text": [
      "+--------------------+----+\n",
      "|                name|tier|\n",
      "+--------------------+----+\n",
      "|Medicare Advantag...|    |\n",
      "|Medicare Advantag...|    |\n",
      "|Medicare Advantag...|    |\n",
      "|Medicare Advantag...|    |\n",
      "|Medicare Advantag...|    |\n",
      "|Medicare Advantag...|    |\n",
      "|Medicare Advantag...|    |\n",
      "|Medicare Advantag...|    |\n",
      "|Medicare Advantag...|    |\n",
      "|Medicare Advantag...|    |\n",
      "+--------------------+----+\n",
      "only showing top 10 rows\n",
      "\n"
     ]
    }
   ],
   "source": [
    "networks = df.select(explode(df.networks)).select('col.name','col.tier') #col: API name\n",
    "networks.show(10) "
   ]
  },
  {
   "cell_type": "code",
   "execution_count": 46,
   "id": "eeaa4512-f515-444b-9104-9e4f2fcc594a",
   "metadata": {},
   "outputs": [],
   "source": [
    "networks = networks.groupBy(col(\"name\")).count().orderBy(col('count').desc())#.show(30,truncate=False) #value_count"
   ]
  },
  {
   "cell_type": "code",
   "execution_count": 22,
   "id": "07e2e79b-e0e2-4371-b3bb-0b008bff3e25",
   "metadata": {},
   "outputs": [
    {
     "name": "stderr",
     "output_type": "stream",
     "text": [
      "                                                                                \r"
     ]
    }
   ],
   "source": [
    "dfNetwork = flatdfnetworks.toPandas()#show(35,truncate=False).toPandas() #value_countnetworks"
   ]
  },
  {
   "cell_type": "code",
   "execution_count": 65,
   "id": "a9cbc898-9403-4a4d-9229-386cc97dc1c2",
   "metadata": {},
   "outputs": [],
   "source": [
    "def writeToFile(df,fName,opDir,mode):\n",
    "    import os\n",
    "    if not os.path.exists(opDir):\n",
    "        os.makedirs(opDir)\n",
    "        print(\"Directory Created\")       \n",
    "    \n",
    "    if mode=='csv':\n",
    "        df.write.mode('Overwrite').csv(opDir)    \n",
    "    else:\n",
    "        df.write.mode('Overwrite').json(opDir)\n",
    "        \n",
    "    fs = spark._jvm.org.apache.hadoop.fs.FileSystem.get(spark._jsc.hadoopConfiguration())\n",
    "    list_status = fs.listStatus(spark._jvm.org.apache.hadoop.fs.Path(opDir))\n",
    "    print(list_status)\n",
    "    file_name = [file.getPath().getName() for file in list_status if file.getPath().getName().startswith('part-')][0]\n",
    "    print(\"Renaming \"+file_name+\" .... \")\n",
    "    fs.rename(spark._jvm.org.apache.hadoop.fs.Path(opDir+'/'+file_name),spark._jvm.org.apache.hadoop.fs.Path(opDir+'/'+fName))\n",
    "    "
   ]
  },
  {
   "cell_type": "code",
   "execution_count": 67,
   "id": "42a18bda-0822-4402-aee6-74fba8d34340",
   "metadata": {},
   "outputs": [
    {
     "name": "stdout",
     "output_type": "stream",
     "text": [
      "Directory Created\n"
     ]
    },
    {
     "name": "stderr",
     "output_type": "stream",
     "text": [
      "                                                                                \r"
     ]
    },
    {
     "name": "stdout",
     "output_type": "stream",
     "text": [
      "[Lorg.apache.hadoop.fs.FileStatus;@603d9579\n",
      "Renaming part-00000-2f0b61a5-dd00-477e-8361-d8739a1d1b4c-c000.json .... \n"
     ]
    }
   ],
   "source": [
    "writeToFile(flatdfnetworks,'test.json','output','json')"
   ]
  },
  {
   "cell_type": "code",
   "execution_count": 46,
   "id": "46595cfc-d5a3-4ca1-bbfe-11cf9d0305e3",
   "metadata": {},
   "outputs": [
    {
     "data": {
      "text/plain": [
       "pandas.core.frame.DataFrame"
      ]
     },
     "execution_count": 46,
     "metadata": {},
     "output_type": "execute_result"
    }
   ],
   "source": [
    "type(dfNetwork)"
   ]
  },
  {
   "cell_type": "code",
   "execution_count": 24,
   "id": "5a450b5a-abd1-4b32-b28b-932f3fb4b6d2",
   "metadata": {},
   "outputs": [
    {
     "data": {
      "text/html": [
       "<div>\n",
       "<style scoped>\n",
       "    .dataframe tbody tr th:only-of-type {\n",
       "        vertical-align: middle;\n",
       "    }\n",
       "\n",
       "    .dataframe tbody tr th {\n",
       "        vertical-align: top;\n",
       "    }\n",
       "\n",
       "    .dataframe thead th {\n",
       "        text-align: right;\n",
       "    }\n",
       "</style>\n",
       "<table border=\"1\" class=\"dataframe\">\n",
       "  <thead>\n",
       "    <tr style=\"text-align: right;\">\n",
       "      <th></th>\n",
       "      <th>networks_name</th>\n",
       "      <th>count</th>\n",
       "    </tr>\n",
       "  </thead>\n",
       "  <tbody>\n",
       "    <tr>\n",
       "      <th>0</th>\n",
       "      <td>[Open Access]</td>\n",
       "      <td>84457</td>\n",
       "    </tr>\n",
       "    <tr>\n",
       "      <th>1</th>\n",
       "      <td>[2021 Distinctions II]</td>\n",
       "      <td>84120</td>\n",
       "    </tr>\n",
       "    <tr>\n",
       "      <th>2</th>\n",
       "      <td>[2020 Distinctions III]</td>\n",
       "      <td>84101</td>\n",
       "    </tr>\n",
       "    <tr>\n",
       "      <th>3</th>\n",
       "      <td>[2021 Distinctions III]</td>\n",
       "      <td>83996</td>\n",
       "    </tr>\n",
       "    <tr>\n",
       "      <th>4</th>\n",
       "      <td>[CentraChoice]</td>\n",
       "      <td>83732</td>\n",
       "    </tr>\n",
       "    <tr>\n",
       "      <th>5</th>\n",
       "      <td>[Perform]</td>\n",
       "      <td>83178</td>\n",
       "    </tr>\n",
       "    <tr>\n",
       "      <th>6</th>\n",
       "      <td>[2020 Distinctions II]</td>\n",
       "      <td>83022</td>\n",
       "    </tr>\n",
       "    <tr>\n",
       "      <th>7</th>\n",
       "      <td>[Perform SE]</td>\n",
       "      <td>81853</td>\n",
       "    </tr>\n",
       "    <tr>\n",
       "      <th>8</th>\n",
       "      <td>[CentraChoice SE]</td>\n",
       "      <td>70552</td>\n",
       "    </tr>\n",
       "    <tr>\n",
       "      <th>9</th>\n",
       "      <td>[AchieveSM SE]</td>\n",
       "      <td>70031</td>\n",
       "    </tr>\n",
       "    <tr>\n",
       "      <th>10</th>\n",
       "      <td>[AchieveSM]</td>\n",
       "      <td>68767</td>\n",
       "    </tr>\n",
       "    <tr>\n",
       "      <th>11</th>\n",
       "      <td>[HealthPartners Primary Clinic]</td>\n",
       "      <td>42151</td>\n",
       "    </tr>\n",
       "    <tr>\n",
       "      <th>12</th>\n",
       "      <td>[Robin Oak]</td>\n",
       "      <td>31025</td>\n",
       "    </tr>\n",
       "    <tr>\n",
       "      <th>13</th>\n",
       "      <td>[HealthPartners&amp;reg; Freedom WI (Cost)]</td>\n",
       "      <td>25594</td>\n",
       "    </tr>\n",
       "    <tr>\n",
       "      <th>14</th>\n",
       "      <td>[Atlas]</td>\n",
       "      <td>21792</td>\n",
       "    </tr>\n",
       "    <tr>\n",
       "      <th>15</th>\n",
       "      <td>[Peak]</td>\n",
       "      <td>19010</td>\n",
       "    </tr>\n",
       "    <tr>\n",
       "      <th>16</th>\n",
       "      <td>[Medicare Advantage: HealthPartners&amp;reg; Robin...</td>\n",
       "      <td>17139</td>\n",
       "    </tr>\n",
       "    <tr>\n",
       "      <th>17</th>\n",
       "      <td>[SmartCare]</td>\n",
       "      <td>11381</td>\n",
       "    </tr>\n",
       "    <tr>\n",
       "      <th>18</th>\n",
       "      <td>[Select]</td>\n",
       "      <td>10260</td>\n",
       "    </tr>\n",
       "    <tr>\n",
       "      <th>19</th>\n",
       "      <td>[Apex]</td>\n",
       "      <td>8669</td>\n",
       "    </tr>\n",
       "    <tr>\n",
       "      <th>20</th>\n",
       "      <td>[TieredChoice]</td>\n",
       "      <td>8168</td>\n",
       "    </tr>\n",
       "    <tr>\n",
       "      <th>21</th>\n",
       "      <td>[HealthPartners DistinctionsSM Dental]</td>\n",
       "      <td>6644</td>\n",
       "    </tr>\n",
       "    <tr>\n",
       "      <th>22</th>\n",
       "      <td>[HealthPartners Dental Open Access]</td>\n",
       "      <td>6637</td>\n",
       "    </tr>\n",
       "    <tr>\n",
       "      <th>23</th>\n",
       "      <td>[HealthPartners Distinctions III Dental]</td>\n",
       "      <td>6631</td>\n",
       "    </tr>\n",
       "    <tr>\n",
       "      <th>24</th>\n",
       "      <td>[HealthPartners Dental Tiered PPO Network A]</td>\n",
       "      <td>6339</td>\n",
       "    </tr>\n",
       "    <tr>\n",
       "      <th>25</th>\n",
       "      <td>[HealthPartners Dental Tiered PPO Network B]</td>\n",
       "      <td>6337</td>\n",
       "    </tr>\n",
       "    <tr>\n",
       "      <th>26</th>\n",
       "      <td>[HealthPartners Regional Open Access Dental]</td>\n",
       "      <td>4665</td>\n",
       "    </tr>\n",
       "    <tr>\n",
       "      <th>27</th>\n",
       "      <td>[HealthPartners Dental Select]</td>\n",
       "      <td>2685</td>\n",
       "    </tr>\n",
       "    <tr>\n",
       "      <th>28</th>\n",
       "      <td>[Individual dental open access]</td>\n",
       "      <td>1000</td>\n",
       "    </tr>\n",
       "    <tr>\n",
       "      <th>29</th>\n",
       "      <td>[Individual HealthPartners dental group]</td>\n",
       "      <td>17</td>\n",
       "    </tr>\n",
       "  </tbody>\n",
       "</table>\n",
       "</div>"
      ],
      "text/plain": [
       "                                        networks_name  count\n",
       "0                                       [Open Access]  84457\n",
       "1                              [2021 Distinctions II]  84120\n",
       "2                             [2020 Distinctions III]  84101\n",
       "3                             [2021 Distinctions III]  83996\n",
       "4                                      [CentraChoice]  83732\n",
       "5                                           [Perform]  83178\n",
       "6                              [2020 Distinctions II]  83022\n",
       "7                                        [Perform SE]  81853\n",
       "8                                   [CentraChoice SE]  70552\n",
       "9                                      [AchieveSM SE]  70031\n",
       "10                                        [AchieveSM]  68767\n",
       "11                    [HealthPartners Primary Clinic]  42151\n",
       "12                                        [Robin Oak]  31025\n",
       "13            [HealthPartners&reg; Freedom WI (Cost)]  25594\n",
       "14                                            [Atlas]  21792\n",
       "15                                             [Peak]  19010\n",
       "16  [Medicare Advantage: HealthPartners&reg; Robin...  17139\n",
       "17                                        [SmartCare]  11381\n",
       "18                                           [Select]  10260\n",
       "19                                             [Apex]   8669\n",
       "20                                     [TieredChoice]   8168\n",
       "21             [HealthPartners DistinctionsSM Dental]   6644\n",
       "22                [HealthPartners Dental Open Access]   6637\n",
       "23           [HealthPartners Distinctions III Dental]   6631\n",
       "24       [HealthPartners Dental Tiered PPO Network A]   6339\n",
       "25       [HealthPartners Dental Tiered PPO Network B]   6337\n",
       "26       [HealthPartners Regional Open Access Dental]   4665\n",
       "27                     [HealthPartners Dental Select]   2685\n",
       "28                    [Individual dental open access]   1000\n",
       "29           [Individual HealthPartners dental group]     17"
      ]
     },
     "execution_count": 24,
     "metadata": {},
     "output_type": "execute_result"
    }
   ],
   "source": [
    "dfNetwork"
   ]
  },
  {
   "cell_type": "code",
   "execution_count": 26,
   "id": "eb7b21c4-8e32-4a01-aba6-8e48e7e032a6",
   "metadata": {},
   "outputs": [
    {
     "data": {
      "text/plain": [
       "<AxesSubplot:ylabel='networks_name'>"
      ]
     },
     "execution_count": 26,
     "metadata": {},
     "output_type": "execute_result"
    },
    {
     "data": {
      "image/png": "[encoded data removed]",
      "text/plain": [
       "<Figure size 1008x720 with 1 Axes>"
      ]
     },
     "metadata": {
      "needs_background": "light"
     },
     "output_type": "display_data"
    }
   ],
   "source": [
    "dfNetwork.set_index('networks_name').plot(kind='barh',figsize=(14,10))"
   ]
  },
  {
   "cell_type": "code",
   "execution_count": 94,
   "id": "624a7946-9525-4d3a-9d7e-976be853bb4e",
   "metadata": {},
   "outputs": [
    {
     "name": "stdout",
     "output_type": "stream",
     "text": [
      "+------------------------+\n",
      "|addresses_address_string|\n",
      "+------------------------+\n",
      "|    [149 N Main St, A...|\n",
      "|    [407 W Knapp St, ...|\n",
      "|    [W502 Spur Ln, Fo...|\n",
      "|    [107 N Bridge St,...|\n",
      "|    [124 2nd St, Pard...|\n",
      "|    [1121 BellWest Bl...|\n",
      "|    [1009 Egg Harbor ...|\n",
      "|    [5919 Tower Ave, ...|\n",
      "|    [723 Park Ridge L...|\n",
      "|    [12225 71st St, K...|\n",
      "|    [436 Superior St,...|\n",
      "|    [218 S Highway 14...|\n",
      "|    [W9330 State Road...|\n",
      "|    [333 E 2nd St, Ri...|\n",
      "|    [1813 Ashland Ave...|\n",
      "|    [522 Gateway Ave ...|\n",
      "|    [1801 W Knapp St ...|\n",
      "|    [W502 Spur Ln, Fo...|\n",
      "|    [17 W Spring St, ...|\n",
      "|    [440 E Albert St,...|\n",
      "+------------------------+\n",
      "only showing top 20 rows\n",
      "\n"
     ]
    }
   ],
   "source": [
    "flatdf.select('addresses_address_string').show(truncate=True)"
   ]
  },
  {
   "cell_type": "code",
   "execution_count": 27,
   "id": "3692a8f1-4b7e-49bc-b867-fabf85f6c960",
   "metadata": {},
   "outputs": [],
   "source": [
    "aaron = flatdf.filter(col(\"provider_unparsed_name\")==\"Jon T. Wall\")\\\n",
    ".select('addresses_address_string','addresses_street_line_1','addresses_zip','hospital_affiliations_name',\n",
    "        'group_affiliations_name','specialties_name','networks_name','networks_tier')\\\n",
    "#.show(truncate=False)\n",
    "# .distinct()"
   ]
  },
  {
   "cell_type": "code",
   "execution_count": 28,
   "id": "6e79f5c3-f424-47d0-80fc-60934c2afbc9",
   "metadata": {},
   "outputs": [
    {
     "data": {
      "text/plain": [
       "Row(addresses_address_string=['149 N Main St, Adams, WI 53910'], addresses_street_line_1=['149 N Main St'], addresses_zip=['53910'], hospital_affiliations_name=[], group_affiliations_name=[], specialties_name=['Chiropractic'], networks_name=['Medicare Advantage: HealthPartners&reg; Robin (PPO)'], networks_tier=[''])"
      ]
     },
     "execution_count": 28,
     "metadata": {},
     "output_type": "execute_result"
    }
   ],
   "source": [
    "aaron.first()"
   ]
  },
  {
   "cell_type": "code",
   "execution_count": 29,
   "id": "de8e46e8-3815-43ba-a16a-67736e0616cc",
   "metadata": {},
   "outputs": [
    {
     "data": {
      "text/plain": [
       "True"
      ]
     },
     "execution_count": 29,
     "metadata": {},
     "output_type": "execute_result"
    }
   ],
   "source": [
    "len(aaron.head(5))>0"
   ]
  },
  {
   "cell_type": "code",
   "execution_count": 30,
   "id": "1329d8b0-752e-4f9d-b79e-b604d711462a",
   "metadata": {},
   "outputs": [
    {
     "name": "stderr",
     "output_type": "stream",
     "text": [
      "                                                                                \r"
     ]
    },
    {
     "data": {
      "text/plain": [
       "38"
      ]
     },
     "execution_count": 30,
     "metadata": {},
     "output_type": "execute_result"
    }
   ],
   "source": [
    "aaron.count() #try len"
   ]
  },
  {
   "cell_type": "code",
   "execution_count": 31,
   "id": "bc44487a-08c8-4b37-8b9c-21e73be7b539",
   "metadata": {},
   "outputs": [
    {
     "name": "stdout",
     "output_type": "stream",
     "text": [
      "root\n",
      " |-- addresses_address_string: array (nullable = true)\n",
      " |    |-- element: string (containsNull = true)\n",
      " |-- addresses_street_line_1: array (nullable = true)\n",
      " |    |-- element: string (containsNull = true)\n",
      " |-- addresses_zip: array (nullable = true)\n",
      " |    |-- element: string (containsNull = true)\n",
      " |-- hospital_affiliations_name: array (nullable = true)\n",
      " |    |-- element: string (containsNull = true)\n",
      " |-- group_affiliations_name: array (nullable = true)\n",
      " |    |-- element: string (containsNull = true)\n",
      " |-- specialties_name: array (nullable = true)\n",
      " |    |-- element: string (containsNull = true)\n",
      " |-- networks_name: array (nullable = true)\n",
      " |    |-- element: string (containsNull = true)\n",
      " |-- networks_tier: array (nullable = true)\n",
      " |    |-- element: string (containsNull = true)\n",
      "\n"
     ]
    }
   ],
   "source": [
    "aaron.printSchema()"
   ]
  },
  {
   "cell_type": "code",
   "execution_count": 32,
   "id": "9821d8b0-5a77-4ded-aebd-755e6e326a9b",
   "metadata": {},
   "outputs": [
    {
     "name": "stderr",
     "output_type": "stream",
     "text": [
      "[Stage 31:>                                                         (0 + 1) / 1]\r"
     ]
    },
    {
     "name": "stdout",
     "output_type": "stream",
     "text": [
      "+--------------------------+----------------+-------------------+---------------------------------------------------+----------------+\n",
      "|addresses_street_line_1[0]|addresses_zip[0]|specialties_name[0]|networks_name[0]                                   |networks_tier[0]|\n",
      "+--------------------------+----------------+-------------------+---------------------------------------------------+----------------+\n",
      "|149 N Main St             |53910           |Chiropractic       |Medicare Advantage: HealthPartners&reg; Robin (PPO)|                |\n",
      "|400 East St Ste 101       |54670           |Chiropractic       |Medicare Advantage: HealthPartners&reg; Robin (PPO)|                |\n",
      "|149 N Main St             |53910           |Chiropractic       |HealthPartners&reg; Freedom WI (Cost)              |                |\n",
      "|400 East St Ste 101       |54670           |Chiropractic       |HealthPartners&reg; Freedom WI (Cost)              |                |\n",
      "|149 N Main St             |53910           |Chiropractic       |Open Access                                        |                |\n",
      "|400 East St Ste 101       |54670           |Chiropractic       |Open Access                                        |                |\n",
      "|149 N Main St             |53910           |Chiropractic       |Perform SE                                         |                |\n",
      "|400 East St Ste 101       |54670           |Chiropractic       |Perform SE                                         |                |\n",
      "|149 N Main St             |53910           |Chiropractic       |Perform                                            |                |\n",
      "|400 East St Ste 101       |54670           |Chiropractic       |Perform                                            |                |\n",
      "|149 N Main St             |53910           |Chiropractic       |AchieveSM SE                                       |                |\n",
      "|400 East St Ste 101       |54670           |Chiropractic       |AchieveSM SE                                       |                |\n",
      "|149 N Main St             |53910           |Chiropractic       |AchieveSM                                          |                |\n",
      "|400 East St Ste 101       |54670           |Chiropractic       |AchieveSM                                          |                |\n",
      "|149 N Main St             |53910           |Chiropractic       |CentraChoice SE                                    |                |\n",
      "|400 East St Ste 101       |54670           |Chiropractic       |CentraChoice SE                                    |                |\n",
      "|149 N Main St             |53910           |Chiropractic       |2021 Distinctions II                               |                |\n",
      "|400 East St Ste 101       |54670           |Chiropractic       |2021 Distinctions II                               |                |\n",
      "|149 N Main St             |53910           |Chiropractic       |2020 Distinctions II                               |                |\n",
      "|400 East St Ste 101       |54670           |Chiropractic       |2020 Distinctions II                               |                |\n",
      "+--------------------------+----------------+-------------------+---------------------------------------------------+----------------+\n",
      "only showing top 20 rows\n",
      "\n"
     ]
    },
    {
     "name": "stderr",
     "output_type": "stream",
     "text": [
      "                                                                                \r"
     ]
    }
   ],
   "source": [
    "aaron.select(\n",
    "    col('addresses_street_line_1').getItem(0),\n",
    "    col('addresses_zip').getItem(0),\n",
    "    col('specialties_name').getItem(0),\n",
    "    col('networks_name').getItem(0),col('networks_tier').getItem(0)     \n",
    ").show(truncate=False)"
   ]
  },
  {
   "cell_type": "code",
   "execution_count": 33,
   "id": "26236b31-e5f4-447f-8e71-c24e2ffd3407",
   "metadata": {},
   "outputs": [
    {
     "name": "stderr",
     "output_type": "stream",
     "text": [
      "[Stage 33:>                                                         (0 + 1) / 1]\r"
     ]
    },
    {
     "name": "stdout",
     "output_type": "stream",
     "text": [
      "+--------------------+-------------------+\n",
      "|       networks_name|size(networks_name)|\n",
      "+--------------------+-------------------+\n",
      "|[Medicare Advanta...|                  1|\n",
      "|[Medicare Advanta...|                  1|\n",
      "|[HealthPartners&r...|                  1|\n",
      "|[HealthPartners&r...|                  1|\n",
      "|       [Open Access]|                  1|\n",
      "|       [Open Access]|                  1|\n",
      "|        [Perform SE]|                  1|\n",
      "|        [Perform SE]|                  1|\n",
      "|           [Perform]|                  1|\n",
      "|           [Perform]|                  1|\n",
      "|      [AchieveSM SE]|                  1|\n",
      "|      [AchieveSM SE]|                  1|\n",
      "|         [AchieveSM]|                  1|\n",
      "|         [AchieveSM]|                  1|\n",
      "|   [CentraChoice SE]|                  1|\n",
      "|   [CentraChoice SE]|                  1|\n",
      "|[2021 Distinction...|                  1|\n",
      "|[2021 Distinction...|                  1|\n",
      "|[2020 Distinction...|                  1|\n",
      "|[2020 Distinction...|                  1|\n",
      "+--------------------+-------------------+\n",
      "only showing top 20 rows\n",
      "\n"
     ]
    },
    {
     "name": "stderr",
     "output_type": "stream",
     "text": [
      "                                                                                \r"
     ]
    }
   ],
   "source": [
    "aaron.select('networks_name',size(col('networks_name'))).show()"
   ]
  },
  {
   "cell_type": "code",
   "execution_count": 44,
   "id": "231ec67e-c712-498b-87b4-9d289cb1c156",
   "metadata": {},
   "outputs": [
    {
     "name": "stdout",
     "output_type": "stream",
     "text": [
      "+-----------------------+-------------+--------------------+------------------------------------+\n",
      "|addresses_street_line_1|total_address|       networks_name|size(networks_name AS total_network)|\n",
      "+-----------------------+-------------+--------------------+------------------------------------+\n",
      "|   [2610 S Interstat...|            4|[Allwell Dual Med...|                                   1|\n",
      "|   [2610 S Interstat...|            4|[Allwell Dual Med...|                                   1|\n",
      "|   [3807 Spicewood S...|            4|[Allwell Medicare...|                                   1|\n",
      "|   [3807 Spicewood S...|            4|[Allwell Medicare...|                                   1|\n",
      "|   [3807 Spicewood S...|            4|[Allwell Medicare...|                                   1|\n",
      "|   [2610 S Interstat...|            4|[Allwell Medicare...|                                   1|\n",
      "|   [3807 Spicewood S...|            4|[Allwell Medicare...|                                   1|\n",
      "|   [2610 S Interstat...|            4|              [CHIP]|                                   1|\n",
      "|   [5401 Fm 1626 Sui...|            4|     [CHIP PERINATE]|                                   1|\n",
      "|   [4010 Sandy Brook...|            4|          [CHIP RSA]|                                   1|\n",
      "|   [2610 S Interstat...|            4|              [STAR]|                                   1|\n",
      "|   [2610 S Interstat...|            4|       [STAR Health]|                                   1|\n",
      "|   [3807 Spicewood S...|            4|         [STAR Kids]|                                   1|\n",
      "|   [2610 S Interstat...|            4|         [STAR+PLUS]|                                   1|\n",
      "|   [2610 S Interstat...|            4|     [STAR+PLUS MMP]|                                   1|\n",
      "+-----------------------+-------------+--------------------+------------------------------------+\n",
      "\n"
     ]
    }
   ],
   "source": [
    "aaron.select('addresses_street_line_1',size('addresses_street_line_1').alias('total_address'),\n",
    "             'networks_name',size(col('networks_name').alias('total_network'))).show()"
   ]
  },
  {
   "cell_type": "code",
   "execution_count": 36,
   "id": "11b6132b-28c4-4aa7-bf5b-34408e107772",
   "metadata": {},
   "outputs": [
    {
     "data": {
      "text/plain": [
       "['addresses_address_string',\n",
       " 'addresses_street_line_1',\n",
       " 'addresses_zip',\n",
       " 'hospital_affiliations_name',\n",
       " 'group_affiliations_name',\n",
       " 'specialties_name',\n",
       " 'networks_name',\n",
       " 'networks_tier']"
      ]
     },
     "execution_count": 36,
     "metadata": {},
     "output_type": "execute_result"
    }
   ],
   "source": [
    "aaron.columns"
   ]
  },
  {
   "cell_type": "code",
   "execution_count": 37,
   "id": "62b791ba-395d-4cdd-8a1f-8f05c4b03de3",
   "metadata": {},
   "outputs": [
    {
     "name": "stderr",
     "output_type": "stream",
     "text": [
      "                                                                                \r"
     ]
    },
    {
     "data": {
      "text/plain": [
       "38"
      ]
     },
     "execution_count": 37,
     "metadata": {},
     "output_type": "execute_result"
    }
   ],
   "source": [
    "aaron.select('addresses_address_string','hospital_affiliations_name','specialties_name','networks_name').distinct().count()"
   ]
  },
  {
   "cell_type": "code",
   "execution_count": 62,
   "id": "e009214f-c508-46d9-a417-3900e150e831",
   "metadata": {},
   "outputs": [
    {
     "name": "stdout",
     "output_type": "stream",
     "text": [
      "+--------------------------------------------------------------------------------------------------------------------------------------------------------------------------------------------------+----------------+-----------------------------------------+\n",
      "|addresses_address_string                                                                                                                                                                          |specialties_name|networks_name                            |\n",
      "+--------------------------------------------------------------------------------------------------------------------------------------------------------------------------------------------------+----------------+-----------------------------------------+\n",
      "|[2610 S Interstate 35, Austin, TX 78704, 3807 Spicewood Springs Road Suite 101, Austin, TX 78759, 4010 Sandy Brook Drive, Suite 105, Round Rock, TX 78665, 5401 Fm 1626 Suite 365, Kyle, TX 78640]|[Ophthalmology] |[Allwell Dual Medicare Harmony HMO D-SNP]|\n",
      "|[2610 S Interstate 35, Austin, TX 78704, 3807 Spicewood Springs Road Suite 101, Austin, TX 78759, 4010 Sandy Brook Drive, Suite 105, Round Rock, TX 78665, 5401 Fm 1626 Suite 365, Kyle, TX 78640]|[Ophthalmology] |[Allwell Dual Medicare HMO SNP]          |\n",
      "|[3807 Spicewood Springs Road Suite 101, Austin, TX 78759, 2610 S Interstate 35, Austin, TX 78704, 4010 Sandy Brook Drive, Suite 105, Round Rock, TX 78665, 5401 Fm 1626 Suite 365, Kyle, TX 78640]|[Ophthalmology] |[Allwell Medicare Boost HMO]             |\n",
      "|[3807 Spicewood Springs Road Suite 101, Austin, TX 78759, 2610 S Interstate 35, Austin, TX 78704, 4010 Sandy Brook Drive, Suite 105, Round Rock, TX 78665, 5401 Fm 1626 Suite 365, Kyle, TX 78640]|[Ophthalmology] |[Allwell Medicare Complement HMO]        |\n",
      "|[2610 S Interstate 35, Austin, TX 78704, 3807 Spicewood Springs Road Suite 101, Austin, TX 78759, 4010 Sandy Brook Drive, Suite 105, Round Rock, TX 78665, 5401 Fm 1626 Suite 365, Kyle, TX 78640]|[Ophthalmology] |[Allwell Medicare Nurture HMO D-SNP]     |\n",
      "|[3807 Spicewood Springs Road Suite 101, Austin, TX 78759, 2610 S Interstate 35, Austin, TX 78704, 4010 Sandy Brook Drive, Suite 105, Round Rock, TX 78665, 5401 Fm 1626 Suite 365, Kyle, TX 78640]|[Ophthalmology] |[Allwell Medicare HMO]                   |\n",
      "|[2610 S Interstate 35, Austin, TX 78704, 5401 Fm 1626 Suite 365, Kyle, TX 78640, 4010 Sandy Brook Drive, Suite 105, Round Rock, TX 78665, 3807 Spicewood Springs Road Suite 101, Austin, TX 78759]|[Ophthalmology] |[CHIP]                                   |\n",
      "|[3807 Spicewood Springs Road Suite 101, Austin, TX 78759, 2610 S Interstate 35, Austin, TX 78704, 4010 Sandy Brook Drive, Suite 105, Round Rock, TX 78665, 5401 Fm 1626 Suite 365, Kyle, TX 78640]|[Ophthalmology] |[Allwell Medicare Simple HMO]            |\n",
      "|[5401 Fm 1626 Suite 365, Kyle, TX 78640, 2610 S Interstate 35, Austin, TX 78704, 4010 Sandy Brook Drive, Suite 105, Round Rock, TX 78665, 3807 Spicewood Springs Road Suite 101, Austin, TX 78759]|[Ophthalmology] |[CHIP PERINATE]                          |\n",
      "|[4010 Sandy Brook Drive, Suite 105, Round Rock, TX 78665, 3807 Spicewood Springs Road Suite 101, Austin, TX 78759, 5401 Fm 1626 Suite 365, Kyle, TX 78640, 2610 S Interstate 35, Austin, TX 78704]|[Ophthalmology] |[CHIP RSA]                               |\n",
      "|[2610 S Interstate 35, Austin, TX 78704, 3807 Spicewood Springs Road Suite 101, Austin, TX 78759, 5401 Fm 1626 Suite 365, Kyle, TX 78640, 4010 Sandy Brook Drive, Suite 105, Round Rock, TX 78665]|[Ophthalmology] |[STAR]                                   |\n",
      "|[2610 S Interstate 35, Austin, TX 78704, 5401 Fm 1626 Suite 365, Kyle, TX 78640, 3807 Spicewood Springs Road Suite 101, Austin, TX 78759, 4010 Sandy Brook Drive, Suite 105, Round Rock, TX 78665]|[Ophthalmology] |[STAR Health]                            |\n",
      "|[3807 Spicewood Springs Road Suite 101, Austin, TX 78759, 2610 S Interstate 35, Austin, TX 78704, 4010 Sandy Brook Drive, Suite 105, Round Rock, TX 78665, 5401 Fm 1626 Suite 365, Kyle, TX 78640]|[Ophthalmology] |[STAR Kids]                              |\n",
      "|[2610 S Interstate 35, Austin, TX 78704, 3807 Spicewood Springs Road Suite 101, Austin, TX 78759, 4010 Sandy Brook Drive, Suite 105, Round Rock, TX 78665, 5401 Fm 1626 Suite 365, Kyle, TX 78640]|[Ophthalmology] |[STAR+PLUS]                              |\n",
      "|[2610 S Interstate 35, Austin, TX 78704, 3807 Spicewood Springs Road Suite 101, Austin, TX 78759, 4010 Sandy Brook Drive, Suite 105, Round Rock, TX 78665, 5401 Fm 1626 Suite 365, Kyle, TX 78640]|[Ophthalmology] |[STAR+PLUS MMP]                          |\n",
      "+--------------------------------------------------------------------------------------------------------------------------------------------------------------------------------------------------+----------------+-----------------------------------------+\n",
      "\n"
     ]
    },
    {
     "data": {
      "text/plain": [
       "15"
      ]
     },
     "execution_count": 62,
     "metadata": {},
     "output_type": "execute_result"
    }
   ],
   "source": [
    "aaron.select('addresses_address_string','specialties_name','networks_name').distinct().show(truncate=False)\n",
    "aaron.select('addresses_address_string','specialties_name','networks_name').distinct().count()"
   ]
  },
  {
   "cell_type": "code",
   "execution_count": 48,
   "id": "4d60bab2-7c4e-4176-87ea-5eab457f1cd8",
   "metadata": {},
   "outputs": [],
   "source": [
    "street1 = aaron.select('addresses_street_line_1')"
   ]
  },
  {
   "cell_type": "code",
   "execution_count": 55,
   "id": "a24f5610-7587-4b7f-8cd4-74c5f4011342",
   "metadata": {},
   "outputs": [
    {
     "name": "stdout",
     "output_type": "stream",
     "text": [
      "+-------------------------------------------------------------------------------------------------------------+\n",
      "|addresses_street_line_1                                                                                      |\n",
      "+-------------------------------------------------------------------------------------------------------------+\n",
      "|[2610 S Interstate 35, 3807 Spicewood Springs Road Suite 101, 4010 Sandy Brook Drive, 5401 Fm 1626 Suite 365]|\n",
      "|[2610 S Interstate 35, 3807 Spicewood Springs Road Suite 101, 4010 Sandy Brook Drive, 5401 Fm 1626 Suite 365]|\n",
      "|[3807 Spicewood Springs Road Suite 101, 2610 S Interstate 35, 4010 Sandy Brook Drive, 5401 Fm 1626 Suite 365]|\n",
      "|[3807 Spicewood Springs Road Suite 101, 2610 S Interstate 35, 4010 Sandy Brook Drive, 5401 Fm 1626 Suite 365]|\n",
      "|[3807 Spicewood Springs Road Suite 101, 2610 S Interstate 35, 4010 Sandy Brook Drive, 5401 Fm 1626 Suite 365]|\n",
      "|[2610 S Interstate 35, 3807 Spicewood Springs Road Suite 101, 4010 Sandy Brook Drive, 5401 Fm 1626 Suite 365]|\n",
      "|[3807 Spicewood Springs Road Suite 101, 2610 S Interstate 35, 4010 Sandy Brook Drive, 5401 Fm 1626 Suite 365]|\n",
      "|[2610 S Interstate 35, 5401 Fm 1626 Suite 365, 4010 Sandy Brook Drive, 3807 Spicewood Springs Road Suite 101]|\n",
      "|[5401 Fm 1626 Suite 365, 2610 S Interstate 35, 4010 Sandy Brook Drive, 3807 Spicewood Springs Road Suite 101]|\n",
      "|[4010 Sandy Brook Drive, 3807 Spicewood Springs Road Suite 101, 5401 Fm 1626 Suite 365, 2610 S Interstate 35]|\n",
      "|[2610 S Interstate 35, 3807 Spicewood Springs Road Suite 101, 5401 Fm 1626 Suite 365, 4010 Sandy Brook Drive]|\n",
      "|[2610 S Interstate 35, 5401 Fm 1626 Suite 365, 3807 Spicewood Springs Road Suite 101, 4010 Sandy Brook Drive]|\n",
      "|[3807 Spicewood Springs Road Suite 101, 2610 S Interstate 35, 4010 Sandy Brook Drive, 5401 Fm 1626 Suite 365]|\n",
      "|[2610 S Interstate 35, 3807 Spicewood Springs Road Suite 101, 4010 Sandy Brook Drive, 5401 Fm 1626 Suite 365]|\n",
      "|[2610 S Interstate 35, 3807 Spicewood Springs Road Suite 101, 4010 Sandy Brook Drive, 5401 Fm 1626 Suite 365]|\n",
      "+-------------------------------------------------------------------------------------------------------------+\n",
      "\n"
     ]
    }
   ],
   "source": [
    "street1.select('addresses_street_line_1').show(truncate=False)"
   ]
  },
  {
   "cell_type": "code",
   "execution_count": 54,
   "id": "306d4fd6-0595-4c4f-a7ac-d77f3e841bbf",
   "metadata": {},
   "outputs": [
    {
     "name": "stdout",
     "output_type": "stream",
     "text": [
      "+-------------------------------------------------------------------------------------------------------------+\n",
      "|addresses_street_line_1                                                                                      |\n",
      "+-------------------------------------------------------------------------------------------------------------+\n",
      "|[2610 S Interstate 35, 3807 Spicewood Springs Road Suite 101, 4010 Sandy Brook Drive, 5401 Fm 1626 Suite 365]|\n",
      "|[3807 Spicewood Springs Road Suite 101, 2610 S Interstate 35, 4010 Sandy Brook Drive, 5401 Fm 1626 Suite 365]|\n",
      "|[2610 S Interstate 35, 5401 Fm 1626 Suite 365, 4010 Sandy Brook Drive, 3807 Spicewood Springs Road Suite 101]|\n",
      "|[5401 Fm 1626 Suite 365, 2610 S Interstate 35, 4010 Sandy Brook Drive, 3807 Spicewood Springs Road Suite 101]|\n",
      "|[4010 Sandy Brook Drive, 3807 Spicewood Springs Road Suite 101, 5401 Fm 1626 Suite 365, 2610 S Interstate 35]|\n",
      "|[2610 S Interstate 35, 3807 Spicewood Springs Road Suite 101, 5401 Fm 1626 Suite 365, 4010 Sandy Brook Drive]|\n",
      "|[2610 S Interstate 35, 5401 Fm 1626 Suite 365, 3807 Spicewood Springs Road Suite 101, 4010 Sandy Brook Drive]|\n",
      "+-------------------------------------------------------------------------------------------------------------+\n",
      "\n"
     ]
    }
   ],
   "source": [
    "street1.select('addresses_street_line_1').distinct().show(truncate=False)"
   ]
  },
  {
   "cell_type": "code",
   "execution_count": 72,
   "id": "3fec46ba-def4-4fb1-8949-90ac48066bb6",
   "metadata": {},
   "outputs": [],
   "source": [
    "# streets = aaron.select(\"addresses_street_line_1\").withColumn(\"streets\",explode('addresses_street_line_1')).drop(\"addresses_street_line_1\")"
   ]
  },
  {
   "cell_type": "code",
   "execution_count": 27,
   "id": "6be79e6d-57fe-43fa-a6b7-5afedafed268",
   "metadata": {},
   "outputs": [],
   "source": [
    "streets = df.select(flatten(\"addresses.languages\").alias('language'))"
   ]
  },
  {
   "cell_type": "code",
   "execution_count": 28,
   "id": "ab74f8f0-3996-4751-bcea-b9a4b24c6235",
   "metadata": {},
   "outputs": [
    {
     "name": "stdout",
     "output_type": "stream",
     "text": [
      "root\n",
      " |-- language: array (nullable = true)\n",
      " |    |-- element: struct (containsNull = true)\n",
      " |    |    |-- name: string (nullable = true)\n",
      " |    |    |-- type: string (nullable = true)\n",
      "\n"
     ]
    }
   ],
   "source": [
    "streets.printSchema()"
   ]
  },
  {
   "cell_type": "code",
   "execution_count": 85,
   "id": "d26fa1d1-3a34-4a68-985b-af54d03d8d2f",
   "metadata": {},
   "outputs": [
    {
     "name": "stdout",
     "output_type": "stream",
     "text": [
      "+--------------------------------------------------------------------------------------------------------------------------------------------------------------------------------------------------------------------------------------------------------------------------------------------------------------------------------------------------------------------------------------------------------------------------------------------------------------------------------------------------------------------------------------------------------------------------------------------------------------------------------------------------------------------------------------------------------------------------------------------------------------------------------------------------------------------------------------------------------------------------------------------------------------------------------------------------------------------------------------------------------+\n",
      "|language                                                                                                                                                                                                                                                                                                                                                                                                                                                                                                                                                                                                                                                                                                                                                                                                                                                                                                                                                                                                |\n",
      "+--------------------------------------------------------------------------------------------------------------------------------------------------------------------------------------------------------------------------------------------------------------------------------------------------------------------------------------------------------------------------------------------------------------------------------------------------------------------------------------------------------------------------------------------------------------------------------------------------------------------------------------------------------------------------------------------------------------------------------------------------------------------------------------------------------------------------------------------------------------------------------------------------------------------------------------------------------------------------------------------------------+\n",
      "|[]                                                                                                                                                                                                                                                                                                                                                                                                                                                                                                                                                                                                                                                                                                                                                                                                                                                                                                                                                                                                      |\n",
      "|[{Chinese, primary}]                                                                                                                                                                                                                                                                                                                                                                                                                                                                                                                                                                                                                                                                                                                                                                                                                                                                                                                                                                                    |\n",
      "|[{Spanish, primary}, {English, secondary}]                                                                                                                                                                                                                                                                                                                                                                                                                                                                                                                                                                                                                                                                                                                                                                                                                                                                                                                                                              |\n",
      "|[]                                                                                                                                                                                                                                                                                                                                                                                                                                                                                                                                                                                                                                                                                                                                                                                                                                                                                                                                                                                                      |\n",
      "|[]                                                                                                                                                                                                                                                                                                                                                                                                                                                                                                                                                                                                                                                                                                                                                                                                                                                                                                                                                                                                      |\n",
      "|[]                                                                                                                                                                                                                                                                                                                                                                                                                                                                                                                                                                                                                                                                                                                                                                                                                                                                                                                                                                                                      |\n",
      "|[]                                                                                                                                                                                                                                                                                                                                                                                                                                                                                                                                                                                                                                                                                                                                                                                                                                                                                                                                                                                                      |\n",
      "|[{English, primary}]                                                                                                                                                                                                                                                                                                                                                                                                                                                                                                                                                                                                                                                                                                                                                                                                                                                                                                                                                                                    |\n",
      "|[{English, primary}, {English, primary}, {English, primary}, {English, primary}, {English, primary}, {English, primary}, {English, primary}]                                                                                                                                                                                                                                                                                                                                                                                                                                                                                                                                                                                                                                                                                                                                                                                                                                                            |\n",
      "|[{English, primary}, {Hindi, secondary}, {Punjabi, secondary}, {Spanish, secondary}, {English, primary}, {Hindi, secondary}, {Spanish, secondary}, {Punjabi, secondary}, {English, primary}, {English, primary}, {Punjabi, secondary}, {Spanish, secondary}, {Hindi, secondary}, {English, primary}, {Punjabi, secondary}, {Spanish, secondary}, {Hindi, secondary}, {English, primary}, {Spanish, secondary}, {Punjabi, secondary}, {Hindi, secondary}, {English, primary}, {Punjabi, secondary}, {Spanish, secondary}, {Hindi, secondary}, {English, primary}, {English, primary}, {English, primary}, {Hindi, secondary}, {Spanish, secondary}, {Gujarati, secondary}, {Punjabi, secondary}, {English, primary}, {Punjabi, secondary}, {Spanish, secondary}, {Hindi, secondary}, {Portuguese, secondary}, {English, primary}, {Hindi, secondary}, {Spanish, secondary}, {Punjabi, secondary}, {English, primary}, {English, primary}, {Spanish, secondary}, {Hindi, secondary}, {Punjabi, secondary}]|\n",
      "|[{Spanish, primary}]                                                                                                                                                                                                                                                                                                                                                                                                                                                                                                                                                                                                                                                                                                                                                                                                                                                                                                                                                                                    |\n",
      "|[{Spanish, primary}, {Spanish, primary}, {Spanish, primary}, {Spanish, primary}, {Spanish, primary}]                                                                                                                                                                                                                                                                                                                                                                                                                                                                                                                                                                                                                                                                                                                                                                                                                                                                                                    |\n",
      "|[{English, primary}, {Spanish, secondary}, {English, primary}, {English, primary}]                                                                                                                                                                                                                                                                                                                                                                                                                                                                                                                                                                                                                                                                                                                                                                                                                                                                                                                      |\n",
      "|[]                                                                                                                                                                                                                                                                                                                                                                                                                                                                                                                                                                                                                                                                                                                                                                                                                                                                                                                                                                                                      |\n",
      "|[]                                                                                                                                                                                                                                                                                                                                                                                                                                                                                                                                                                                                                                                                                                                                                                                                                                                                                                                                                                                                      |\n",
      "|[]                                                                                                                                                                                                                                                                                                                                                                                                                                                                                                                                                                                                                                                                                                                                                                                                                                                                                                                                                                                                      |\n",
      "|[{English, primary}, {Spanish, primary}]                                                                                                                                                                                                                                                                                                                                                                                                                                                                                                                                                                                                                                                                                                                                                                                                                                                                                                                                                                |\n",
      "|[]                                                                                                                                                                                                                                                                                                                                                                                                                                                                                                                                                                                                                                                                                                                                                                                                                                                                                                                                                                                                      |\n",
      "|[]                                                                                                                                                                                                                                                                                                                                                                                                                                                                                                                                                                                                                                                                                                                                                                                                                                                                                                                                                                                                      |\n",
      "|[]                                                                                                                                                                                                                                                                                                                                                                                                                                                                                                                                                                                                                                                                                                                                                                                                                                                                                                                                                                                                      |\n",
      "+--------------------------------------------------------------------------------------------------------------------------------------------------------------------------------------------------------------------------------------------------------------------------------------------------------------------------------------------------------------------------------------------------------------------------------------------------------------------------------------------------------------------------------------------------------------------------------------------------------------------------------------------------------------------------------------------------------------------------------------------------------------------------------------------------------------------------------------------------------------------------------------------------------------------------------------------------------------------------------------------------------+\n",
      "only showing top 20 rows\n",
      "\n"
     ]
    }
   ],
   "source": [
    "streets.select('*').show(truncate=False)"
   ]
  },
  {
   "cell_type": "code",
   "execution_count": 29,
   "id": "314b990a-3eee-4736-9b4f-2e58839c836c",
   "metadata": {},
   "outputs": [
    {
     "ename": "NameError",
     "evalue": "name 'flataaron' is not defined",
     "output_type": "error",
     "traceback": [
      "\u001b[0;31m---------------------------------------------------------------------------\u001b[0m",
      "\u001b[0;31mNameError\u001b[0m                                 Traceback (most recent call last)",
      "\u001b[0;32m/var/folders/f8/r806jdln2jx77m9z0k_rbmqw0000gn/T/ipykernel_13487/1548741960.py\u001b[0m in \u001b[0;36m<module>\u001b[0;34m\u001b[0m\n\u001b[0;32m----> 1\u001b[0;31m \u001b[0;32mdel\u001b[0m \u001b[0mflataaron\u001b[0m\u001b[0;34m\u001b[0m\u001b[0;34m\u001b[0m\u001b[0m\n\u001b[0m",
      "\u001b[0;31mNameError\u001b[0m: name 'flataaron' is not defined"
     ]
    }
   ],
   "source": [
    "del flataaron"
   ]
  },
  {
   "cell_type": "code",
   "execution_count": 42,
   "id": "c1104cc0-622d-47e7-9e5d-2875171f256e",
   "metadata": {},
   "outputs": [
    {
     "ename": "NameError",
     "evalue": "name 'flataaron' is not defined",
     "output_type": "error",
     "traceback": [
      "\u001b[1;31m---------------------------------------------------------------------------\u001b[0m",
      "\u001b[1;31mNameError\u001b[0m                                 Traceback (most recent call last)",
      "\u001b[1;32mC:\\Users\\PETERC~1\\AppData\\Local\\Temp/ipykernel_5580/74634969.py\u001b[0m in \u001b[0;36m<module>\u001b[1;34m\u001b[0m\n\u001b[1;32m----> 1\u001b[1;33m \u001b[0mflataaron\u001b[0m\u001b[1;33m\u001b[0m\u001b[1;33m\u001b[0m\u001b[0m\n\u001b[0m",
      "\u001b[1;31mNameError\u001b[0m: name 'flataaron' is not defined"
     ]
    }
   ],
   "source": [
    "flataaron"
   ]
  },
  {
   "cell_type": "code",
   "execution_count": 43,
   "id": "dd60b21f-4ae7-425f-84c3-0f8100656014",
   "metadata": {},
   "outputs": [
    {
     "data": {
      "text/plain": [
       "DataFrame[addresses_street_line_1: array<string>, addresses_zip: array<string>, hospital_affiliations_name: array<string>, group_affiliations: array<string>, specialties_name: array<string>, networks_name: array<string>, networks_tier: array<string>]"
      ]
     },
     "execution_count": 43,
     "metadata": {},
     "output_type": "execute_result"
    }
   ],
   "source": [
    "aaron.unpersist()"
   ]
  },
  {
   "cell_type": "raw",
   "id": "b60828c9-ab30-44cf-a878-2ee8fc3728c9",
   "metadata": {},
   "source": [
    "spark.stop()"
   ]
  }
 ],
 "metadata": {
  "kernelspec": {
   "display_name": "Python 3 (ipykernel)",
   "language": "python",
   "name": "python3"
  },
  "language_info": {
   "codemirror_mode": {
    "name": "ipython",
    "version": 3
   },
   "file_extension": ".py",
   "mimetype": "text/x-python",
   "name": "python",
   "nbconvert_exporter": "python",
   "pygments_lexer": "ipython3",
   "version": "3.9.4"
  }
 },
 "nbformat": 4,
 "nbformat_minor": 5
}
