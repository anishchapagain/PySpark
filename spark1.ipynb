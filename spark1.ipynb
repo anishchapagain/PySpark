{
 "cells": [
  {
   "cell_type": "code",
   "execution_count": null,
   "id": "4aedc1e0-5f6c-4e7b-9e75-07567f768f05",
   "metadata": {},
   "outputs": [],
   "source": [
    "# https://spark.apache.org/docs/3.2.0/api/python/getting_started/index.html\n",
    "#https://docs.databricks.com/delta/data-transformation/complex-types.html\n",
    "# https://towardsdatascience.com/basics-of-apache-spark-configuration-settings-ca4faff40d45\n",
    "# https://towardsdatascience.com/apache-spark-performance-boosting-e072a3ec1179\n",
    "#C:\\Users\\PETERCHAPAGAIN\\Downloads\\vericred_ambetter_superior_health_plan_20210615.json\n",
    "#https://github.com/lyhue1991/eat_pyspark_in_10_days\n",
    "#https://www.datasciencemadesimple.com/set-difference-in-pyspark-difference-of-two-dataframe/\n",
    "#pip install pyarrow\n",
    "#spark.conf.set(“spark.sql.execution.arrow.enabled”, “true”)"
   ]
  },
  {
   "cell_type": "code",
   "execution_count": 1,
   "id": "d0998169-7875-40d0-9726-54b8f3aaa9e9",
   "metadata": {},
   "outputs": [],
   "source": [
    "# import os\n",
    "# import sys\n",
    "# os.environ[\"SPARK_HOME\"] = \"C:/Spark\"  #/Users/anishchapagain/Spark\n",
    "# os.environ[\"PYLIB\"] = os.environ[\"SPARK_HOME\"] + \"/python/lib\"\n",
    "# sys.path.insert(0, os.environ[\"PYLIB\"] +\"/py4j-0.10.9.2-src.zip\")\n",
    "# sys.path.insert(0, os.environ[\"PYLIB\"] +\"/pyspark.zip\")\n",
    "import findspark\n",
    "findspark.init()"
   ]
  },
  {
   "cell_type": "code",
   "execution_count": 2,
   "id": "2ef56844-ee26-469e-984c-18442a8ac019",
   "metadata": {},
   "outputs": [
    {
     "name": "stdout",
     "output_type": "stream",
     "text": [
      "Nested JSON File\n"
     ]
    }
   ],
   "source": [
    "from pyspark.sql import SparkSession\n",
    "spark = SparkSession.builder.appName(\"Nested JSON File\").getOrCreate()\n",
    "print(spark.sparkContext.appName)"
   ]
  },
  {
   "cell_type": "code",
   "execution_count": 3,
   "id": "728f58d7-0da2-4c77-a345-ea93835667b0",
   "metadata": {},
   "outputs": [
    {
     "name": "stdout",
     "output_type": "stream",
     "text": [
      "Nested JSON File\n"
     ]
    }
   ],
   "source": [
    "print(spark.sparkContext.appName)"
   ]
  },
  {
   "cell_type": "code",
   "execution_count": null,
   "id": "45b288b1-f8c2-4d3b-9068-262b8d5e5c93",
   "metadata": {},
   "outputs": [],
   "source": [
    "# len(df.head(5))>0 \n",
    "# df.explain()"
   ]
  },
  {
   "cell_type": "code",
   "execution_count": 4,
   "id": "72236861-2c90-426d-add0-9a6c6fbd23e4",
   "metadata": {},
   "outputs": [],
   "source": [
    "from pyspark.sql.functions import *\n",
    "from pyspark.sql.types import *"
   ]
  },
  {
   "cell_type": "code",
   "execution_count": 5,
   "id": "a34625f5-028e-47d3-a4d6-5404320cb4af",
   "metadata": {},
   "outputs": [
    {
     "data": {
      "text/plain": [
       "483"
      ]
     },
     "execution_count": 5,
     "metadata": {},
     "output_type": "execute_result"
    }
   ],
   "source": [
    "#path = \"C:\\Users\\PETERCHAPAGAIN\\Downloads\\vericred_ambetter_superior_health_plan_20210615.json\"\n",
    "path = \"C:/pyqt/data/imperial_health_plan.json\"\n",
    "df = spark.read.json(path=path)\n",
    "df.count()"
   ]
  },
  {
   "cell_type": "code",
   "execution_count": 6,
   "id": "533acaa6-4878-40fd-91a5-5a6050314760",
   "metadata": {},
   "outputs": [
    {
     "name": "stdout",
     "output_type": "stream",
     "text": [
      "+--------------------+------------------+---------------------+--------------------+--------------------+-------------+\n",
      "|           addresses|group_affiliations|hospital_affiliations|            networks|            provider|  specialties|\n",
      "+--------------------+------------------+---------------------+--------------------+--------------------+-------------+\n",
      "|[{719 W COKE RD, ...|                []|                   []|[{Imperial Insura...|{null, CHRISTUS H...|[{Hospitals}]|\n",
      "|[{1115 S SUNSET A...|                []|                   []|[{Imperial Health...|{null, EMANATE HE...|[{Hospitals}]|\n",
      "+--------------------+------------------+---------------------+--------------------+--------------------+-------------+\n",
      "only showing top 2 rows\n",
      "\n",
      "root\n",
      " |-- addresses: array (nullable = true)\n",
      " |    |-- element: struct (containsNull = true)\n",
      " |    |    |-- address_string: string (nullable = true)\n",
      " |    |    |-- city: string (nullable = true)\n",
      " |    |    |-- languages: array (nullable = true)\n",
      " |    |    |    |-- element: string (containsNull = true)\n",
      " |    |    |-- office_name: string (nullable = true)\n",
      " |    |    |-- phones: array (nullable = true)\n",
      " |    |    |    |-- element: struct (containsNull = true)\n",
      " |    |    |    |    |-- type: string (nullable = true)\n",
      " |    |    |    |    |-- value: string (nullable = true)\n",
      " |    |    |-- state: string (nullable = true)\n",
      " |    |    |-- street_line_1: string (nullable = true)\n",
      " |    |    |-- street_line_2: string (nullable = true)\n",
      " |    |    |-- zip: string (nullable = true)\n",
      " |-- group_affiliations: array (nullable = true)\n",
      " |    |-- element: string (containsNull = true)\n",
      " |-- hospital_affiliations: array (nullable = true)\n",
      " |    |-- element: string (containsNull = true)\n",
      " |-- networks: array (nullable = true)\n",
      " |    |-- element: struct (containsNull = true)\n",
      " |    |    |-- name: string (nullable = true)\n",
      " |    |    |-- tier: string (nullable = true)\n",
      " |-- provider: struct (nullable = true)\n",
      " |    |-- accepting_new_patients: string (nullable = true)\n",
      " |    |-- facility_name: string (nullable = true)\n",
      " |    |-- facility_type: string (nullable = true)\n",
      " |    |-- first_name: string (nullable = true)\n",
      " |    |-- gender: string (nullable = true)\n",
      " |    |-- last_name: string (nullable = true)\n",
      " |    |-- license_number: string (nullable = true)\n",
      " |    |-- middle_name: string (nullable = true)\n",
      " |    |-- npi: string (nullable = true)\n",
      " |    |-- pcp: string (nullable = true)\n",
      " |    |-- pcp_id: string (nullable = true)\n",
      " |    |-- provider_type: string (nullable = true)\n",
      " |    |-- rating: struct (nullable = true)\n",
      " |    |    |-- scale: string (nullable = true)\n",
      " |    |    |-- score: string (nullable = true)\n",
      " |    |-- site_uid: string (nullable = true)\n",
      " |    |-- suffix: string (nullable = true)\n",
      " |    |-- title: string (nullable = true)\n",
      " |    |-- unparsed_name: string (nullable = true)\n",
      " |-- specialties: array (nullable = true)\n",
      " |    |-- element: struct (containsNull = true)\n",
      " |    |    |-- name: string (nullable = true)\n",
      "\n"
     ]
    }
   ],
   "source": [
    "df.show(2)\n",
    "df.printSchema()"
   ]
  },
  {
   "cell_type": "code",
   "execution_count": 7,
   "id": "73ec60c7-8f45-49d1-a6f7-269293766dd3",
   "metadata": {},
   "outputs": [
    {
     "data": {
      "text/plain": [
       "['addresses',\n",
       " 'group_affiliations',\n",
       " 'hospital_affiliations',\n",
       " 'networks',\n",
       " 'provider',\n",
       " 'specialties']"
      ]
     },
     "execution_count": 7,
     "metadata": {},
     "output_type": "execute_result"
    }
   ],
   "source": [
    "df.columns"
   ]
  },
  {
   "cell_type": "code",
   "execution_count": 8,
   "id": "e898a33a-70fc-4b9b-89fd-1f833517df2a",
   "metadata": {},
   "outputs": [
    {
     "data": {
      "text/plain": [
       "['addresses',\n",
       " 'group_affiliations',\n",
       " 'hospital_affiliations',\n",
       " 'networks',\n",
       " 'provider',\n",
       " 'specialties']"
      ]
     },
     "execution_count": 8,
     "metadata": {},
     "output_type": "execute_result"
    }
   ],
   "source": [
    "df.schema.names"
   ]
  },
  {
   "cell_type": "code",
   "execution_count": 9,
   "id": "ad66fe45-b7ff-45df-8056-5169a28459c6",
   "metadata": {},
   "outputs": [
    {
     "data": {
      "text/plain": [
       "Column<'provider[schema]'>"
      ]
     },
     "execution_count": 9,
     "metadata": {},
     "output_type": "execute_result"
    }
   ],
   "source": [
    "df.provider.schema"
   ]
  },
  {
   "cell_type": "code",
   "execution_count": 10,
   "id": "03632573-46b7-44d1-b713-7c47898b90a2",
   "metadata": {},
   "outputs": [
    {
     "data": {
      "text/plain": [
       "ArrayType(StructType(List(StructField(address_string,StringType,true),StructField(city,StringType,true),StructField(languages,ArrayType(StringType,true),true),StructField(office_name,StringType,true),StructField(phones,ArrayType(StructType(List(StructField(type,StringType,true),StructField(value,StringType,true))),true),true),StructField(state,StringType,true),StructField(street_line_1,StringType,true),StructField(street_line_2,StringType,true),StructField(zip,StringType,true))),true)"
      ]
     },
     "execution_count": 10,
     "metadata": {},
     "output_type": "execute_result"
    }
   ],
   "source": [
    "df.schema['addresses'].dataType"
   ]
  },
  {
   "cell_type": "code",
   "execution_count": 11,
   "id": "d1ce56bb-13f1-4260-a854-204a5d8d07bb",
   "metadata": {},
   "outputs": [],
   "source": [
    "# Missing Values\n",
    "#df.select([count(when(isnan(c), c)).alias(c) for c in df.columns]).show()"
   ]
  },
  {
   "cell_type": "code",
   "execution_count": 12,
   "id": "b070029e-4bc7-4665-86bb-b6b66dd24331",
   "metadata": {},
   "outputs": [],
   "source": [
    "# Null Values\n",
    "#df.select([count(when(col(c).isNull(), c)).alias(c) for c in df.columns]).show()"
   ]
  },
  {
   "cell_type": "code",
   "execution_count": 13,
   "id": "57b491c6-9b1c-4dfb-b3f7-e30ee116180b",
   "metadata": {},
   "outputs": [
    {
     "name": "stdout",
     "output_type": "stream",
     "text": [
      "+-------------+-----+\n",
      "|provider_type|count|\n",
      "+-------------+-----+\n",
      "|     facility|  483|\n",
      "+-------------+-----+\n",
      "\n"
     ]
    }
   ],
   "source": [
    "df.groupby(\"provider.provider_type\").count().show()"
   ]
  },
  {
   "cell_type": "code",
   "execution_count": 14,
   "id": "d69ca6c5-4525-42aa-8e12-30c4513b512c",
   "metadata": {},
   "outputs": [
    {
     "name": "stdout",
     "output_type": "stream",
     "text": [
      "+-------------+-----+\n",
      "|facility_type|count|\n",
      "+-------------+-----+\n",
      "|    Hospitals|  483|\n",
      "+-------------+-----+\n",
      "\n"
     ]
    }
   ],
   "source": [
    "df.groupby(\"provider.facility_type\").count().show()"
   ]
  },
  {
   "cell_type": "code",
   "execution_count": 15,
   "id": "7d96be35-a81a-4175-8347-c7074da89d0b",
   "metadata": {},
   "outputs": [
    {
     "data": {
      "text/plain": [
       "483"
      ]
     },
     "execution_count": 15,
     "metadata": {},
     "output_type": "execute_result"
    }
   ],
   "source": [
    "df.select(\"provider.unparsed_name\").count() #site_uid"
   ]
  },
  {
   "cell_type": "code",
   "execution_count": 16,
   "id": "8a1af8c8-4403-492f-9d1a-f83950c23e28",
   "metadata": {},
   "outputs": [
    {
     "name": "stdout",
     "output_type": "stream",
     "text": [
      "+--------------------+\n",
      "|       unparsed_name|\n",
      "+--------------------+\n",
      "|CHRISTUS HEALTH M...|\n",
      "|EMANATE HEALTH IN...|\n",
      "|WICKENBURG COMMUN...|\n",
      "|LOVELACE REGIONAL...|\n",
      "|SAINT MARYS REG M...|\n",
      "+--------------------+\n",
      "only showing top 5 rows\n",
      "\n"
     ]
    },
    {
     "data": {
      "text/plain": [
       "230"
      ]
     },
     "execution_count": 16,
     "metadata": {},
     "output_type": "execute_result"
    }
   ],
   "source": [
    "df.select(\"provider.unparsed_name\").show(5) #site_uid\n",
    "df.select(\"provider.unparsed_name\").distinct().count() #site_uid"
   ]
  },
  {
   "cell_type": "code",
   "execution_count": 102,
   "id": "78a2fb72-98b8-4334-883d-894fe63fa772",
   "metadata": {},
   "outputs": [
    {
     "name": "stdout",
     "output_type": "stream",
     "text": [
      "Distinct count: 483\n"
     ]
    }
   ],
   "source": [
    "distinctDF = df.distinct()\n",
    "print(\"Distinct count: \"+str(distinctDF.count()))\n",
    "#distinctDF.show(2,truncate=True)"
   ]
  },
  {
   "cell_type": "code",
   "execution_count": 17,
   "id": "7471fb44-3d78-49d0-8687-66a6b8f60d91",
   "metadata": {},
   "outputs": [
    {
     "name": "stdout",
     "output_type": "stream",
     "text": [
      "+---------------------------------------------------------+\n",
      "|unparsed_name                                            |\n",
      "+---------------------------------------------------------+\n",
      "|CHRISTUS HEALTH MONTHER FRANCES HEALTH SYSTEM - WINNSBORO|\n",
      "|EMANATE HEALTH INTER-COMMUNITY HOSPITAL                  |\n",
      "|WICKENBURG COMMUNITY HOSPITAL                            |\n",
      "|LOVELACE REGIONAL HOSPITAL - ROSWELL                     |\n",
      "|SAINT MARYS REG MEDICAL CTR                              |\n",
      "+---------------------------------------------------------+\n",
      "only showing top 5 rows\n",
      "\n"
     ]
    }
   ],
   "source": [
    "df.select(\"provider.unparsed_name\").show(5,truncate=False)"
   ]
  },
  {
   "cell_type": "code",
   "execution_count": 18,
   "id": "54688d24-4ac2-496b-bbd8-634f6e0c139a",
   "metadata": {},
   "outputs": [
    {
     "data": {
      "text/plain": [
       "Column<'provider'>"
      ]
     },
     "execution_count": 18,
     "metadata": {},
     "output_type": "execute_result"
    }
   ],
   "source": [
    "df[\"provider\"]"
   ]
  },
  {
   "cell_type": "markdown",
   "id": "1ba74596-67ad-4c0f-a435-2a2f25e4ecc1",
   "metadata": {},
   "source": [
    "### Filter, GroupBy"
   ]
  },
  {
   "cell_type": "code",
   "execution_count": 20,
   "id": "54fefb85-c67a-4cc7-afc7-1b5813eb91c3",
   "metadata": {},
   "outputs": [
    {
     "data": {
      "text/plain": [
       "3"
      ]
     },
     "execution_count": 20,
     "metadata": {},
     "output_type": "execute_result"
    }
   ],
   "source": [
    "df.filter(df.provider.unparsed_name==\"ST MARKS HOSPITAL\").count()"
   ]
  },
  {
   "cell_type": "code",
   "execution_count": 21,
   "id": "1e913a8f-da37-478b-89cd-1cf665dba73b",
   "metadata": {},
   "outputs": [
    {
     "data": {
      "text/plain": [
       "3"
      ]
     },
     "execution_count": 21,
     "metadata": {},
     "output_type": "execute_result"
    }
   ],
   "source": [
    "df.filter(col(\"provider.unparsed_name\")==\"ST MARKS HOSPITAL\").count() #reference using col()"
   ]
  },
  {
   "cell_type": "code",
   "execution_count": 22,
   "id": "38436c5d-9c6b-4bf7-94d3-a3340f3a172f",
   "metadata": {},
   "outputs": [
    {
     "name": "stdout",
     "output_type": "stream",
     "text": [
      "+--------------------+-----+\n",
      "|       unparsed_name|count|\n",
      "+--------------------+-----+\n",
      "|HCA HOUSTON HEALT...|    2|\n",
      "|CHRISTUS HEALTH GSHS|    6|\n",
      "|BAYLOR SCOTT &amp...|    1|\n",
      "|COMMUNITY FOUNDAT...|    3|\n",
      "|SAN RAMON REGIONA...|    1|\n",
      "+--------------------+-----+\n",
      "only showing top 5 rows\n",
      "\n"
     ]
    }
   ],
   "source": [
    "df.groupBy(col(\"provider.unparsed_name\")).count().show(5)"
   ]
  },
  {
   "cell_type": "code",
   "execution_count": 23,
   "id": "ad97a092-ad71-4053-9b58-4c33a5000afd",
   "metadata": {},
   "outputs": [
    {
     "name": "stdout",
     "output_type": "stream",
     "text": [
      "+-----------------------------------------------------+-----+\n",
      "|unparsed_name                                        |count|\n",
      "+-----------------------------------------------------+-----+\n",
      "|METHODIST MCKINNEY HOSPITAL LLC                      |20   |\n",
      "|METHODIST HOSPITAL FOR SURGERY                       |16   |\n",
      "|COMPLETE CARE MEDICAL ASSOCIATES                     |13   |\n",
      "|UNKNOWN VENDOR                                       |13   |\n",
      "|CALIFORNIA PACIFIC MEDICAL CENTER - CALIFORNIA CAMPUS|12   |\n",
      "|METHODIST HOSPITALS OF DALLAS                        |12   |\n",
      "|SUTTER MEDICAL CENTER SACRAMENTO                     |11   |\n",
      "|NORTH AUSTIN MEDICAL CENTER                          |11   |\n",
      "|METHODIST HOSPITAL                                   |9    |\n",
      "|BANNER BEHAVIOR HEALTH                               |8    |\n",
      "+-----------------------------------------------------+-----+\n",
      "only showing top 10 rows\n",
      "\n"
     ]
    }
   ],
   "source": [
    "#value_counts\n",
    "\n",
    "#df.groupBy(col(\"provider.unparsed_name\")).count().orderBy('count').show(10)\n",
    "#df.groupBy(col(\"provider.unparsed_name\")).count().orderBy('count',ascending=False).show(10,truncate=False)\n",
    "df.groupBy(col(\"provider.unparsed_name\")).count().orderBy(col('count').desc()).show(10,truncate=False)"
   ]
  },
  {
   "cell_type": "code",
   "execution_count": 25,
   "id": "6b5a81b3-0c0d-4a81-bb4f-a9e6fb5e5fae",
   "metadata": {},
   "outputs": [
    {
     "name": "stdout",
     "output_type": "stream",
     "text": [
      "+--------------------+--------------------+--------------------+-------------+\n",
      "|           addresses|            networks|            provider|  specialties|\n",
      "+--------------------+--------------------+--------------------+-------------+\n",
      "|[{7400 E THOMPSON...|[{Imperial Insura...|{null, SCOTTSDALE...|[{Hospitals}]|\n",
      "|[{3535 N SCOTTSDA...|[{Imperial Insura...|{null, SCOTTSDALE...|[{Hospitals}]|\n",
      "|[{7400 E OSBORN R...|[{Imperial Insura...|{null, SCOTTSDALE...|[{Hospitals}]|\n",
      "|[{10460 N 92ND ST...|[{Imperial Insura...|{null, SCOTTSDALE...|[{Hospitals}]|\n",
      "|[{9003 E SHEA BLV...|[{Imperial Insura...|{null, SCOTTSDALE...|[{Hospitals}]|\n",
      "+--------------------+--------------------+--------------------+-------------+\n",
      "\n"
     ]
    },
    {
     "data": {
      "text/plain": [
       "5"
      ]
     },
     "execution_count": 25,
     "metadata": {},
     "output_type": "execute_result"
    }
   ],
   "source": [
    "#df.filter(col(\"provider.unparsed_name\").like(\"%CALIFORNIA%\")).show()\n",
    "df.filter(col(\"provider.unparsed_name\").rlike(\"^SCOTT.*\")).select(['addresses','networks','provider','specialties']).show(truncate=False)\n",
    "df.where(col(\"provider.unparsed_name\").rlike(\"^SCOTT\")).count()"
   ]
  },
  {
   "cell_type": "markdown",
   "id": "c796d4c5-7415-48a3-b488-cc36bcbabccd",
   "metadata": {
    "tags": []
   },
   "source": [
    "### Specialities"
   ]
  },
  {
   "cell_type": "code",
   "execution_count": 26,
   "id": "7417d9de-e6db-4de8-bdc8-2f3dc5cc90ad",
   "metadata": {},
   "outputs": [
    {
     "name": "stdout",
     "output_type": "stream",
     "text": [
      "+---------+\n",
      "|     name|\n",
      "+---------+\n",
      "|Hospitals|\n",
      "|Hospitals|\n",
      "|Hospitals|\n",
      "+---------+\n",
      "only showing top 3 rows\n",
      "\n",
      "root\n",
      " |-- name: string (nullable = true)\n",
      "\n"
     ]
    }
   ],
   "source": [
    "specs = df.select(explode(df.specialties)).select('col.name') #col: API name\n",
    "specs.show(3) \n",
    "specs.printSchema()"
   ]
  },
  {
   "cell_type": "code",
   "execution_count": 27,
   "id": "ab8f0960-ae99-4faf-9101-1ad7f7f0648b",
   "metadata": {},
   "outputs": [
    {
     "name": "stdout",
     "output_type": "stream",
     "text": [
      "+---------+-----+\n",
      "|name     |count|\n",
      "+---------+-----+\n",
      "|Hospitals|483  |\n",
      "+---------+-----+\n",
      "\n"
     ]
    }
   ],
   "source": [
    "specs.groupBy(col(\"name\")).count().orderBy(col('count').desc()).show(10,truncate=False)"
   ]
  },
  {
   "cell_type": "markdown",
   "id": "6a8b2bc0-9e6e-45c2-9079-08fd77c4a371",
   "metadata": {
    "tags": []
   },
   "source": [
    "### Networks"
   ]
  },
  {
   "cell_type": "code",
   "execution_count": 28,
   "id": "9c6ed44c-2929-41ba-9e94-3ab354c245ca",
   "metadata": {},
   "outputs": [
    {
     "name": "stdout",
     "output_type": "stream",
     "text": [
      "root\n",
      " |-- networks: array (nullable = true)\n",
      " |    |-- element: struct (containsNull = true)\n",
      " |    |    |-- name: string (nullable = true)\n",
      " |    |    |-- tier: string (nullable = true)\n",
      "\n"
     ]
    }
   ],
   "source": [
    "df.select(\"networks\").printSchema()"
   ]
  },
  {
   "cell_type": "code",
   "execution_count": 29,
   "id": "090ecf94-33b8-432f-a19f-a0d237aef6c3",
   "metadata": {},
   "outputs": [
    {
     "name": "stdout",
     "output_type": "stream",
     "text": [
      "+--------------------+----+\n",
      "|                name|tier|\n",
      "+--------------------+----+\n",
      "|Imperial Insuranc...|    |\n",
      "|Imperial Health P...|    |\n",
      "|Imperial Insuranc...|    |\n",
      "+--------------------+----+\n",
      "only showing top 3 rows\n",
      "\n"
     ]
    }
   ],
   "source": [
    "networks = df.select(explode(df.networks)).select('col.name','col.tier') #col: API name\n",
    "networks.show(3) "
   ]
  },
  {
   "cell_type": "code",
   "execution_count": 30,
   "id": "44432fd3-b88c-479e-8bcc-ebf30e9c92fe",
   "metadata": {},
   "outputs": [
    {
     "name": "stdout",
     "output_type": "stream",
     "text": [
      "+----------------------------------+-----+\n",
      "|name                              |count|\n",
      "+----------------------------------+-----+\n",
      "|Imperial Insurance Companies      |362  |\n",
      "|Imperial Health Plan of California|121  |\n",
      "+----------------------------------+-----+\n",
      "\n"
     ]
    }
   ],
   "source": [
    "networks.groupBy(col(\"name\")).count().orderBy(col('count').desc()).show(10,truncate=False) #value_count"
   ]
  },
  {
   "cell_type": "markdown",
   "id": "b886e231-fad9-4bb8-b947-781f0707b337",
   "metadata": {
    "tags": []
   },
   "source": [
    "### Affiliations"
   ]
  },
  {
   "cell_type": "code",
   "execution_count": 101,
   "id": "f5ce0dae-003a-4204-b128-882bdb5aeb59",
   "metadata": {},
   "outputs": [
    {
     "data": {
      "text/plain": [
       "DataFrame[hospital_affiliations: array<string>]"
      ]
     },
     "execution_count": 101,
     "metadata": {},
     "output_type": "execute_result"
    }
   ],
   "source": [
    "df.select(\"hospital_affiliations\")"
   ]
  },
  {
   "cell_type": "code",
   "execution_count": 64,
   "id": "504e89a1-366a-4824-b069-330f2fb89e52",
   "metadata": {},
   "outputs": [
    {
     "data": {
      "text/plain": [
       "Column<'hospital_affiliations'>"
      ]
     },
     "execution_count": 64,
     "metadata": {},
     "output_type": "execute_result"
    }
   ],
   "source": [
    "df.hospital_affiliations"
   ]
  },
  {
   "cell_type": "code",
   "execution_count": null,
   "id": "6a20b723-c5d1-4076-a603-a6dd5c8675b3",
   "metadata": {},
   "outputs": [],
   "source": [
    "hospitals = df.select(explode(df.hospital_affiliations)).select('col.name') #col: API name\n",
    "networks.show(3) "
   ]
  },
  {
   "cell_type": "code",
   "execution_count": 31,
   "id": "ae1aa93b-4ceb-4bc1-ba49-e29984d1e989",
   "metadata": {},
   "outputs": [
    {
     "name": "stdout",
     "output_type": "stream",
     "text": [
      "root\n",
      " |-- group_affiliations: array (nullable = true)\n",
      " |    |-- element: string (containsNull = true)\n",
      "\n"
     ]
    }
   ],
   "source": [
    "# groups = \n",
    "df.select(\"group_affiliations\").printSchema()"
   ]
  },
  {
   "cell_type": "markdown",
   "id": "2032dce8-3115-498e-b986-6ce19c0a466a",
   "metadata": {},
   "source": [
    "### Addresses"
   ]
  },
  {
   "cell_type": "code",
   "execution_count": 33,
   "id": "a2b74228-984e-4e96-aedc-68c99d36e590",
   "metadata": {},
   "outputs": [
    {
     "name": "stdout",
     "output_type": "stream",
     "text": [
      "root\n",
      " |-- addresses: array (nullable = true)\n",
      " |    |-- element: struct (containsNull = true)\n",
      " |    |    |-- address_string: string (nullable = true)\n",
      " |    |    |-- city: string (nullable = true)\n",
      " |    |    |-- languages: array (nullable = true)\n",
      " |    |    |    |-- element: string (containsNull = true)\n",
      " |    |    |-- office_name: string (nullable = true)\n",
      " |    |    |-- phones: array (nullable = true)\n",
      " |    |    |    |-- element: struct (containsNull = true)\n",
      " |    |    |    |    |-- type: string (nullable = true)\n",
      " |    |    |    |    |-- value: string (nullable = true)\n",
      " |    |    |-- state: string (nullable = true)\n",
      " |    |    |-- street_line_1: string (nullable = true)\n",
      " |    |    |-- street_line_2: string (nullable = true)\n",
      " |    |    |-- zip: string (nullable = true)\n",
      "\n"
     ]
    },
    {
     "data": {
      "text/plain": [
       "['addresses',\n",
       " 'group_affiliations',\n",
       " 'hospital_affiliations',\n",
       " 'networks',\n",
       " 'provider',\n",
       " 'specialties']"
      ]
     },
     "execution_count": 33,
     "metadata": {},
     "output_type": "execute_result"
    }
   ],
   "source": [
    "df.select('addresses').printSchema()\n",
    "df.schema.names"
   ]
  },
  {
   "cell_type": "code",
   "execution_count": 112,
   "id": "4918a5c5-99fe-4a41-9907-b0522fc681ae",
   "metadata": {},
   "outputs": [
    {
     "name": "stdout",
     "output_type": "stream",
     "text": [
      "Outside isinstance loop: addresses\n",
      "Outside isinstance loop: group_affiliations\n",
      "Outside isinstance loop: hospital_affiliations\n",
      "Outside isinstance loop: networks\n",
      "Outside isinstance loop: provider\n",
      "Outside isinstance loop: specialties\n"
     ]
    }
   ],
   "source": [
    "for column_name in df.schema.names:\n",
    "        print(\"Outside isinstance loop: \" + column_name)"
   ]
  },
  {
   "cell_type": "code",
   "execution_count": 152,
   "id": "a034c87d-ed86-43da-a078-5e827916e03b",
   "metadata": {},
   "outputs": [],
   "source": [
    "df_address = df.withColumn(\"address\",explode(\"addresses\")).drop(\"addresses\")"
   ]
  },
  {
   "cell_type": "code",
   "execution_count": 153,
   "id": "af3ada36-8082-4f6d-a7f5-7d5836dde2df",
   "metadata": {},
   "outputs": [],
   "source": [
    "df_networks = df_address.withColumn(\"network\",explode(\"networks\")).drop(\"networks\")"
   ]
  },
  {
   "cell_type": "code",
   "execution_count": 165,
   "id": "28eb7096-d888-4632-b813-053d68a95238",
   "metadata": {},
   "outputs": [],
   "source": [
    "dfnew = df_networks.withColumn(\"speciality\",explode(\"specialties\")).drop(\"specialties\")"
   ]
  },
  {
   "cell_type": "code",
   "execution_count": 162,
   "id": "8cdcad34-a7f0-442a-93de-cae049d0655f",
   "metadata": {},
   "outputs": [],
   "source": [
    "# df_group = df_hos.withColumn(\"hospitals\",explode(\"hospital_affiliations\")).drop(\"hospital_affiliations\")"
   ]
  },
  {
   "cell_type": "code",
   "execution_count": 163,
   "id": "9cc99be2-0084-47b6-8c84-c9275e961925",
   "metadata": {},
   "outputs": [],
   "source": [
    "# df_new = df_group.withColumn(\"groups\",explode(\"group_affiliations\")).drop(\"group_affiliations\")"
   ]
  },
  {
   "cell_type": "code",
   "execution_count": 167,
   "id": "2ca0a8c0-86ee-4fbb-8f6e-6903052b7a6c",
   "metadata": {},
   "outputs": [
    {
     "name": "stdout",
     "output_type": "stream",
     "text": [
      "+------------------+---------------------+--------------------+--------------------+--------------------+-----------+\n",
      "|group_affiliations|hospital_affiliations|            provider|             address|             network| speciality|\n",
      "+------------------+---------------------+--------------------+--------------------+--------------------+-----------+\n",
      "|                []|                   []|{null, CHRISTUS H...|{719 W COKE RD, W...|{Imperial Insuran...|{Hospitals}|\n",
      "|                []|                   []|{null, EMANATE HE...|{1115 S SUNSET AV...|{Imperial Health ...|{Hospitals}|\n",
      "+------------------+---------------------+--------------------+--------------------+--------------------+-----------+\n",
      "only showing top 2 rows\n",
      "\n"
     ]
    }
   ],
   "source": [
    "dfnew.show(2)"
   ]
  },
  {
   "cell_type": "code",
   "execution_count": 168,
   "id": "9eb41e51-faf4-42c8-886c-378482af8213",
   "metadata": {},
   "outputs": [
    {
     "name": "stdout",
     "output_type": "stream",
     "text": [
      "root\n",
      " |-- group_affiliations: array (nullable = true)\n",
      " |    |-- element: string (containsNull = true)\n",
      " |-- hospital_affiliations: array (nullable = true)\n",
      " |    |-- element: string (containsNull = true)\n",
      " |-- provider: struct (nullable = true)\n",
      " |    |-- accepting_new_patients: string (nullable = true)\n",
      " |    |-- facility_name: string (nullable = true)\n",
      " |    |-- facility_type: string (nullable = true)\n",
      " |    |-- first_name: string (nullable = true)\n",
      " |    |-- gender: string (nullable = true)\n",
      " |    |-- last_name: string (nullable = true)\n",
      " |    |-- license_number: string (nullable = true)\n",
      " |    |-- middle_name: string (nullable = true)\n",
      " |    |-- npi: string (nullable = true)\n",
      " |    |-- pcp: string (nullable = true)\n",
      " |    |-- pcp_id: string (nullable = true)\n",
      " |    |-- provider_type: string (nullable = true)\n",
      " |    |-- rating: struct (nullable = true)\n",
      " |    |    |-- scale: string (nullable = true)\n",
      " |    |    |-- score: string (nullable = true)\n",
      " |    |-- site_uid: string (nullable = true)\n",
      " |    |-- suffix: string (nullable = true)\n",
      " |    |-- title: string (nullable = true)\n",
      " |    |-- unparsed_name: string (nullable = true)\n",
      " |-- address: struct (nullable = true)\n",
      " |    |-- address_string: string (nullable = true)\n",
      " |    |-- city: string (nullable = true)\n",
      " |    |-- languages: array (nullable = true)\n",
      " |    |    |-- element: string (containsNull = true)\n",
      " |    |-- office_name: string (nullable = true)\n",
      " |    |-- phones: array (nullable = true)\n",
      " |    |    |-- element: struct (containsNull = true)\n",
      " |    |    |    |-- type: string (nullable = true)\n",
      " |    |    |    |-- value: string (nullable = true)\n",
      " |    |-- state: string (nullable = true)\n",
      " |    |-- street_line_1: string (nullable = true)\n",
      " |    |-- street_line_2: string (nullable = true)\n",
      " |    |-- zip: string (nullable = true)\n",
      " |-- network: struct (nullable = true)\n",
      " |    |-- name: string (nullable = true)\n",
      " |    |-- tier: string (nullable = true)\n",
      " |-- speciality: struct (nullable = true)\n",
      " |    |-- name: string (nullable = true)\n",
      "\n"
     ]
    }
   ],
   "source": [
    "dfnew.printSchema()"
   ]
  },
  {
   "cell_type": "code",
   "execution_count": 184,
   "id": "9c277b2a-af45-47a5-8629-7a5bc024ab3c",
   "metadata": {},
   "outputs": [
    {
     "data": {
      "text/plain": [
       "269"
      ]
     },
     "execution_count": 184,
     "metadata": {},
     "output_type": "execute_result"
    }
   ],
   "source": [
    "dfnew.select(\"address.zip\").distinct().count()"
   ]
  },
  {
   "cell_type": "code",
   "execution_count": 173,
   "id": "c4c0dd2c-2efe-4767-bfc7-09a2392cd15d",
   "metadata": {},
   "outputs": [
    {
     "name": "stdout",
     "output_type": "stream",
     "text": [
      "+-----+-----+\n",
      "|zip  |count|\n",
      "+-----+-----+\n",
      "|78216|13   |\n",
      "|78229|10   |\n",
      "|85251|10   |\n",
      "|79902|9    |\n",
      "|95816|8    |\n",
      "|78258|7    |\n",
      "|75070|7    |\n",
      "|75001|6    |\n",
      "|85206|6    |\n",
      "|85006|6    |\n",
      "+-----+-----+\n",
      "only showing top 10 rows\n",
      "\n"
     ]
    }
   ],
   "source": [
    "dfnew.groupBy(col(\"address.zip\")).count().orderBy(col('count').desc()).show(10,truncate=False) #value_count"
   ]
  },
  {
   "cell_type": "code",
   "execution_count": 174,
   "id": "7d57bea0-ada9-48a2-aa25-494e25c25850",
   "metadata": {},
   "outputs": [
    {
     "name": "stdout",
     "output_type": "stream",
     "text": [
      "+-----+-----+\n",
      "|state|count|\n",
      "+-----+-----+\n",
      "|TX   |263  |\n",
      "|CA   |121  |\n",
      "|AZ   |84   |\n",
      "|UT   |10   |\n",
      "|NM   |3    |\n",
      "|NV   |2    |\n",
      "+-----+-----+\n",
      "\n"
     ]
    }
   ],
   "source": [
    "dfnew.groupBy(col(\"address.state\")).count().orderBy(col('count').desc()).show(10,truncate=False) #value_count"
   ]
  },
  {
   "cell_type": "code",
   "execution_count": 180,
   "id": "48adf5d5-1f20-4595-8c34-9c4f0a66a65a",
   "metadata": {},
   "outputs": [
    {
     "name": "stdout",
     "output_type": "stream",
     "text": [
      "+-------------+-----+-----+\n",
      "|city         |state|count|\n",
      "+-------------+-----+-----+\n",
      "|SAN ANTONIO  |TX   |48   |\n",
      "|HOUSTON      |TX   |20   |\n",
      "|EL PASO      |TX   |19   |\n",
      "|AUSTIN       |TX   |18   |\n",
      "|DALLAS       |TX   |18   |\n",
      "|TUCSON       |AZ   |15   |\n",
      "|SCOTTSDALE   |AZ   |13   |\n",
      "|SAN FRANCISCO|CA   |13   |\n",
      "|PHOENIX      |AZ   |12   |\n",
      "|MCKINNEY     |TX   |12   |\n",
      "+-------------+-----+-----+\n",
      "only showing top 10 rows\n",
      "\n"
     ]
    }
   ],
   "source": [
    "dfnew.groupBy(\"address.city\",\"address.state\").count().orderBy(col('count').desc()).show(10,truncate=False) #value_count"
   ]
  },
  {
   "cell_type": "code",
   "execution_count": 183,
   "id": "56d96913-c668-443d-889b-009c2b901dfa",
   "metadata": {},
   "outputs": [
    {
     "name": "stdout",
     "output_type": "stream",
     "text": [
      "+-----------+-----+-----+-----+\n",
      "|city       |state|zip  |count|\n",
      "+-----------+-----+-----+-----+\n",
      "|SAN ANTONIO|TX   |78216|13   |\n",
      "|SAN ANTONIO|TX   |78229|10   |\n",
      "|SCOTTSDALE |AZ   |85251|10   |\n",
      "|EL PASO    |TX   |79902|9    |\n",
      "|SACRAMENTO |CA   |95816|8    |\n",
      "|MCKINNEY   |TX   |75070|7    |\n",
      "|SAN ANTONIO|TX   |78258|7    |\n",
      "|MESA       |AZ   |85206|6    |\n",
      "|PHOENIX    |AZ   |85006|6    |\n",
      "|TUCSON     |AZ   |85719|6    |\n",
      "+-----------+-----+-----+-----+\n",
      "only showing top 10 rows\n",
      "\n"
     ]
    }
   ],
   "source": [
    "dfnew.groupBy(\"address.city\",\"address.state\",\"address.zip\").count().orderBy(col('count').desc()).show(10,truncate=False) #value_count"
   ]
  },
  {
   "cell_type": "code",
   "execution_count": 203,
   "id": "cddaeae2-5b57-4222-a0c7-115ce698321d",
   "metadata": {},
   "outputs": [
    {
     "name": "stdout",
     "output_type": "stream",
     "text": [
      "+--------------------+----------+---------+-----------+--------------------+-----+--------------------+-------------+-----+\n",
      "|      address_string|      city|languages|office_name|              phones|state|       street_line_1|street_line_2|  zip|\n",
      "+--------------------+----------+---------+-----------+--------------------+-----+--------------------+-------------+-----+\n",
      "|4713 HWY 121, STE...|THE COLONY|       []|           |[{phone, (469) 36...|   TX|4713 HWY 121, STE...|             |75056|\n",
      "|4713 HWY 121, STE...|THE COLONY|       []|           |[{phone, (469) 36...|   TX|4713 HWY 121, STE...|             |75056|\n",
      "|6501 PRESTON ROAD...|     PLANO|       []|           |[{phone, (972) 56...|   TX|6501 PRESTON ROAD...|             |75024|\n",
      "|3501 MIDWAY ROAD,...|     PLANO|       []|           |[{phone, (972) 78...|   TX|3501 MIDWAY ROAD,...|             |75093|\n",
      "|6501 PRESTON ROAD...|     PLANO|       []|           |[{phone, (972) 56...|   TX|6501 PRESTON ROAD...|             |75024|\n",
      "|3501 MIDWAY ROAD,...|     PLANO|       []|           |[{phone, (972) 78...|   TX|3501 MIDWAY ROAD,...|             |75093|\n",
      "|6850 TPC DRIVE, S...|  MCKINNEY|       []|           |[{phone, (214) 64...|   TX|6850 TPC DRIVE, S...|             |75070|\n",
      "|8000 W ELDORADO P...|  MCKINNEY|       []|           |[{phone, (972) 56...|   TX|8000 W ELDORADO P...|             |75070|\n",
      "|8000 W. ELDORADO ...|  MCKINNEY|       []|           |[{phone, (214) 49...|   TX|8000 W. ELDORADO ...|             |75070|\n",
      "|2309 VIRGINIA PAR...|  MCKINNEY|       []|           |[{phone, (972) 54...|   TX|2309 VIRGINIA PAR...|             |75071|\n",
      "|6850 TPC DRIVE, S...|  MCKINNEY|       []|           |[{phone, (214) 64...|   TX|6850 TPC DRIVE, S...|             |75070|\n",
      "|8000 W ELDORADO P...|  MCKINNEY|       []|           |[{phone, (972) 56...|   TX|8000 W ELDORADO P...|             |75070|\n",
      "|8000 W. ELDORADO ...|  MCKINNEY|       []|           |[{phone, (214) 49...|   TX|8000 W. ELDORADO ...|             |75070|\n",
      "|2309 VIRGINIA PAR...|  MCKINNEY|       []|           |[{phone, (972) 54...|   TX|2309 VIRGINIA PAR...|             |75071|\n",
      "|14660 STATE HIGHW...|    FRISCO|       []|           |[{phone, (214) 61...|   TX|14660 STATE HIGHW...|             |75035|\n",
      "|14660 STATE HIGHW...|    FRISCO|       []|           |[{phone, (214) 61...|   TX|14660 STATE HIGHW...|             |75035|\n",
      "|3423 TRINITY MILL...|    DALLAS|       []|           |[{phone, (972) 66...|   TX|3423 TRINITY MILL...|             |75287|\n",
      "|3423 TRINITY MILL...|    DALLAS|       []|           |[{phone, (972) 66...|   TX|3423 TRINITY MILL...|             |75287|\n",
      "|3733 N JOSEY LANE...|CARROLLTON|       []|           |[{phone, (972) 49...|   TX|3733 N JOSEY LANE...|             |75007|\n",
      "|3733 N JOSEY LANE...|CARROLLTON|       []|           |[{phone, (972) 49...|   TX|3733 N JOSEY LANE...|             |75007|\n",
      "+--------------------+----------+---------+-----------+--------------------+-----+--------------------+-------------+-----+\n",
      "\n"
     ]
    }
   ],
   "source": [
    "dfnew.filter(col(\"provider.unparsed_name\")==\"METHODIST MCKINNEY HOSPITAL LLC\").select('address.*').show(truncate=True)"
   ]
  },
  {
   "cell_type": "code",
   "execution_count": 208,
   "id": "09d1040e-79a5-4db3-842d-97d08c75caee",
   "metadata": {},
   "outputs": [
    {
     "name": "stdout",
     "output_type": "stream",
     "text": [
      "+---------------------------------------------------------+---------------------------+---------+----------------------------+\n",
      "|address_string                                           |phones                     |name     |name                        |\n",
      "+---------------------------------------------------------+---------------------------+---------+----------------------------+\n",
      "|4713 HWY 121, STE 306, THE COLONY, TX 75056              |[{phone, (469) 362 - 2607}]|Hospitals|Imperial Insurance Companies|\n",
      "|4713 HWY 121, STE 306, THE COLONY, TX 75056              |[{phone, (469) 362 - 2607}]|Hospitals|Imperial Insurance Companies|\n",
      "|6501 PRESTON ROAD, STE 102, PLANO, TX 75024              |[{phone, (972) 569 - 2700}]|Hospitals|Imperial Insurance Companies|\n",
      "|3501 MIDWAY ROAD, STE 198, PLANO, TX 75093               |[{phone, (972) 781 - 2322}]|Hospitals|Imperial Insurance Companies|\n",
      "|6501 PRESTON ROAD, STE 102, PLANO, TX 75024              |[{phone, (972) 569 - 2700}]|Hospitals|Imperial Insurance Companies|\n",
      "|3501 MIDWAY ROAD, STE 198, PLANO, TX 75093               |[{phone, (972) 781 - 2322}]|Hospitals|Imperial Insurance Companies|\n",
      "|6850 TPC DRIVE, STE 116, MCKINNEY, TX 75070              |[{phone, (214) 644 - 1070}]|Hospitals|Imperial Insurance Companies|\n",
      "|8000 W ELDORADO PARKWAY, MCKINNEY, TX 75070              |[{phone, (972) 569 - 2700}]|Hospitals|Imperial Insurance Companies|\n",
      "|8000 W. ELDORADO PKWY, BLDG C STE C, MCKINNEY, TX 75070  |[{phone, (214) 491 - 5710}]|Hospitals|Imperial Insurance Companies|\n",
      "|2309 VIRGINIA PARKWAY, STE 400, MCKINNEY, TX 75071       |[{phone, (972) 542 - 7360}]|Hospitals|Imperial Insurance Companies|\n",
      "|6850 TPC DRIVE, STE 116, MCKINNEY, TX 75070              |[{phone, (214) 644 - 1070}]|Hospitals|Imperial Insurance Companies|\n",
      "|8000 W ELDORADO PARKWAY, MCKINNEY, TX 75070              |[{phone, (972) 569 - 2700}]|Hospitals|Imperial Insurance Companies|\n",
      "|8000 W. ELDORADO PKWY, BLDG C STE C, MCKINNEY, TX 75070  |[{phone, (214) 491 - 5710}]|Hospitals|Imperial Insurance Companies|\n",
      "|2309 VIRGINIA PARKWAY, STE 400, MCKINNEY, TX 75071       |[{phone, (972) 542 - 7360}]|Hospitals|Imperial Insurance Companies|\n",
      "|14660 STATE HIGHWAY 121, BLDG A STE 110, FRISCO, TX 75035|[{phone, (214) 619 - 5401}]|Hospitals|Imperial Insurance Companies|\n",
      "|14660 STATE HIGHWAY 121, BLDG A STE 110, FRISCO, TX 75035|[{phone, (214) 619 - 5401}]|Hospitals|Imperial Insurance Companies|\n",
      "|3423 TRINITY MILLS ROAD, STE 520, DALLAS, TX 75287       |[{phone, (972) 662 - 1700}]|Hospitals|Imperial Insurance Companies|\n",
      "|3423 TRINITY MILLS ROAD, STE 520, DALLAS, TX 75287       |[{phone, (972) 662 - 1700}]|Hospitals|Imperial Insurance Companies|\n",
      "|3733 N JOSEY LANE, STE 100, CARROLLTON, TX 75007         |[{phone, (972) 492 - 9451}]|Hospitals|Imperial Insurance Companies|\n",
      "|3733 N JOSEY LANE, STE 100, CARROLLTON, TX 75007         |[{phone, (972) 492 - 9451}]|Hospitals|Imperial Insurance Companies|\n",
      "+---------------------------------------------------------+---------------------------+---------+----------------------------+\n",
      "\n"
     ]
    }
   ],
   "source": [
    "dfnew.filter(col(\"provider.unparsed_name\")==\"METHODIST MCKINNEY HOSPITAL LLC\")\\\n",
    ".select('address.address_string','address.phones','speciality.name','network.name')\\\n",
    ".show(truncate=False)"
   ]
  },
  {
   "cell_type": "code",
   "execution_count": null,
   "id": "d7fe04c0-cc46-4b2f-a5bd-93f2e7d06a26",
   "metadata": {},
   "outputs": [],
   "source": [
    "dfnew.filter(col(\"provider.unparsed_name\")==\"METHODIST MCKINNEY HOSPITAL LLC\")\\\n",
    ".select('address.address_string','address.phones','speciality.name','network.name')\\\n",
    ".distinct()"
   ]
  },
  {
   "cell_type": "code",
   "execution_count": null,
   "id": "23f4613f-25fb-44fc-b6b0-b30caed0292a",
   "metadata": {},
   "outputs": [],
   "source": []
  },
  {
   "cell_type": "code",
   "execution_count": null,
   "id": "94561e1f-ed01-47cf-a8aa-90aee07c28e6",
   "metadata": {},
   "outputs": [],
   "source": []
  },
  {
   "cell_type": "code",
   "execution_count": null,
   "id": "2e2450f1-5ac6-4108-820f-ddce601c16b0",
   "metadata": {},
   "outputs": [],
   "source": []
  },
  {
   "cell_type": "code",
   "execution_count": null,
   "id": "432f0bb2-c9b6-444a-bbba-34379eb64adc",
   "metadata": {},
   "outputs": [],
   "source": []
  },
  {
   "cell_type": "raw",
   "id": "ef0e620d-e141-4754-9eb7-b0d951b643ce",
   "metadata": {},
   "source": [
    "spark.stop()"
   ]
  },
  {
   "cell_type": "code",
   "execution_count": null,
   "id": "7817cd49-bd06-49ed-9801-5f86eff32528",
   "metadata": {},
   "outputs": [],
   "source": []
  }
 ],
 "metadata": {
  "kernelspec": {
   "display_name": "Python 3 (ipykernel)",
   "language": "python",
   "name": "python3"
  },
  "language_info": {
   "codemirror_mode": {
    "name": "ipython",
    "version": 3
   },
   "file_extension": ".py",
   "mimetype": "text/x-python",
   "name": "python",
   "nbconvert_exporter": "python",
   "pygments_lexer": "ipython3",
   "version": "3.9.4"
  }
 },
 "nbformat": 4,
 "nbformat_minor": 5
}
