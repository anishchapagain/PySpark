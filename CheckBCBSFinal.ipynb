{
 "cells": [
  {
   "cell_type": "code",
   "execution_count": 1,
   "id": "07390314-fc55-458c-b9cb-fb7c510fe741",
   "metadata": {
    "tags": []
   },
   "outputs": [
    {
     "name": "stderr",
     "output_type": "stream",
     "text": [
      "22/03/12 22:05:42 WARN Utils: Your hostname, Anishs-MacBook-Pro.local resolves to a loopback address: 127.0.0.1; using 192.168.0.3 instead (on interface en0)\n",
      "22/03/12 22:05:42 WARN Utils: Set SPARK_LOCAL_IP if you need to bind to another address\n",
      "WARNING: An illegal reflective access operation has occurred\n",
      "WARNING: Illegal reflective access by org.apache.spark.unsafe.Platform (file:/Users/anishchapagain/Library/Python/3.9/lib/python/site-packages/pyspark/jars/spark-unsafe_2.12-3.2.0.jar) to constructor java.nio.DirectByteBuffer(long,int)\n",
      "WARNING: Please consider reporting this to the maintainers of org.apache.spark.unsafe.Platform\n",
      "WARNING: Use --illegal-access=warn to enable warnings of further illegal reflective access operations\n",
      "WARNING: All illegal access operations will be denied in a future release\n",
      "Using Spark's default log4j profile: org/apache/spark/log4j-defaults.properties\n",
      "Setting default log level to \"WARN\".\n",
      "To adjust logging level use sc.setLogLevel(newLevel). For SparkR, use setLogLevel(newLevel).\n",
      "22/03/12 22:05:43 WARN NativeCodeLoader: Unable to load native-hadoop library for your platform... using builtin-java classes where applicable\n"
     ]
    },
    {
     "name": "stdout",
     "output_type": "stream",
     "text": [
      "ChunksMerge\n"
     ]
    }
   ],
   "source": [
    "from pyspark.sql import SparkSession\n",
    "spark = SparkSession.builder.appName(\"ChunksMerge\").getOrCreate()\n",
    "print(spark.sparkContext.appName)\n",
    "#http://localhost:4040/jobs/"
   ]
  },
  {
   "cell_type": "code",
   "execution_count": 2,
   "id": "da250a52-729a-48b2-b042-b5d9ef1cb02d",
   "metadata": {
    "tags": []
   },
   "outputs": [],
   "source": [
    "# npi bhako case ma network and npi bata check garne....\n",
    "# npi na bhayeko case ma tyo data lai siteuid bata check garne"
   ]
  },
  {
   "cell_type": "code",
   "execution_count": 3,
   "id": "34955903-fa61-4045-bbf2-3d6586630dfe",
   "metadata": {
    "tags": []
   },
   "outputs": [],
   "source": [
    "from pyspark.sql.functions import *\n",
    "from pyspark.sql.types import *"
   ]
  },
  {
   "cell_type": "markdown",
   "id": "3407c98b-6895-4894-9766-22a2be83c1ef",
   "metadata": {},
   "source": [
    "# Load CHUNK: npi, sort, del-site-uid"
   ]
  },
  {
   "cell_type": "code",
   "execution_count": 4,
   "id": "1d19c370-ed6b-48db-be40-58ce231862a0",
   "metadata": {
    "tags": []
   },
   "outputs": [],
   "source": [
    "filetest1=\"/Users/anishchapagain/PyAnalysis/sparkcode/bcbsNew/semi.json\"\n",
    "\n",
    "# filetest1=\"/Users/anishchapagain/PyAnalysis/sparkcode/bcbsNew/bcbs1/bcbs1.json\"\n",
    "# filetest1=\"/Users/anishchapagain/PyAnalysis/sparkcode/bcbsNew/bcbs3/bcbs3.json\"\n",
    "# filetest1=\"/Users/anishchapagain/PyAnalysis/sparkcode/bcbsNew/bcbs2/bcbs2.json\"\n",
    "# filetest1=\"/Users/anishchapagain/PyAnalysis/sparkcode/bcbsNew/bcbs5/bcbs5.json\"\n",
    "# filetest1=\"/Users/anishchapagain/PyAnalysis/sparkcode/bcbsNew/bcbs4/bcbs4.json\"\n",
    "\n",
    "\n",
    "# filetest1=\"/Users/anishchapagain/PyAnalysis/sparkcode/bcbs/bcbs_50.json\" bcbs_output_1.json\n",
    "# filetest1=\"/Users/anishchapagain/PyAnalysis/sparkcode/bcbs/bcbs_40.json\"\n",
    "# filetest1=\"/Users/anishchapagain/PyAnalysis/sparkcode/bcbs/bcbs_30.json\"\n",
    "# filetest1=\"/Users/anishchapagain/PyAnalysis/sparkcode/bcbs/bcbs_20.json\"\n",
    "# filetest1=\"/Users/anishchapagain/PyAnalysis/sparkcode/bcbs/bcbs_10.json\""
   ]
  },
  {
   "cell_type": "code",
   "execution_count": 5,
   "id": "b2b2e4bc-05c4-4242-bde7-9a4790215f51",
   "metadata": {
    "tags": []
   },
   "outputs": [
    {
     "name": "stderr",
     "output_type": "stream",
     "text": [
      "                                                                                \r"
     ]
    },
    {
     "data": {
      "text/plain": [
       "pyspark.sql.dataframe.DataFrame"
      ]
     },
     "execution_count": 5,
     "metadata": {},
     "output_type": "execute_result"
    }
   ],
   "source": [
    "test1 = spark.read.json(path=filetest1)\n",
    "type(test1)"
   ]
  },
  {
   "cell_type": "code",
   "execution_count": 6,
   "id": "3b3896c8-c03b-4ef8-ac4c-2aa3a189b998",
   "metadata": {
    "tags": []
   },
   "outputs": [
    {
     "name": "stdout",
     "output_type": "stream",
     "text": [
      "root\n",
      " |-- addresses: array (nullable = true)\n",
      " |    |-- element: struct (containsNull = true)\n",
      " |    |    |-- address_string: string (nullable = true)\n",
      " |    |    |-- city: string (nullable = true)\n",
      " |    |    |-- languages: array (nullable = true)\n",
      " |    |    |    |-- element: struct (containsNull = true)\n",
      " |    |    |    |    |-- name: string (nullable = true)\n",
      " |    |    |    |    |-- type: string (nullable = true)\n",
      " |    |    |-- office_name: string (nullable = true)\n",
      " |    |    |-- phones: array (nullable = true)\n",
      " |    |    |    |-- element: struct (containsNull = true)\n",
      " |    |    |    |    |-- type: string (nullable = true)\n",
      " |    |    |    |    |-- value: string (nullable = true)\n",
      " |    |    |-- state: string (nullable = true)\n",
      " |    |    |-- street_line_1: string (nullable = true)\n",
      " |    |    |-- street_line_2: string (nullable = true)\n",
      " |    |    |-- zip: string (nullable = true)\n",
      " |-- group_affiliations: array (nullable = true)\n",
      " |    |-- element: struct (containsNull = true)\n",
      " |    |    |-- name: string (nullable = true)\n",
      " |-- hospital_affiliations: array (nullable = true)\n",
      " |    |-- element: struct (containsNull = true)\n",
      " |    |    |-- name: string (nullable = true)\n",
      " |-- networks: array (nullable = true)\n",
      " |    |-- element: struct (containsNull = true)\n",
      " |    |    |-- name: string (nullable = true)\n",
      " |    |    |-- tier: string (nullable = true)\n",
      " |-- provider: struct (nullable = true)\n",
      " |    |-- accepting_new_patients: string (nullable = true)\n",
      " |    |-- facility_name: string (nullable = true)\n",
      " |    |-- facility_type: string (nullable = true)\n",
      " |    |-- first_name: string (nullable = true)\n",
      " |    |-- gender: string (nullable = true)\n",
      " |    |-- last_name: string (nullable = true)\n",
      " |    |-- license_number: string (nullable = true)\n",
      " |    |-- middle_name: string (nullable = true)\n",
      " |    |-- npi: string (nullable = true)\n",
      " |    |-- pcp: boolean (nullable = true)\n",
      " |    |-- pcp_id: string (nullable = true)\n",
      " |    |-- provider_type: string (nullable = true)\n",
      " |    |-- rating: struct (nullable = true)\n",
      " |    |    |-- scale: string (nullable = true)\n",
      " |    |    |-- score: string (nullable = true)\n",
      " |    |-- site_uid: string (nullable = true)\n",
      " |    |-- suffix: string (nullable = true)\n",
      " |    |-- title: string (nullable = true)\n",
      " |    |-- unparsed_name: string (nullable = true)\n",
      " |-- specialties: array (nullable = true)\n",
      " |    |-- element: struct (containsNull = true)\n",
      " |    |    |-- name: string (nullable = true)\n",
      "\n"
     ]
    }
   ],
   "source": [
    "test1.printSchema()"
   ]
  },
  {
   "cell_type": "code",
   "execution_count": 7,
   "id": "1430e21d-0982-4b94-8638-c7062f971b95",
   "metadata": {
    "tags": []
   },
   "outputs": [
    {
     "name": "stderr",
     "output_type": "stream",
     "text": [
      "                                                                                \r"
     ]
    }
   ],
   "source": [
    "total2 = test1.count()\n",
    "unique2 = test1.distinct().count()"
   ]
  },
  {
   "cell_type": "code",
   "execution_count": 8,
   "id": "4313489a-b611-4d14-a678-aca2b601fe9f",
   "metadata": {
    "tags": []
   },
   "outputs": [
    {
     "name": "stdout",
     "output_type": "stream",
     "text": [
      "7305324\n",
      "4088577\n"
     ]
    }
   ],
   "source": [
    "print(total2)\n",
    "print(unique2)"
   ]
  },
  {
   "cell_type": "code",
   "execution_count": 9,
   "id": "766284eb-f7a8-47e4-9f29-00c65487588e",
   "metadata": {
    "tags": []
   },
   "outputs": [],
   "source": [
    "# test1.select('provider.npi').distinct().count()"
   ]
  },
  {
   "cell_type": "code",
   "execution_count": 10,
   "id": "024bb67b-fbcc-4166-a131-d7710322c944",
   "metadata": {
    "tags": []
   },
   "outputs": [],
   "source": [
    "# testnpis2 = test1.groupBy(\"provider.npi\").count().orderBy(col('count').desc())\n",
    "# testnpis2.show(10,truncate=False)"
   ]
  },
  {
   "cell_type": "markdown",
   "id": "1b122c3b-221c-434e-9659-8d5630785c9d",
   "metadata": {},
   "source": [
    "### NEW Schema and Fields: dropping Site_UID"
   ]
  },
  {
   "cell_type": "code",
   "execution_count": 11,
   "id": "f517522a-c0f2-4fcb-9147-b9f2ca30f9a8",
   "metadata": {
    "tags": []
   },
   "outputs": [
    {
     "data": {
      "text/plain": [
       "pyspark.sql.dataframe.DataFrame"
      ]
     },
     "execution_count": 11,
     "metadata": {},
     "output_type": "execute_result"
    }
   ],
   "source": [
    "abcdee = test1.select(['provider.*',\n",
    "#     'provider.facility_name','provider.first_name','provider.gender','provider.last_name','provider.suffix',\n",
    "#                     'provider.license_number','provider.middle_name','provider.npi','provider.provider_type','provider.title','provider.unparsed_name',\n",
    "                    array_sort('addresses').alias('addresses'),\n",
    "                    array_sort('networks').alias('networks'),\n",
    "                    array_sort('hospital_affiliations').alias('hospital_affiliations'),\n",
    "                    array_sort('group_affiliations').alias('group_affiliations'),\n",
    "                    array_sort('specialties').alias('specialties')\n",
    "                   ])\n",
    "type(abcdee)"
   ]
  },
  {
   "cell_type": "code",
   "execution_count": 12,
   "id": "e3f9a371-6fa0-4dc8-acdd-d6d9e62df271",
   "metadata": {},
   "outputs": [
    {
     "name": "stdout",
     "output_type": "stream",
     "text": [
      "root\n",
      " |-- accepting_new_patients: string (nullable = true)\n",
      " |-- facility_name: string (nullable = true)\n",
      " |-- facility_type: string (nullable = true)\n",
      " |-- first_name: string (nullable = true)\n",
      " |-- gender: string (nullable = true)\n",
      " |-- last_name: string (nullable = true)\n",
      " |-- license_number: string (nullable = true)\n",
      " |-- middle_name: string (nullable = true)\n",
      " |-- npi: string (nullable = true)\n",
      " |-- pcp: boolean (nullable = true)\n",
      " |-- pcp_id: string (nullable = true)\n",
      " |-- provider_type: string (nullable = true)\n",
      " |-- rating: struct (nullable = true)\n",
      " |    |-- scale: string (nullable = true)\n",
      " |    |-- score: string (nullable = true)\n",
      " |-- site_uid: string (nullable = true)\n",
      " |-- suffix: string (nullable = true)\n",
      " |-- title: string (nullable = true)\n",
      " |-- unparsed_name: string (nullable = true)\n",
      " |-- addresses: array (nullable = true)\n",
      " |    |-- element: struct (containsNull = true)\n",
      " |    |    |-- address_string: string (nullable = true)\n",
      " |    |    |-- city: string (nullable = true)\n",
      " |    |    |-- languages: array (nullable = true)\n",
      " |    |    |    |-- element: struct (containsNull = true)\n",
      " |    |    |    |    |-- name: string (nullable = true)\n",
      " |    |    |    |    |-- type: string (nullable = true)\n",
      " |    |    |-- office_name: string (nullable = true)\n",
      " |    |    |-- phones: array (nullable = true)\n",
      " |    |    |    |-- element: struct (containsNull = true)\n",
      " |    |    |    |    |-- type: string (nullable = true)\n",
      " |    |    |    |    |-- value: string (nullable = true)\n",
      " |    |    |-- state: string (nullable = true)\n",
      " |    |    |-- street_line_1: string (nullable = true)\n",
      " |    |    |-- street_line_2: string (nullable = true)\n",
      " |    |    |-- zip: string (nullable = true)\n",
      " |-- networks: array (nullable = true)\n",
      " |    |-- element: struct (containsNull = true)\n",
      " |    |    |-- name: string (nullable = true)\n",
      " |    |    |-- tier: string (nullable = true)\n",
      " |-- hospital_affiliations: array (nullable = true)\n",
      " |    |-- element: struct (containsNull = true)\n",
      " |    |    |-- name: string (nullable = true)\n",
      " |-- group_affiliations: array (nullable = true)\n",
      " |    |-- element: struct (containsNull = true)\n",
      " |    |    |-- name: string (nullable = true)\n",
      " |-- specialties: array (nullable = true)\n",
      " |    |-- element: struct (containsNull = true)\n",
      " |    |    |-- name: string (nullable = true)\n",
      "\n"
     ]
    }
   ],
   "source": [
    "abcdee.printSchema()"
   ]
  },
  {
   "cell_type": "code",
   "execution_count": 18,
   "id": "bfff40a4-ec78-4d94-947c-8fab2850cde1",
   "metadata": {
    "tags": []
   },
   "outputs": [],
   "source": [
    "abcdee = abcdee.drop('site_uid')"
   ]
  },
  {
   "cell_type": "code",
   "execution_count": 19,
   "id": "0c8bdb3d-a303-4c5d-b20e-16bef52efc11",
   "metadata": {
    "tags": []
   },
   "outputs": [],
   "source": [
    "demoabcdee = abcdee.distinct()"
   ]
  },
  {
   "cell_type": "code",
   "execution_count": 20,
   "id": "a50dd91c-26d1-4f4e-a757-a109c13a2d9a",
   "metadata": {
    "tags": []
   },
   "outputs": [
    {
     "name": "stderr",
     "output_type": "stream",
     "text": [
      "                                                                                \r"
     ]
    }
   ],
   "source": [
    "totalabcdee = abcdee.count()\n",
    "uniqueabcdee = demoabcdee.count()"
   ]
  },
  {
   "cell_type": "code",
   "execution_count": 21,
   "id": "3bce34d4-8c0b-4877-930b-c2070bafca25",
   "metadata": {
    "tags": []
   },
   "outputs": [
    {
     "name": "stdout",
     "output_type": "stream",
     "text": [
      "7305324\n",
      "4088577\n"
     ]
    }
   ],
   "source": [
    "print(totalabcdee)\n",
    "print(uniqueabcdee)"
   ]
  },
  {
   "cell_type": "code",
   "execution_count": 22,
   "id": "235d1c2a-eba0-440e-8ef7-7ce2cf13ad86",
   "metadata": {
    "tags": []
   },
   "outputs": [],
   "source": [
    "demoabcdee = demoabcdee.withColumn(\"pcp_id\",lit('null'))\n",
    "demoabcdee = demoabcdee.withColumn(\"score\",lit(''))\n",
    "demoabcdee = demoabcdee.withColumn(\"scale\",lit(''))\n",
    "demoabcdee = demoabcdee.withColumn(\"site_uid\",lit(''))\n",
    "demoabcdee = demoabcdee.withColumn(\"accepting_new_patients\",lit('null'))\n",
    "demoabcdee = demoabcdee.withColumn(\"facility_type\",lit(''))"
   ]
  },
  {
   "cell_type": "code",
   "execution_count": 23,
   "id": "7f987465-3a15-42ec-817a-58f8f88f7bd5",
   "metadata": {},
   "outputs": [
    {
     "name": "stdout",
     "output_type": "stream",
     "text": [
      "root\n",
      " |-- accepting_new_patients: string (nullable = false)\n",
      " |-- facility_name: string (nullable = true)\n",
      " |-- facility_type: string (nullable = false)\n",
      " |-- first_name: string (nullable = true)\n",
      " |-- gender: string (nullable = true)\n",
      " |-- last_name: string (nullable = true)\n",
      " |-- license_number: string (nullable = true)\n",
      " |-- middle_name: string (nullable = true)\n",
      " |-- npi: string (nullable = true)\n",
      " |-- pcp: boolean (nullable = true)\n",
      " |-- pcp_id: string (nullable = false)\n",
      " |-- provider_type: string (nullable = true)\n",
      " |-- rating: struct (nullable = true)\n",
      " |    |-- scale: string (nullable = true)\n",
      " |    |-- score: string (nullable = true)\n",
      " |-- suffix: string (nullable = true)\n",
      " |-- title: string (nullable = true)\n",
      " |-- unparsed_name: string (nullable = true)\n",
      " |-- addresses: array (nullable = true)\n",
      " |    |-- element: struct (containsNull = true)\n",
      " |    |    |-- address_string: string (nullable = true)\n",
      " |    |    |-- city: string (nullable = true)\n",
      " |    |    |-- languages: array (nullable = true)\n",
      " |    |    |    |-- element: struct (containsNull = true)\n",
      " |    |    |    |    |-- name: string (nullable = true)\n",
      " |    |    |    |    |-- type: string (nullable = true)\n",
      " |    |    |-- office_name: string (nullable = true)\n",
      " |    |    |-- phones: array (nullable = true)\n",
      " |    |    |    |-- element: struct (containsNull = true)\n",
      " |    |    |    |    |-- type: string (nullable = true)\n",
      " |    |    |    |    |-- value: string (nullable = true)\n",
      " |    |    |-- state: string (nullable = true)\n",
      " |    |    |-- street_line_1: string (nullable = true)\n",
      " |    |    |-- street_line_2: string (nullable = true)\n",
      " |    |    |-- zip: string (nullable = true)\n",
      " |-- networks: array (nullable = true)\n",
      " |    |-- element: struct (containsNull = true)\n",
      " |    |    |-- name: string (nullable = true)\n",
      " |    |    |-- tier: string (nullable = true)\n",
      " |-- hospital_affiliations: array (nullable = true)\n",
      " |    |-- element: struct (containsNull = true)\n",
      " |    |    |-- name: string (nullable = true)\n",
      " |-- group_affiliations: array (nullable = true)\n",
      " |    |-- element: struct (containsNull = true)\n",
      " |    |    |-- name: string (nullable = true)\n",
      " |-- specialties: array (nullable = true)\n",
      " |    |-- element: struct (containsNull = true)\n",
      " |    |    |-- name: string (nullable = true)\n",
      " |-- score: string (nullable = false)\n",
      " |-- scale: string (nullable = false)\n",
      " |-- site_uid: string (nullable = false)\n",
      "\n"
     ]
    }
   ],
   "source": [
    "demoabcdee.printSchema()"
   ]
  },
  {
   "cell_type": "code",
   "execution_count": 24,
   "id": "3471c93f-ea78-4d4c-8454-6c51a648c1fe",
   "metadata": {
    "tags": []
   },
   "outputs": [],
   "source": [
    "demoabcdee2 = demoabcdee.select('addresses','group_affiliations','hospital_affiliations','networks',\n",
    "                                struct('facility_name', 'first_name','gender','last_name','site_uid',\n",
    "                                       'facility_type','accepting_new_patients','pcp_id',\n",
    "                                   'license_number','middle_name','npi','pcp','provider_type','suffix','title','unparsed_name',\n",
    "                                   struct('scale','score').alias('rating')\n",
    "                                  ).alias('provider'),'specialties')"
   ]
  },
  {
   "cell_type": "code",
   "execution_count": 25,
   "id": "6b498950-16fc-41e9-b290-d4af79fcceb3",
   "metadata": {
    "tags": []
   },
   "outputs": [
    {
     "name": "stdout",
     "output_type": "stream",
     "text": [
      "root\n",
      " |-- addresses: array (nullable = true)\n",
      " |    |-- element: struct (containsNull = true)\n",
      " |    |    |-- address_string: string (nullable = true)\n",
      " |    |    |-- city: string (nullable = true)\n",
      " |    |    |-- languages: array (nullable = true)\n",
      " |    |    |    |-- element: struct (containsNull = true)\n",
      " |    |    |    |    |-- name: string (nullable = true)\n",
      " |    |    |    |    |-- type: string (nullable = true)\n",
      " |    |    |-- office_name: string (nullable = true)\n",
      " |    |    |-- phones: array (nullable = true)\n",
      " |    |    |    |-- element: struct (containsNull = true)\n",
      " |    |    |    |    |-- type: string (nullable = true)\n",
      " |    |    |    |    |-- value: string (nullable = true)\n",
      " |    |    |-- state: string (nullable = true)\n",
      " |    |    |-- street_line_1: string (nullable = true)\n",
      " |    |    |-- street_line_2: string (nullable = true)\n",
      " |    |    |-- zip: string (nullable = true)\n",
      " |-- group_affiliations: array (nullable = true)\n",
      " |    |-- element: struct (containsNull = true)\n",
      " |    |    |-- name: string (nullable = true)\n",
      " |-- hospital_affiliations: array (nullable = true)\n",
      " |    |-- element: struct (containsNull = true)\n",
      " |    |    |-- name: string (nullable = true)\n",
      " |-- networks: array (nullable = true)\n",
      " |    |-- element: struct (containsNull = true)\n",
      " |    |    |-- name: string (nullable = true)\n",
      " |    |    |-- tier: string (nullable = true)\n",
      " |-- provider: struct (nullable = false)\n",
      " |    |-- facility_name: string (nullable = true)\n",
      " |    |-- first_name: string (nullable = true)\n",
      " |    |-- gender: string (nullable = true)\n",
      " |    |-- last_name: string (nullable = true)\n",
      " |    |-- site_uid: string (nullable = false)\n",
      " |    |-- facility_type: string (nullable = false)\n",
      " |    |-- accepting_new_patients: string (nullable = false)\n",
      " |    |-- pcp_id: string (nullable = false)\n",
      " |    |-- license_number: string (nullable = true)\n",
      " |    |-- middle_name: string (nullable = true)\n",
      " |    |-- npi: string (nullable = true)\n",
      " |    |-- pcp: boolean (nullable = true)\n",
      " |    |-- provider_type: string (nullable = true)\n",
      " |    |-- suffix: string (nullable = true)\n",
      " |    |-- title: string (nullable = true)\n",
      " |    |-- unparsed_name: string (nullable = true)\n",
      " |    |-- rating: struct (nullable = false)\n",
      " |    |    |-- scale: string (nullable = false)\n",
      " |    |    |-- score: string (nullable = false)\n",
      " |-- specialties: array (nullable = true)\n",
      " |    |-- element: struct (containsNull = true)\n",
      " |    |    |-- name: string (nullable = true)\n",
      "\n"
     ]
    }
   ],
   "source": [
    "demoabcdee2.printSchema()"
   ]
  },
  {
   "cell_type": "raw",
   "id": "e03cb989-8713-4813-9dd1-e8a79d27682d",
   "metadata": {
    "tags": []
   },
   "source": [
    "demoabcdee2.count()"
   ]
  },
  {
   "cell_type": "code",
   "execution_count": 26,
   "id": "ab11618f-3230-4041-a69f-34b117aac608",
   "metadata": {
    "tags": []
   },
   "outputs": [
    {
     "name": "stderr",
     "output_type": "stream",
     "text": [
      "[Stage 28:=====================================================> (98 + 2) / 100]\r"
     ]
    },
    {
     "name": "stdout",
     "output_type": "stream",
     "text": [
      "+-------------+----------+------+--------------+--------+-------------+----------------------+------+--------------+-----------+----------+----+-------------+------+-----+----------------------------+------+\n",
      "|facility_name|first_name|gender|last_name     |site_uid|facility_type|accepting_new_patients|pcp_id|license_number|middle_name|npi       |pcp |provider_type|suffix|title|unparsed_name               |rating|\n",
      "+-------------+----------+------+--------------+--------+-------------+----------------------+------+--------------+-----------+----------+----+-------------+------+-----+----------------------------+------+\n",
      "|null         |Allan     |M     |Sarrat        |        |             |null                  |null  |              |J          |1538296801|null|individual   |LAC   |null |Allan J Sarrat              |{, }  |\n",
      "|null         |Debra     |F     |Wood          |        |             |null                  |null  |              |           |1447473400|null|individual   |LAC   |null |Debra Wood                  |{, }  |\n",
      "|null         |Reza      |M     |Azari Azghandi|        |             |null                  |null  |              |Azghandi   |1306307871|null|individual   |LAC   |null |Reza Azghandi Azari Azghandi|{, }  |\n",
      "|null         |Victoria  |F     |Deane         |        |             |null                  |null  |              |A          |1063064285|null|individual   |LAC   |null |Victoria A Deane            |{, }  |\n",
      "|null         |Rachel    |F     |Davis         |        |             |null                  |null  |              |L          |1174156962|null|individual   |NP    |null |Rachel L Davis              |{, }  |\n",
      "+-------------+----------+------+--------------+--------+-------------+----------------------+------+--------------+-----------+----------+----+-------------+------+-----+----------------------------+------+\n",
      "only showing top 5 rows\n",
      "\n"
     ]
    },
    {
     "name": "stderr",
     "output_type": "stream",
     "text": [
      "                                                                                \r"
     ]
    }
   ],
   "source": [
    "demoabcdee2.select('provider.*').show(5,truncate=False)"
   ]
  },
  {
   "cell_type": "code",
   "execution_count": 27,
   "id": "3d5817e5-8a45-40f3-b3ec-96b3195ea913",
   "metadata": {
    "tags": []
   },
   "outputs": [],
   "source": [
    "# testnpis3 = demoabcdee2.groupBy(\"provider.npi\").count().orderBy(col('count').desc())\n",
    "# testnpis3.show(10,truncate=False)"
   ]
  },
  {
   "cell_type": "code",
   "execution_count": 28,
   "id": "5f52e18a-b421-47b6-a343-7a382a85d840",
   "metadata": {},
   "outputs": [
    {
     "name": "stdout",
     "output_type": "stream",
     "text": [
      "root\n",
      " |-- provider: struct (nullable = false)\n",
      " |    |-- facility_name: string (nullable = true)\n",
      " |    |-- first_name: string (nullable = true)\n",
      " |    |-- gender: string (nullable = true)\n",
      " |    |-- last_name: string (nullable = true)\n",
      " |    |-- site_uid: string (nullable = false)\n",
      " |    |-- facility_type: string (nullable = false)\n",
      " |    |-- accepting_new_patients: string (nullable = false)\n",
      " |    |-- pcp_id: string (nullable = false)\n",
      " |    |-- license_number: string (nullable = true)\n",
      " |    |-- middle_name: string (nullable = true)\n",
      " |    |-- npi: string (nullable = true)\n",
      " |    |-- pcp: boolean (nullable = true)\n",
      " |    |-- provider_type: string (nullable = true)\n",
      " |    |-- suffix: string (nullable = true)\n",
      " |    |-- title: string (nullable = true)\n",
      " |    |-- unparsed_name: string (nullable = true)\n",
      " |    |-- rating: struct (nullable = false)\n",
      " |    |    |-- scale: string (nullable = false)\n",
      " |    |    |-- score: string (nullable = false)\n",
      "\n"
     ]
    }
   ],
   "source": [
    "demoabcdee2.select('provider').printSchema()"
   ]
  },
  {
   "cell_type": "raw",
   "id": "ca2e3ca8-3ed3-4880-a292-3cc58706d815",
   "metadata": {},
   "source": [
    "demoabcdee2.select('provider.*').show(1,truncate=False)"
   ]
  },
  {
   "cell_type": "markdown",
   "id": "ccbb3991-cab4-48a9-9bef-59cd1bc5f4b5",
   "metadata": {},
   "source": [
    "#### <hr />Original NPI's before SiteUID"
   ]
  },
  {
   "cell_type": "markdown",
   "id": "3da798b5-acc5-4648-a293-711047e8beed",
   "metadata": {},
   "source": [
    "## <hr /><hr />"
   ]
  },
  {
   "cell_type": "raw",
   "id": "add16054-757c-4e34-ae55-82d8e8d85753",
   "metadata": {
    "tags": []
   },
   "source": [
    "demoabcdee2.filter(demoabcdee2.provider.npi==1689612954).select('addresses.street_line_1',\n",
    "                                                    size(\"addresses.address_string\").alias('street1'),\n",
    "                                                  size(\"networks.name\").alias('network'),\n",
    "                                                  size(\"hospital_affiliations.name\").alias('hospital'),\n",
    "                                                  size(\"group_affiliations.name\").alias('group'),\n",
    "                                                  'provider.unparsed_name','provider.site_uid'\n",
    "                                                   ).show(5,truncate=False)"
   ]
  },
  {
   "cell_type": "code",
   "execution_count": 29,
   "id": "8316395d-6158-497a-831d-4ca10b321912",
   "metadata": {
    "tags": []
   },
   "outputs": [],
   "source": [
    "#demoabcdee2.filter(demoabcdee2.provider.npi==1689612954).select('networks','specialties').show(truncate=False)"
   ]
  },
  {
   "cell_type": "raw",
   "id": "39729b5c-0d6a-432a-80b6-fa362b8031b6",
   "metadata": {
    "tags": []
   },
   "source": [
    "def writeToFile(df,fName,opDir,mode):\n",
    "    import os\n",
    "    if not os.path.exists(opDir):\n",
    "        os.makedirs(opDir)\n",
    "        print(\"Directory Created\")       \n",
    "    \n",
    "    if mode=='csv':\n",
    "        df.write.mode('Overwrite').csv(opDir)    \n",
    "    else:\n",
    "        print(\"@@\")\n",
    "        df.write.mode('Overwrite').json(opDir)\n",
    "        \n",
    "    fs = spark._jvm.org.apache.hadoop.fs.FileSystem.get(spark._jsc.hadoopConfiguration())\n",
    "    list_status = fs.listStatus(spark._jvm.org.apache.hadoop.fs.Path(opDir))\n",
    "    print(list_status)\n",
    "    file_name = [file.getPath().getName() for file in list_status if file.getPath().getName().startswith('part-')][0]\n",
    "    print(file_name)\n",
    "#     print(\"Renaming \"+file_name+\" .... \"+fName)\n",
    "    fs.rename(spark._jvm.org.apache.hadoop.fs.Path(opDir+'/'+file_name),spark._jvm.org.apache.hadoop.fs.Path(opDir+'/'+fName))\n",
    "    for file_name in os.listdir(opDir): #remove part- files if they exist!\n",
    "        if file_name.startswith('part-'):\n",
    "            print(file_name)"
   ]
  },
  {
   "cell_type": "raw",
   "id": "9208ecc2-ca10-4c68-ac3d-ff6bc5397465",
   "metadata": {
    "tags": []
   },
   "source": [
    "writeToFile(demoabcdee2,'output4.json','bcbsOutput4a','json')"
   ]
  },
  {
   "cell_type": "code",
   "execution_count": 30,
   "id": "46842712-8b75-4c27-a007-2d68c35808d9",
   "metadata": {
    "tags": []
   },
   "outputs": [],
   "source": [
    "# cat bcbsOutput4a/part-*.json > bcbsOutput4a/bcbs4.json "
   ]
  },
  {
   "cell_type": "code",
   "execution_count": 31,
   "id": "840cddbf-bc8b-4726-a31a-d63b49532f87",
   "metadata": {
    "tags": []
   },
   "outputs": [],
   "source": [
    "#{\"provider\":{\"first_name\":\"Jaime\",\"gender\":\"M\",\"last_name\":\"Landman\",\"license_number\":\"\",\"middle_name\":\"\",\"npi\":\"1437268505\",\"provider_type\":\"individual\",\"suffix\":\"MD\",\"unparsed_name\":\"Jaime Landman\",\"rating\":{}},\"networks\":[{\"name\":\"BlueCard PPO Basic\",\"tier\":\"\"},{\"name\":\"BlueCard PPO/EPO\",\"tier\":\"\"},{\"name\":\"BlueCard Traditional\",\"tier\":\"\"}],\"specialties\":[{\"name\":\"Urology\"}],\"group_affiliations\":[{\"name\":\"Prohealth Partners A Medical Group Inc\"},{\"name\":\"UCI Department of Urology\"},{\"name\":\"UCI Medical Group\"},{\"name\":\"Wu Dept of General Surgery\"}],\"hospital_affiliations\":[{\"name\":\"Long Beach Memorial Medical Center\"},{\"name\":\"UC Irvine Medical Center\"}],\"addresses\":[{\"address_string\":\"20350 SW Birch St, Newport Beach, CA 92660\",\"city\":\"Newport Beach\",\"languages\":[{\"name\":\"English\",\"type\":\"primary\"},{\"name\":\"Spanish\",\"type\":\"secondary\"}],\"office_name\":\"\",\"phones\":[{\"type\":\"phone\",\"value\":\"7144567005\"}],\"state\":\"CA\",\"street_line_1\":\"20350 SW Birch St\",\"street_line_2\":\"\",\"zip\":\"92660\"},{\"address_string\":\"2801 Atlantic Ave, Long Beach, CA 90806\",\"city\":\"Long Beach\",\"languages\":[{\"name\":\"English\",\"type\":\"primary\"},{\"name\":\"Spanish\",\"type\":\"secondary\"}],\"office_name\":\"\",\"phones\":[{\"type\":\"phone\",\"value\":\"5629331877\"}],\"state\":\"CA\",\"street_line_1\":\"2801 Atlantic Ave\",\"street_line_2\":\"\",\"zip\":\"90806\"},{\"address_string\":\"2810 Long Beach Blvd, Long Beach, CA 90806\",\"city\":\"Long Beach\",\"languages\":[{\"name\":\"English\",\"type\":\"primary\"},{\"name\":\"Spanish\",\"type\":\"secondary\"}],\"office_name\":\"\",\"phones\":[{\"type\":\"phone\",\"value\":\"5629331877\"}],\"state\":\"CA\",\"street_line_1\":\"2810 Long Beach Blvd\",\"street_line_2\":\"\",\"zip\":\"90806\"},{\"address_string\":\"4921 Parkview Pl, St Louis, MO 63110\",\"city\":\"St Louis\",\"languages\":[{\"name\":\"English\",\"type\":\"primary\"},{\"name\":\"Spanish\",\"type\":\"secondary\"}],\"office_name\":\"\",\"phones\":[{\"type\":\"phone\",\"value\":\"3143628200\"}],\"state\":\"MO\",\"street_line_1\":\"4921 Parkview Pl\",\"street_line_2\":\"\",\"zip\":\"63110\"}]}\n",
    "#{\"provider\":{\"first_name\":\"Jaime\",\"gender\":\"M\",\"last_name\":\"Landman\",\"license_number\":\"\",\"middle_name\":\"\",\"npi\":\"1437268505\",\"provider_type\":\"individual\",\"suffix\":\"MD\",\"unparsed_name\":\"Jaime Landman\",\"rating\":{}},\"networks\":[{\"name\":\"BlueCard PPO Basic\",\"tier\":\"\"},{\"name\":\"BlueCard PPO/EPO\",\"tier\":\"\"},{\"name\":\"BlueCard Traditional\",\"tier\":\"\"}],\"specialties\":[{\"name\":\"Urology\"}],\"group_affiliations\":[{\"name\":\"Prohealth Partners A Medical Group Inc\"},{\"name\":\"UCI Department of Urology\"},{\"name\":\"UCI Medical Group\"},{\"name\":\"Wu Dept of General Surgery\"}],\"hospital_affiliations\":[{\"name\":\"Long Beach Memorial Medical Center\"},{\"name\":\"UC Irvine Medical Center\"}],\"addresses\":[{\"address_string\":\"20350 SW Birch St, Newport Beach, CA 92660\",\"city\":\"Newport Beach\",\"languages\":[{\"name\":\"English\",\"type\":\"primary\"},{\"name\":\"Spanish\",\"type\":\"secondary\"}],\"office_name\":\"\",\"phones\":[{\"type\":\"phone\",\"value\":\"7145092230\"}],\"state\":\"CA\",\"street_line_1\":\"20350 SW Birch St\",\"street_line_2\":\"\",\"zip\":\"92660\"},{\"address_string\":\"2801 Atlantic Ave, Long Beach, CA 90806\",\"city\":\"Long Beach\",\"languages\":[{\"name\":\"English\",\"type\":\"primary\"},{\"name\":\"Spanish\",\"type\":\"secondary\"}],\"office_name\":\"\",\"phones\":[{\"type\":\"phone\",\"value\":\"5629331877\"}],\"state\":\"CA\",\"street_line_1\":\"2801 Atlantic Ave\",\"street_line_2\":\"\",\"zip\":\"90806\"},{\"address_string\":\"2810 Long Beach Blvd, Long Beach, CA 90806\",\"city\":\"Long Beach\",\"languages\":[{\"name\":\"English\",\"type\":\"primary\"},{\"name\":\"Spanish\",\"type\":\"secondary\"}],\"office_name\":\"\",\"phones\":[{\"type\":\"phone\",\"value\":\"5629331877\"}],\"state\":\"CA\",\"street_line_1\":\"2810 Long Beach Blvd\",\"street_line_2\":\"\",\"zip\":\"90806\"},{\"address_string\":\"4921 Parkview Pl, St Louis, MO 63110\",\"city\":\"St Louis\",\"languages\":[{\"name\":\"English\",\"type\":\"primary\"},{\"name\":\"Spanish\",\"type\":\"secondary\"}],\"office_name\":\"\",\"phones\":[{\"type\":\"phone\",\"value\":\"3143628200\"}],\"state\":\"MO\",\"street_line_1\":\"4921 Parkview Pl\",\"street_line_2\":\"\",\"zip\":\"63110\"}]}\n"
   ]
  },
  {
   "cell_type": "code",
   "execution_count": 32,
   "id": "731b1a43-dcfb-477b-b7a8-58a1b869e996",
   "metadata": {
    "tags": []
   },
   "outputs": [],
   "source": [
    "# demoabcdee2.write.json('file4.json')"
   ]
  },
  {
   "cell_type": "code",
   "execution_count": 34,
   "id": "97fd88e1-edd7-4e3f-8c21-13c282079f73",
   "metadata": {},
   "outputs": [
    {
     "name": "stderr",
     "output_type": "stream",
     "text": [
      "                                                                                \r"
     ]
    }
   ],
   "source": [
    "demoabcdee2.write.mode(\"overwrite\").option(\"ignoreNullFields\", \"false\").json(\"file1.json\")"
   ]
  },
  {
   "cell_type": "code",
   "execution_count": 36,
   "id": "ea9b785b-50ce-41b7-a3e8-e729dbc4b6ec",
   "metadata": {},
   "outputs": [],
   "source": [
    "cat outputbcbs/part-*.json > outputbcbs/final.json "
   ]
  },
  {
   "cell_type": "code",
   "execution_count": 37,
   "id": "c08362b2-2b91-4e45-9e43-18217cf0a5c4",
   "metadata": {
    "tags": []
   },
   "outputs": [],
   "source": [
    "del filetest1\n",
    "del test1\n",
    "del demoabcdee\n",
    "del demoabcdee2"
   ]
  },
  {
   "cell_type": "code",
   "execution_count": null,
   "id": "8d05ae9d-91cb-4f17-b3d7-f772ed7bc17e",
   "metadata": {},
   "outputs": [],
   "source": []
  },
  {
   "cell_type": "code",
   "execution_count": 38,
   "id": "fdd55a7b-c8f6-46e8-957d-8c6a875690d0",
   "metadata": {
    "tags": []
   },
   "outputs": [],
   "source": [
    "spark.stop()"
   ]
  },
  {
   "cell_type": "raw",
   "id": "610b9f00-362e-4185-8c90-860149a19c8a",
   "metadata": {
    "jupyter": {
     "outputs_hidden": true
    }
   },
   "source": [
    "#4\n",
    "2168952\n",
    "2168913\n",
    "1358348\n",
    "\n",
    "#3\n",
    "2274201\n",
    "2274193\n",
    "1457227\n",
    "\n",
    "#5\n",
    "2873342\n",
    "2873338\n",
    "1276153\n",
    "\n",
    "#2\n",
    "2306996\n",
    "2306962\n",
    "1598819\n",
    "\n",
    "#1\n",
    "2356262\n",
    "2356221\n",
    "1614777\n",
    "\n",
    "Semi:\n",
    "7305324\n",
    "4088577\n",
    "4088577"
   ]
  }
 ],
 "metadata": {
  "kernelspec": {
   "display_name": "Python 3 (ipykernel)",
   "language": "python",
   "name": "python3"
  },
  "language_info": {
   "codemirror_mode": {
    "name": "ipython",
    "version": 3
   },
   "file_extension": ".py",
   "mimetype": "text/x-python",
   "name": "python",
   "nbconvert_exporter": "python",
   "pygments_lexer": "ipython3",
   "version": "3.9.4"
  }
 },
 "nbformat": 4,
 "nbformat_minor": 5
}
