{
 "cells": [
  {
   "cell_type": "code",
   "execution_count": 1,
   "id": "4364a977-ee22-4600-81fd-a7854873574b",
   "metadata": {},
   "outputs": [
    {
     "name": "stderr",
     "output_type": "stream",
     "text": [
      "22/01/04 16:09:13 WARN Utils: Your hostname, Anishs-MacBook-Pro.local resolves to a loopback address: 127.0.0.1; using 192.168.90.85 instead (on interface en0)\n",
      "22/01/04 16:09:13 WARN Utils: Set SPARK_LOCAL_IP if you need to bind to another address\n",
      "WARNING: An illegal reflective access operation has occurred\n",
      "WARNING: Illegal reflective access by org.apache.spark.unsafe.Platform (file:/Users/anishchapagain/Library/Python/3.9/lib/python/site-packages/pyspark/jars/spark-unsafe_2.12-3.2.0.jar) to constructor java.nio.DirectByteBuffer(long,int)\n",
      "WARNING: Please consider reporting this to the maintainers of org.apache.spark.unsafe.Platform\n",
      "WARNING: Use --illegal-access=warn to enable warnings of further illegal reflective access operations\n",
      "WARNING: All illegal access operations will be denied in a future release\n",
      "Using Spark's default log4j profile: org/apache/spark/log4j-defaults.properties\n",
      "Setting default log level to \"WARN\".\n",
      "To adjust logging level use sc.setLogLevel(newLevel). For SparkR, use setLogLevel(newLevel).\n",
      "22/01/04 16:09:13 WARN NativeCodeLoader: Unable to load native-hadoop library for your platform... using builtin-java classes where applicable\n"
     ]
    },
    {
     "name": "stdout",
     "output_type": "stream",
     "text": [
      "Merge-JSON\n"
     ]
    }
   ],
   "source": [
    "from pyspark.sql import SparkSession\n",
    "spark = SparkSession.builder.appName(\"Merge-JSON\").getOrCreate()\n",
    "print(spark.sparkContext.appName)"
   ]
  },
  {
   "cell_type": "code",
   "execution_count": 7,
   "id": "fc81c7ad-5db2-4c5c-95ca-2e0c83b98c2b",
   "metadata": {},
   "outputs": [
    {
     "data": {
      "text/plain": [
       "JavaObject id=o12"
      ]
     },
     "execution_count": 7,
     "metadata": {},
     "output_type": "execute_result"
    }
   ],
   "source": [
    "spark._jsc"
   ]
  },
  {
   "cell_type": "code",
   "execution_count": 2,
   "id": "0794cb44-5c8c-4e86-8397-b0ef06dc2995",
   "metadata": {},
   "outputs": [
    {
     "name": "stdout",
     "output_type": "stream",
     "text": [
      "['/Users/anishchapagain/Downloads/vericred_univera_2021-12-28.json', '/Users/anishchapagain/Downloads/vericred_univera_2021-12-28-1.json']\n"
     ]
    }
   ],
   "source": [
    "json1 = \"/Users/anishchapagain/Downloads/vericred_univera_2021-12-28.json\"\n",
    "json2 = \"/Users/anishchapagain/Downloads/vericred_univera_2021-12-28-1.json\"\n",
    "print([json1,json2])"
   ]
  },
  {
   "cell_type": "code",
   "execution_count": 3,
   "id": "e9808ee1-c783-42fb-8776-305cf4010012",
   "metadata": {},
   "outputs": [],
   "source": [
    "from pyspark.sql.functions import *\n",
    "from pyspark.sql.types import *"
   ]
  },
  {
   "cell_type": "code",
   "execution_count": 4,
   "id": "083e0b4e-81bf-4b1c-9d47-0a75e1721b30",
   "metadata": {},
   "outputs": [
    {
     "name": "stderr",
     "output_type": "stream",
     "text": [
      "                                                                                \r"
     ]
    }
   ],
   "source": [
    "df1 = spark.read.json(path=json1)"
   ]
  },
  {
   "cell_type": "code",
   "execution_count": 8,
   "id": "ed34acc3-3d57-41ca-87e3-c0f2857ff63d",
   "metadata": {},
   "outputs": [
    {
     "data": {
      "text/plain": [
       "18426"
      ]
     },
     "execution_count": 8,
     "metadata": {},
     "output_type": "execute_result"
    }
   ],
   "source": [
    "df1.count()"
   ]
  },
  {
   "cell_type": "code",
   "execution_count": 10,
   "id": "163e8356-c491-4ee3-805a-678cd77fbb52",
   "metadata": {},
   "outputs": [
    {
     "name": "stderr",
     "output_type": "stream",
     "text": [
      "                                                                                \r"
     ]
    },
    {
     "data": {
      "text/plain": [
       "18426"
      ]
     },
     "execution_count": 10,
     "metadata": {},
     "output_type": "execute_result"
    }
   ],
   "source": [
    "df1.distinct().count()"
   ]
  },
  {
   "cell_type": "code",
   "execution_count": 5,
   "id": "ac85b9c5-1949-4a8b-bf31-185a7db3ea1e",
   "metadata": {},
   "outputs": [],
   "source": [
    "df2 = spark.read.json(path=json2)"
   ]
  },
  {
   "cell_type": "code",
   "execution_count": 9,
   "id": "f64d0985-efa6-4858-a598-4f7ad07f63ad",
   "metadata": {},
   "outputs": [
    {
     "data": {
      "text/plain": [
       "6152"
      ]
     },
     "execution_count": 9,
     "metadata": {},
     "output_type": "execute_result"
    }
   ],
   "source": [
    "df2.count()"
   ]
  },
  {
   "cell_type": "code",
   "execution_count": 11,
   "id": "d118384f-5f4f-4f60-9669-f7635fe3cceb",
   "metadata": {},
   "outputs": [
    {
     "data": {
      "text/plain": [
       "6152"
      ]
     },
     "execution_count": 11,
     "metadata": {},
     "output_type": "execute_result"
    }
   ],
   "source": [
    "df2.distinct().count()"
   ]
  },
  {
   "cell_type": "code",
   "execution_count": 100,
   "id": "047743ac-24ca-4685-90ff-a27cb923f9b1",
   "metadata": {},
   "outputs": [
    {
     "ename": "TypeError",
     "evalue": "data is already a DataFrame",
     "output_type": "error",
     "traceback": [
      "\u001b[0;31m---------------------------------------------------------------------------\u001b[0m",
      "\u001b[0;31mTypeError\u001b[0m                                 Traceback (most recent call last)",
      "\u001b[0;32m/var/folders/f8/r806jdln2jx77m9z0k_rbmqw0000gn/T/ipykernel_23952/861610497.py\u001b[0m in \u001b[0;36m<module>\u001b[0;34m\u001b[0m\n\u001b[0;32m----> 1\u001b[0;31m \u001b[0munionDF\u001b[0m \u001b[0;34m=\u001b[0m \u001b[0mspark\u001b[0m\u001b[0;34m.\u001b[0m\u001b[0mcreateDataFrame\u001b[0m\u001b[0;34m(\u001b[0m\u001b[0mdf1\u001b[0m\u001b[0;34m.\u001b[0m\u001b[0munion\u001b[0m\u001b[0;34m(\u001b[0m\u001b[0mdf2\u001b[0m\u001b[0;34m)\u001b[0m\u001b[0;34m)\u001b[0m \u001b[0;31m##append\u001b[0m\u001b[0;34m\u001b[0m\u001b[0;34m\u001b[0m\u001b[0m\n\u001b[0m",
      "\u001b[0;32m~/Library/Python/3.9/lib/python/site-packages/pyspark/sql/session.py\u001b[0m in \u001b[0;36mcreateDataFrame\u001b[0;34m(self, data, schema, samplingRatio, verifySchema)\u001b[0m\n\u001b[1;32m    656\u001b[0m         \u001b[0mself\u001b[0m\u001b[0;34m.\u001b[0m\u001b[0m_jvm\u001b[0m\u001b[0;34m.\u001b[0m\u001b[0mSparkSession\u001b[0m\u001b[0;34m.\u001b[0m\u001b[0msetActiveSession\u001b[0m\u001b[0;34m(\u001b[0m\u001b[0mself\u001b[0m\u001b[0;34m.\u001b[0m\u001b[0m_jsparkSession\u001b[0m\u001b[0;34m)\u001b[0m\u001b[0;34m\u001b[0m\u001b[0;34m\u001b[0m\u001b[0m\n\u001b[1;32m    657\u001b[0m         \u001b[0;32mif\u001b[0m \u001b[0misinstance\u001b[0m\u001b[0;34m(\u001b[0m\u001b[0mdata\u001b[0m\u001b[0;34m,\u001b[0m \u001b[0mDataFrame\u001b[0m\u001b[0;34m)\u001b[0m\u001b[0;34m:\u001b[0m\u001b[0;34m\u001b[0m\u001b[0;34m\u001b[0m\u001b[0m\n\u001b[0;32m--> 658\u001b[0;31m             \u001b[0;32mraise\u001b[0m \u001b[0mTypeError\u001b[0m\u001b[0;34m(\u001b[0m\u001b[0;34m\"data is already a DataFrame\"\u001b[0m\u001b[0;34m)\u001b[0m\u001b[0;34m\u001b[0m\u001b[0;34m\u001b[0m\u001b[0m\n\u001b[0m\u001b[1;32m    659\u001b[0m \u001b[0;34m\u001b[0m\u001b[0m\n\u001b[1;32m    660\u001b[0m         \u001b[0;32mif\u001b[0m \u001b[0misinstance\u001b[0m\u001b[0;34m(\u001b[0m\u001b[0mschema\u001b[0m\u001b[0;34m,\u001b[0m \u001b[0mstr\u001b[0m\u001b[0;34m)\u001b[0m\u001b[0;34m:\u001b[0m\u001b[0;34m\u001b[0m\u001b[0;34m\u001b[0m\u001b[0m\n",
      "\u001b[0;31mTypeError\u001b[0m: data is already a DataFrame"
     ]
    }
   ],
   "source": [
    "unionDF = df1.union(df2) ##append"
   ]
  },
  {
   "cell_type": "code",
   "execution_count": 107,
   "id": "632f632f-bbe9-4de3-925e-2f6983b82f81",
   "metadata": {},
   "outputs": [],
   "source": [
    "newUnion = df1.union(df1)"
   ]
  },
  {
   "cell_type": "code",
   "execution_count": 108,
   "id": "8e3d13fc-a31f-4a3c-9d3d-3467a9db6eb9",
   "metadata": {},
   "outputs": [
    {
     "data": {
      "text/plain": [
       "36852"
      ]
     },
     "execution_count": 108,
     "metadata": {},
     "output_type": "execute_result"
    }
   ],
   "source": [
    "newUnion.count()"
   ]
  },
  {
   "cell_type": "code",
   "execution_count": 110,
   "id": "6988c4a3-e9e7-4caf-b060-1ef7cd345397",
   "metadata": {},
   "outputs": [
    {
     "data": {
      "text/plain": [
       "DataFrame[addresses: array<struct<accepting_new_patients:string,address_string:string,city:string,languages:array<struct<name:string,type:string>>,office_name:string,pcp:string,pcp_id:string,phones:array<struct<type:string,value:string>>,state:string,street_line_1:string,street_line_2:string,zip:string>>, group_affiliations: array<struct<name:string>>, hospital_affiliations: array<struct<name:string>>, networks: array<struct<name:string,tier:string>>, provider: struct<accepting_new_patients:boolean,facility_name:string,facility_type:string,first_name:string,gender:string,last_name:string,license_number:string,middle_name:string,npi:string,pcp:boolean,pcp_id:string,provider_type:string,rating:struct<scale:string,score:string>,site_uid:string,suffix:string,title:string,unparsed_name:string>, specialties: array<struct<name:string>>]"
      ]
     },
     "execution_count": 110,
     "metadata": {},
     "output_type": "execute_result"
    }
   ],
   "source": [
    "newUnion"
   ]
  },
  {
   "cell_type": "code",
   "execution_count": 103,
   "id": "f15789cd-7908-4a71-af1e-46009f9ce472",
   "metadata": {},
   "outputs": [
    {
     "data": {
      "text/plain": [
       "[Row(addresses=[Row(accepting_new_patients=None, address_string='1 Parker Ln, Perry, NY 14530', city='Perry', languages=[Row(name='English', type='primary'), Row(name='Persian (farsi)', type='secondary'), Row(name='Hindi', type='secondary'), Row(name='Urdu', type='secondary')], office_name='', pcp=None, pcp_id=None, phones=[Row(type='phone', value='(585) 969-5335')], state='NY', street_line_1='1 Parker Ln', street_line_2='', zip='14530')], group_affiliations=[Row(name='Wyoming County Community Hospital')], hospital_affiliations=[Row(name='Wyoming County Community Hospital (FULL)')], networks=[Row(name='Child Health Plus', tier='')], provider=Row(accepting_new_patients=True, facility_name=None, facility_type=None, first_name='Salman', gender='M', last_name='Abbasey', license_number='', middle_name='N', npi=None, pcp=None, pcp_id=None, provider_type='individual', rating=Row(scale=None, score=None), site_uid=None, suffix='MBBS', title=None, unparsed_name='Salman N Abbasey MBBS'), specialties=[Row(name='Internal Medicine')]),\n",
       " Row(addresses=[Row(accepting_new_patients=None, address_string='1 Parker Ln, Perry, NY 14530', city='Perry', languages=[Row(name='English', type='primary'), Row(name='Persian (farsi)', type='secondary'), Row(name='Hindi', type='secondary'), Row(name='Urdu', type='secondary')], office_name='', pcp=None, pcp_id=None, phones=[Row(type='phone', value='(585) 969-5335')], state='NY', street_line_1='1 Parker Ln', street_line_2='', zip='14530')], group_affiliations=[Row(name='Wyoming County Community Hospital')], hospital_affiliations=[Row(name='Wyoming County Community Hospital (FULL)')], networks=[Row(name='MyHealth Plus', tier='')], provider=Row(accepting_new_patients=True, facility_name=None, facility_type=None, first_name='Salman', gender='M', last_name='Abbasey', license_number='', middle_name='N', npi=None, pcp=None, pcp_id=None, provider_type='individual', rating=Row(scale=None, score=None), site_uid=None, suffix='MBBS', title=None, unparsed_name='Salman N Abbasey MBBS'), specialties=[Row(name='Internal Medicine')]),\n",
       " Row(addresses=[Row(accepting_new_patients=None, address_string='3095 Harlem Rd, Cheektowaga, NY 142252500', city='Cheektowaga', languages=[Row(name='English', type='primary')], office_name='', pcp=None, pcp_id=None, phones=[Row(type='phone', value='(716) 896-8831')], state='NY', street_line_1='3095 Harlem Rd', street_line_2='', zip='142252500'), Row(accepting_new_patients=None, address_string='8005 Main St, Williamsville, NY 14221', city='Williamsville', languages=[Row(name='English', type='primary')], office_name='', pcp=None, pcp_id=None, phones=[Row(type='phone', value='(716) 634-9129')], state='NY', street_line_1='8005 Main St', street_line_2='', zip='14221')], group_affiliations=[Row(name='Pearle Vision Dba Jag Eyes')], hospital_affiliations=[Row(name='None Specified')], networks=[Row(name='Univera Healthcare MyHealth', tier='')], provider=Row(accepting_new_patients=True, facility_name=None, facility_type=None, first_name='Katherine', gender='F', last_name='Gibbons', license_number='', middle_name='L', npi=None, pcp=None, pcp_id=None, provider_type='individual', rating=Row(scale=None, score=None), site_uid=None, suffix='OD', title=None, unparsed_name='Katherine L Gibbons OD'), specialties=[Row(name='Optometry')])]"
      ]
     },
     "execution_count": 103,
     "metadata": {},
     "output_type": "execute_result"
    }
   ],
   "source": [
    "unionDF.head(3)"
   ]
  },
  {
   "cell_type": "code",
   "execution_count": 104,
   "id": "7f7d8a95-adb7-429b-aac4-d9394bd737a6",
   "metadata": {},
   "outputs": [
    {
     "data": {
      "text/plain": [
       "[Row(addresses=[Row(accepting_new_patients=None, address_string='1425 Portland Ave Ste 228, Rochester, NY 146213001', city='Rochester', languages=[Row(name='English', type='primary')], office_name='', pcp=None, pcp_id=None, phones=[Row(type='phone', value='(585) 922-2575')], state='NY', street_line_1='1425 Portland Ave Ste 228', street_line_2='', zip='146213001'), Row(accepting_new_patients=None, address_string='1425 Portland Ave Ste 304, Rochester, NY 146213001', city='Rochester', languages=[Row(name='English', type='primary')], office_name='', pcp=None, pcp_id=None, phones=[Row(type='phone', value='(585) 922-5067')], state='NY', street_line_1='1425 Portland Ave Ste 304', street_line_2='', zip='146213001'), Row(accepting_new_patients=None, address_string='1425 Portland Ave Box 228, Rochester, NY 146213001', city='Rochester', languages=[Row(name='English', type='primary')], office_name='', pcp=None, pcp_id=None, phones=[Row(type='phone', value='(585) 922-4000')], state='NY', street_line_1='1425 Portland Ave Box 228', street_line_2='', zip='146213001'), Row(accepting_new_patients=None, address_string='1425 Portland Ave E1200, Rochester, NY 14621', city='Rochester', languages=[Row(name='English', type='primary')], office_name='', pcp=None, pcp_id=None, phones=[Row(type='phone', value='(585) 922-2575')], state='NY', street_line_1='1425 Portland Ave E1200', street_line_2='', zip='14621'), Row(accepting_new_patients=None, address_string='1455 E Ridge Rd, Rochester, NY 14621', city='Rochester', languages=[Row(name='English', type='primary')], office_name='', pcp=None, pcp_id=None, phones=[Row(type='phone', value='(585) 922-2575')], state='NY', street_line_1='1455 E Ridge Rd', street_line_2='', zip='14621'), Row(accepting_new_patients=None, address_string='1455 E Ridge Rd, Rochester, NY 14621', city='Rochester', languages=[Row(name='English', type='primary')], office_name='', pcp=None, pcp_id=None, phones=[Row(type='phone', value='(585) 922-2575')], state='NY', street_line_1='1455 E Ridge Rd', street_line_2='', zip='14621'), Row(accepting_new_patients=None, address_string='100 Kings Hwy S, Rochester, NY 14617', city='Rochester', languages=[Row(name='English', type='primary')], office_name='', pcp=None, pcp_id=None, phones=[Row(type='phone', value='(585) 922-8353')], state='NY', street_line_1='100 Kings Hwy S', street_line_2='', zip='14617')], group_affiliations=[Row(name='Western New York Medical Practice PC')], hospital_affiliations=[Row(name='Rochester General Hospital (FULL)')], networks=[Row(name='Essential Plan', tier='')], provider=Row(accepting_new_patients=True, facility_name=None, facility_type=None, first_name='Larry', gender='M', last_name='Denk', license_number='', middle_name='D', npi=None, pcp=None, pcp_id=None, provider_type='individual', rating=Row(scale=None, score=None), site_uid=None, suffix='MD', title=None, unparsed_name='Larry D Denk MD'), specialties=[Row(name='Pediatrics')]),\n",
       " Row(addresses=[Row(accepting_new_patients=None, address_string='888 Center Rd, West Seneca, NY 14224', city='West Seneca', languages=[Row(name='English', type='primary')], office_name='', pcp=None, pcp_id=None, phones=[Row(type='phone', value='(716) 636-9004')], state='NY', street_line_1='888 Center Rd', street_line_2='', zip='14224'), Row(accepting_new_patients=None, address_string='462 Grider St, Buffalo, NY 14215', city='Buffalo', languages=[Row(name='English', type='primary')], office_name='', pcp=None, pcp_id=None, phones=[Row(type='phone', value='(716) 898-3333')], state='NY', street_line_1='462 Grider St', street_line_2='', zip='14215'), Row(accepting_new_patients=None, address_string='1150 Youngs Rd, Williamsville, NY 14221', city='Williamsville', languages=[Row(name='English', type='primary')], office_name='', pcp=None, pcp_id=None, phones=[Row(type='phone', value='(716) 636-9004')], state='NY', street_line_1='1150 Youngs Rd', street_line_2='', zip='14221')], group_affiliations=[Row(name='General Physician PC')], hospital_affiliations=[Row(name='Mercy Hospital of Buffalo (FULL)'), Row(name='Kaleida Health Deaconess SNF (FULL)'), Row(name='Erie County Medical Center (FULL)'), Row(name='Sisters of Charity Hospital (FULL)')], networks=[Row(name='Essential Plan', tier='')], provider=Row(accepting_new_patients=True, facility_name=None, facility_type=None, first_name='Joseph', gender='M', last_name='Mills', license_number='', middle_name='D', npi=None, pcp=None, pcp_id=None, provider_type='individual', rating=Row(scale=None, score=None), site_uid=None, suffix='MD', title=None, unparsed_name='Joseph D Mills MD'), specialties=[Row(name='Colon & Rectal Surgery'), Row(name='Surgery')]),\n",
       " Row(addresses=[Row(accepting_new_patients=None, address_string='1425 Portland Ave, Rochester, NY 14621', city='Rochester', languages=[Row(name='English', type='primary')], office_name='', pcp=None, pcp_id=None, phones=[Row(type='phone', value='(585) 922-4103')], state='NY', street_line_1='1425 Portland Ave', street_line_2='', zip='14621'), Row(accepting_new_patients=None, address_string='1425 Portland Ave, Rochester, NY 14621', city='Rochester', languages=[Row(name='English', type='primary')], office_name='', pcp=None, pcp_id=None, phones=[Row(type='phone', value='(585) 922-5371')], state='NY', street_line_1='1425 Portland Ave', street_line_2='', zip='14621'), Row(accepting_new_patients=None, address_string='1455 E Ridge Rd, Rochester, NY 14621', city='Rochester', languages=[Row(name='English', type='primary')], office_name='', pcp=None, pcp_id=None, phones=[Row(type='phone', value='(585) 922-4495')], state='NY', street_line_1='1455 E Ridge Rd', street_line_2='', zip='14621'), Row(accepting_new_patients=None, address_string='1555 Long Pond Rd, Rochester, NY 14626', city='Rochester', languages=[Row(name='English', type='primary')], office_name='', pcp=None, pcp_id=None, phones=[Row(type='phone', value='(585) 723-7738')], state='NY', street_line_1='1555 Long Pond Rd', street_line_2='', zip='14626')], group_affiliations=[Row(name='The Unity Hospital Of Rochester')], hospital_affiliations=[Row(name='Rochester General Hospital (FULL)')], networks=[Row(name='Essential Plan', tier='')], provider=Row(accepting_new_patients=True, facility_name=None, facility_type=None, first_name='James', gender='M', last_name='Roger', license_number='', middle_name='M', npi=None, pcp=None, pcp_id=None, provider_type='individual', rating=Row(scale=None, score=None), site_uid=None, suffix='DDS', title=None, unparsed_name='James M Roger DDS'), specialties=[Row(name='Oral & Maxillofacial Surgery'), Row(name='General Dentistry')])]"
      ]
     },
     "execution_count": 104,
     "metadata": {},
     "output_type": "execute_result"
    }
   ],
   "source": [
    "unionDF.tail(3)"
   ]
  },
  {
   "cell_type": "code",
   "execution_count": 114,
   "id": "fbdbfdab-ae4d-4f60-b579-b41a04cd7e38",
   "metadata": {},
   "outputs": [],
   "source": [
    "def writeToFile(df,fName,opDir,mode):\n",
    "    import os\n",
    "    if not os.path.exists(opDir):\n",
    "        os.makedirs(opDir)\n",
    "        print(\"Directory Created\")       \n",
    "    \n",
    "    if mode=='csv':\n",
    "        df.write.mode('Overwrite').csv(opDir)    \n",
    "    else:\n",
    "        print(\"@@\")\n",
    "        df.write.mode('Overwrite').json(opDir)\n",
    "        \n",
    "    fs = spark._jvm.org.apache.hadoop.fs.FileSystem.get(spark._jsc.hadoopConfiguration())\n",
    "    list_status = fs.listStatus(spark._jvm.org.apache.hadoop.fs.Path(opDir))\n",
    "    print(list_status)\n",
    "    file_name = [file.getPath().getName() for file in list_status if file.getPath().getName().startswith('part-')][0]\n",
    "    print(file_name)\n",
    "#     print(\"Renaming \"+file_name+\" .... \"+fName)\n",
    "    fs.rename(spark._jvm.org.apache.hadoop.fs.Path(opDir+'/'+file_name),spark._jvm.org.apache.hadoop.fs.Path(opDir+'/'+fName))\n",
    "    for file_name in os.listdir(opDir): #remove part- files if they exist!\n",
    "        if file_name.startswith('part-'):\n",
    "            print(file_name)\n",
    "#             os.remove(opDir+'/'+file_name)\n",
    "# cat merged/part*.json > merged/final.json "
   ]
  },
  {
   "cell_type": "code",
   "execution_count": 115,
   "id": "29a02847-b6f2-4bb1-b489-b61410a3b431",
   "metadata": {},
   "outputs": [
    {
     "name": "stdout",
     "output_type": "stream",
     "text": [
      "@@\n"
     ]
    },
    {
     "name": "stderr",
     "output_type": "stream",
     "text": [
      "[Stage 14:============================>                            (7 + 7) / 14]\r"
     ]
    },
    {
     "name": "stdout",
     "output_type": "stream",
     "text": [
      "[Lorg.apache.hadoop.fs.FileStatus;@7d3b748a\n",
      "part-00000-8496fe1d-81c1-4edc-ac7d-f7ff90249f69-c000.json\n",
      "part-00010-8496fe1d-81c1-4edc-ac7d-f7ff90249f69-c000.json\n",
      "part-00008-8496fe1d-81c1-4edc-ac7d-f7ff90249f69-c000.json\n",
      "part-00005-8496fe1d-81c1-4edc-ac7d-f7ff90249f69-c000.json\n",
      "part-00012-8496fe1d-81c1-4edc-ac7d-f7ff90249f69-c000.json\n",
      "part-00007-8496fe1d-81c1-4edc-ac7d-f7ff90249f69-c000.json\n",
      "part-00002-8496fe1d-81c1-4edc-ac7d-f7ff90249f69-c000.json\n",
      "part-00003-8496fe1d-81c1-4edc-ac7d-f7ff90249f69-c000.json\n",
      "part-00006-8496fe1d-81c1-4edc-ac7d-f7ff90249f69-c000.json\n",
      "part-00013-8496fe1d-81c1-4edc-ac7d-f7ff90249f69-c000.json\n",
      "part-00004-8496fe1d-81c1-4edc-ac7d-f7ff90249f69-c000.json\n",
      "part-00009-8496fe1d-81c1-4edc-ac7d-f7ff90249f69-c000.json\n",
      "part-00011-8496fe1d-81c1-4edc-ac7d-f7ff90249f69-c000.json\n",
      "part-00001-8496fe1d-81c1-4edc-ac7d-f7ff90249f69-c000.json\n"
     ]
    },
    {
     "name": "stderr",
     "output_type": "stream",
     "text": [
      "                                                                                \r"
     ]
    }
   ],
   "source": [
    "writeToFile(newUnion,'vericred_univera1.json','merged','json')"
   ]
  },
  {
   "cell_type": "code",
   "execution_count": 121,
   "id": "67a02df1-a396-4c6c-a941-57adfd87567c",
   "metadata": {},
   "outputs": [],
   "source": [
    "cat merged/part*.json > merged/final.json "
   ]
  },
  {
   "cell_type": "code",
   "execution_count": 12,
   "id": "759d3c31-ee72-43e0-b8ab-b765c9f9af19",
   "metadata": {},
   "outputs": [],
   "source": [
    "# spark.stop()"
   ]
  },
  {
   "cell_type": "code",
   "execution_count": null,
   "id": "a75108ab-ea35-49c6-ba73-4a4287309c68",
   "metadata": {},
   "outputs": [],
   "source": [
    "unionDf.write.json('filename.json')\n",
    "unionDf.write.mode('Overwrite').json('merge')"
   ]
  }
 ],
 "metadata": {
  "kernelspec": {
   "display_name": "Python 3 (ipykernel)",
   "language": "python",
   "name": "python3"
  },
  "language_info": {
   "codemirror_mode": {
    "name": "ipython",
    "version": 3
   },
   "file_extension": ".py",
   "mimetype": "text/x-python",
   "name": "python",
   "nbconvert_exporter": "python",
   "pygments_lexer": "ipython3",
   "version": "3.9.4"
  }
 },
 "nbformat": 4,
 "nbformat_minor": 5
}
